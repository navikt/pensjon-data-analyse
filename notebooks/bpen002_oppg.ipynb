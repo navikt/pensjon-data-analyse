{
 "cells": [
  {
   "cell_type": "code",
   "execution_count": null,
   "metadata": {},
   "outputs": [],
   "source": [
    "import pandas as pd\n",
    "import sys\n",
    "import plotly.express as px\n",
    "\n",
    "from datastory import DataStory\n",
    "\n",
    "import importlib\n",
    "sys.path.append('../lib')\n",
    "import utils, pesys_utils, pandas_utils\n",
    "importlib.reload(utils)\n",
    "importlib.reload(pesys_utils)\n",
    "importlib.reload(pandas_utils)"
   ]
  },
  {
   "cell_type": "code",
   "execution_count": null,
   "metadata": {},
   "outputs": [],
   "source": [
    "utils.set_secrets_as_env()"
   ]
  },
  {
   "cell_type": "code",
   "execution_count": null,
   "metadata": {},
   "outputs": [],
   "source": [
    "con = pesys_utils.open_pen_connection()\n",
    "df_bpen002 = pandas_utils.pandas_from_sql(sqlfile='../sql/bpen002_oppg.sql', con=con, tuning=10000, lowercase=True)\n",
    "con.close()"
   ]
  },
  {
   "cell_type": "code",
   "execution_count": null,
   "metadata": {},
   "outputs": [],
   "source": [
    "df_bpen002.head()"
   ]
  },
  {
   "cell_type": "code",
   "execution_count": null,
   "metadata": {},
   "outputs": [],
   "source": [
    "px.bar(df_bpen002, \"dato\", \"antall\", color=\"sakstype\")"
   ]
  },
  {
   "cell_type": "code",
   "execution_count": null,
   "metadata": {},
   "outputs": [],
   "source": [
    "df = df_bpen002.copy()\n",
    "df[\"dato\"] = pd.to_datetime(df.dato)\n",
    "df.set_index('dato',inplace=True)\n",
    "\n",
    "df[\"oppgavetekst_lang\"] = df.oppgavetekst.apply(lambda x: pesys_utils.oppgavetekst_lang[x])"
   ]
  },
  {
   "cell_type": "code",
   "execution_count": null,
   "metadata": {},
   "outputs": [],
   "source": [
    "#sakstyper = df.sakstype.unique()\n",
    "sakstyper = ['Alderspensjon', \"Uføretrygd\"]\n",
    "figs = {}\n",
    "for i in range(len(sakstyper)):\n",
    "    ytelse = sakstyper[i]\n",
    "    df_ytelse = df.query(f\"sakstype=='{ytelse}'\")\n",
    "    df_mnd = df_ytelse.groupby([\"oppgavetekst\", \"oppgavetekst_lang\"])[[\"antall\"]].resample('MS').sum().reset_index()\n",
    "    figs[ytelse] = px.bar(df_mnd, \"dato\", \"antall\", color=\"oppgavetekst\", title=ytelse, hover_data=[\"oppgavetekst_lang\"])"
   ]
  },
  {
   "cell_type": "code",
   "execution_count": null,
   "metadata": {},
   "outputs": [],
   "source": [
    "n_days = 15\n",
    "for i in range(len(sakstyper)):\n",
    "    ytelse = sakstyper[i]\n",
    "    df_now = df[df.index >= df.index.max() - pd.Timedelta(f\"{n_days + 1} days\")]\n",
    "    df_ytelse = df_now.query(f\"sakstype=='{ytelse}'\")\n",
    "    df_mnd = df_ytelse.groupby([\"oppgavetekst\", \"oppgavetekst_lang\", \"prioritet\"])[[\"antall\"]].sum().reset_index().sort_values(\"antall\", ascending=False)\n",
    "    figs[ytelse + \"_now\"] = px.bar(df_mnd, \"oppgavetekst\", \"antall\", title=ytelse + f\" siste {n_days} dager\", color=\"prioritet\", hover_data=[\"oppgavetekst_lang\"], color_discrete_map={'HOY':utils.nav_colors[1], 'LAV':utils.nav_colors[0]})"
   ]
  },
  {
   "cell_type": "code",
   "execution_count": null,
   "metadata": {},
   "outputs": [],
   "source": [
    "for i in range(len(sakstyper)):\n",
    "    ytelse = sakstyper[i]\n",
    "    df_ytelse = df.query(f\"sakstype=='{ytelse}'\")\n",
    "    df_mnd = df_ytelse.groupby([\"prioritet\"])[[\"antall\"]].resample('MS').sum().reset_index()\n",
    "    figs[ytelse + \"_prio\"] = px.bar(df_mnd, \"dato\", \"antall\", color=\"prioritet\", barmode='group', title=ytelse + f\" - oppgaveprioritet\", color_discrete_map={'HOY':utils.nav_colors[1], 'LAV':utils.nav_colors[0]})"
   ]
  },
  {
   "cell_type": "code",
   "execution_count": null,
   "metadata": {},
   "outputs": [],
   "source": [
    "for _, fig in figs.items():\n",
    "    fig.show()"
   ]
  },
  {
   "cell_type": "code",
   "execution_count": null,
   "metadata": {},
   "outputs": [],
   "source": [
    "story = DataStory(\"Oppgaver oppretta av BPEN002\")\n",
    "for _, fig in figs.items():\n",
    "    story.plotly(fig.to_json())\n",
    "story.publish(url=\"https://nada.intern.nav.no/api\")"
   ]
  }
 ],
 "metadata": {
  "kernelspec": {
   "display_name": "Python 3",
   "language": "python",
   "name": "python3"
  },
  "language_info": {
   "codemirror_mode": {
    "name": "ipython",
    "version": 3
   },
   "file_extension": ".py",
   "mimetype": "text/x-python",
   "name": "python",
   "nbconvert_exporter": "python",
   "pygments_lexer": "ipython3",
   "version": "3.9.2"
  }
 },
 "nbformat": 4,
 "nbformat_minor": 2
}
