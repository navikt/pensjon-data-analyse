{
 "cells": [
  {
   "cell_type": "markdown",
   "id": "0d14144e-b6e1-4e26-bc66-333fcdc7890a",
   "metadata": {},
   "source": [
    "# Hente hemmeligheter fra secret manager"
   ]
  },
  {
   "cell_type": "code",
   "execution_count": null,
   "id": "813f3a59-9168-4298-a064-77f9da8a0a66",
   "metadata": {},
   "outputs": [],
   "source": [
    "from google.cloud import secretmanager\n",
    "from google.oauth2 import service_account"
   ]
  },
  {
   "cell_type": "code",
   "execution_count": null,
   "id": "989e92c8-0105-44d1-843d-4012dea3a7a7",
   "metadata": {},
   "outputs": [],
   "source": [
    "credentials = service_account.Credentials.from_service_account_file('/home/jupyter/sa_key.json')"
   ]
  },
  {
   "cell_type": "code",
   "execution_count": null,
   "id": "7d222b3c-ea89-4bd0-9eb9-1cbfbe45993a",
   "metadata": {},
   "outputs": [],
   "source": [
    "secrets = secretmanager.SecretManagerServiceClient(credentials=credentials)"
   ]
  },
  {
   "cell_type": "code",
   "execution_count": null,
   "id": "a034889b-94fc-4fd3-b63a-3dc394f0bf89",
   "metadata": {},
   "outputs": [],
   "source": [
    "project_name = \"knada-gcp\"\n",
    "secret_name = \"vebjorn-rekkebo-bac1\"\n",
    "version = \"latest\"\n",
    "\n",
    "resource_name = f\"projects/{project_name}/secrets/{secret_name}/versions/{version}\"\n",
    "secret = secrets.access_secret_version(name=resource_name)"
   ]
  },
  {
   "cell_type": "code",
   "execution_count": null,
   "id": "f1fa0cb6-e17d-436c-817a-1f2da0d6b1b6",
   "metadata": {},
   "outputs": [],
   "source": [
    "secrets = dict([line.split(\":\") for line in secret.payload.data.decode('UTF-8').splitlines()])"
   ]
  },
  {
   "cell_type": "code",
   "execution_count": null,
   "id": "97bcdc18-bc22-4376-9955-a767bb080dc6",
   "metadata": {},
   "outputs": [],
   "source": [
    "import psycopg2\n",
    "\n",
    "import pandas as pd\n",
    "import datetime\n",
    "\n",
    "from sqlalchemy import create_engine"
   ]
  },
  {
   "cell_type": "code",
   "execution_count": null,
   "id": "1d756c7e-6e60-4814-bf60-a6bcb2667deb",
   "metadata": {},
   "outputs": [],
   "source": [
    "method = \"postgresql+psycopg2\"\n",
    "host = \"A01DBVL028.adeo.no:5432\"\n",
    "#host = \"10.53.15.222:5432\"\n",
    "db_name = \"pensjon-psak\"\n",
    "\n",
    "alchemyEngine = create_engine(f'{method}://{secrets[\"PSAK_POSTGRES_USER\"]}:{secrets[\"PSAK_POSTGRES_PASSWORD\"]}@{host}/{db_name}')\n",
    "dbConnection = alchemyEngine.connect()"
   ]
  },
  {
   "cell_type": "markdown",
   "id": "5ff0a47b-e5db-4f3e-988b-41c7004726f8",
   "metadata": {},
   "source": [
    "# Div utforsking"
   ]
  },
  {
   "cell_type": "code",
   "execution_count": null,
   "id": "e899b111-988d-4237-b2fe-2ea6315be3e8",
   "metadata": {},
   "outputs": [],
   "source": [
    "df_tables = pd.read_sql(\n",
    "    \"\"\"\n",
    "    select * from information_schema.tables where table_schema='public';\n",
    "    \"\"\",\n",
    "    dbConnection)"
   ]
  },
  {
   "cell_type": "code",
   "execution_count": null,
   "id": "501eb51b-ca43-4163-90b4-c2a02b9f9333",
   "metadata": {},
   "outputs": [],
   "source": [
    "df_tables"
   ]
  },
  {
   "cell_type": "code",
   "execution_count": null,
   "id": "8075a801-aab7-48f8-b902-ca517057b9fb",
   "metadata": {},
   "outputs": [],
   "source": [
    "df_pref = pd.read_sql(\n",
    "    \"\"\"\n",
    "    select * from information_schema.columns where table_name='t_saksbeh_preferanser';\n",
    "    \"\"\",\n",
    "    dbConnection)"
   ]
  },
  {
   "cell_type": "code",
   "execution_count": null,
   "id": "3bcfbb9a-60af-4222-8873-4b683d473de2",
   "metadata": {},
   "outputs": [],
   "source": [
    "df_spring = pd.read_sql(\n",
    "    \"\"\"\n",
    "    select * from spring_session;\n",
    "    \"\"\",\n",
    "    dbConnection)"
   ]
  },
  {
   "cell_type": "code",
   "execution_count": null,
   "id": "27accd28-40c2-4130-ba65-a0bad9404956",
   "metadata": {},
   "outputs": [],
   "source": [
    "df_last_session = pd.read_sql(\n",
    "    \"\"\"\n",
    "    select distinct on (principal_name) *\n",
    "    from spring_session\n",
    "    order by principal_name, last_access_time desc;\n",
    "    \"\"\",\n",
    "    dbConnection)"
   ]
  },
  {
   "cell_type": "code",
   "execution_count": null,
   "id": "10b829b0-f24f-4832-9a1b-1a9fe57b46ae",
   "metadata": {},
   "outputs": [],
   "source": [
    "df_last_session[\"last_access_datetime\"] = df_last_session.last_access_time.apply(lambda x: datetime.datetime.fromtimestamp(x / 1e3))"
   ]
  },
  {
   "cell_type": "code",
   "execution_count": null,
   "id": "266d383e-7280-4e11-b7e0-ccdae78480f7",
   "metadata": {},
   "outputs": [],
   "source": [
    "import plotly.express as px\n",
    "\n",
    "px.scatter(df_last_session, \"last_access_datetime\")"
   ]
  },
  {
   "cell_type": "code",
   "execution_count": null,
   "id": "e062a5ec-71f3-4447-a7ac-a57ff9fd0d67",
   "metadata": {},
   "outputs": [],
   "source": [
    "df_pref.head()"
   ]
  },
  {
   "cell_type": "code",
   "execution_count": null,
   "id": "4e0a3d5b-fb28-42d2-911b-08770c6bbbad",
   "metadata": {},
   "outputs": [],
   "source": [
    "df_endret = pd.read_sql(\n",
    "    \"\"\"\n",
    "    select count(*) from t_saksbeh_preferanser\n",
    "    where dato_endret=(select min(dato_endret) from t_saksbeh_preferanser);\n",
    "    \"\"\",\n",
    "    dbConnection)"
   ]
  },
  {
   "cell_type": "code",
   "execution_count": null,
   "id": "14b7f500-8289-4b41-84c0-369ed329254a",
   "metadata": {},
   "outputs": [],
   "source": [
    "df_endret"
   ]
  }
 ],
 "metadata": {
  "environment": {
   "kernel": "python3",
   "name": "common-cpu.m98",
   "type": "gcloud",
   "uri": "gcr.io/deeplearning-platform-release/base-cpu:m98"
  },
  "kernelspec": {
   "display_name": "Python 3",
   "language": "python",
   "name": "python3"
  },
  "language_info": {
   "codemirror_mode": {
    "name": "ipython",
    "version": 3
   },
   "file_extension": ".py",
   "mimetype": "text/x-python",
   "name": "python",
   "nbconvert_exporter": "python",
   "pygments_lexer": "ipython3",
   "version": "3.7.12"
  }
 },
 "nbformat": 4,
 "nbformat_minor": 5
}
