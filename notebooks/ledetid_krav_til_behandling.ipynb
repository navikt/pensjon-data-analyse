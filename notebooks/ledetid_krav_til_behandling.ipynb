{
 "cells": [
  {
   "cell_type": "code",
   "execution_count": null,
   "id": "d3cb777a-57c6-40af-b8a5-b76c0c2585af",
   "metadata": {},
   "outputs": [],
   "source": [
    "import pandas as pd\n",
    "import numpy as np\n",
    "import os\n",
    "import sys\n",
    "import importlib\n",
    "import plotly.express as px\n",
    "from datetime import datetime\n",
    "from datastory import DataStory\n",
    "\n",
    "sys.path.append('/home/jupyter/pensjon-data-analyse/lib')\n",
    "import utils\n",
    "import pandas_utils\n",
    "import pesys_utils\n",
    "\n",
    "importlib.reload(utils)\n",
    "importlib.reload(pandas_utils)\n",
    "importlib.reload(pesys_utils)\n",
    "\n",
    "utils.set_secrets_as_env()"
   ]
  },
  {
   "cell_type": "code",
   "execution_count": null,
   "id": "f22e946f-4d4f-444e-8bd1-d49ad35d55b8",
   "metadata": {},
   "outputs": [],
   "source": [
    "con = pesys_utils.open_pen_connection()\n",
    "\n",
    "df_levetid = pandas_utils.pandas_from_sql('/home/jupyter/pensjon-data-analyse/sql/levetid_krav.sql', con, tuning=1000)\n",
    "con.close()\n",
    "df_levetid.columns = map(str.lower, df_levetid.columns)\n",
    "df_levetid[\"dato\"] = datetime.utcnow()"
   ]
  },
  {
   "cell_type": "code",
   "execution_count": null,
   "id": "4696ae27-1bfc-4b42-8ac8-6d136f4cd2db",
   "metadata": {},
   "outputs": [],
   "source": [
    "df = df_levetid.copy()\n",
    "df.head()"
   ]
  },
  {
   "cell_type": "code",
   "execution_count": null,
   "id": "09942429-ed8c-4c98-acfa-f9485609ed1e",
   "metadata": {},
   "outputs": [],
   "source": [
    "df[\"dato_opprettet\"] = df.dato_opprettet.apply(pd.Timestamp.to_pydatetime)\n",
    "df[\"dato_endret\"] = df.dato_endret.apply(pd.Timestamp.to_pydatetime)"
   ]
  },
  {
   "cell_type": "code",
   "execution_count": null,
   "id": "c0db7a2d-244e-4888-9324-3e9f58244a28",
   "metadata": {},
   "outputs": [],
   "source": [
    "df[\"levetid\"] = df.dato.subtract(df.dato_opprettet).dt.days\n",
    "df[\"uendret\"] = df.dato.subtract(df.dato_endret).dt.days"
   ]
  },
  {
   "cell_type": "code",
   "execution_count": null,
   "id": "3b3026de-0b9d-4f57-a335-fcfb94d36de0",
   "metadata": {},
   "outputs": [],
   "source": [
    "df.head()"
   ]
  },
  {
   "cell_type": "code",
   "execution_count": null,
   "id": "9b343d35-222d-4d75-bed6-c3fbdf8fa81d",
   "metadata": {},
   "outputs": [],
   "source": [
    "px.histogram(df, \"levetid\")"
   ]
  },
  {
   "cell_type": "code",
   "execution_count": null,
   "id": "1e39511d-8015-44fd-b22c-5fd55d75bc20",
   "metadata": {},
   "outputs": [],
   "source": [
    "px.histogram(df, \"uendret\")"
   ]
  },
  {
   "cell_type": "code",
   "execution_count": null,
   "id": "73b8b469-eefb-488c-9110-a728203a93b1",
   "metadata": {},
   "outputs": [],
   "source": [
    "df_krav_over_ett_ar = df[df.uendret > 365]\n",
    "anke_filter =  ~((df_krav_over_ett_ar.sakstype == \"Uføretrygd\") & (df_krav_over_ett_ar.kravtype == \"Anke\"))\n",
    "df_sunburst = df_krav_over_ett_ar[anke_filter]"
   ]
  },
  {
   "cell_type": "code",
   "execution_count": null,
   "id": "e5470510-1b5c-4e12-af63-d8e231c85d8c",
   "metadata": {},
   "outputs": [],
   "source": [
    "fig_sunburst = px.sunburst(df_sunburst, path=[\"sakstype\", \"kravtype\", \"kravstatus\"], color_discrete_sequence=px.colors.qualitative.Dark2, height=1000)\n",
    "fig_sunburst.show()"
   ]
  },
  {
   "cell_type": "code",
   "execution_count": null,
   "id": "7e4e5a5f-2bcb-423c-ab23-84070c3c9430",
   "metadata": {},
   "outputs": [],
   "source": [
    "ds = DataStory('\"Glemte krav\" i pesys')\n",
    "ds.markdown(\"Oversikt over krav i pesys hvor 'endret_dato' er over et år siden, og status ikke er 'FERDIG' eller 'AVBRUTT'. Anker på Uføretrygd er ikke inkludert.\")\n",
    "ds.plotly(fig_sunburst.to_json())\n",
    "#ds.publish(url=\"https://nada.intern.nav.no/api\")"
   ]
  }
 ],
 "metadata": {
  "environment": {
   "kernel": "python3",
   "name": "common-cpu.m98",
   "type": "gcloud",
   "uri": "gcr.io/deeplearning-platform-release/base-cpu:m98"
  },
  "kernelspec": {
   "display_name": "Python 3",
   "language": "python",
   "name": "python3"
  },
  "language_info": {
   "codemirror_mode": {
    "name": "ipython",
    "version": 3
   },
   "file_extension": ".py",
   "mimetype": "text/x-python",
   "name": "python",
   "nbconvert_exporter": "python",
   "pygments_lexer": "ipython3",
   "version": "3.7.12"
  }
 },
 "nbformat": 4,
 "nbformat_minor": 5
}
