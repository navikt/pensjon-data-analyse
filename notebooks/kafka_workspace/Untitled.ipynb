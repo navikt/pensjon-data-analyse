{
 "cells": [
  {
   "cell_type": "code",
   "execution_count": null,
   "id": "608e2e29-f9b9-467a-a52b-113575fff459",
   "metadata": {},
   "outputs": [],
   "source": [
    "import sys\n",
    "import json\n",
    "import os\n",
    "import time\n",
    "from google.cloud import bigquery\n",
    "\n",
    "sys.path.append('kafka_workspace')\n",
    "import kafka_util\n",
    "import bq_util\n",
    "\n",
    "with open('kafka_workspace/sample_message.json') as file:\n",
    "    mesg = json.loads(file.read())\n",
    "\n",
    "project_id = 'pensjon-saksbehandli-dev-cb76'\n",
    "dataset_id = 'pensjon_malinger'\n",
    "table_name = 'test_kafka_oppgave'\n",
    "bq_client = bigquery.Client(project=project_id)\n",
    "table_id = bq_util.create_bq_table_if_not_exists(bq_client, project_id, dataset_id, table_name)\n",
    "\n",
    "print(mesg)"
   ]
  },
  {
   "cell_type": "code",
   "execution_count": null,
   "id": "5e526aec-51a9-42dc-ae3d-82878ab796de",
   "metadata": {},
   "outputs": [],
   "source": [
    "from dataclasses import dataclass, field\n",
    "from datetime import datetime\n",
    "from typing import List, Dict, Any\n",
    "\n",
    "\n",
    "@dataclass\n",
    "class Message:\n",
    "    hendelsestype: str\n",
    "    tidspunkt: 'datetime'\n",
    "    tema: str\n",
    "    oppgavetype: str\n",
    "    aktiv_fra: 'datetime'\n",
    "    aktiv_til: 'datetime'\n",
    "    \n",
    "    @classmethod\n",
    "    def from_dict(cls, data: Dict[str, Any]):\n",
    "        return Message(hendelsestype=data[\"hendelse\"][\"hendelsestype\"],\n",
    "                       tidspunkt=data[\"hendelse\"][\"tidspunkt\"],\n",
    "                       tema=data[\"oppgave\"][\"kategorisering\"][\"tema\"],\n",
    "                       oppgavetype=data[\"oppgave\"][\"kategorisering\"][\"oppgavetype\"],\n",
    "                       aktiv_fra=datetime.fromisoformat(data[\"oppgave\"][\"behandlingsperiode\"][\"aktiv\"]).timestamp(),\n",
    "                       aktiv_til=datetime.fromisoformat(data[\"oppgave\"][\"behandlingsperiode\"][\"frist\"]).timestamp(),\n",
    "        )\n",
    "    \n",
    "    def to_dict(self):\n",
    "        _dict = self.__dict__\n",
    "        return {key: value for key, value in _dict.items()}"
   ]
  },
  {
   "cell_type": "code",
   "execution_count": null,
   "id": "3daa4352-70e5-4dc7-817b-16139ae43b64",
   "metadata": {},
   "outputs": [],
   "source": [
    "message = Message.from_dict(mesg).to_dict()"
   ]
  },
  {
   "cell_type": "code",
   "execution_count": null,
   "id": "47ec6c86-44a6-477b-806e-1454b0ce4f77",
   "metadata": {},
   "outputs": [],
   "source": [
    "errors = bq_client.insert_rows_json(table_id, [message])"
   ]
  },
  {
   "cell_type": "code",
   "execution_count": null,
   "id": "7a1a92cb-a28f-4c05-a362-3cea48e6cb53",
   "metadata": {},
   "outputs": [],
   "source": [
    "errors"
   ]
  }
 ],
 "metadata": {
  "environment": {
   "kernel": "python3",
   "name": "common-cpu.m98",
   "type": "gcloud",
   "uri": "gcr.io/deeplearning-platform-release/base-cpu:m98"
  },
  "kernelspec": {
   "display_name": "Python 3",
   "language": "python",
   "name": "python3"
  },
  "language_info": {
   "codemirror_mode": {
    "name": "ipython",
    "version": 3
   },
   "file_extension": ".py",
   "mimetype": "text/x-python",
   "name": "python",
   "nbconvert_exporter": "python",
   "pygments_lexer": "ipython3",
   "version": "3.7.12"
  }
 },
 "nbformat": 4,
 "nbformat_minor": 5
}
