{
 "cells": [
  {
   "cell_type": "code",
   "execution_count": null,
   "id": "0c30a2cc-e280-41ab-a4ea-06ef19ac535d",
   "metadata": {},
   "outputs": [],
   "source": [
    "import sys\n",
    "import importlib\n",
    "import pandas as pd\n",
    "import numpy as np\n",
    "import plotly.express as px\n",
    "\n",
    "sys.path.append('../lib')\n",
    "import pandas_utils\n",
    "import pesys_utils\n",
    "import autograd_convenience\n",
    "import utils\n",
    "\n",
    "importlib.reload(pandas_utils)\n",
    "importlib.reload(pesys_utils)\n",
    "importlib.reload(autograd_convenience)\n",
    "importlib.reload(utils)\n",
    "\n",
    "utils.set_secrets_as_env()"
   ]
  },
  {
   "cell_type": "code",
   "execution_count": null,
   "id": "8bbf3409-cf18-4603-808e-11ccb95cde98",
   "metadata": {},
   "outputs": [],
   "source": [
    "try:\n",
    "    con_popp.close()\n",
    "except:\n",
    "    pass\n",
    "con_popp = pesys_utils.open_popp_connection()\n",
    "df_oms = pandas_utils.pandas_from_sql(\"../sql/popp/godskrevet.sql\", con_popp, tuning=10000, lowercase=True)\n",
    "con_popp.close()"
   ]
  },
  {
   "cell_type": "code",
   "execution_count": null,
   "id": "b565a7de-cfac-4718-a475-f05109c5f82e",
   "metadata": {},
   "outputs": [],
   "source": [
    "try:\n",
    "    con_pen.close()\n",
    "except:\n",
    "    pass\n",
    "con_pen = pesys_utils.open_pen_connection()\n",
    "df_bo = pandas_utils.pandas_from_sql(\"../sql/popp/bostedsland.sql\", con_pen, tuning=10000, lowercase=True)\n",
    "con_pen.close()"
   ]
  },
  {
   "cell_type": "code",
   "execution_count": null,
   "id": "283a8e2c-9766-41a0-85b3-745a74b4ccc9",
   "metadata": {},
   "outputs": [],
   "source": [
    "df = df_oms.merge(df_bo, how='left', on=\"fnr_fk\")"
   ]
  },
  {
   "cell_type": "code",
   "execution_count": null,
   "id": "5abea8af-75ab-4060-ac68-e2f7a29be5df",
   "metadata": {},
   "outputs": [],
   "source": [
    "def prikk_antall(x):\n",
    "    if x < 6:\n",
    "        return -1\n",
    "    else:\n",
    "        return x\n",
    "\n",
    "def minus1_to_lessthan6(x):\n",
    "    if x == -1:\n",
    "        return '<6'\n",
    "    else:\n",
    "        return x\n",
    "    \n",
    "    \n",
    "eos = {\"Belgia\", \"Bulgaria\", \"Danmark\", \"Estland\", \"Finland\", \"Frankrike\", \"Hellas\", \"Irland\", \n",
    "       \"Island\", \"Italia\", \"Kroatia\", \"Kypros\", \"Latvia\", \"Liechtenstein\", \"Litauen\", \"Luxembourg\", \n",
    "       \"Malta\", \"Nederland\", \"Norge\", \"Polen\", \"Portugal\", \"Romania\", \"Slovakia\", \"Slovenia\", \"Spania\", \n",
    "       \"Sveits\", \"Sverige\", \"Tsjekkia\", \"Tyskland\", \"Ungarn\", \"Østerrike\"}\n",
    "\n",
    "df[\"eøs_flagg\"] = df.apply(lambda row: int((row.bostedsland in eos) | (row.avtaletype == \"Eøs-Avtalen/Nordisk Konvensjon\")), axis=1)\n",
    "df.fillna(\"Ukjent\", inplace=True)"
   ]
  },
  {
   "cell_type": "code",
   "execution_count": null,
   "id": "ce85b0a7-b40f-466e-b515-98f4ce681647",
   "metadata": {},
   "outputs": [],
   "source": [
    "df_land = df.groupby([\"bostedsland\", \"avtaletype\", \"avtalekriterie\"], dropna=False).versjon.count().reset_index(name=\"antall\")\n",
    "df_land[\"antall\"] = df_land.antall.apply(lambda x: prikk_antall(x))\n",
    "df_land[\"eøs_flagg\"] = df_land.bostedsland.apply(lambda x: int((x in eos)))\n",
    " \n",
    "df_eos = df_land.groupby(\"eøs_flagg\", dropna=False).antall.sum()\n",
    "\n",
    "df_land = df_land.sort_values(\"antall\", ascending=False).reset_index(drop=True)\n",
    "df_land[\"antall\"] = df_land.antall.apply(lambda x: minus1_to_lessthan6(x))\n",
    "\n",
    "df_land = df_land.drop([0,1], axis=0).reset_index(drop=True)\n",
    "\n",
    "df_land.fillna(\"Ukjent\", inplace=True)\n",
    "\n",
    "df_land.tail(20)"
   ]
  },
  {
   "cell_type": "code",
   "execution_count": null,
   "id": "39c7a8c2-4b7b-44ce-a57b-f5dbc1bfd4a3",
   "metadata": {},
   "outputs": [],
   "source": [
    "df_eos"
   ]
  },
  {
   "cell_type": "code",
   "execution_count": null,
   "id": "74aff7d7-6132-41b2-930b-0d55d5e640b9",
   "metadata": {},
   "outputs": [],
   "source": [
    "df[(pd.isna(df.avtaletype)) & (pd.isna(df.avtalekriterie))].bostedsland.value_counts()"
   ]
  },
  {
   "cell_type": "code",
   "execution_count": null,
   "id": "8e2b9fc1-facf-4fbb-9808-f4335bd952d5",
   "metadata": {},
   "outputs": [],
   "source": [
    "df.bostedsland.value_counts()"
   ]
  },
  {
   "cell_type": "code",
   "execution_count": null,
   "id": "96a85cb6-69d7-435f-b537-dec68aa626b2",
   "metadata": {},
   "outputs": [],
   "source": [
    "df_sunburst = df[  ~( (df.avtaletype == 'Ukjent') & (df.avtalekriterie == 'Ukjent') & (df.bostedsland == 'Ukjent') ) ]\n",
    "fig_sunburst = px.sunburst(df_sunburst, path=[\"eøs_flagg\", \"bostedsland\", \"avtaletype\", \"avtalekriterie\"], color_discrete_sequence=px.colors.qualitative.Dark2, height=1000)\n",
    "fig_sunburst.show()"
   ]
  },
  {
   "cell_type": "code",
   "execution_count": null,
   "id": "31611722-fac1-4557-8ffc-ca213cbb9837",
   "metadata": {},
   "outputs": [],
   "source": [
    "# kladdespørringer\n",
    "\"\"\"\n",
    "select fnr_fk, dekode bostedsland\n",
    "from pen.t_person p \n",
    "left join pen.t_k_land_3_tegn l on l.k_land_3_tegn_id = p.bostedsland\n",
    "where dekode is not null;\n",
    "\n",
    "select fnr_fk, a.dekode avtaletype, ak.dekode avtalekriterie\n",
    "from pen.t_person_det p \n",
    "left join pen.t_trygdeavtale t on t.person_grunnlag_id = p.person_grunnlag_id\n",
    "--left join pen.t_k_land_3_tegn l on l.k_land_3_tegn_id = p.bostedsland\n",
    "left join pen.t_k_avtale_t a on a.K_AVTALE_T = t.K_AVTALE_T\n",
    "left join pen.t_k_avtale_krit_t ak on ak.k_avtale_krit_t = t.k_avtale_krit_t\n",
    "--where a.dekode is not null\n",
    "\"\"\""
   ]
  }
 ],
 "metadata": {
  "environment": {
   "kernel": "python3",
   "name": "common-cpu.m98",
   "type": "gcloud",
   "uri": "gcr.io/deeplearning-platform-release/base-cpu:m98"
  },
  "kernelspec": {
   "display_name": "Python 3",
   "language": "python",
   "name": "python3"
  },
  "language_info": {
   "codemirror_mode": {
    "name": "ipython",
    "version": 3
   },
   "file_extension": ".py",
   "mimetype": "text/x-python",
   "name": "python",
   "nbconvert_exporter": "python",
   "pygments_lexer": "ipython3",
   "version": "3.7.12"
  }
 },
 "nbformat": 4,
 "nbformat_minor": 5
}
