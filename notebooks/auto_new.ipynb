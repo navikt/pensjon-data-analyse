{
 "cells": [
  {
   "cell_type": "code",
   "execution_count": null,
   "id": "9df7d94b-36ab-41d1-a56c-dbaf13ad00aa",
   "metadata": {},
   "outputs": [],
   "source": [
    "import cx_Oracle\n",
    "import pandas as pd\n",
    "import numpy as np\n",
    "import sys\n",
    "import os\n",
    "import importlib\n",
    "import plotly.express as px\n",
    "import plotly.graph_objects as go\n",
    "from plotly.subplots import make_subplots\n",
    "\n",
    "from google.cloud import secretmanager\n",
    "\n",
    "sys.path.append('../lib')\n",
    "import pandas_utils\n",
    "import pesys_utils\n",
    "import autograd_convenience\n",
    "import utils\n",
    "\n",
    "importlib.reload(pandas_utils)\n",
    "importlib.reload(pesys_utils)\n",
    "importlib.reload(autograd_convenience)\n",
    "importlib.reload(utils)\n",
    "\n",
    "utils.set_secrets_as_env()"
   ]
  },
  {
   "cell_type": "code",
   "execution_count": null,
   "id": "00856ff4-a6b5-4f29-ba38-288de71ad8fd",
   "metadata": {},
   "outputs": [],
   "source": [
    "con = pesys_utils.open_pen_connection()\n",
    "df_v3 = pandas_utils.pandas_from_sql('../sql/v3.sql', con)\n",
    "con.close()"
   ]
  },
  {
   "cell_type": "code",
   "execution_count": null,
   "id": "ff3b172c-a36d-40a7-9a81-7ea212806542",
   "metadata": {},
   "outputs": [],
   "source": [
    "df = df_v3.copy()\n",
    "current_år = df.ÅR.max()\n",
    "current_måned = df.loc[df.ÅR==df.ÅR.max()].MÅNED.max()\n",
    "current_år_måned = '-'.join([str(current_år), str(current_måned)])\n",
    "\n",
    "\n",
    "# Add \"ÅR-MÅNED\" TO FRONT\n",
    "df[\"ÅR-MÅNED\"] = df[[\"ÅR\", \"MÅNED\"]].apply(lambda row: '-'.join(row.values.astype(str)), axis=1)\n",
    "cols = list(df.columns.values)\n",
    "cols.insert(0, cols.pop())\n",
    "df = df[cols]\n",
    "df = df.loc[df[\"ÅR-MÅNED\"] != current_år_måned]\n",
    "\n",
    "df[\"STØNADSOMRÅDE\"] = df.STØNADSOMRÅDE.apply(pesys_utils.map_stonad)"
   ]
  },
  {
   "cell_type": "code",
   "execution_count": null,
   "id": "482b5658-2a24-4256-bf28-ef763eb3b5bf",
   "metadata": {},
   "outputs": [],
   "source": [
    "df[\"ÅR-MÅNED\"].tail()"
   ]
  },
  {
   "cell_type": "code",
   "execution_count": null,
   "id": "98ff600f-b5ef-4421-8425-ac9ff2c4e0e2",
   "metadata": {},
   "outputs": [],
   "source": [
    "df_ap = df.copy().loc[df.STØNADSOMRÅDE==\"Alderspensjon\"]\n",
    "df_ap = df_ap.loc[df_ap.BATCH_FLAGG == \"ikke opprettet av batch\"]"
   ]
  },
  {
   "cell_type": "code",
   "execution_count": null,
   "id": "2f7e9666-a8b8-4a6d-8505-966f5ec433af",
   "metadata": {},
   "outputs": [],
   "source": [
    "df_ap = df_ap.merge(df_ap.groupby(\"ÅR-MÅNED\", as_index=False).ANTALL.sum(),\n",
    "                left_on=\"ÅR-MÅNED\",\n",
    "                right_on=\"ÅR-MÅNED\",\n",
    "                suffixes=(\"\",\" TOTALT\")\n",
    "        )"
   ]
  },
  {
   "cell_type": "code",
   "execution_count": null,
   "id": "8d8c9186-dcf7-45f8-bcbf-1b15bbd98de6",
   "metadata": {
    "tags": []
   },
   "outputs": [],
   "source": [
    "df_ap[\"ANDEL\"] = df_ap.ANTALL.divide(df_ap[\"ANTALL TOTALT\"])"
   ]
  },
  {
   "cell_type": "code",
   "execution_count": null,
   "id": "0e1d3d8b-7406-40ea-8993-c1c9cb795c9f",
   "metadata": {},
   "outputs": [],
   "source": [
    "df_ap.head(10)"
   ]
  },
  {
   "cell_type": "markdown",
   "id": "1a75a5ac-1e75-4787-95ce-83a2a7fb13d7",
   "metadata": {},
   "source": [
    "# Prep for plott"
   ]
  },
  {
   "cell_type": "code",
   "execution_count": null,
   "id": "4c3f8bb8-97af-4611-9224-1808807ab637",
   "metadata": {},
   "outputs": [],
   "source": [
    "nav_colors = (\n",
    "    \"#0067C5\",\n",
    "    \"#BA3A26\",\n",
    "    \"#06893A\",\n",
    "    \"#634689\",\n",
    "    \"#FF9100\",\n",
    "    \"#66CBEC\",\n",
    "    \"#F0C419\",\n",
    ")\n",
    "pastel = px.colors.qualitative.Pastel\n",
    "\n",
    "figs = {}"
   ]
  },
  {
   "cell_type": "markdown",
   "id": "463db2fc-311b-472d-9743-1a17cfa18740",
   "metadata": {},
   "source": [
    "### Automatiseringsgrad"
   ]
  },
  {
   "cell_type": "code",
   "execution_count": null,
   "id": "6cd787d1-bc09-49b7-9fa0-58845c28893e",
   "metadata": {},
   "outputs": [],
   "source": [
    "df_auto = df_ap.groupby([\"ÅR\", \"MÅNED\", \"ÅR-MÅNED\", \"AUTOMATISERING\", \"ANTALL TOTALT\"], as_index=False)[[\"ANTALL\", \"ANDEL\"]].sum()\n",
    "df_auto = df_auto[df_auto.AUTOMATISERING == \"AUTO\"].reset_index(drop=True)\n",
    "df_auto[\"ANDEL_PROSENT\"] = df_auto[\"ANDEL\"].apply(lambda x: round(x*100, 0)).astype(int).astype(str) + '%'"
   ]
  },
  {
   "cell_type": "code",
   "execution_count": null,
   "id": "93cd663b-d5f5-4104-98f0-704bb4a274fc",
   "metadata": {},
   "outputs": [],
   "source": [
    "df_auto.tail()"
   ]
  },
  {
   "cell_type": "code",
   "execution_count": null,
   "id": "73f23c69-a3b8-4445-bb57-9aff454031e5",
   "metadata": {},
   "outputs": [],
   "source": [
    "df_plot = df_auto.copy()\n",
    "\n",
    "fig = make_subplots(specs=[[{\"secondary_y\": True}]])\n",
    "fig.add_trace(go.Bar(x=df_plot[\"ÅR-MÅNED\"], y=df_plot[\"ANTALL TOTALT\"], marker_color=pastel[0], name=\"Antall saker\"), secondary_y=False)\n",
    "\n",
    "fig.add_trace(go.Scatter(x=df_plot[\"ÅR-MÅNED\"], y=df_plot[\"ANDEL\"], text=df_plot[\"ANDEL_PROSENT\"], mode='lines+markers+text', marker_color=\"black\", name=\"Automatisk\", textposition='top center'), secondary_y=True)\n",
    "fig.update_yaxes(title_text=\"Andel automatisert\", secondary_y=True, range=[0.2,0.8], tickformat='.0%')\n",
    "fig.update_yaxes(title_text=\"Antall saker\", secondary_y=False)\n",
    "fig.layout.yaxis2.showgrid = False\n",
    "fig.update_layout(\n",
    "    autosize=False,\n",
    "    width=1300,\n",
    "    height=500,)\n",
    "\n",
    "figs[\"autograd\"] = fig"
   ]
  },
  {
   "cell_type": "markdown",
   "id": "0a2b27ff-6c48-4701-8d77-c63efadb0624",
   "metadata": {},
   "source": [
    "### Selvbetjening"
   ]
  },
  {
   "cell_type": "code",
   "execution_count": null,
   "id": "b191ea45-d215-4ed5-987f-fd3b7c053ac1",
   "metadata": {},
   "outputs": [],
   "source": [
    "df_selv = df_ap.groupby([\"ÅR\", \"MÅNED\", \"ÅR-MÅNED\", \"OPPRETTET_AV\", \"ANTALL TOTALT\"], as_index=False)[[\"ANTALL\", \"ANDEL\"]].sum()\n",
    "df_selv = df_selv[df_selv.OPPRETTET_AV == \"bruker\"].reset_index(drop=True)\n",
    "df_selv[\"ANDEL_PROSENT\"] = df_selv[\"ANDEL\"].apply(lambda x: round(x*100, 0)).astype(int).astype(str) + '%'"
   ]
  },
  {
   "cell_type": "code",
   "execution_count": null,
   "id": "7499ed80-d2c0-4b21-8dd4-d9e4738b7e6b",
   "metadata": {},
   "outputs": [],
   "source": [
    "df_selv.tail()"
   ]
  },
  {
   "cell_type": "code",
   "execution_count": null,
   "id": "b1f66db0-4212-4b20-8fbc-b7f9b60439ee",
   "metadata": {},
   "outputs": [],
   "source": [
    "df_plot = df_selv.copy()\n",
    "\n",
    "fig = make_subplots(specs=[[{\"secondary_y\": True}]])\n",
    "fig.add_trace(go.Bar(x=df_plot[\"ÅR-MÅNED\"], y=df_plot[\"ANTALL TOTALT\"], marker_color=pastel[1], name=\"Antall saker\"), secondary_y=False)\n",
    "\n",
    "fig.add_trace(go.Scatter(x=df_plot[\"ÅR-MÅNED\"], y=df_plot[\"ANDEL\"], text=df_plot[\"ANDEL_PROSENT\"], mode='lines+markers+text', marker_color=\"black\", name=\"Selvbetjent\", textposition='top center'), secondary_y=True)\n",
    "fig.update_yaxes(title_text=\"Andel selvbetjent\", secondary_y=True, range=[0.5,1], tickformat='.0%')\n",
    "fig.update_yaxes(title_text=\"Antall saker\", secondary_y=False)\n",
    "fig.layout.yaxis2.showgrid = False\n",
    "fig.update_layout(\n",
    "    autosize=False,\n",
    "    width=1300,\n",
    "    height=500,)\n",
    "\n",
    "figs[\"selvbetjening\"] = fig"
   ]
  },
  {
   "cell_type": "markdown",
   "id": "c5cb8760-cd46-498b-8542-90702b15be92",
   "metadata": {},
   "source": [
    "# Teste andre idéer"
   ]
  },
  {
   "cell_type": "code",
   "execution_count": null,
   "id": "00a44cd5-5867-4234-8c2f-12befd1b02d3",
   "metadata": {},
   "outputs": [],
   "source": [
    "con = pesys_utils.open_pen_connection()\n",
    "\n",
    "df_v2 = pandas_utils.pandas_from_sql('../sql/v2.sql', con)\n",
    "\n",
    "con.close()"
   ]
  },
  {
   "cell_type": "code",
   "execution_count": null,
   "id": "3bcdd155-43e7-4672-906a-2a9d51f5aea3",
   "metadata": {},
   "outputs": [],
   "source": [
    "df_v2.tail(10)"
   ]
  },
  {
   "cell_type": "markdown",
   "id": "2aa6e80b-31e2-4862-a9d1-c810f84e3f20",
   "metadata": {},
   "source": [
    "# Automatisering av selvbetjente saker"
   ]
  },
  {
   "cell_type": "code",
   "execution_count": null,
   "id": "6ff24875-ac06-4c54-bbce-e14a9a2c259b",
   "metadata": {},
   "outputs": [],
   "source": [
    "df = df_v2.copy()\n",
    "current_år = df.ÅR.max()\n",
    "current_måned = df.loc[df.ÅR==df.ÅR.max()].MÅNED.max()\n",
    "current_år_måned = '-'.join([str(current_år), str(current_måned)])\n",
    "df = df.loc[df.ÅR >= current_år - 1]\n",
    "\n",
    "# Add \"ÅR-MÅNED\" TO FRONT \n",
    "df[\"ÅR-MÅNED\"] = df[[\"ÅR\", \"MÅNED\"]].apply(lambda row: '-'.join(row.values.astype(str)), axis=1)\n",
    "cols = list(df.columns.values)\n",
    "cols.insert(0, cols.pop())\n",
    "df = df[cols]\n",
    "\n",
    "# Remove current month\n",
    "df = df.loc[df[\"ÅR-MÅNED\"] != current_år_måned]"
   ]
  },
  {
   "cell_type": "code",
   "execution_count": null,
   "id": "409e862d-99e1-494b-b469-60363eee7f16",
   "metadata": {},
   "outputs": [],
   "source": [
    "df_selv = df.loc[df[\"OPPRETTET_AV\"] == \"bruker\"]\n",
    "df_selv = df_selv.loc[df_selv[\"BATCH_FLAGG\"] == \"ikke opprettet av batch\"]"
   ]
  },
  {
   "cell_type": "code",
   "execution_count": null,
   "id": "8de2b350-bece-4e87-ab3a-63b12ba8582a",
   "metadata": {},
   "outputs": [],
   "source": [
    "df_selv_auto = df_selv.groupby([\"ÅR-MÅNED\", \"AUTOMATISERING\"], as_index=False).ANTALL.sum()\n",
    "fig = px.bar(df_selv_auto, \"ÅR-MÅNED\", \"ANTALL\", color=\"AUTOMATISERING\", color_discrete_sequence=nav_colors)\n",
    "fig.update_layout(\n",
    "    autosize=False,\n",
    "    width=1300,\n",
    "    height=500,)\n",
    "fig.show()\n",
    "\n",
    "figs[\"selv_auto\"] = fig"
   ]
  },
  {
   "cell_type": "code",
   "execution_count": null,
   "id": "be0a30da-80a9-4ba3-93e5-0b953408b6da",
   "metadata": {},
   "outputs": [],
   "source": [
    "df_ikkeselv = df.loc[df[\"OPPRETTET_AV\"] == \"saksbehandler\"]\n",
    "df_ikkeselv = df_ikkeselv.loc[df_ikkeselv[\"BATCH_FLAGG\"] == \"ikke opprettet av batch\"]\n",
    "df_ikkeselv_auto = df_ikkeselv.groupby([\"ÅR-MÅNED\", \"AUTOMATISERING\"], as_index=False).ANTALL.sum()\n",
    "fig = px.bar(df_ikkeselv_auto, \"ÅR-MÅNED\", \"ANTALL\", color=\"AUTOMATISERING\", color_discrete_sequence=nav_colors)\n",
    "fig.update_layout(\n",
    "    autosize=False,\n",
    "    width=1300,\n",
    "    height=500,)\n",
    "fig.show()\n",
    "\n",
    "figs[\"ikkeselv_auto\"] = fig"
   ]
  },
  {
   "cell_type": "markdown",
   "id": "a8dd99a1-a277-4388-be8a-32457fa7eea4",
   "metadata": {},
   "source": [
    "# Utlandstilsnitt"
   ]
  },
  {
   "cell_type": "code",
   "execution_count": null,
   "id": "cbef8a0b-84e2-415a-9fbc-d30238753f92",
   "metadata": {},
   "outputs": [],
   "source": [
    "df_man = df.loc[df[\"AUTOMATISERING\"] == \"MAN\"]"
   ]
  },
  {
   "cell_type": "code",
   "execution_count": null,
   "id": "421ce1e2-890e-4896-b85d-f42788f8df4a",
   "metadata": {},
   "outputs": [],
   "source": [
    "df_man_utland = df_man.groupby([\"ÅR-MÅNED\", \"UTLANDSTILSNITT\"], as_index=False).ANTALL.sum()\n",
    "\n",
    "fig = px.bar(df_man_utland, \"ÅR-MÅNED\", \"ANTALL\", color=\"UTLANDSTILSNITT\", color_discrete_sequence=nav_colors)\n",
    "fig.update_layout(\n",
    "    autosize=False,\n",
    "    width=1300,\n",
    "    height=500,)\n",
    "figs[\"man_utland\"] = fig"
   ]
  },
  {
   "cell_type": "code",
   "execution_count": null,
   "id": "4df9d101-0b14-4800-82a9-3a6c5c1d2cee",
   "metadata": {},
   "outputs": [],
   "source": [
    "df_auto = df.loc[df[\"AUTOMATISERING\"] == \"AUTO\"]"
   ]
  },
  {
   "cell_type": "code",
   "execution_count": null,
   "id": "90a35b57-982d-4a8d-b6d9-67cb8d0846ed",
   "metadata": {},
   "outputs": [],
   "source": [
    "df_auto_utland = df_auto.groupby([\"ÅR-MÅNED\", \"UTLANDSTILSNITT\"], as_index=False).ANTALL.sum()\n",
    "\n",
    "fig = px.bar(df_auto_utland, \"ÅR-MÅNED\", \"ANTALL\", color=\"UTLANDSTILSNITT\", color_discrete_sequence=nav_colors)\n",
    "fig.update_layout(\n",
    "    autosize=False,\n",
    "    width=1300,\n",
    "    height=500,)\n",
    "figs[\"auto_utland\"] = fig"
   ]
  },
  {
   "cell_type": "markdown",
   "id": "f9621cc2-3b7b-42c9-a23f-6332cb952bb0",
   "metadata": {},
   "source": [
    "# Opprettet av batch"
   ]
  },
  {
   "cell_type": "code",
   "execution_count": null,
   "id": "9a6ed145-afe3-41dd-9adb-1ed951c5638d",
   "metadata": {},
   "outputs": [],
   "source": [
    "df_man_batch = df_man.groupby([\"ÅR-MÅNED\", \"BATCH_FLAGG\"], as_index=False).ANTALL.sum()\n",
    "\n",
    "fig = px.bar(df_man_batch, \"ÅR-MÅNED\", \"ANTALL\", color=\"BATCH_FLAGG\", color_discrete_sequence=nav_colors[2:])\n",
    "fig.update_layout(\n",
    "    autosize=False,\n",
    "    width=1300,\n",
    "    height=500,)\n",
    "figs[\"man_batch\"] = fig\n",
    "fig.show()"
   ]
  },
  {
   "cell_type": "code",
   "execution_count": null,
   "id": "b3ad33ff-80c6-41b4-8140-7a75afeb7d99",
   "metadata": {},
   "outputs": [],
   "source": [
    "df_auto_batch = df_auto.groupby([\"ÅR-MÅNED\", \"BATCH_FLAGG\"], as_index=False).ANTALL.sum()\n",
    "\n",
    "fig = px.bar(df_auto_batch, \"ÅR-MÅNED\", \"ANTALL\", color=\"BATCH_FLAGG\", color_discrete_sequence=nav_colors[2:])\n",
    "fig.update_layout(\n",
    "    autosize=False,\n",
    "    width=1300,\n",
    "    height=500,)\n",
    "figs[\"auto_batch\"] = fig\n",
    "fig.show()"
   ]
  },
  {
   "cell_type": "markdown",
   "id": "f462076e-cc56-42f5-85a0-673371a6f12e",
   "metadata": {},
   "source": [
    "# Sjekk plott"
   ]
  },
  {
   "cell_type": "code",
   "execution_count": null,
   "id": "ad40e9ee-d4fa-4823-a6bb-0f915928af78",
   "metadata": {},
   "outputs": [],
   "source": [
    "for _, fig in figs.items():\n",
    "    fig.show()"
   ]
  },
  {
   "cell_type": "markdown",
   "id": "84277ba3-a0de-4573-b725-11c220af2a56",
   "metadata": {},
   "source": [
    "# Publiser datastory"
   ]
  },
  {
   "cell_type": "code",
   "execution_count": null,
   "id": "feacf276-54e5-43da-8451-a86668f50351",
   "metadata": {},
   "outputs": [],
   "source": [
    "from datastory import DataStory"
   ]
  },
  {
   "cell_type": "code",
   "execution_count": null,
   "id": "0acbe54b-3d71-4c40-9163-a58f64c8ac09",
   "metadata": {},
   "outputs": [],
   "source": [
    "ds = DataStory(f\"Automatiserings- og selvbetjeningsgrad for alderspensjon\")\n",
    "\n",
    "ds.markdown(\"**Dette er ikke offisiell statistikk**\")\n",
    "ds.markdown(\"**Merk at dette er en utdatert og unøyaktig måte å måle automatiseringsgrad.**\")\n",
    "ds.header(f\"Automatisering av førstegangsbehandlingssaker for alderspensjon i pesys\", level=2)\n",
    "ds.markdown(f\"Denne figuren gjelder kun førstegangsbehandling av alderspensjonssaker. Saker opprettet av batch er eksludert. For noen saker er deler av behandlingen automatisert, men disse regnes som manuelt behandlet.\")\n",
    "ds.plotly(figs[\"autograd\"].to_json())\n",
    "\n",
    "ds.header(f\"Selvbetjening av førstegangsbehandlingssaker for alderspensjon i pesys\", level=2)\n",
    "ds.markdown(f\"En sak regnes som selvbetjent dersom den er opprettet av en innbygger (ikke saksbehandler/batch). Denne figuren gjelder kun førstegangsbehandling av alderspensjonssaker. Saker opprettet av batch er eksludert.\")\n",
    "ds.plotly(figs[\"selvbetjening\"].to_json())\n",
    "\n",
    "# ds.header(f\"Blir saker opprettet av bruker automatisert? (Batch eksludert)\", level=2)\n",
    "# ds.markdown(f\"Automatisering av saker opprettet av bruker\")\n",
    "# ds.plotly(figs[\"selv_auto\"].to_json())\n",
    "# ds.markdown(f\"Automatisering av saker opprettet av saksbehandler\")\n",
    "# ds.plotly(figs[\"ikkeselv_auto\"].to_json())\n",
    "\n",
    "# ds.header(f\"Hvordan påvirker utlandstilsnitt automatiseringsgrad ved førstegangsbehandling?\", level=2)\n",
    "# ds.markdown(f\"Utlandstilsnitt på *manuelt* behandlede saker.\")\n",
    "# ds.plotly(figs[\"man_utland\"].to_json())\n",
    "# ds.markdown(f\"Utlandstilsnitt på *automatisk* behandlede saker.\")\n",
    "# ds.plotly(figs[\"auto_utland\"].to_json())\n",
    "\n",
    "# ds.header(f\"Hvor mange saker opprettet av batch behandles automatisk?\")\n",
    "# ds.markdown(f\"*Manuelt* behandlede saker\")\n",
    "# ds.plotly(figs[\"man_batch\"].to_json())\n",
    "# ds.markdown(f\"*Automatisk* behandlede saker\")\n",
    "# ds.plotly(figs[\"auto_batch\"].to_json())\n"
   ]
  },
  {
   "cell_type": "code",
   "execution_count": null,
   "id": "ba87d266-6ff0-4cdf-a642-74b673878c29",
   "metadata": {},
   "outputs": [],
   "source": [
    "ds.publish(url=\"https://nada.intern.nav.no/api\") #prod"
   ]
  },
  {
   "cell_type": "code",
   "execution_count": null,
   "id": "52ca2831-1c1c-4508-aa6c-4638e1a74cc9",
   "metadata": {},
   "outputs": [],
   "source": [
    "#ds.publish(url=\"https://nada.ekstern.dev.nav.no/api\") #dev"
   ]
  },
  {
   "cell_type": "markdown",
   "id": "5a3cfe2b-fcd1-41ad-9aa2-5211686025c4",
   "metadata": {},
   "source": [
    "# Kladdeområde"
   ]
  },
  {
   "cell_type": "code",
   "execution_count": null,
   "id": "00b73e0e-4dfd-4d27-9da0-ec2cdeb266ef",
   "metadata": {},
   "outputs": [],
   "source": [
    "df = df_v4.copy()"
   ]
  },
  {
   "cell_type": "code",
   "execution_count": null,
   "id": "fef8386c-ed5a-4838-95e0-3939a08b54e7",
   "metadata": {},
   "outputs": [],
   "source": [
    "df.head()"
   ]
  },
  {
   "cell_type": "code",
   "execution_count": null,
   "id": "964a41c9-7e4f-44cf-b9fa-1701b4d19130",
   "metadata": {},
   "outputs": [],
   "source": [
    "df = df.groupby([\"ÅR\", \"STØNADSOMRÅDE\"], as_index=False).ANTALL.sum().sort_values([\"ÅR\", \"ANTALL\"], ascending=False).reset_index(drop=True)"
   ]
  },
  {
   "cell_type": "code",
   "execution_count": null,
   "id": "a8de14f2-ed05-41c7-9cec-08b1e406f7a8",
   "metadata": {},
   "outputs": [],
   "source": [
    "df.head(20)"
   ]
  },
  {
   "cell_type": "code",
   "execution_count": null,
   "id": "de3dd7ed-45c9-47c9-9634-345048df3609",
   "metadata": {},
   "outputs": [],
   "source": [
    "px.bar(df, \"ÅR\", \"ANTALL\", color=\"STØNADSOMRÅDE\", barmode='group')"
   ]
  },
  {
   "cell_type": "code",
   "execution_count": null,
   "id": "a3fab149-186d-4414-afc7-cb7d48dfe820",
   "metadata": {},
   "outputs": [],
   "source": [
    "df = df_v4.copy()\n",
    "current_år = df.ÅR.max()\n",
    "current_måned = df.loc[df.ÅR==df.ÅR.max()].MÅNED.max()\n",
    "current_år_måned = '-'.join([str(current_år), str(current_måned)])\n",
    "df = df.loc[df.ÅR >= current_år-1]\n",
    "\n",
    "# Add \"ÅR-MÅNED\" TO FRONT \n",
    "df[\"ÅR-MÅNED\"] = df[[\"ÅR\", \"MÅNED\"]].apply(lambda row: '-'.join(row.values.astype(str)), axis=1)\n",
    "cols = list(df.columns.values)\n",
    "cols.insert(0, cols.pop())\n",
    "df = df[cols]\n",
    "\n",
    "# Remove current month\n",
    "df = df.loc[df[\"ÅR-MÅNED\"] != current_år_måned].sort_values([\"ÅR-MÅNED\", \"STØNADSOMRÅDE\"]).reset_index(drop=True)"
   ]
  },
  {
   "cell_type": "code",
   "execution_count": null,
   "id": "d5ec5703-4c59-4f74-9eab-0b50a9f3ca0a",
   "metadata": {},
   "outputs": [],
   "source": [
    "df = df.groupby([\"ÅR-MÅNED\", \"STØNADSOMRÅDE\"], as_index=False).ANTALL.sum()"
   ]
  },
  {
   "cell_type": "code",
   "execution_count": null,
   "id": "c1962edf-bf74-4e69-b8db-256d3873ae91",
   "metadata": {},
   "outputs": [],
   "source": [
    "df.head()"
   ]
  },
  {
   "cell_type": "code",
   "execution_count": null,
   "id": "9576b3d0-1a04-4ec4-8867-08ef23b94172",
   "metadata": {},
   "outputs": [],
   "source": [
    "def get_previous_month(current):\n",
    "    if current[-1] == 1:\n",
    "        return \"-\".join([str(int(current[:4])-1), \"12\"])\n",
    "    else:\n",
    "        return \"-\".join([current[:4], str(int(current[5:])-1)])\n",
    "                         \n",
    "previous_år_måned = get_previous_month(current_år_måned)\n",
    "df = df.sort_values([\"ÅR-MÅNED\", \"ANTALL\"], ascending=False).reset_index(drop=True)\n",
    "\n",
    "fig = px.area(df, \"ÅR-MÅNED\", \"ANTALL\", color=\"STØNADSOMRÅDE\", log_y=True, height=600, )\n",
    "fig.update_xaxes(type='category')"
   ]
  },
  {
   "cell_type": "code",
   "execution_count": null,
   "id": "395dd369-88f6-4a7d-bc29-b90e48bfd05d",
   "metadata": {},
   "outputs": [],
   "source": [
    "list(plot_order)"
   ]
  },
  {
   "cell_type": "markdown",
   "id": "bc9abb5b-8591-4c00-ba80-8cb15f01f6e1",
   "metadata": {},
   "source": [
    "# Totalt for all kravbehandling"
   ]
  },
  {
   "cell_type": "code",
   "execution_count": null,
   "id": "c0840235-aa62-4550-85b3-53e74ec53ef1",
   "metadata": {},
   "outputs": [],
   "source": [
    "df = df_v5.copy()"
   ]
  },
  {
   "cell_type": "code",
   "execution_count": null,
   "id": "70b8a5be-7aae-4039-9a7f-04e801100d57",
   "metadata": {},
   "outputs": [],
   "source": [
    "df.tail()"
   ]
  },
  {
   "cell_type": "code",
   "execution_count": null,
   "id": "fcbb9f87-a143-42ba-ae9e-9b78a3295995",
   "metadata": {},
   "outputs": [],
   "source": [
    "current_år = df.ÅR.max()\n",
    "current_måned = df.loc[df.ÅR==df.ÅR.max()].MÅNED.max()\n",
    "current_år_måned = '-'.join([str(current_år), str(current_måned)])\n",
    "\n",
    "df = df.loc[df[\"ÅR-MÅNED\"] != current_år_måned]\n",
    "df = df[df.KRAVTYPE != \"Revurdering\"]"
   ]
  },
  {
   "cell_type": "code",
   "execution_count": null,
   "id": "d82b3de1-d97c-4d55-b3b3-56382c10aef0",
   "metadata": {},
   "outputs": [],
   "source": [
    "df = df.merge(df.groupby(\"ÅR-MÅNED\", as_index=False).ANTALL.sum(),\n",
    "                left_on=\"ÅR-MÅNED\",\n",
    "                right_on=\"ÅR-MÅNED\",\n",
    "                suffixes=(\"\",\" TOTALT\")\n",
    "        )\n",
    "\n",
    "df[\"ANDEL\"] = df.ANTALL.divide(df[\"ANTALL TOTALT\"])"
   ]
  },
  {
   "cell_type": "code",
   "execution_count": null,
   "id": "977c9b99-66b9-4da0-aa07-3f7055aee745",
   "metadata": {},
   "outputs": [],
   "source": [
    "df_auto_tot = df.groupby([\"ÅR\", \"MÅNED\", \"ÅR-MÅNED\", \"AUTOMATISERING\", \"ANTALL TOTALT\"], as_index=False)[[\"ANTALL\", \"ANDEL\"]].sum()\n",
    "df_auto_tot = df_auto_tot[df_auto_tot.AUTOMATISERING == \"AUTO\"].reset_index(drop=True)\n",
    "df_auto_tot[\"ANDEL_PROSENT\"] = df_auto_tot[\"ANDEL\"].apply(lambda x: round(x*100, 0)).astype(int).astype(str) + '%'"
   ]
  },
  {
   "cell_type": "code",
   "execution_count": null,
   "id": "7bf7e2e8-ad39-4d06-8159-54aa95a45407",
   "metadata": {},
   "outputs": [],
   "source": [
    "df_auto_tot.head()"
   ]
  },
  {
   "cell_type": "code",
   "execution_count": null,
   "id": "044101bb-71e5-41b9-b198-9261359587a2",
   "metadata": {},
   "outputs": [],
   "source": [
    "df_plot = df_auto_tot.copy()\n",
    "\n",
    "fig = make_subplots(specs=[[{\"secondary_y\": True}]])\n",
    "fig.add_trace(go.Bar(x=df_plot[\"ÅR-MÅNED\"], y=df_plot[\"ANTALL TOTALT\"], marker_color=pastel[0], name=\"Antall saker\"), secondary_y=False)\n",
    "\n",
    "fig.add_trace(go.Scatter(x=df_plot[\"ÅR-MÅNED\"], y=df_plot[\"ANDEL\"], text=df_plot[\"ANDEL_PROSENT\"], mode='lines+markers+text', marker_color=\"black\", name=\"Automatisert\", textposition='top center'), secondary_y=True)\n",
    "fig.update_yaxes(title_text=\"Andel automatisert\", secondary_y=True, range=[-0.1,1.1], tickformat='.0%')\n",
    "fig.update_yaxes(title_text=\"Antall saker\", secondary_y=False)\n",
    "fig.layout.yaxis2.showgrid = False\n",
    "fig.update_layout(\n",
    "    autosize=False,\n",
    "    width=1300,\n",
    "    height=500,)"
   ]
  },
  {
   "cell_type": "markdown",
   "id": "3004e843-ec41-49a2-a9b4-31b0719b3d4f",
   "metadata": {},
   "source": [
    "# Automatiseringsgrad per stønad og kravtype"
   ]
  },
  {
   "cell_type": "code",
   "execution_count": null,
   "id": "0e04b10b-8ca7-44a3-a7b2-5871347da402",
   "metadata": {},
   "outputs": [],
   "source": [
    "df_all = df_v5.copy()\n",
    "df_all = df_all.loc[df_all[\"ÅR-MÅNED\"] != current_år_måned]\n",
    "\n",
    "# Alle interessante måneder:\n",
    "df_months = pd.DataFrame(list(np.unique(df_all[\"ÅR-MÅNED\"])), columns=[\"ÅR-MÅNED\"])\n",
    "df_months[['ÅR', 'MÅNED']] = df_months['ÅR-MÅNED'].str.split('-', 1, expand=True).astype(int)\n",
    "df_months = df_months.sort_values([\"ÅR\", \"MÅNED\"]).reset_index(drop=True)"
   ]
  },
  {
   "cell_type": "code",
   "execution_count": null,
   "id": "5a18804c-12f2-4c30-9dfa-77f8fce2c675",
   "metadata": {},
   "outputs": [],
   "source": [
    "df_all.head()"
   ]
  },
  {
   "cell_type": "markdown",
   "id": "34e6814d-3b86-4bf2-9a20-d83b7427eba9",
   "metadata": {},
   "source": [
    "## Alle stønadsområder\n",
    "- AFP\n",
    "- AFP Privat\n",
    "- Alderspensjon\n",
    "- Barnepensjon\n",
    "- Familiepleierytelse\n",
    "- Gammel yrkesskade\n",
    "- Generell\n",
    "- Gjenlevendeytelse\n",
    "- Krigspensjon\n",
    "- Omsorgsopptjening\n",
    "- Uføretrygd"
   ]
  },
  {
   "cell_type": "markdown",
   "id": "d4fd34e1-e3de-4e9d-9e73-53e14d86cdb3",
   "metadata": {},
   "source": [
    "### Mulige kravtyper\n",
    "- AFP etteroppgjør\n",
    "- Anke\n",
    "- Eksport\n",
    "- Endring uttaksgrad\n",
    "- Erstatning\n",
    "- Ettergivelse av gjeld\n",
    "- Førstegangsbehandling\n",
    "- Førstegangsbehandling Norge/utland\n",
    "- Førstegangsbehandling bosatt utland'\n",
    "- Førstegangsbehandling kun utland\n",
    "- Godskriving omsorgsopptjening\n",
    "- Hjelpeberegning ved overgang til uføretrygd\n",
    "- Inntektsendring\n",
    "- Klage\n",
    "- Mellombehandling\n",
    "- Omgjøring av tilbakekreving\n",
    "- Overføring omsorgsopptjening\n",
    "- ReguleringRevurdering\n",
    "- Saksomkostninger\n",
    "- Sluttbehandling Norge/utland\n",
    "- Sluttbehandling kun utland\n",
    "- Søknad om reduksjon av uføregrad\n",
    "- Søknad om ung ufør\n",
    "- Søknad om yrkesskade\n",
    "- Søknad om økning av uføregrad\n",
    "- Tilbakekreving\n",
    "- Uføretrygd etteroppgjør\n",
    "- Uføretrygd vurdering av etteroppgjør\n",
    "- Utsendelse til avtaleland"
   ]
  },
  {
   "cell_type": "code",
   "execution_count": null,
   "id": "9f19e7de-ceda-4676-b964-c80f8452b03d",
   "metadata": {},
   "outputs": [],
   "source": [
    "#stonader = np.unique(df_all.STØNADSOMRÅDE)\n",
    "stonader = [\"Alderspensjon\"]\n",
    "#kravtyper = \"All\"\n",
    "kravtyper = [\"Eksport\"]\n",
    "\n",
    "\n",
    "for stonad in stonader:\n",
    "    df_stonad = df_all[df_all.STØNADSOMRÅDE == stonad]\n",
    "    if kravtyper == \"All\":\n",
    "        loop = np.unique(df_stonad.KRAVTYPE)\n",
    "    else:\n",
    "        loop = kravtyper\n",
    "    for kravtype in loop:\n",
    "        df_kravtype = df_stonad.loc[df_stonad.KRAVTYPE == kravtype].groupby([\"ÅR\", \"MÅNED\", \"ÅR-MÅNED\", \"AUTOMATISERING\"], as_index=False).ANTALL.sum()\n",
    "        df_plot = df_kravtype.merge(df_kravtype.groupby(\"ÅR-MÅNED\", as_index=False).ANTALL.sum(),\n",
    "                left_on=\"ÅR-MÅNED\",\n",
    "                right_on=\"ÅR-MÅNED\",\n",
    "                suffixes=(\"\",\" TOTALT\")\n",
    "        )\n",
    "        df_plot_auto = df_plot.loc[df_plot.AUTOMATISERING == \"AUTO\"].sort_values([\"ÅR\", \"MÅNED\"]).reset_index(drop=True)\n",
    "        df_plot_man = df_plot.loc[df_plot.AUTOMATISERING == \"MAN\"].sort_values([\"ÅR\", \"MÅNED\"]).reset_index(drop=True)\n",
    "\n",
    "        df_plot_auto[\"ANDEL\"] = df_plot_auto.ANTALL.divide(df_plot_auto[\"ANTALL TOTALT\"])\n",
    "        df_plot_auto[\"ANDEL_PROSENT\"] = df_plot_auto[\"ANDEL\"].apply(lambda x: round(x*100, 0)).astype(int).astype(str) + '%'\n",
    "        \n",
    "        #df_plot_auto = df_plot_auto.set_index(\"ÅR-MÅNED\").reindex(df_months[\"ÅR-MÅNED\"], fill_value=0).reset_index()\n",
    "        \n",
    "        \n",
    "        fig = make_subplots(specs=[[{\"secondary_y\": True}]])\n",
    "        fig.add_trace(go.Bar(x=df_plot_auto[\"ÅR-MÅNED\"], y=df_plot_auto[\"ANTALL\"], marker_color=pastel[4], name=\"Automatisk\"), secondary_y=False)\n",
    "        fig.add_trace(go.Bar(x=df_plot_man[\"ÅR-MÅNED\"], y=df_plot_man[\"ANTALL\"], marker_color=pastel[2], name=\"Manuelt\"), secondary_y=False)\n",
    "\n",
    "        fig.add_trace(go.Scatter(x=df_plot_auto[\"ÅR-MÅNED\"], y=df_plot_auto[\"ANDEL\"], text=df_plot_auto[\"ANDEL_PROSENT\"], mode='lines+markers+text', marker_color=\"black\", name=\"Automatisert\", textposition='top center'), secondary_y=True)\n",
    "        fig.update_yaxes(title_text=\"Andel automatisert\", secondary_y=True, range=[-0.1,1.1], tickformat='.0%')\n",
    "        fig.update_yaxes(title_text=\"Antall saker\", secondary_y=False)\n",
    "        fig.layout.yaxis2.showgrid = False\n",
    "        fig.update_layout(\n",
    "            autosize=False,\n",
    "            width=1300,\n",
    "            height=500,\n",
    "            barmode=\"stack\")\n",
    "        print(stonad, \"-\", kravtype)\n",
    "        fig.show()"
   ]
  },
  {
   "cell_type": "code",
   "execution_count": null,
   "id": "32b0ac57-31a2-4173-a774-765cbf1549f0",
   "metadata": {},
   "outputs": [],
   "source": [
    "df_plot_man.head()"
   ]
  },
  {
   "cell_type": "code",
   "execution_count": null,
   "id": "bbb2af47-5b6d-4591-9dd1-dbb2f6d5ee0e",
   "metadata": {},
   "outputs": [],
   "source": [
    "df_rank = df_v5.copy().groupby([\"STØNADSOMRÅDE\", \"KRAVTYPE\"], as_index=False).ANTALL.sum().sort_values(\"ANTALL\", ascending=False).reset_index(drop=True)"
   ]
  },
  {
   "cell_type": "code",
   "execution_count": null,
   "id": "83dec404-3b2a-4eae-a180-4d0ab58da0d1",
   "metadata": {},
   "outputs": [],
   "source": [
    "df_rank.head(10)"
   ]
  },
  {
   "cell_type": "code",
   "execution_count": null,
   "id": "3b9e5988-842e-4f52-ae4f-8edad1ef6cb4",
   "metadata": {},
   "outputs": [],
   "source": [
    "n_ytelser = 20\n",
    "\n",
    "for i in range(n_ytelser):\n",
    "    stonad = df_rank.iloc[i,0]\n",
    "    kravtype = df_rank.iloc[i,1]\n",
    "\n",
    "    df_stonad = df_all[df_all.STØNADSOMRÅDE == stonad]\n",
    "    df_kravtype = df_stonad.loc[df_stonad.KRAVTYPE == kravtype].groupby([\"ÅR\", \"MÅNED\", \"ÅR-MÅNED\", \"AUTOMATISERING\"], as_index=False).ANTALL.sum()\n",
    "    \n",
    "    df_plot = df_kravtype.merge(df_kravtype.groupby(\"ÅR-MÅNED\", as_index=False).ANTALL.sum(),\n",
    "            left_on=\"ÅR-MÅNED\",\n",
    "            right_on=\"ÅR-MÅNED\",\n",
    "            suffixes=(\"\",\" TOTALT\")\n",
    "    )\n",
    "    df_plot_auto = df_plot.loc[df_plot.AUTOMATISERING == \"AUTO\"].sort_values([\"ÅR\", \"MÅNED\"]).reset_index(drop=True)\n",
    "    df_plot_man = df_plot.loc[df_plot.AUTOMATISERING == \"MAN\"].sort_values([\"ÅR\", \"MÅNED\"]).reset_index(drop=True)\n",
    "\n",
    "    df_plot_auto[\"ANDEL\"] = df_plot_auto.ANTALL.divide(df_plot_auto[\"ANTALL TOTALT\"])\n",
    "    df_plot_auto[\"ANDEL_PROSENT\"] = df_plot_auto[\"ANDEL\"].apply(lambda x: round(x*100, 0)).astype(int).astype(str) + '%'\n",
    "\n",
    "    df_plot_auto = df_plot_auto.set_index(\"ÅR-MÅNED\").reindex(df_months[\"ÅR-MÅNED\"], fill_value=0).reset_index()\n",
    "\n",
    "\n",
    "    fig = make_subplots(specs=[[{\"secondary_y\": True}]])\n",
    "    fig.add_trace(go.Bar(x=df_plot_auto[\"ÅR-MÅNED\"], y=df_plot_auto[\"ANTALL\"], marker_color=pastel[4], name=\"Automatisk\"), secondary_y=False)\n",
    "    fig.add_trace(go.Bar(x=df_plot_man[\"ÅR-MÅNED\"], y=df_plot_man[\"ANTALL\"], marker_color=pastel[2], name=\"Manuelt\"), secondary_y=False)\n",
    "\n",
    "    fig.add_trace(go.Scatter(x=df_plot_auto[\"ÅR-MÅNED\"], y=df_plot_auto[\"ANDEL\"], text=df_plot_auto[\"ANDEL_PROSENT\"], mode='lines+markers+text', marker_color=\"black\", name=\"Automatisert\", textposition='top center'), secondary_y=True)\n",
    "    fig.update_yaxes(title_text=\"Andel automatisert\", secondary_y=True, range=[-0.1,1.1], tickformat='.0%')\n",
    "    fig.update_yaxes(title_text=\"Antall saker\", secondary_y=False)\n",
    "    fig.layout.yaxis2.showgrid = False\n",
    "    fig.update_layout(\n",
    "        autosize=False,\n",
    "        width=1300,\n",
    "        height=500,\n",
    "        barmode=\"stack\")\n",
    "    print(stonad, \"-\", kravtype)\n",
    "    fig.show()"
   ]
  }
 ],
 "metadata": {
  "environment": {
   "kernel": "python3",
   "name": "common-cpu.m98",
   "type": "gcloud",
   "uri": "gcr.io/deeplearning-platform-release/base-cpu:m98"
  },
  "kernelspec": {
   "display_name": "Python 3",
   "language": "python",
   "name": "python3"
  },
  "language_info": {
   "codemirror_mode": {
    "name": "ipython",
    "version": 3
   },
   "file_extension": ".py",
   "mimetype": "text/x-python",
   "name": "python",
   "nbconvert_exporter": "python",
   "pygments_lexer": "ipython3",
   "version": "3.7.12"
  }
 },
 "nbformat": 4,
 "nbformat_minor": 5
}
