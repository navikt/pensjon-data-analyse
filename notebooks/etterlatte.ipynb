{
 "cells": [
  {
   "cell_type": "code",
   "execution_count": null,
   "id": "a9233e17-8842-4f51-9aa8-360e5f68ce69",
   "metadata": {
    "tags": []
   },
   "outputs": [],
   "source": [
    "import cx_Oracle\n",
    "import datastory\n",
    "import pandas as pd\n",
    "import numpy as np\n",
    "import sys\n",
    "import os\n",
    "import importlib\n",
    "import plotly.express as px\n",
    "import plotly.graph_objects as go\n",
    "import plotly.io as pio\n",
    "\n",
    "\n",
    "from google.cloud import secretmanager\n",
    "\n",
    "sys.path.append('../lib')\n",
    "import pandas_utils\n",
    "\n",
    "importlib.reload(pandas_utils)"
   ]
  },
  {
   "cell_type": "code",
   "execution_count": null,
   "id": "9d55a7ed-dbe9-43b5-b9bc-de38144e2fb8",
   "metadata": {},
   "outputs": [],
   "source": [
    "import dataverk_tools.themes.navdesign as theme\n",
    "import dataverk_tools.themes.navdesign.plotly_template as template\n",
    "pio.templates.default = template"
   ]
  },
  {
   "cell_type": "code",
   "execution_count": null,
   "id": "f131fd2d-de43-495a-88f1-25cb628609a9",
   "metadata": {},
   "outputs": [],
   "source": [
    "secrets = secretmanager.SecretManagerServiceClient()\n",
    "resource_name = f\"projects/knada-gcp/secrets/vebjorn-rekkebo-bac1/versions/latest\"\n",
    "secret = secrets.access_secret_version(name=resource_name)\n",
    "secrets = dict([line.split(\":\") for line in secret.payload.data.decode('UTF-8').splitlines()])\n",
    "\n",
    "ORACLE_HOST = '10.53.136.15'\n",
    "ORACLE_PORT = '1521'\n",
    "ORACLE_SERVICE = 'pen'"
   ]
  },
  {
   "cell_type": "code",
   "execution_count": null,
   "id": "6a019bfe-df41-464b-8c9a-9f745253aed3",
   "metadata": {},
   "outputs": [],
   "source": [
    "dsnStr = cx_Oracle.makedsn(ORACLE_HOST, ORACLE_PORT, service_name=ORACLE_SERVICE)"
   ]
  },
  {
   "cell_type": "markdown",
   "id": "4ae8bc75-a9d4-48ba-96b8-690a8f874230",
   "metadata": {},
   "source": [
    "# Antall krav, førstegangsbehandling innland/utland"
   ]
  },
  {
   "cell_type": "code",
   "execution_count": null,
   "id": "1ccc9d97-0075-4c6a-814f-fa4648e1e4be",
   "metadata": {},
   "outputs": [],
   "source": [
    "con = cx_Oracle.connect(user=secrets[\"PEN_USER\"], password=secrets[\"PEN_PASSWORD\"],\n",
    "                               dsn=dsnStr)\n",
    "\n",
    "df_krav = pandas_utils.pandas_from_sql('../sql/kravcount.sql', con)\n",
    "con.close()"
   ]
  },
  {
   "cell_type": "code",
   "execution_count": null,
   "id": "14532fc1-c58e-4ecc-a3e9-2176f1988fd6",
   "metadata": {},
   "outputs": [],
   "source": [
    "df_krav.head()"
   ]
  },
  {
   "cell_type": "code",
   "execution_count": null,
   "id": "f68155aa-af15-4d13-87f8-51e68bafa3fe",
   "metadata": {},
   "outputs": [],
   "source": [
    "df = df_krav.copy()\n",
    "df[\"MANED\"] = df.MANED.astype('string').apply(lambda x: pandas_utils.add_zero_to_mnd(x))\n",
    "df[\"AR_MANED\"] = df.AR_MANED.apply(lambda x: pandas_utils.add_zero_to_aar_mnd(x))"
   ]
  },
  {
   "cell_type": "code",
   "execution_count": null,
   "id": "6654434b-4e9c-4d8e-ae08-768120b15939",
   "metadata": {},
   "outputs": [],
   "source": [
    "df.head()"
   ]
  },
  {
   "cell_type": "code",
   "execution_count": null,
   "id": "6c934449-62e4-4e3c-a736-b2a7f0e74a15",
   "metadata": {},
   "outputs": [],
   "source": [
    "figs = {}"
   ]
  },
  {
   "cell_type": "code",
   "execution_count": null,
   "id": "a3651a84-32d7-48b4-9d72-29cf1d12f871",
   "metadata": {},
   "outputs": [],
   "source": [
    "figs[\"gjenlev_mmd\"] = px.bar(df[df.STONAD == \"Gjenlevendeytelse\"], \"AR_MANED\", \"ANTALL\", color=\"KRAVTYPE\", labels={\"AR_MANED\": \"Måned\", \"ANTALL\":\"Antall\", \"KRAVTYPE\": \"Kravtype\"})"
   ]
  },
  {
   "cell_type": "code",
   "execution_count": null,
   "id": "95e3e36a-aa6a-49b5-a7aa-9a564b8dfe4b",
   "metadata": {},
   "outputs": [],
   "source": [
    "figs[\"barnep_mmd\"] = px.bar(df[df.STONAD == \"Barnepensjon\"], \"AR_MANED\", \"ANTALL\", color=\"KRAVTYPE\", labels={\"AR_MANED\": \"Måned\", \"ANTALL\":\"Antall\", \"KRAVTYPE\": \"Kravtype\"})"
   ]
  },
  {
   "cell_type": "code",
   "execution_count": null,
   "id": "3612c293-d28f-4e28-8768-931865a64f82",
   "metadata": {},
   "outputs": [],
   "source": [
    "df_ar = (df\n",
    " .groupby([\"AR\", \"STONAD\", \"KRAVTYPE\"], as_index=False)\n",
    " .ANTALL\n",
    " .sum()\n",
    ")\n",
    "df_ar[\"AR\"] = df_ar[\"AR\"].apply(str)"
   ]
  },
  {
   "cell_type": "code",
   "execution_count": null,
   "id": "92d6bf78-5d33-482b-9407-f6901f173bea",
   "metadata": {},
   "outputs": [],
   "source": [
    "figs[\"barnep_ar\"] = px.bar(df_ar[df_ar.STONAD == \"Barnepensjon\"], \"AR\", \"ANTALL\", color=\"KRAVTYPE\", labels={\"AR\": \"År\", \"ANTALL\":\"Antall\", \"KRAVTYPE\": \"Kravtype\"})"
   ]
  },
  {
   "cell_type": "code",
   "execution_count": null,
   "id": "5933d702-1463-4279-bf40-8b3502ff05e4",
   "metadata": {},
   "outputs": [],
   "source": [
    "figs[\"gjenlev_ar\"] = px.bar(df_plot[df_plot.STONAD == \"Gjenlevendeytelse\"], \"AR\", \"ANTALL\", color=\"KRAVTYPE\", labels={\"AR\": \"År\", \"ANTALL\":\"Antall\", \"KRAVTYPE\": \"Kravtype\"})"
   ]
  },
  {
   "cell_type": "markdown",
   "id": "00b80974-9dc5-46ba-914c-cdba62e7f03d",
   "metadata": {},
   "source": [
    "# Ledetid"
   ]
  },
  {
   "cell_type": "code",
   "execution_count": null,
   "id": "6072cd09-72cc-487c-acfd-b5889c3b9a7b",
   "metadata": {},
   "outputs": [],
   "source": [
    "con = cx_Oracle.connect(user=secrets[\"PEN_USER\"], password=secrets[\"PEN_PASSWORD\"],\n",
    "                               dsn=dsnStr)\n",
    "\n",
    "df_ledetid = pandas_utils.pandas_from_sql('../sql/ledetid.sql', con)\n",
    "con.close()"
   ]
  },
  {
   "cell_type": "code",
   "execution_count": null,
   "id": "77f9dd6b-874e-44b9-b17b-eb9dd0dfc06a",
   "metadata": {},
   "outputs": [],
   "source": [
    "df = df_ledetid.copy()"
   ]
  },
  {
   "cell_type": "code",
   "execution_count": null,
   "id": "202afb2e-1c7f-410a-a2f1-b56289ddda7d",
   "metadata": {},
   "outputs": [],
   "source": [
    "df.head()"
   ]
  },
  {
   "cell_type": "code",
   "execution_count": null,
   "id": "85c2ba21-5e92-4aae-a048-c4cdbc8ff100",
   "metadata": {},
   "outputs": [],
   "source": [
    "labels = {\n",
    "        \"GJ_DAGER\": \"Gjennomsnittlig antall dager\",\n",
    "        \"AR\": \"År\",\n",
    "        \"STOENAD\": \"Stønad\",\n",
    "        \"KRAVTYPE\": \"Kravtype\",\n",
    "        \"MED_DAGER\": \"Median av antall dager\",\n",
    "        \"ANTALL\": \"Antall krav\"\n",
    "           }"
   ]
  },
  {
   "cell_type": "code",
   "execution_count": null,
   "id": "2fc0a424-1f83-42ea-af2b-842d31b6560f",
   "metadata": {},
   "outputs": [],
   "source": [
    "df_bp = df[df.STOENAD == \"Barnepensjon\"]\n",
    "df_gjenlev = df[df.STOENAD == \"Gjenlevendeytelse\"]"
   ]
  },
  {
   "cell_type": "code",
   "execution_count": null,
   "id": "1cd8689f-a1f6-4d5a-ae08-6372d3bd8177",
   "metadata": {},
   "outputs": [],
   "source": [
    "figs[\"barnep_gj_dager\"] = px.bar(\n",
    "    df_bp[df_bp.ANTALL >= 5], \n",
    "    \"AR\", \n",
    "    \"GJ_DAGER\", \n",
    "    color=\"KRAVTYPE\", \n",
    "    barmode=\"group\",\n",
    "    hover_data=df_bp.columns[[2,3,4,5]],\n",
    "    labels=labels\n",
    "    )\n",
    "\n",
    "figs[\"barnep_gj_dager\"]"
   ]
  },
  {
   "cell_type": "code",
   "execution_count": null,
   "id": "e62d7c97-f7f9-4fb2-bba0-b16b74c11964",
   "metadata": {},
   "outputs": [],
   "source": [
    "figs[\"barnep_med_dager\"] = px.bar(\n",
    "    df_bp[df_bp.ANTALL >= 5], \n",
    "    \"AR\", \n",
    "    \"MED_DAGER\", \n",
    "    color=\"KRAVTYPE\", \n",
    "    barmode=\"group\", \n",
    "    hover_data=df_bp.columns[[2,3,4,5]],\n",
    "    labels=labels\n",
    "    )"
   ]
  },
  {
   "cell_type": "code",
   "execution_count": null,
   "id": "c6762e30-bbac-4e5d-9c05-3f9c95ef5f5a",
   "metadata": {},
   "outputs": [],
   "source": [
    "figs[\"gjenlev_gj_dager\"] = px.bar(\n",
    "    df_gjenlev[df_gjenlev.ANTALL >= 5], \n",
    "    \"AR\", \n",
    "    \"GJ_DAGER\", \n",
    "    color=\"KRAVTYPE\", \n",
    "    barmode=\"group\", \n",
    "    hover_data=df_gjenlev.columns[[2,3,4,5]],\n",
    "    labels=labels\n",
    "    )"
   ]
  },
  {
   "cell_type": "code",
   "execution_count": null,
   "id": "6f128880-f319-4b83-81ab-5be5f6299a50",
   "metadata": {},
   "outputs": [],
   "source": [
    "figs[\"gjenlev_med_dager\"] = px.bar(\n",
    "    df_gjenlev[df_gjenlev.ANTALL >= 5], \n",
    "    \"AR\", \n",
    "    \"MED_DAGER\", \n",
    "    color=\"KRAVTYPE\", \n",
    "    barmode=\"group\", \n",
    "    hover_data=df_gjenlev.columns[[2,3,4,5]],\n",
    "    labels=labels\n",
    "    )"
   ]
  },
  {
   "cell_type": "code",
   "execution_count": null,
   "id": "24e62604-88d5-44a6-9751-df5363df8976",
   "metadata": {},
   "outputs": [],
   "source": [
    "story = datastory.DataStory(\"Gjenlevendepensjon og barnepensjon\")\n",
    "\n",
    "story.header(\"Antall opprettede krav fordelt på innland/utland\", level=1)\n",
    "\n",
    "story.header(\"Gjenlevendepensjon\", level=2)\n",
    "story.header(\"Førstegangsbehandling gjenlevendepensjon per måned\", level=3)\n",
    "story.plotly(figs[\"gjenlev_mmd\"].to_json())\n",
    "story.header(\"Førstegangsbehandling gjenlevendepensjon per år\", level=3)\n",
    "story.plotly(figs[\"gjenlev_ar\"].to_json())\n",
    "\n",
    "story.header(\"Barnepensjon\", level=2)\n",
    "story.header(\"Førstegangsbehandling barnepensjon per måned\", level=3)\n",
    "story.plotly(figs[\"barnep_mmd\"].to_json())\n",
    "story.header(\"Førstegangsbehandling barnepensjon per år\", level=3)\n",
    "story.plotly(figs[\"barnep_ar\"].to_json())\n",
    "\n",
    "story.header(\"Tid fra mottatt krav til iverksatt vedtak\")\n",
    "story.header(\"Gjenlevendepensjon\", level=2)\n",
    "story.plotly(figs[\"gjenlev_gj_dager\"].to_json())\n",
    "story.plotly(figs[\"gjenlev_med_dager\"].to_json())\n",
    "\n",
    "story.header(\"Barnepensjon\", level=2)\n",
    "story.plotly(figs[\"barnep_gj_dager\"].to_json())\n",
    "story.plotly(figs[\"barnep_med_dager\"].to_json())"
   ]
  },
  {
   "cell_type": "code",
   "execution_count": null,
   "id": "9e673e8a-dcef-439d-87fd-1c49ec9b4916",
   "metadata": {},
   "outputs": [],
   "source": [
    "story.publish(url=\"https://nada.intern.nav.no/api\")"
   ]
  },
  {
   "cell_type": "code",
   "execution_count": null,
   "id": "c970e74c-c973-4733-b439-8ab90c73bb02",
   "metadata": {},
   "outputs": [],
   "source": []
  }
 ],
 "metadata": {
  "environment": {
   "kernel": "python3",
   "name": "common-cpu.m97",
   "type": "gcloud",
   "uri": "gcr.io/deeplearning-platform-release/base-cpu:m97"
  },
  "kernelspec": {
   "display_name": "Python 3",
   "language": "python",
   "name": "python3"
  },
  "language_info": {
   "codemirror_mode": {
    "name": "ipython",
    "version": 3
   },
   "file_extension": ".py",
   "mimetype": "text/x-python",
   "name": "python",
   "nbconvert_exporter": "python",
   "pygments_lexer": "ipython3",
   "version": "3.7.12"
  }
 },
 "nbformat": 4,
 "nbformat_minor": 5
}
