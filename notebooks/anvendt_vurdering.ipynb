{
 "cells": [
  {
   "cell_type": "code",
   "execution_count": null,
   "metadata": {},
   "outputs": [],
   "source": [
    "import pandas as pd\n",
    "import sys\n",
    "import plotly.express as px\n",
    "\n",
    "from datastory import DataStory\n",
    "\n",
    "import importlib\n",
    "sys.path.append('../lib')\n",
    "import utils, pesys_utils, pandas_utils\n",
    "importlib.reload(utils)\n",
    "importlib.reload(pesys_utils)\n",
    "importlib.reload(pandas_utils)"
   ]
  },
  {
   "cell_type": "code",
   "execution_count": null,
   "metadata": {},
   "outputs": [],
   "source": [
    "utils.set_secrets_as_env(split_on=':', secret_name=\"projects/193123067890/secrets/vebjorn-rekkebo/versions/latest\")"
   ]
  },
  {
   "cell_type": "code",
   "execution_count": null,
   "metadata": {},
   "outputs": [],
   "source": [
    "con = pesys_utils.open_pen_connection()\n",
    "df_anvendt_vurdering = pandas_utils.pandas_from_sql(sqlfile='../sql/anvendt_vurdering.sql', con=con, lowercase=True)\n",
    "con.close()"
   ]
  },
  {
   "cell_type": "code",
   "execution_count": null,
   "metadata": {},
   "outputs": [],
   "source": [
    "df_anvendt_vurdering.head()"
   ]
  },
  {
   "cell_type": "code",
   "execution_count": null,
   "metadata": {},
   "outputs": [],
   "source": [
    "px.bar(df_anvendt_vurdering, x='aar', y='antall', color='anvendt_vurdering')"
   ]
  }
 ],
 "metadata": {
  "kernelspec": {
   "display_name": "venv",
   "language": "python",
   "name": "python3"
  },
  "language_info": {
   "codemirror_mode": {
    "name": "ipython",
    "version": 3
   },
   "file_extension": ".py",
   "mimetype": "text/x-python",
   "name": "python",
   "nbconvert_exporter": "python",
   "pygments_lexer": "ipython3",
   "version": "3.9.2"
  }
 },
 "nbformat": 4,
 "nbformat_minor": 2
}
