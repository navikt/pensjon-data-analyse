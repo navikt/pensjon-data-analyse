{
 "cells": [
  {
   "cell_type": "code",
   "execution_count": 9,
   "metadata": {},
   "outputs": [
    {
     "name": "stdout",
     "output_type": "stream",
     "text": [
      "200\n"
     ]
    }
   ],
   "source": [
    "import os\n",
    "import requests\n",
    "import sys\n",
    "\n",
    "sys.path.append('../lib')\n",
    "from utils import set_secrets_as_env\n",
    "\n",
    "set_secrets_as_env(split_on=':', secret_name=\"projects/knada-gcp/secrets/vebjorn-rekkebo/versions/latest\")\n",
    "\n",
    "# A list of file paths to be uploaded\n",
    "files_to_upload = [\n",
    "    \"glemte_krav.html\"\n",
    "]\n",
    "\n",
    "ENV = \"datamarkedsplassen.intern.nav.no\"\n",
    "QUARTO_ID = \"2cc73eb9-36b4-47d4-a719-918236de37e6\"\n",
    "TEAM_TOKEN = os.environ[\"PENSAK_NADA_TOKEN\"]\n",
    "\n",
    "multipart_form_data = {}\n",
    "for file_path in files_to_upload:\n",
    "    file_name = os.path.basename(file_path)\n",
    "    with open(file_path, 'rb') as file:\n",
    "        # Read the file contents and store them in the dictionary\n",
    "        file_contents = file.read()\n",
    "        multipart_form_data[file_path] = (file_name, file_contents)\n",
    "\n",
    "# Send the request with all files in the dictionary\n",
    "response = requests.put( f\"https://{ENV}/quarto/update/{QUARTO_ID}\", \n",
    "                        headers={\"Authorization\": f\"Bearer {TEAM_TOKEN}\"},\n",
    "                        files=multipart_form_data)\n",
    "    \n",
    "print(response.status_code)"
   ]
  }
 ],
 "metadata": {
  "kernelspec": {
   "display_name": "venv",
   "language": "python",
   "name": "python3"
  },
  "language_info": {
   "codemirror_mode": {
    "name": "ipython",
    "version": 3
   },
   "file_extension": ".py",
   "mimetype": "text/x-python",
   "name": "python",
   "nbconvert_exporter": "python",
   "pygments_lexer": "ipython3",
   "version": "3.9.2"
  },
  "orig_nbformat": 4
 },
 "nbformat": 4,
 "nbformat_minor": 2
}
