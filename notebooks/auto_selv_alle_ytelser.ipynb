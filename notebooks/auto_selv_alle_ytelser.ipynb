{
 "cells": [
  {
   "cell_type": "code",
   "execution_count": null,
   "id": "736a4394-1a14-48d3-9eeb-9d853eacffce",
   "metadata": {},
   "outputs": [],
   "source": [
    "import sys\n",
    "import importlib\n",
    "import pandas as pd\n",
    "sys.path.append('../lib')\n",
    "\n",
    "import autograd_convenience as co\n",
    "import autograd_plot as plots\n",
    "import story\n",
    "\n",
    "importlib.reload(co)\n",
    "importlib.reload(plots)\n",
    "importlib.reload(story)"
   ]
  },
  {
   "cell_type": "code",
   "execution_count": null,
   "id": "cdc9b6fc-0843-4e48-8a9f-e3eb682092dd",
   "metadata": {},
   "outputs": [],
   "source": [
    "df_file = pd.read_csv(\"../data/Totalrapport_02232022.csv\").drop('Unnamed: 8', axis=1)"
   ]
  },
  {
   "cell_type": "code",
   "execution_count": null,
   "id": "8ef64116-456b-48f1-b243-5be6e667c254",
   "metadata": {},
   "outputs": [],
   "source": [
    "ytelse = \"Uføretrygd\"\n",
    "df = co.prepare_df(df_file, ytelse)"
   ]
  },
  {
   "cell_type": "code",
   "execution_count": null,
   "id": "0d70ed44-765b-4c94-9f98-49660386ed36",
   "metadata": {},
   "outputs": [],
   "source": [
    "figs = {}"
   ]
  },
  {
   "cell_type": "code",
   "execution_count": null,
   "id": "a319a69f-e35c-4f21-a82d-c74e97cf64ad",
   "metadata": {},
   "outputs": [],
   "source": [
    "autogroups = [\"År-måned\", \"Automatiseringsgrad\"]\n",
    "selvgroups = [\"År-måned\", \"Selvbetjening\"]\n",
    "\n",
    "# Filtre som funker på df\n",
    "_selvbetjent = df[\"Selvbetjening\"] == \"Selvbetjent\"\n",
    "_innland = df[\"Utenlandstilsnitt\"] == \"Nasjonal\"\n",
    "_auto = df[\"Automatiseringsgrad\"] == \"Automatisk\"\n",
    "_hardcoded = df[\"Andel\"] < 2 #Hardkodet alle rader"
   ]
  },
  {
   "cell_type": "code",
   "execution_count": null,
   "id": "0701cfa8-bc8b-4e02-a502-37d6f23b03b3",
   "metadata": {},
   "outputs": [],
   "source": [
    "figs[\"auto_total\"] = plots.plot_automatisering1(co.sharpen_df(df, _hardcoded, autogroups))"
   ]
  },
  {
   "cell_type": "code",
   "execution_count": null,
   "id": "ecefdb3f-5d53-4acf-b9ed-11c8c6488ca5",
   "metadata": {},
   "outputs": [],
   "source": [
    "auto_selv_list = [[co.sharpen_df(df, _selvbetjent, autogroups), co.sharpen_df(df, ~_selvbetjent, autogroups)]]\n",
    "titles = ['Selvbetjent', 'Ikke selvbetjent']\n",
    "figs[\"auto_selv\"] = plots.plot_automatisering_subplots(auto_selv_list, titles)"
   ]
  },
  {
   "cell_type": "code",
   "execution_count": null,
   "id": "d8db6fbd-08c9-4206-805c-6882919100bf",
   "metadata": {},
   "outputs": [],
   "source": [
    "auto_utland_list = [[co.sharpen_df(df, _innland, autogroups), co.sharpen_df(df, ~_innland, autogroups)]]\n",
    "titles = [\"Innland\", \"Utland\"]\n",
    "figs[\"auto_utland\"] = plots.plot_automatisering_subplots(auto_utland_list, titles)"
   ]
  },
  {
   "cell_type": "code",
   "execution_count": null,
   "id": "cbe069ce-e8a0-45ef-84cf-c8c49a978660",
   "metadata": {},
   "outputs": [],
   "source": [
    "figs[\"selv_total\"] = plots.plot_selvbetjening1(co.sharpen_df(df, _hardcoded, selvgroups))"
   ]
  },
  {
   "cell_type": "code",
   "execution_count": null,
   "id": "a7bba566-0245-4817-bfb7-f1586e831f7f",
   "metadata": {},
   "outputs": [],
   "source": [
    "selv_utland_list = [[co.sharpen_df(df, _innland, selvgroups), co.sharpen_df(df, ~_innland, selvgroups)]]\n",
    "titles = [\"Innland\", \"Utland\"]\n",
    "figs[\"selv_utland\"] = plots.plot_selvbetjening_subplots(selv_utland_list, titles)"
   ]
  },
  {
   "cell_type": "code",
   "execution_count": null,
   "id": "c976dffa-5fdb-45e5-b4bd-aba2fbffa35e",
   "metadata": {},
   "outputs": [],
   "source": [
    "for key, value in figs.items():\n",
    "    print(key)\n",
    "    value.show()"
   ]
  },
  {
   "cell_type": "code",
   "execution_count": null,
   "id": "b2270f4a-6bd6-4908-b63d-a6bde8205f07",
   "metadata": {},
   "outputs": [],
   "source": [
    "ds = story.make_datastory(ytelse, figs)"
   ]
  },
  {
   "cell_type": "code",
   "execution_count": null,
   "id": "89288b32-2673-46f8-89fb-6b28e6d24a57",
   "metadata": {},
   "outputs": [],
   "source": [
    "ds.publish(url=\"https://nada.ekstern.dev.nav.no/api\") #dev\n",
    "#ds.publish(url=\"https://nada.intern.nav.no/api\") #prod\n",
    "#ds.update(url=\"https://nada.ekstern.dev.nav.no/api\", token='1f79f29a-b9a6-48d4-8514-96a2c45ef319')"
   ]
  }
 ],
 "metadata": {
  "environment": {
   "kernel": "python3",
   "name": "common-cpu.m87",
   "type": "gcloud",
   "uri": "gcr.io/deeplearning-platform-release/base-cpu:m87"
  },
  "kernelspec": {
   "display_name": "Python 3",
   "language": "python",
   "name": "python3"
  },
  "language_info": {
   "codemirror_mode": {
    "name": "ipython",
    "version": 3
   },
   "file_extension": ".py",
   "mimetype": "text/x-python",
   "name": "python",
   "nbconvert_exporter": "python",
   "pygments_lexer": "ipython3",
   "version": "3.7.12"
  }
 },
 "nbformat": 4,
 "nbformat_minor": 5
}
