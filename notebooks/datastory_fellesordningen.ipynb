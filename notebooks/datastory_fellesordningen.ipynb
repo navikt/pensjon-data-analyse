{
 "cells": [
  {
   "attachments": {},
   "cell_type": "markdown",
   "id": "c8904825-1a72-447d-a851-4f268fed92db",
   "metadata": {},
   "source": [
    "# Fellesordning målinger:\n",
    "- Hvor mange saker går til behandling av FO = antall AFP privat per dag/uke/mnd?\n",
    "- Hvor mange dager må disse sakene vente på svar gjennomsnitt?\n",
    "- Hvor mange av disse sakene får resultat fra FO med de forskjellige typene: INNV, AVSLÅTT, TRUKKET, FEILREGISTRERT, Ingen resultat mottatt\n",
    "- Antall kall til forskjellige tjenester? (TPEN482, TPEN124, TPEN2022) Antall feil ?\n",
    "- Antall saker til manuell behandling vs automatisk behandling ( =PPEN006)\n",
    "\n",
    "## Spørsmål:\n",
    "- Hva betyr opprettet_av i T_AFP_PRIV_RES_FK, kommer ikke alt fra srvElsam_FK?"
   ]
  },
  {
   "cell_type": "code",
   "execution_count": null,
   "id": "f0d28ff1-7066-45f0-abe9-2d052964a00a",
   "metadata": {},
   "outputs": [],
   "source": [
    "import pandas as pd\n",
    "import numpy as np\n",
    "import os\n",
    "import sys\n",
    "import importlib\n",
    "import plotly.express as px\n",
    "from datetime import datetime\n",
    "from datastory import DataStory\n",
    "\n",
    "sys.path.append('/home/jupyter/pensjon-data-analyse/lib')\n",
    "import utils\n",
    "import pandas_utils\n",
    "import pesys_utils\n",
    "\n",
    "importlib.reload(utils)\n",
    "importlib.reload(pandas_utils)\n",
    "importlib.reload(pesys_utils)\n",
    "\n",
    "utils.set_secrets_as_env()"
   ]
  },
  {
   "cell_type": "code",
   "execution_count": null,
   "id": "b8c93a7b-29ad-40c7-8e26-9496eb49ac51",
   "metadata": {},
   "outputs": [],
   "source": [
    "con = pesys_utils.open_pen_connection()\n",
    "df_afp_priv_res = pandas_utils.pandas_from_sql('/home/jupyter/pensjon-data-analyse/sql/afp_priv_res.sql', con, tuning=1000)\n",
    "con.close()"
   ]
  },
  {
   "cell_type": "code",
   "execution_count": null,
   "id": "58660890-811f-4e9e-a4ef-3a5591067c37",
   "metadata": {},
   "outputs": [],
   "source": [
    "df_afp_priv_res.columns = map(str.lower, df_afp_priv_res.columns)\n",
    "df = df_afp_priv_res.copy()\n",
    "\n",
    "df = df.dropna()\n",
    "df[\"vedtaksdato\"] = pd.to_datetime(df.vedtaksdato)\n",
    "\n",
    "df.set_index('vedtaksdato',inplace=True)\n",
    "\n",
    "df['year']=df.index.year\n",
    "df['month']=df.index.month\n",
    "df['day']=df.index.day\n",
    "\n",
    "df = df[df.year >= 2022]"
   ]
  },
  {
   "cell_type": "code",
   "execution_count": null,
   "id": "295f19eb-8ae1-4bbb-b843-e10627f00ff3",
   "metadata": {},
   "outputs": [],
   "source": [
    "figs = {}\n",
    "figs[\"daglige_vedtak\"] = px.bar(df, x=df.index, y=\"antall\", color=\"resultat\", color_discrete_map={\"INNVILGET\": 'green', \"FEILREG\": 'orange', \"AVSLATT\": 'red', \"TRUKKET\": 'purple'})"
   ]
  },
  {
   "cell_type": "code",
   "execution_count": null,
   "id": "042e17a6-68e1-4080-b38d-1b8ebec854eb",
   "metadata": {},
   "outputs": [],
   "source": [
    "df_mnd = df.groupby(\"resultat\")[[\"antall\"]].resample('MS').sum().reset_index()\n",
    "\n",
    "figs[\"månedlige_vedtak\"] = px.bar(df_mnd, df_mnd.vedtaksdato, \"antall\", color=\"resultat\", color_discrete_map={\"INNVILGET\": 'green', \"FEILREG\": 'orange', \"AVSLATT\": 'red', \"TRUKKET\": 'purple'})"
   ]
  },
  {
   "attachments": {},
   "cell_type": "markdown",
   "id": "8c1571b1-d24b-4816-b55b-2e89a5f03c48",
   "metadata": {},
   "source": [
    "# Ledetid"
   ]
  },
  {
   "cell_type": "code",
   "execution_count": null,
   "id": "ec21079a-a921-4345-bf1e-4181b50ccf91",
   "metadata": {},
   "outputs": [],
   "source": [
    "con = pesys_utils.open_pen_connection()\n",
    "df_afp_priv_ledetid = pandas_utils.pandas_from_sql('/home/jupyter/pensjon-data-analyse/sql/afp_priv_ledetid.sql', con, tuning=100000)\n",
    "con.close()"
   ]
  },
  {
   "cell_type": "code",
   "execution_count": null,
   "id": "38ff347f-7755-463d-a007-afb84bac3c49",
   "metadata": {},
   "outputs": [],
   "source": [
    "df_afp_priv_ledetid.columns = map(str.lower, df_afp_priv_ledetid.columns)\n",
    "df = df_afp_priv_ledetid.copy().dropna()\n",
    "df[\"vedtaksdato\"] = pd.to_datetime(df.vedtaksdato)\n",
    "df = df[df.vedtaksdato.dt.year >= 2022]\n",
    "df.head()"
   ]
  },
  {
   "cell_type": "code",
   "execution_count": null,
   "id": "e8b5c447-5c9b-497b-b81e-3d94700f8442",
   "metadata": {},
   "outputs": [],
   "source": [
    "px.histogram(df.dager)"
   ]
  },
  {
   "cell_type": "code",
   "execution_count": null,
   "id": "fc2fd37c-1797-4002-a892-d927fa315fcb",
   "metadata": {},
   "outputs": [],
   "source": [
    "df[df.dager < 0].reset_index()"
   ]
  },
  {
   "attachments": {},
   "cell_type": "markdown",
   "id": "4bf8ecd3-d312-4b51-a9d3-83da2246d17c",
   "metadata": {},
   "source": [
    "# Datastory"
   ]
  },
  {
   "cell_type": "code",
   "execution_count": null,
   "id": "67d9deca-97d5-4d10-9990-8103ea9aed27",
   "metadata": {},
   "outputs": [],
   "source": [
    "for key, fig in figs.items():\n",
    "    fig.show()"
   ]
  },
  {
   "cell_type": "code",
   "execution_count": null,
   "id": "f0b80489-5f7f-4f2a-a578-291d59fcb0d0",
   "metadata": {},
   "outputs": [],
   "source": [
    "ds = DataStory(\"AFP Privat resultater\")\n",
    "ds.markdown(\"*Dette er ikke offentlig statistikk*. Tall hentet fra `PEN.T_AFP_PRIV_RES_FK`\")\n",
    "ds.markdown(\"Vedtak per dag\")\n",
    "ds.plotly(figs[\"daglige_vedtak\"].to_json())\n",
    "ds.markdown(\"Vedtak per måned\")\n",
    "ds.plotly(figs[\"månedlige_vedtak\"].to_json())\n",
    "\n",
    "ds.publish(url=\"https://datamarkedsplassen.intern.nav.no/api\")"
   ]
  }
 ],
 "metadata": {
  "environment": {
   "kernel": "python3",
   "name": "common-cpu.m98",
   "type": "gcloud",
   "uri": "gcr.io/deeplearning-platform-release/base-cpu:m98"
  },
  "kernelspec": {
   "display_name": "Python 3",
   "language": "python",
   "name": "python3"
  },
  "language_info": {
   "codemirror_mode": {
    "name": "ipython",
    "version": 3
   },
   "file_extension": ".py",
   "mimetype": "text/x-python",
   "name": "python",
   "nbconvert_exporter": "python",
   "pygments_lexer": "ipython3",
   "version": "3.7.12"
  }
 },
 "nbformat": 4,
 "nbformat_minor": 5
}
