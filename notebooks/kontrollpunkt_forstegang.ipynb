{
 "cells": [
  {
   "cell_type": "code",
   "execution_count": null,
   "metadata": {},
   "outputs": [],
   "source": [
    "import pandas as pd\n",
    "import numpy as np\n",
    "import os\n",
    "import sys\n",
    "import importlib\n",
    "import plotly.express as px\n",
    "from datetime import datetime\n",
    "from datastory import DataStory\n",
    "\n",
    "sys.path.append('../lib')\n",
    "import utils\n",
    "import pandas_utils\n",
    "import pesys_utils\n",
    "\n",
    "importlib.reload(utils)\n",
    "importlib.reload(pandas_utils)\n",
    "importlib.reload(pesys_utils)\n",
    "\n",
    "utils.set_secrets_as_env()"
   ]
  },
  {
   "cell_type": "code",
   "execution_count": null,
   "metadata": {},
   "outputs": [],
   "source": [
    "con = pesys_utils.open_pen_connection()\n",
    "df_ora = pandas_utils.pandas_from_sql('../sql/kontrollpunkt_delauto.sql', con, tuning=1000, lowercase=True)\n",
    "con.close()"
   ]
  },
  {
   "cell_type": "code",
   "execution_count": null,
   "metadata": {},
   "outputs": [],
   "source": [
    "df = df_ora.copy()\n",
    "df[\"ar-mnd\"] = df.apply(lambda row: str(row.yr) + \"-\" + str(row.mnd), axis=1)\n",
    "df[\"ar-mnd\"] = df[\"ar-mnd\"].apply(lambda x: pesys_utils.add_zero_to_aar_mnd(x))\n",
    "df[\"tertial\"] = df.mnd.apply(lambda x: (x - 1) // 4 + 1)\n",
    "df[\"ar-tertial\"] = df.apply(lambda row: str(row.yr) + \"-\" + str(row.tertial), axis=1)\n",
    "df.head()"
   ]
  },
  {
   "cell_type": "code",
   "execution_count": null,
   "metadata": {},
   "outputs": [],
   "source": [
    "df_kp = df.groupby([\"ar-mnd\", \"kontrollpunkt\", \"kontrollpunkt_forklaring\"], as_index=False).antall.sum().sort_values(\"ar-mnd\")\n",
    "df_kp.head()"
   ]
  },
  {
   "cell_type": "code",
   "execution_count": null,
   "metadata": {},
   "outputs": [],
   "source": [
    "px.line(df_kp, \"ar-mnd\", \"antall\", color=\"kontrollpunkt\", hover_data=\"kontrollpunkt_forklaring\")"
   ]
  },
  {
   "cell_type": "code",
   "execution_count": null,
   "metadata": {},
   "outputs": [],
   "source": [
    "df_tertial = df.groupby([\"ar-tertial\", \"tertial\", \"yr\", \"kontrollpunkt\", \"kontrollpunkt_forklaring\"], as_index=False).antall.sum().sort_values(\"ar-tertial\")\n",
    "\n",
    "figs = {}\n",
    "for kp in df_tertial.kontrollpunkt.unique():\n",
    "    df_plot = df_tertial[(df_tertial.yr >= 2020) & (df_tertial.kontrollpunkt == kp)]\n",
    "    figs[kp] = px.line(df_plot, \"tertial\", \"antall\", color=\"yr\", title=kp).update_layout(xaxis_type='category')"
   ]
  },
  {
   "cell_type": "code",
   "execution_count": null,
   "metadata": {},
   "outputs": [],
   "source": [
    "for _, fig in figs.items():\n",
    "    fig.show()"
   ]
  },
  {
   "cell_type": "markdown",
   "metadata": {},
   "source": [
    "# Manuell"
   ]
  },
  {
   "cell_type": "code",
   "execution_count": null,
   "metadata": {},
   "outputs": [],
   "source": [
    "con = pesys_utils.open_pen_connection()\n",
    "df_man = pandas_utils.pandas_from_sql('../sql/kontrollpunkt_man.sql', con, tuning=1000, lowercase=True)\n",
    "con.close()"
   ]
  },
  {
   "cell_type": "code",
   "execution_count": null,
   "metadata": {},
   "outputs": [],
   "source": [
    "df_2 = df_man.copy()\n",
    "df_2[\"ar-mnd\"] = df_2.apply(lambda row: str(row.yr) + \"-\" + str(row.mnd), axis=1)\n",
    "df_2[\"ar-mnd\"] = df_2[\"ar-mnd\"].apply(lambda x: pesys_utils.add_zero_to_aar_mnd(x))\n",
    "df_2[\"tertial\"] = df_2.mnd.apply(lambda x: (x - 1) // 4 + 1)\n",
    "df_2[\"ar-tertial\"] = df_2.apply(lambda row: str(row.yr) + \"-\" + str(row.tertial), axis=1)\n",
    "df_2.head()"
   ]
  },
  {
   "cell_type": "code",
   "execution_count": null,
   "metadata": {},
   "outputs": [],
   "source": [
    "df_kp_2 = df_2.groupby([\"ar-mnd\", \"kontrollpunkt\", \"kontrollpunkt_forklaring\"], as_index=False).antall.sum().sort_values(\"ar-mnd\")\n",
    "df_kp_2.head()"
   ]
  },
  {
   "cell_type": "code",
   "execution_count": null,
   "metadata": {},
   "outputs": [],
   "source": [
    "px.line(df_kp_2, \"ar-mnd\", \"antall\", color=\"kontrollpunkt\", hover_data=\"kontrollpunkt_forklaring\")"
   ]
  },
  {
   "cell_type": "code",
   "execution_count": null,
   "metadata": {},
   "outputs": [],
   "source": [
    "df_tertial = df_2.groupby([\"ar-tertial\", \"tertial\", \"yr\", \"kontrollpunkt\", \"kontrollpunkt_forklaring\"], as_index=False).antall.sum().sort_values(\"ar-tertial\")\n",
    "\n",
    "figs_2 = {}\n",
    "for kp in df_tertial.kontrollpunkt.unique():\n",
    "    df_plot = df_tertial[(df_tertial.yr >= 2020) & (df_tertial.kontrollpunkt == kp)]\n",
    "    kp_forklaring = df_plot.kontrollpunkt_forklaring.iloc[0]\n",
    "    figs_2[kp] = px.line(df_plot, \"tertial\", \"antall\", color=\"yr\", title=kp_forklaring).update_layout(xaxis_type='category')"
   ]
  },
  {
   "cell_type": "code",
   "execution_count": null,
   "metadata": {},
   "outputs": [],
   "source": [
    "for _, fig in figs_2.items():\n",
    "    fig.show()"
   ]
  }
 ],
 "metadata": {
  "kernelspec": {
   "display_name": "venv",
   "language": "python",
   "name": "python3"
  },
  "language_info": {
   "codemirror_mode": {
    "name": "ipython",
    "version": 3
   },
   "file_extension": ".py",
   "mimetype": "text/x-python",
   "name": "python",
   "nbconvert_exporter": "python",
   "pygments_lexer": "ipython3",
   "version": "3.9.2"
  },
  "orig_nbformat": 4
 },
 "nbformat": 4,
 "nbformat_minor": 2
}
