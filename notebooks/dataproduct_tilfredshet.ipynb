{
 "cells": [
  {
   "cell_type": "markdown",
   "id": "004fb647-4181-48a5-b57c-fb43b8dad7e8",
   "metadata": {
    "tags": []
   },
   "source": [
    "# Kode for datafortelling om operative mål i PO Pensjon\n",
    "Målingene legges manuelt inn i et excel dokument som må lastes opp som \"../data/Måleparametere PO Pensjon 2022.csv\" ved oppdatering. NB! For å lagre excel-ark som csv (UTF-8) må man åpne det i skrivebordsappen (ikke i nettleser) først. "
   ]
  },
  {
   "cell_type": "code",
   "execution_count": null,
   "id": "871372e2-9461-4db3-a2fb-36115f383747",
   "metadata": {},
   "outputs": [],
   "source": [
    "import sys\n",
    "import importlib\n",
    "import pandas as pd\n",
    "import numpy as np\n",
    "import plotly\n",
    "import plotly.express as px\n",
    "import plotly.graph_objects as go\n",
    "from typing import Dict\n",
    "\n",
    "import datastory as ds\n",
    "\n",
    "sys.path.append('../lib')\n",
    "import operative as opera\n",
    "importlib.reload(opera)"
   ]
  },
  {
   "cell_type": "code",
   "execution_count": null,
   "id": "8ed0f3f1-6e2c-4b75-a148-3cdc7aeb4fda",
   "metadata": {},
   "outputs": [],
   "source": [
    "df = pd.read_csv(\"../data/Variabler til målinger.csv\", sep=\";\", decimal=\",\", header=17, usecols=list(range(7)))"
   ]
  },
  {
   "cell_type": "code",
   "execution_count": null,
   "id": "b30f3ea8-7e87-471f-a5f9-5dce154716b7",
   "metadata": {},
   "outputs": [],
   "source": [
    "df = df.dropna().reset_index(drop=True)\n",
    "df.columns = [\"aar\", \"margin\", \"std_err\", \"t\", \"p_t\", \"conf_95_min\", \"conf_95_max\"]\n"
   ]
  },
  {
   "cell_type": "code",
   "execution_count": null,
   "id": "20de9d36-8dfc-413e-ab7d-876624e772ca",
   "metadata": {},
   "outputs": [],
   "source": [
    "def clean_numbers(x):\n",
    "    if isinstance(x, float):\n",
    "        return x\n",
    "    if \"%\" in str(x):\n",
    "        tmp = x[:-2]\n",
    "        x = str(float(tmp)/100)\n",
    "    if \"-\" in str(x):\n",
    "        x = \"0\"\n",
    "    return \"\".join(x.split(\" \"))\n",
    "\n",
    "# Oversett prosent til desimaltall\n",
    "df.loc[24:28, \"margin\"] = df.loc[24:28, \"margin\"].apply(clean_numbers)\n",
    "\n",
    "# string to float\n",
    "number_cols = [\"margin\", \"std_err\", \"t\", \"p_t\", \"conf_95_min\", \"conf_95_max\"]\n",
    "for col in number_cols:\n",
    "    df.loc[:, col] = df.loc[:, col].apply(lambda x: x.replace(',', '.')).astype(\"float\")"
   ]
  },
  {
   "cell_type": "code",
   "execution_count": null,
   "id": "5c1ab69b-f5fc-4608-9408-119dce374b70",
   "metadata": {},
   "outputs": [],
   "source": [
    "# df = (df\n",
    "#       .drop(list(range(0,2))\n",
    "#           + list(range(6,14))\n",
    "#           + list(range(18,24)) \n",
    "#           + list(range(28,30)) \n",
    "#           + list(range(34,38)) \n",
    "#           + list(range(42,46))\n",
    "#           + list(range(50,56))\n",
    "#           + list(range(58,60))\n",
    "#           + [62])\n",
    "#       .reset_index(drop=True)\n",
    "#      )"
   ]
  },
  {
   "cell_type": "code",
   "execution_count": null,
   "id": "6037fed8-b043-4d2e-b1b2-2210dc12fbac",
   "metadata": {},
   "outputs": [],
   "source": [
    "df[\"maal\"] = (  [\"Søkt på sist søknad uføretrygd\"] * 4 \n",
    "             + [\"Søkt på sist søknad alderspensjon\"] * 4\n",
    "             + [\"Uføre, uten ventetid\"] * 4\n",
    "             + [\"Alder, uten ventetid\"] * 4\n",
    "             + [\"Tilfredshet uføretrygd\"] * 4\n",
    "             + [\"Tilfredshet alderspensjon\"] * 4\n",
    "             + [\"Selvbetjeningsgrad uføre\"] * 2\n",
    "             + [\"Selvbetjeningsgrad alder\"] * 2\n",
    "            )"
   ]
  },
  {
   "cell_type": "code",
   "execution_count": null,
   "id": "5ae5ff81-51b0-4b82-a442-2bfddb6c25b5",
   "metadata": {},
   "outputs": [],
   "source": [
    "with pd.option_context('display.max_rows', None, 'display.max_columns', None):  # more options can be specified also\n",
    "    display(df)"
   ]
  },
  {
   "cell_type": "code",
   "execution_count": null,
   "id": "7a462b74-9081-4b38-a9eb-e9a532e2c5bb",
   "metadata": {},
   "outputs": [],
   "source": [
    "df.dtypes"
   ]
  },
  {
   "cell_type": "markdown",
   "id": "17813912-b26d-4680-ac90-b9ff82b6cc0d",
   "metadata": {},
   "source": [
    "# Make dataproduct"
   ]
  },
  {
   "cell_type": "code",
   "execution_count": null,
   "id": "c9fe6c65-8519-4673-9e59-67095aa5f4c5",
   "metadata": {},
   "outputs": [],
   "source": [
    "df.head()"
   ]
  },
  {
   "cell_type": "code",
   "execution_count": null,
   "id": "e1b12dc3-a3fd-4d89-b021-71d68ff83a3f",
   "metadata": {},
   "outputs": [],
   "source": [
    "from google.cloud.bigquery import Client, LoadJobConfig\n",
    "\n",
    "table_id = f'teampensjon-prod-cebd.operative_mal.tilfredshet'\n",
    "job_config = LoadJobConfig(\n",
    "    write_disposition=\"WRITE_TRUNCATE\",\n",
    ")\n",
    "\n",
    "client = Client(project=\"teampensjon-prod-cebd\")\n",
    "\n",
    "job = client.load_table_from_dataframe(df, table_id, job_config=job_config)\n",
    "job.result()"
   ]
  }
 ],
 "metadata": {
  "environment": {
   "kernel": "python3",
   "name": "common-cpu.m98",
   "type": "gcloud",
   "uri": "gcr.io/deeplearning-platform-release/base-cpu:m98"
  },
  "kernelspec": {
   "display_name": "Python 3",
   "language": "python",
   "name": "python3"
  },
  "language_info": {
   "codemirror_mode": {
    "name": "ipython",
    "version": 3
   },
   "file_extension": ".py",
   "mimetype": "text/x-python",
   "name": "python",
   "nbconvert_exporter": "python",
   "pygments_lexer": "ipython3",
   "version": "3.7.12"
  }
 },
 "nbformat": 4,
 "nbformat_minor": 5
}
