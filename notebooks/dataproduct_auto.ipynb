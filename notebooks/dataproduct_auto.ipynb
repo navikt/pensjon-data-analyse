{
 "cells": [
  {
   "cell_type": "code",
   "execution_count": null,
   "id": "9df7d94b-36ab-41d1-a56c-dbaf13ad00aa",
   "metadata": {},
   "outputs": [],
   "source": [
    "import cx_Oracle\n",
    "import pandas as pd\n",
    "import numpy as np\n",
    "import sys\n",
    "import os\n",
    "import importlib\n",
    "\n",
    "from datetime import datetime\n",
    "from google.cloud import secretmanager\n",
    "\n",
    "sys.path.append('../lib')\n",
    "import utils\n",
    "import pandas_utils\n",
    "import pesys_utils\n",
    "\n",
    "importlib.reload(pandas_utils)\n",
    "importlib.reload(pesys_utils)\n",
    "importlib.reload(utils)\n",
    "\n",
    "utils.set_secrets_as_env()"
   ]
  },
  {
   "cell_type": "code",
   "execution_count": null,
   "id": "38a1762b-2a3d-4bee-8b1b-bae781062408",
   "metadata": {},
   "outputs": [],
   "source": [
    "dsnStr = cx_Oracle.makedsn(ORACLE_HOST, ORACLE_PORT, service_name=ORACLE_SERVICE)"
   ]
  },
  {
   "cell_type": "code",
   "execution_count": null,
   "id": "851c9c79-2291-48e8-bb9c-15e5e0c2e074",
   "metadata": {},
   "outputs": [],
   "source": [
    "con = pesys_utils.open_pen_connection()\n",
    "df_v7 = pandas_utils.pandas_from_sql('../sql/v7.sql', con)\n",
    "con.close()"
   ]
  },
  {
   "cell_type": "code",
   "execution_count": null,
   "id": "dda4fbbb-6c40-4ef1-8222-6ae4a8f3800e",
   "metadata": {},
   "outputs": [],
   "source": [
    "df = df_v7.copy()"
   ]
  },
  {
   "cell_type": "code",
   "execution_count": null,
   "id": "0d423fec-5669-4802-98ad-dade015115d7",
   "metadata": {},
   "outputs": [],
   "source": [
    "# Kan vurdere å sortere nullverdier i auto/man:\n",
    "df[\"KRAV_BEHANDLING\"] = df.KRAV_BEHANDLING.fillna(\"USPESIFISERT\")\n",
    "df[\"MAANED\"] = df.MAANED.astype('string').apply(lambda x: pesys_utils.add_zero_to_mnd(x))\n",
    "df[\"AAR_MAANED\"] = df.AAR_MAANED.apply(lambda x: pesys_utils.add_zero_to_aar_mnd(x))"
   ]
  },
  {
   "cell_type": "code",
   "execution_count": null,
   "id": "989d1357-5074-4257-adca-487e93a176f6",
   "metadata": {},
   "outputs": [],
   "source": [
    "current_aar_maaned = datetime.today().strftime('%Y-%m')\n",
    "df = df[df.AAR_MAANED != current_aar_maaned]"
   ]
  },
  {
   "cell_type": "code",
   "execution_count": null,
   "id": "70d3dfbb-634a-4d43-9917-674bc6f076a4",
   "metadata": {},
   "outputs": [],
   "source": [
    "df.head()"
   ]
  },
  {
   "cell_type": "code",
   "execution_count": null,
   "id": "80565ceb-d2f5-470c-9908-477426081f37",
   "metadata": {},
   "outputs": [],
   "source": [
    "df.tail()"
   ]
  },
  {
   "cell_type": "code",
   "execution_count": null,
   "id": "1760ab31-7cfb-4f07-ac20-d7fce069c997",
   "metadata": {},
   "outputs": [],
   "source": [
    "from google.cloud.bigquery import Client, LoadJobConfig\n",
    "\n",
    "table_id = f'pensjon-saksbehandli-prod-1f83.vedtak.vedtak_automatisering'\n",
    "job_config = LoadJobConfig(\n",
    "    write_disposition=\"WRITE_TRUNCATE\",\n",
    ")\n",
    "\n",
    "client = Client(project=\"pensjon-saksbehandli-prod-1f83\")\n",
    "\n",
    "job = client.load_table_from_dataframe(df, table_id, job_config=job_config)\n",
    "job.result()"
   ]
  },
  {
   "cell_type": "markdown",
   "id": "34e6814d-3b86-4bf2-9a20-d83b7427eba9",
   "metadata": {},
   "source": [
    "## Alle stønadsområder\n",
    "- AFP\n",
    "- AFP Privat\n",
    "- Alderspensjon\n",
    "- Barnepensjon\n",
    "- Familiepleierytelse\n",
    "- Gammel yrkesskade\n",
    "- Generell\n",
    "- Gjenlevendeytelse\n",
    "- Krigspensjon\n",
    "- Omsorgsopptjening\n",
    "- Uføretrygd"
   ]
  },
  {
   "cell_type": "markdown",
   "id": "d4fd34e1-e3de-4e9d-9e73-53e14d86cdb3",
   "metadata": {
    "jp-MarkdownHeadingCollapsed": true,
    "tags": []
   },
   "source": [
    "### Mulige kravtyper (De fleste i hvert fall)\n",
    "- AFP etteroppgjør\n",
    "- Anke\n",
    "- Eksport\n",
    "- Endring uttaksgrad\n",
    "- Erstatning\n",
    "- Ettergivelse av gjeld\n",
    "- Førstegangsbehandling\n",
    "- Førstegangsbehandling Norge/utland\n",
    "- Førstegangsbehandling bosatt utland'\n",
    "- Førstegangsbehandling kun utland\n",
    "- Godskriving omsorgsopptjening\n",
    "- Hjelpeberegning ved overgang til uføretrygd\n",
    "- Inntektsendring\n",
    "- Klage\n",
    "- Mellombehandling\n",
    "- Omgjøring av tilbakekreving\n",
    "- Overføring omsorgsopptjening\n",
    "- ReguleringRevurdering\n",
    "- Saksomkostninger\n",
    "- Sluttbehandling Norge/utland\n",
    "- Sluttbehandling kun utland\n",
    "- Søknad om reduksjon av uføregrad\n",
    "- Søknad om ung ufør\n",
    "- Søknad om yrkesskade\n",
    "- Søknad om økning av uføregrad\n",
    "- Tilbakekreving\n",
    "- Uføretrygd etteroppgjør\n",
    "- Uføretrygd vurdering av etteroppgjør\n",
    "- Utsendelse til avtaleland"
   ]
  }
 ],
 "metadata": {
  "environment": {
   "kernel": "python3",
   "name": "common-cpu.m98",
   "type": "gcloud",
   "uri": "gcr.io/deeplearning-platform-release/base-cpu:m98"
  },
  "kernelspec": {
   "display_name": "Python 3",
   "language": "python",
   "name": "python3"
  },
  "language_info": {
   "codemirror_mode": {
    "name": "ipython",
    "version": 3
   },
   "file_extension": ".py",
   "mimetype": "text/x-python",
   "name": "python",
   "nbconvert_exporter": "python",
   "pygments_lexer": "ipython3",
   "version": "3.7.12"
  }
 },
 "nbformat": 4,
 "nbformat_minor": 5
}
