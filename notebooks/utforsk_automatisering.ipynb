{
 "cells": [
  {
   "cell_type": "code",
   "execution_count": null,
   "id": "eb3058ad-582e-4f15-86bf-45ccc8704f8d",
   "metadata": {},
   "outputs": [],
   "source": [
    "import cx_Oracle\n",
    "import pandas as pd\n",
    "import numpy as np\n",
    "import sys\n",
    "import os\n",
    "import importlib\n",
    "import plotly.express as px\n",
    "import plotly.graph_objects as go\n",
    "from plotly.subplots import make_subplots\n",
    "from datastory import DataStory\n",
    "\n",
    "from google.cloud import secretmanager\n",
    "\n",
    "sys.path.append('../lib')\n",
    "import pandas_utils\n",
    "import pesys_utils\n",
    "import autograd_convenience\n",
    "import utils\n",
    "\n",
    "importlib.reload(pandas_utils)\n",
    "importlib.reload(pesys_utils)\n",
    "importlib.reload(autograd_convenience)\n",
    "importlib.reload(utils)\n",
    "\n",
    "utils.set_secrets_as_env()"
   ]
  },
  {
   "cell_type": "code",
   "execution_count": null,
   "id": "4efcbf5b-15c2-4639-98eb-f2c04b526115",
   "metadata": {},
   "outputs": [],
   "source": [
    "try:\n",
    "    con = pesys_utils.open_pen_connection()\n",
    "except cx_Oracle.DatabaseError:\n",
    "    con.close()\n",
    "    con = pesys_utils.open_pen_connection()\n",
    "    \n",
    "df_list = pandas_utils.pandas_from_sql('../sql/automatiseringsgrad_test.sql', con, tuning = 50000)\n",
    "#df_list = pandas_utils.pandas_from_sql('../sql/v8_kun_norge.sql', con)\n",
    "con.close()\n",
    "df_list[\"ÅR-TERTIAL\"] = df_list[\"ÅR-TERTIAL\"].apply(lambda x: x[:4] + \"-\" + x[4:])"
   ]
  },
  {
   "cell_type": "code",
   "execution_count": null,
   "id": "37aaba4d-d6e1-4a26-9653-478a52530184",
   "metadata": {},
   "outputs": [],
   "source": [
    "df_list.head()"
   ]
  },
  {
   "cell_type": "code",
   "execution_count": null,
   "id": "0bda278d-462c-41a5-bd00-fc245058e958",
   "metadata": {},
   "outputs": [],
   "source": [
    "PERIODE = \"ÅR-MÅNED\""
   ]
  },
  {
   "cell_type": "code",
   "execution_count": null,
   "id": "36ba7d83-7af8-4f3e-94d0-4d832b27c344",
   "metadata": {},
   "outputs": [],
   "source": [
    "df_not_batch = df_list[df_list.OPPRETTET_AV != 'Batch']\n",
    "df_not_batch_2022 = df_not_batch[df_not_batch.ÅR == 2022]"
   ]
  },
  {
   "cell_type": "code",
   "execution_count": null,
   "id": "af43bea3-8a98-476a-963b-55f0a5f4b642",
   "metadata": {},
   "outputs": [],
   "source": [
    "def group_df_on_var(df, period, var):\n",
    "    if type(var) is list or type(var) is tuple:\n",
    "        df = df.groupby([period] + var)[period].count().reset_index(name=\"ANTALL\")\n",
    "    else:\n",
    "        df = df.groupby([period, var])[var].count().reset_index(name=\"ANTALL\")\n",
    "\n",
    "    df = df.merge(df.groupby([period], as_index=False).ANTALL.sum(),\n",
    "                    left_on=[period],\n",
    "                    right_on=[period],\n",
    "                    suffixes=(\"\",\" TOTALT\")\n",
    "            )\n",
    "    df[\"ANDEL\"] = df.ANTALL.divide(df[\"ANTALL TOTALT\"])\n",
    "    return df"
   ]
  },
  {
   "cell_type": "code",
   "execution_count": null,
   "id": "2d82f959-d1af-47a7-b8ac-4c3b87375d56",
   "metadata": {},
   "outputs": [],
   "source": [
    "group_df_on_var(df_list[df_list[\"ÅR\"] == 2022], \"ÅR\", \"OPPRETTET_AV\")"
   ]
  },
  {
   "cell_type": "code",
   "execution_count": null,
   "id": "85f0b1b4-e75e-46e2-862e-973aa3fe614c",
   "metadata": {},
   "outputs": [],
   "source": [
    "df_count = group_df_on_var(df_not_batch, PERIODE, \"AUTOMATISERING\")\n",
    "df_count.head()"
   ]
  },
  {
   "cell_type": "code",
   "execution_count": null,
   "id": "cd354cd4-970b-4ea1-9b1b-9bb7c5ca40fc",
   "metadata": {},
   "outputs": [],
   "source": [
    "fig1 = px.line(df_count[df_count.AUTOMATISERING==\"AUTO\"], PERIODE, \"ANDEL\")\n",
    "fig1.update_layout(xaxis={'type': 'category'})"
   ]
  },
  {
   "cell_type": "code",
   "execution_count": null,
   "id": "403afc09-a88b-4c79-a70c-5c6c9affe850",
   "metadata": {},
   "outputs": [],
   "source": [
    "df_opprettet_av = group_df_on_var(df_not_batch, PERIODE, \"OPPRETTET_AV\")\n",
    "df_opprettet_av.head()"
   ]
  },
  {
   "cell_type": "code",
   "execution_count": null,
   "id": "1a8c6a81-47b9-44d3-9b03-daf9fa8e4cb4",
   "metadata": {},
   "outputs": [],
   "source": [
    "fig2 = px.line(df_opprettet_av, PERIODE, \"ANDEL\", color=\"OPPRETTET_AV\")\n",
    "fig2.update_layout(xaxis={'type': 'category'})"
   ]
  },
  {
   "cell_type": "code",
   "execution_count": null,
   "id": "d92486c6-5fee-492f-8965-4850d508a039",
   "metadata": {},
   "outputs": [],
   "source": [
    "df_kravtype = group_df_on_var(df_not_batch, PERIODE, \"KRAVTYPE\")"
   ]
  },
  {
   "cell_type": "code",
   "execution_count": null,
   "id": "72819385-558a-4d95-be1b-5d1178d3499c",
   "metadata": {},
   "outputs": [],
   "source": [
    "df_kravtype.head()"
   ]
  },
  {
   "cell_type": "code",
   "execution_count": null,
   "id": "62c2dec7-8ba7-433f-b6ad-49d51f8a4e47",
   "metadata": {},
   "outputs": [],
   "source": [
    "fig4 = px.line(df_kravtype, PERIODE, \"ANDEL\", color=\"KRAVTYPE\")\n",
    "fig4.update_layout(xaxis={'type': 'category'})"
   ]
  },
  {
   "cell_type": "code",
   "execution_count": null,
   "id": "523a67b2-c7a0-470b-b389-657c75a8304f",
   "metadata": {},
   "outputs": [],
   "source": [
    "df_pselv = group_df_on_var(df_not_batch, PERIODE, \"SYSTEM\")\n",
    "df_pselv.head()"
   ]
  },
  {
   "cell_type": "code",
   "execution_count": null,
   "id": "7d1006f2-815d-43e7-bd8b-6660c8d76827",
   "metadata": {},
   "outputs": [],
   "source": [
    "fig5 = px.line(df_pselv, PERIODE, \"ANDEL\", color=\"SYSTEM\")\n",
    "fig5.update_layout(xaxis={'type': 'category'})"
   ]
  },
  {
   "cell_type": "code",
   "execution_count": null,
   "id": "656ebc83-cdcf-4290-ba3d-5ece2bc042ca",
   "metadata": {},
   "outputs": [],
   "source": [
    "df_norge = group_df_on_var(df_not_batch[df_not_batch.KRAVTYPE == 'Førstegangsbehandling'], PERIODE, \"AUTOMATISERING\")\n",
    "df_norge.head()"
   ]
  },
  {
   "cell_type": "code",
   "execution_count": null,
   "id": "cb464d7d-b733-4471-b769-949230ebbfbc",
   "metadata": {},
   "outputs": [],
   "source": [
    "df_auto = df_count[df_count.AUTOMATISERING==\"AUTO\"]\n",
    "df_auto_norge = df_norge[df_norge.AUTOMATISERING == 'AUTO']\n",
    "\n",
    "df_afp = df_not_batch[df_not_batch[\"SOKT_AFP_PRIVAT\"] == \"1\"]\n",
    "df_afp_auto = group_df_on_var(df_afp, PERIODE, \"AUTOMATISERING\")\n",
    "df_afp_auto = df_afp_auto[df_afp_auto.AUTOMATISERING == \"AUTO\"]\n",
    "\n",
    "fig6 = go.Figure()\n",
    "fig6.add_traces(go.Scatter(x=df_auto_norge[PERIODE], y=df_auto_norge[\"ANDEL\"], name=\"Førstegangsbehandling\"))\n",
    "fig6.add_traces(go.Scatter(x=df_auto[PERIODE], y=df_auto[\"ANDEL\"], name=\"Førstegangsbehandling totalt\"))\n",
    "#fig6.add_traces(go.Scatter(x=df_afp_auto[PERIODE], y=df_afp_auto[\"ANDEL\"], name=\"Førstegangsbehandling med AFP Privat\"))\n",
    "fig6.update_layout(xaxis={'type': 'category'})"
   ]
  },
  {
   "cell_type": "code",
   "execution_count": null,
   "id": "52f174ce-2a95-41c5-9bdd-f2707193a030",
   "metadata": {},
   "outputs": [],
   "source": [
    "df_auto.tail()"
   ]
  },
  {
   "cell_type": "code",
   "execution_count": null,
   "id": "7c21d24b-e907-4332-8ad8-8d3c9b014cfa",
   "metadata": {},
   "outputs": [],
   "source": [
    "df_list.head()"
   ]
  },
  {
   "cell_type": "code",
   "execution_count": null,
   "id": "9a1847ad-5f0c-457a-8e31-cd5e8f14db62",
   "metadata": {},
   "outputs": [],
   "source": [
    "df_pselv_system = group_df_on_var(df_not_batch, PERIODE, [\"SYSTEM\", \"OPPRETTET_AV\"])\n",
    "df_pselv_system[\"CASE\"] = df_pselv_system.SYSTEM + df_pselv_system.OPPRETTET_AV\n",
    "df_pselv_system.tail(20)"
   ]
  },
  {
   "cell_type": "code",
   "execution_count": null,
   "id": "5c9d6631-a0fe-4e29-82bb-481f42541c29",
   "metadata": {},
   "outputs": [],
   "source": [
    "fig7 = px.line(df_pselv_system, PERIODE, \"ANDEL\", color=\"CASE\")\n",
    "fig7.update_yaxes(tickformat='.1%')\n",
    "fig7.update_layout(xaxis={'type': 'category'})"
   ]
  },
  {
   "cell_type": "code",
   "execution_count": null,
   "id": "22077f62-dee8-4c0e-b709-70f14d6071ff",
   "metadata": {},
   "outputs": [],
   "source": [
    "fig8 = px.line(df_afp_auto[df_afp_auto.AUTOMATISERING == \"AUTO\"], PERIODE, \"ANDEL\")\n",
    "fig8.update_layout(xaxis={'type': 'category'})"
   ]
  },
  {
   "cell_type": "code",
   "execution_count": null,
   "id": "2b989da2-73ab-4e81-893c-5508bfa71290",
   "metadata": {},
   "outputs": [],
   "source": [
    "df_utl = group_df_on_var(df_not_batch, PERIODE, \"BODD_ARB_UTL\")\n",
    "fig9 = px.line(df_utl, PERIODE, \"ANDEL\", color=\"BODD_ARB_UTL\")\n",
    "fig9.update_layout(xaxis={'type': 'category'})"
   ]
  },
  {
   "cell_type": "code",
   "execution_count": null,
   "id": "2df2c8e0-f643-4536-9d04-7b229b579972",
   "metadata": {},
   "outputs": [],
   "source": [
    "df_utl_forstegang = group_df_on_var(df_not_batch[df_not_batch.KRAVTYPE == \"Førstegangsbehandling\"], PERIODE, \"BODD_ARB_UTL\")\n",
    "fig10 = px.line(df_utl_forstegang, PERIODE, \"ANDEL\", color=\"BODD_ARB_UTL\")\n",
    "fig10.update_layout(xaxis={'type': 'category'}) "
   ]
  },
  {
   "cell_type": "code",
   "execution_count": null,
   "id": "527f23d1-1aae-4e24-91fc-e61f345cccaa",
   "metadata": {},
   "outputs": [],
   "source": [
    "df_utl_forstegang = group_df_on_var(df_not_batch[df_not_batch.KRAVTYPE == \"Førstegangsbehandling\"], PERIODE, \"BODD_ARB_UTL\")\n",
    "fig11 = px.line(df_utl_forstegang, PERIODE, \"ANTALL\", color=\"BODD_ARB_UTL\")\n",
    "fig11.update_layout(xaxis={'type': 'category'}) "
   ]
  },
  {
   "cell_type": "code",
   "execution_count": null,
   "id": "9510efff-7a84-4fa8-ab84-2b598a2e92ac",
   "metadata": {},
   "outputs": [],
   "source": [
    "df_utl_auto = group_df_on_var(df_not_batch[df_not_batch[\"BODD_ARB_UTL\"] == \"1\"], PERIODE, \"AUTOMATISERING\")\n",
    "fig12 = px.line(df_utl_auto, PERIODE, \"ANDEL\", color=\"AUTOMATISERING\")\n",
    "fig12.update_layout(xaxis={'type': 'category'})"
   ]
  },
  {
   "cell_type": "markdown",
   "id": "43d9b712-37ed-4b37-b7f4-37108b709342",
   "metadata": {},
   "source": [
    "# Datastory"
   ]
  },
  {
   "cell_type": "code",
   "execution_count": null,
   "id": "6f91ee1c-066d-4f8c-b998-bbe99faa60c7",
   "metadata": {},
   "outputs": [],
   "source": [
    "ds = DataStory(\"Utforskning av automatiseringsgrad i pesys\")\n",
    "ds.markdown(\"Gjennomgående for alle tall og figurer er at vi ser på fire kravtyper inn alderspensjon: Førstegangsbehandling, Førstegangsbehandling Norge/utland, Førstegangsbehandling bosatt utland og Førstegangsbehandling kun utland. Vi ser bort fra alle krav opprettet av batch.\")\n",
    "ds.markdown(\"## Utgangspunkt automatiseringsgrad\")\n",
    "ds.plotly(fig1.to_json())\n",
    "\n",
    "ds.markdown(\"## Utgangspunkt selvbetjeningsgrad. Trykk bort andre kategorier for å se på andelen opprettet av bruker.\")\n",
    "ds.plotly(fig2.to_json())\n",
    "\n",
    "ds.markdown(\"## Andelen av hver kravtype. Legg merke til at andelen 'Førstegangsbehandling' var veldig lav i T3 2022.\")\n",
    "ds.plotly(fig4.to_json())\n",
    "\n",
    "ds.markdown('## ')\n",
    "\n",
    "#ds.publish(url=\"https://nada.intern.nav.no/api\")"
   ]
  },
  {
   "cell_type": "markdown",
   "id": "c38ccca4-3f8d-4db2-80ac-c4c2380f033c",
   "metadata": {},
   "source": [
    "# Andre metoder"
   ]
  },
  {
   "cell_type": "code",
   "execution_count": null,
   "id": "d995e9f0-289b-48ec-b8ad-961bca9b8618",
   "metadata": {},
   "outputs": [],
   "source": [
    "df_corr = df_not_batch.drop([\"ÅR-MÅNED\", \"ÅR-TERTIAL\"], axis=1).apply(lambda x : pd.factorize(x)[0]).corr(method='pearson', min_periods=1)"
   ]
  },
  {
   "cell_type": "code",
   "execution_count": null,
   "id": "5d50d0f8-c784-49f2-ae4c-02411af17640",
   "metadata": {},
   "outputs": [],
   "source": []
  },
  {
   "cell_type": "code",
   "execution_count": null,
   "id": "341c0887-1df0-4bc4-93f6-7f97cdd406f2",
   "metadata": {},
   "outputs": [],
   "source": [
    "import seaborn as sns\n",
    "sns.heatmap(df_corr, \n",
    "        xticklabels=df_corr.columns,\n",
    "        yticklabels=df_corr.columns)"
   ]
  }
 ],
 "metadata": {
  "environment": {
   "kernel": "python3",
   "name": "common-cpu.m98",
   "type": "gcloud",
   "uri": "gcr.io/deeplearning-platform-release/base-cpu:m98"
  },
  "kernelspec": {
   "display_name": "Python 3",
   "language": "python",
   "name": "python3"
  },
  "language_info": {
   "codemirror_mode": {
    "name": "ipython",
    "version": 3
   },
   "file_extension": ".py",
   "mimetype": "text/x-python",
   "name": "python",
   "nbconvert_exporter": "python",
   "pygments_lexer": "ipython3",
   "version": "3.7.12"
  }
 },
 "nbformat": 4,
 "nbformat_minor": 5
}
