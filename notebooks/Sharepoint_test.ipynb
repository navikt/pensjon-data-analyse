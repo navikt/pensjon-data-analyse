{
 "cells": [
  {
   "cell_type": "code",
   "execution_count": null,
   "id": "ee1675f0-a0d0-40d1-a7ac-733519a3b787",
   "metadata": {},
   "outputs": [],
   "source": [
    "import os\n",
    "import sys\n",
    "from office365.sharepoint.client_context import ClientContext \n",
    "from google.cloud import secretmanager\n",
    "\n",
    "sys.path.append('../lib')\n",
    "import utils\n",
    "utils.set_secrets_as_env()\n",
    "\n",
    "url = \"https://navno.sharepoint.com/:x:/r/sites/PoPensjonKjerneteam/_layouts/15/Doc.aspx?sourcedoc=%7B63945D74-5F69-4B7F-BA01-57C6EC16E96A%7D&file=M%C3%A5leparametere%20PO%20Pensjon%202022.xlsx&action=default&mobileredirect=true&cid=d221aced-da0a-4512-9b7c-4c40422123e1\"\n",
    "\n",
    "ctx = ClientContext(url)\n",
    "ctx.with_user_credentials(os.environ[\"SHAREPOINT_USER\"],  # Oppdater secret for å prøve på nytt\n",
    "                          os.environ[\"SHAREPOINT_PASSWORD\"])\n",
    "\n",
    "web = ctx.web.get().execute_query() #Stopper her pga access policy\n",
    "print(web.url)"
   ]
  }
 ],
 "metadata": {
  "environment": {
   "kernel": "python3",
   "name": "common-cpu.m98",
   "type": "gcloud",
   "uri": "gcr.io/deeplearning-platform-release/base-cpu:m98"
  },
  "kernelspec": {
   "display_name": "Python 3",
   "language": "python",
   "name": "python3"
  },
  "language_info": {
   "codemirror_mode": {
    "name": "ipython",
    "version": 3
   },
   "file_extension": ".py",
   "mimetype": "text/x-python",
   "name": "python",
   "nbconvert_exporter": "python",
   "pygments_lexer": "ipython3",
   "version": "3.7.12"
  }
 },
 "nbformat": 4,
 "nbformat_minor": 5
}
