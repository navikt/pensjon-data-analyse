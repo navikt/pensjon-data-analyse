{
 "cells": [
  {
   "cell_type": "code",
   "execution_count": null,
   "metadata": {},
   "outputs": [],
   "source": [
    "import pandas as pd\n",
    "import numpy as np\n",
    "import os\n",
    "import sys\n",
    "import importlib\n",
    "import plotly.express as px\n",
    "from datetime import datetime\n",
    "\n",
    "sys.path.append('../lib')\n",
    "import utils\n",
    "import pandas_utils\n",
    "import pesys_utils\n",
    "\n",
    "importlib.reload(utils)\n",
    "importlib.reload(pandas_utils)\n",
    "importlib.reload(pesys_utils)\n",
    "\n",
    "utils.set_secrets_as_env()"
   ]
  },
  {
   "cell_type": "code",
   "execution_count": null,
   "metadata": {},
   "outputs": [],
   "source": [
    "con = pesys_utils.open_pen_connection()"
   ]
  },
  {
   "cell_type": "code",
   "execution_count": null,
   "metadata": {},
   "outputs": [],
   "source": [
    "df_query = pandas_utils.pandas_from_sql(con=con, sqlfile='../sql/retur_arsak.sql', lowercase=True, tuning=10000)"
   ]
  },
  {
   "cell_type": "code",
   "execution_count": null,
   "metadata": {},
   "outputs": [],
   "source": [
    "df = df_query.copy()\n",
    "df[\"dato\"] = pd.to_datetime(df.dato)\n",
    "df.set_index(\"dato\", inplace=True)\n",
    "\n",
    "df_recent = df[df.index.year == 2023]\n",
    "df_recent.head()"
   ]
  },
  {
   "cell_type": "code",
   "execution_count": null,
   "metadata": {},
   "outputs": [],
   "source": [
    "df_sakstype = (\n",
    "    df\n",
    "    .groupby([\"sakstype\"])[[\"antall\"]]\n",
    "    .resample('MS')\n",
    "    .sum()\n",
    "    .reset_index()      \n",
    ")\n",
    "df_sakstype.head()"
   ]
  },
  {
   "cell_type": "code",
   "execution_count": null,
   "metadata": {},
   "outputs": [],
   "source": [
    "df_arsak = (\n",
    "    df\n",
    "    .groupby([\"retur_arsak\"])[[\"antall\"]]\n",
    "    .resample('MS')\n",
    "    .sum()\n",
    "    .reset_index()      \n",
    ")\n",
    "df_sakstype.head()"
   ]
  },
  {
   "cell_type": "code",
   "execution_count": null,
   "metadata": {},
   "outputs": [],
   "source": [
    "df_kravtype = (\n",
    "    df\n",
    "    .groupby([\"sakstype\", \"kravtype\"])[[\"antall\"]]\n",
    "    .resample('MS')\n",
    "    .sum()\n",
    "    .reset_index()      \n",
    ")\n",
    "df_kravtype.head()"
   ]
  },
  {
   "cell_type": "code",
   "execution_count": null,
   "metadata": {},
   "outputs": [],
   "source": [
    "df.index.year.unique()"
   ]
  },
  {
   "cell_type": "code",
   "execution_count": null,
   "metadata": {},
   "outputs": [],
   "source": [
    "px.line(df_sakstype, \"dato\", \"antall\", color=\"sakstype\")"
   ]
  },
  {
   "cell_type": "code",
   "execution_count": null,
   "metadata": {},
   "outputs": [],
   "source": [
    "px.line(df_arsak, \"dato\", \"antall\", color=\"retur_arsak\")"
   ]
  },
  {
   "cell_type": "code",
   "execution_count": null,
   "metadata": {},
   "outputs": [],
   "source": [
    "sakstyper = ['Alderspensjon', \"Uføretrygd\"]\n",
    "figs = {}\n",
    "for sakstype in sakstyper:\n",
    "    temp_df = df_kravtype[df_kravtype.sakstype == sakstype]\n",
    "    fig = px.line(temp_df, \"dato\", \"antall\", color=\"kravtype\", title=sakstype)\n",
    "    figs[f\"kravtyper_\" + sakstype] = fig\n",
    "\n",
    "for _, fig in figs.items():\n",
    "    fig.show()"
   ]
  }
 ],
 "metadata": {
  "kernelspec": {
   "display_name": "venv",
   "language": "python",
   "name": "python3"
  },
  "language_info": {
   "codemirror_mode": {
    "name": "ipython",
    "version": 3
   },
   "file_extension": ".py",
   "mimetype": "text/x-python",
   "name": "python",
   "nbconvert_exporter": "python",
   "pygments_lexer": "ipython3",
   "version": "3.9.2"
  },
  "orig_nbformat": 4
 },
 "nbformat": 4,
 "nbformat_minor": 2
}
