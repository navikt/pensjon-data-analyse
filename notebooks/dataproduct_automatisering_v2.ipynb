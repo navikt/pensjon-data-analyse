{
 "cells": [
  {
   "cell_type": "code",
   "execution_count": null,
   "id": "97609a29-7c05-4116-bd14-ba99127ce37e",
   "metadata": {},
   "outputs": [],
   "source": [
    "import cx_Oracle\n",
    "import pandas as pd\n",
    "import numpy as np\n",
    "import sys\n",
    "import os\n",
    "import importlib\n",
    "import plotly.express as px\n",
    "import plotly.graph_objects as go\n",
    "from plotly.subplots import make_subplots\n",
    "from datastory import DataStory\n",
    "\n",
    "from google.cloud import secretmanager\n",
    "\n",
    "sys.path.append('../lib')\n",
    "import pandas_utils\n",
    "import pesys_utils\n",
    "import autograd_convenience\n",
    "import utils\n",
    "\n",
    "importlib.reload(pandas_utils)\n",
    "importlib.reload(pesys_utils)\n",
    "importlib.reload(autograd_convenience)\n",
    "importlib.reload(utils)\n",
    "\n",
    "utils.set_secrets_as_env()"
   ]
  },
  {
   "cell_type": "code",
   "execution_count": null,
   "id": "d0171ee8-bfea-4897-b644-ac60ef222d1b",
   "metadata": {},
   "outputs": [],
   "source": [
    "try:\n",
    "    con = pesys_utils.open_pen_connection()\n",
    "except cx_Oracle.DatabaseError:\n",
    "    con.close()\n",
    "    con = pesys_utils.open_pen_connection()\n",
    "    \n",
    "df_list = pandas_utils.pandas_from_sql('../sql/forslag_auto.sql', con, tuning = 10000)\n",
    "#df_list = pandas_utils.pandas_from_sql('../sql/v8_kun_norge.sql', con)\n",
    "con.close()\n",
    "#df_list[\"ÅR-TERTIAL\"] = df_list[\"ÅR-TERTIAL\"].apply(lambda x: x[:4] + \"-\" + x[4:])"
   ]
  },
  {
   "cell_type": "code",
   "execution_count": null,
   "id": "a250cf40-4460-493c-b186-81cdac5678ab",
   "metadata": {},
   "outputs": [],
   "source": [
    "df_list.head()"
   ]
  },
  {
   "cell_type": "code",
   "execution_count": null,
   "id": "17ebd5a6-25fd-4832-b6f7-ef1d067440d7",
   "metadata": {},
   "outputs": [],
   "source": [
    "from google.cloud.bigquery import Client, LoadJobConfig\n",
    "\n",
    "table_id = f'pensjon-saksbehandli-prod-1f83.vedtak.vedtak_automatisering_v2'\n",
    "job_config = LoadJobConfig(\n",
    "    write_disposition=\"WRITE_TRUNCATE\",\n",
    ")\n",
    "\n",
    "client = Client(project=\"pensjon-saksbehandli-prod-1f83\")\n",
    "\n",
    "job = client.load_table_from_dataframe(df_list, table_id, job_config=job_config)\n",
    "job.result()"
   ]
  },
  {
   "cell_type": "code",
   "execution_count": null,
   "id": "ceada868-a970-4b58-8ebf-acf3caab58a2",
   "metadata": {},
   "outputs": [],
   "source": [
    "tmp = df_list[df_list.BEHANDLER==\"BPEN068\"]\n",
    "tmp[tmp.BATCH != \"Batch\"]"
   ]
  },
  {
   "cell_type": "code",
   "execution_count": null,
   "id": "1d48f8c4-dd9d-408a-83b3-f1715e5ddad5",
   "metadata": {},
   "outputs": [],
   "source": [
    "df_list.KRAVTYPE.value_counts()"
   ]
  }
 ],
 "metadata": {
  "environment": {
   "kernel": "python3",
   "name": "common-cpu.m98",
   "type": "gcloud",
   "uri": "gcr.io/deeplearning-platform-release/base-cpu:m98"
  },
  "kernelspec": {
   "display_name": "Python 3",
   "language": "python",
   "name": "python3"
  },
  "language_info": {
   "codemirror_mode": {
    "name": "ipython",
    "version": 3
   },
   "file_extension": ".py",
   "mimetype": "text/x-python",
   "name": "python",
   "nbconvert_exporter": "python",
   "pygments_lexer": "ipython3",
   "version": "3.7.12"
  }
 },
 "nbformat": 4,
 "nbformat_minor": 5
}
