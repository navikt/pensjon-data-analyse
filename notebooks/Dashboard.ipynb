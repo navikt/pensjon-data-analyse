{
 "cells": [
  {
   "cell_type": "markdown",
   "id": "004fb647-4181-48a5-b57c-fb43b8dad7e8",
   "metadata": {
    "tags": []
   },
   "source": [
    "# Kode for datafortelling om operative mål i PO Pensjon\n",
    "Målingene legges manuelt inn i et excel dokument som må lastes opp som \"../data/Måleparametere PO Pensjon 2022.csv\" ved oppdatering."
   ]
  },
  {
   "cell_type": "code",
   "execution_count": null,
   "id": "871372e2-9461-4db3-a2fb-36115f383747",
   "metadata": {},
   "outputs": [],
   "source": [
    "import sys\n",
    "import importlib\n",
    "import pandas as pd\n",
    "import numpy as np\n",
    "import plotly\n",
    "import plotly.express as px\n",
    "import plotly.graph_objects as go\n",
    "from typing import Dict\n",
    "\n",
    "import datastory as ds\n",
    "\n",
    "sys.path.append('../lib')\n",
    "import operative as opera\n",
    "importlib.reload(opera)"
   ]
  },
  {
   "cell_type": "code",
   "execution_count": null,
   "id": "8ed0f3f1-6e2c-4b75-a148-3cdc7aeb4fda",
   "metadata": {},
   "outputs": [],
   "source": [
    "df = pd.read_csv(\"../data/Måleparametere PO Pensjon 2022.csv\", sep=\";\", header=2)"
   ]
  },
  {
   "cell_type": "code",
   "execution_count": null,
   "id": "c123b8ee-8329-4362-8868-71b3e1a025ae",
   "metadata": {},
   "outputs": [],
   "source": [
    "df = df.drop([0] + list(range(4,12)) + list(range(17,20)) + list(range(22,26))).reset_index(drop=True)"
   ]
  },
  {
   "cell_type": "code",
   "execution_count": null,
   "id": "faf57c59-0d2f-4152-a200-8856647bec1d",
   "metadata": {},
   "outputs": [],
   "source": [
    "df.head(30)"
   ]
  },
  {
   "cell_type": "code",
   "execution_count": null,
   "id": "56dd4195-9347-4b45-b49f-e9c54e813ed2",
   "metadata": {},
   "outputs": [],
   "source": [
    "df[\"prosent_flagg\"] = df.Nullpunktsmåling.apply(lambda x: \"%\" in x)"
   ]
  },
  {
   "cell_type": "code",
   "execution_count": null,
   "id": "07f7194b-9dae-4918-9224-149065a13490",
   "metadata": {},
   "outputs": [],
   "source": [
    "# Propager operative mål:\n",
    "tmp = df[\"Operativt mål\"].isna()\n",
    "for i in range(df.shape[0]):\n",
    "    if tmp[i]:\n",
    "        df.iloc[i, 1] = df.iloc[i-1, 1]"
   ]
  },
  {
   "cell_type": "code",
   "execution_count": null,
   "id": "47a2d13e-b6a8-4ee9-839a-ffad7460d04f",
   "metadata": {},
   "outputs": [],
   "source": [
    "def clean_numbers(x):\n",
    "    if isinstance(x, float):\n",
    "        return x\n",
    "    if \"%\" in str(x):\n",
    "        tmp = x[:-2]\n",
    "        x = str(float(tmp)/100)\n",
    "    if \"-\" in str(x):\n",
    "        x = \"0\"\n",
    "    return \"\".join(x.split(\" \"))"
   ]
  },
  {
   "cell_type": "code",
   "execution_count": null,
   "id": "469f8386-5824-4f92-9132-6c12b5568dcd",
   "metadata": {},
   "outputs": [],
   "source": [
    "def set_plus(x):\n",
    "    if not pd.isna(x):\n",
    "        if x[0].isnumeric():\n",
    "            return \"+\" + x\n",
    "        elif x.strip() == \"-\":\n",
    "            return \"+0 %\"\n",
    "        else:\n",
    "            return x"
   ]
  },
  {
   "cell_type": "code",
   "execution_count": null,
   "id": "88e5534a-3ee5-43c8-a196-c63f9d0ff1c4",
   "metadata": {},
   "outputs": [],
   "source": [
    "# Få alle tall på riktig format\n",
    "maalinger_cols = ['Nullpunktsmåling', 'Måling T1', 'Måling T2'] # Legg til nye målinger her\n",
    "for col in maalinger_cols:\n",
    "    df[col] = df[col].apply(lambda x: clean_numbers(x)).astype(\"float\")\n",
    "\n",
    "prosent_endring_cols = ['% endring mot NP', '% endring mot NP.1'] # Legg til ny endringsprosent hver tertial\n",
    "for col in prosent_endring_cols:\n",
    "    df[col] = df[col].apply(lambda x: set_plus(x))"
   ]
  },
  {
   "cell_type": "code",
   "execution_count": null,
   "id": "816091bf-a792-4fda-b934-b379a5f0242e",
   "metadata": {},
   "outputs": [],
   "source": [
    "df.tail()"
   ]
  },
  {
   "cell_type": "code",
   "execution_count": null,
   "id": "e2f49d61-bafb-487f-b049-b1ddf215cf56",
   "metadata": {},
   "outputs": [],
   "source": [
    "# Hardkoder en linje fordi NP er \"-\" og ikke \"0%\":\n",
    "df.loc[df.shape[0]-1, \"prosent_flagg\"] = True     \n",
    "\n",
    "### Fjern målepunkter med bare \"-\" (hvis ønskelig):\n",
    "#df.loc[df.shape[0]-1, \"Nullpunktsmåling\"] = np.nan\n",
    "#df.drop([0,7,11,17,18,19,28] , inplace=True)"
   ]
  },
  {
   "cell_type": "code",
   "execution_count": null,
   "id": "c4ef062f-b773-482e-9d5e-fd69e1de651f",
   "metadata": {},
   "outputs": [],
   "source": [
    "def break_lines(string, max_letters):\n",
    "    N = len(string)\n",
    "    if len(string) > max_letters:\n",
    "        i = max_letters\n",
    "        while i < N and string[i] != \" \":\n",
    "            i += 1\n",
    "        if i < N:\n",
    "            string = string[:i] + '<br>' + string[i:]\n",
    "    return string"
   ]
  },
  {
   "cell_type": "code",
   "execution_count": null,
   "id": "0aaef888-05ce-4556-838e-6155fa9c98ee",
   "metadata": {},
   "outputs": [],
   "source": [
    "df[\"Måleparameter\"] = df.Måleparameter.apply(lambda x: break_lines(x, 50))"
   ]
  },
  {
   "cell_type": "code",
   "execution_count": null,
   "id": "e01e8eb3-3d54-4f01-8aa9-dba6ad4af46c",
   "metadata": {},
   "outputs": [],
   "source": [
    "mp_per_op = df.groupby(\"Operativt mål\")[\"Måleparameter\"].count().to_dict()"
   ]
  },
  {
   "cell_type": "code",
   "execution_count": null,
   "id": "91bf9d9c-89ec-4288-894a-4b76c379f422",
   "metadata": {},
   "outputs": [],
   "source": [
    "df = df.T"
   ]
  },
  {
   "cell_type": "code",
   "execution_count": null,
   "id": "7837c41e-736f-46e8-972d-4d3aa51c6722",
   "metadata": {},
   "outputs": [],
   "source": [
    "df"
   ]
  },
  {
   "cell_type": "code",
   "execution_count": null,
   "id": "bafc5c89-2c61-46ec-b81b-8f7d201a3f9f",
   "metadata": {},
   "outputs": [],
   "source": [
    "operatives = []\n",
    "prev_op = \"\"\n",
    "j = 1\n",
    "for i in range(df.shape[1]):\n",
    "    col = df.iloc[:,i]\n",
    "    op = col[\"Operativt mål\"]\n",
    "    mparam = col[\"Måleparameter\"]\n",
    "    new_op = op != prev_op\n",
    "    if new_op:\n",
    "        print(op)\n",
    "        j = 1\n",
    "        # Append objekt for opprettet mål\n",
    "        if prev_op != \"\":\n",
    "            operatives.append(Op)\n",
    "        # Lag objekt for nytt operativt mål\n",
    "        Op = opera.Operative(op, mp_per_op[op])\n",
    "    prev_op = op\n",
    "    Op.MPs.append(opera.MP.from_series(col=col, i=j, n=len(operatives)%7))\n",
    "    j += 1\n",
    "# Append siste operative mål\n",
    "operatives.append(Op)"
   ]
  },
  {
   "cell_type": "code",
   "execution_count": null,
   "id": "51477b42-63db-498a-8492-62e742ed7341",
   "metadata": {},
   "outputs": [],
   "source": [
    "story = ds.DataStory(\"Operative mål i PO Pensjon\")\n",
    "story.markdown(\"# Operative mål i PO Pensjon\")\n",
    "story.markdown(\"Oversikt over operative mål i PO Pensjon og tilhørende målepunkter. Enkelte målepunkter er ikke inkludert her. Prosent i plottene angir endring fra nullpunktsmåling.\")\n",
    "for op in operatives:\n",
    "    story.header(op.name, level=1)\n",
    "    print(op.name)\n",
    "    op.big_fig = op.make_big_fig()\n",
    "    story.plotly(op.big_fig.to_json())\n",
    "    \n",
    "    mp_text = \"\"\n",
    "    \n",
    "    for mp in op.MPs:\n",
    "        if not pd.isna(mp.col.Beskrivelse):\n",
    "            mp_text += f\"**{mp.name.replace('<br>', '')}:** \" + mp.col.Beskrivelse  \n",
    "        if not pd.isna(mp.col.Kommentar):\n",
    "            mp_text += \"  \\n *Kommentar:* \" + mp.col.Kommentar\n",
    "        mp_text += \"  \\n  \\n\"\n",
    "        print(mp.name)\n",
    "    story.markdown(mp_text)"
   ]
  },
  {
   "cell_type": "code",
   "execution_count": null,
   "id": "623154a1-abdb-47d0-af65-e1faf98bc143",
   "metadata": {},
   "outputs": [],
   "source": [
    "#story.publish(url=\"https://nada.ekstern.dev.nav.no/api\") #dev\n",
    "story.publish(url=\"https://nada.intern.nav.no/api\") #prod\n",
    "#story.update(url=\"https://nada.intern.nav.no/api\", token='ed32f304-8fc4-489f-b08d-c6b1b719f22e')"
   ]
  },
  {
   "cell_type": "markdown",
   "id": "17813912-b26d-4680-ac90-b9ff82b6cc0d",
   "metadata": {},
   "source": [
    "# Make dataproduct"
   ]
  },
  {
   "cell_type": "code",
   "execution_count": null,
   "id": "c9fe6c65-8519-4673-9e59-67095aa5f4c5",
   "metadata": {},
   "outputs": [],
   "source": [
    "df.T.head()"
   ]
  },
  {
   "cell_type": "code",
   "execution_count": null,
   "id": "c4bc1d3e-2ca9-4a26-bf37-ec91f0cab298",
   "metadata": {},
   "outputs": [],
   "source": [
    "df_dp = (\n",
    "    df\n",
    "    .T\n",
    "    .drop([\"NP gjennomført\", \"% endring mot NP\", \"% endring mot NP.1\", \"% endring mot NP.2\", \"Måling T3\"], axis=1)\n",
    "    .rename(columns = {\"Måleparameter\": \"MP\",\n",
    "           \"Operativt mål\": \"OM\",\n",
    "           \"Nullpunktsmåling\": \"NP\",\n",
    "           \"Måling T1\": \"T1\",\n",
    "           \"Måling T2\": \"T2\"\n",
    "                      })\n",
    "    .melt(id_vars=[\"MP\", \"OM\", \"Beskrivelse\", \"Kommentar\", \"prosent_flagg\"],\n",
    "          var_name=\"Tertial\",\n",
    "          value_name='Verdi')\n",
    "    .sort_values([\"OM\", \"MP\"]).\n",
    "    reset_index(drop=True)\n",
    ")"
   ]
  },
  {
   "cell_type": "code",
   "execution_count": null,
   "id": "bd3da71d-b7a4-41b6-aa1c-68f400f02bb4",
   "metadata": {},
   "outputs": [],
   "source": [
    "df_dp.head()"
   ]
  },
  {
   "cell_type": "code",
   "execution_count": null,
   "id": "e1b12dc3-a3fd-4d89-b021-71d68ff83a3f",
   "metadata": {},
   "outputs": [],
   "source": [
    "from google.cloud.bigquery import Client, LoadJobConfig\n",
    "\n",
    "table_id = f'teampensjon-prod-cebd.operative_mal.mal22'\n",
    "job_config = LoadJobConfig(\n",
    "    write_disposition=\"WRITE_TRUNCATE\",\n",
    ")\n",
    "\n",
    "client = Client(project=\"teampensjon-prod-cebd\")\n",
    "\n",
    "job = client.load_table_from_dataframe(df_dp, table_id, job_config=job_config)\n",
    "job.result()"
   ]
  }
 ],
 "metadata": {
  "environment": {
   "kernel": "python3",
   "name": "common-cpu.m98",
   "type": "gcloud",
   "uri": "gcr.io/deeplearning-platform-release/base-cpu:m98"
  },
  "kernelspec": {
   "display_name": "Python 3",
   "language": "python",
   "name": "python3"
  },
  "language_info": {
   "codemirror_mode": {
    "name": "ipython",
    "version": 3
   },
   "file_extension": ".py",
   "mimetype": "text/x-python",
   "name": "python",
   "nbconvert_exporter": "python",
   "pygments_lexer": "ipython3",
   "version": "3.7.12"
  }
 },
 "nbformat": 4,
 "nbformat_minor": 5
}
