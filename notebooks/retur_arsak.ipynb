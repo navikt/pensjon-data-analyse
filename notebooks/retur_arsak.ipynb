{
 "cells": [
  {
   "cell_type": "code",
   "execution_count": null,
   "metadata": {},
   "outputs": [],
   "source": [
    "import pandas as pd\n",
    "import numpy as np\n",
    "import os\n",
    "import sys\n",
    "import importlib\n",
    "import plotly.express as px\n",
    "from datetime import datetime\n",
    "\n",
    "sys.path.append('../lib')\n",
    "import utils\n",
    "import pandas_utils\n",
    "import pesys_utils\n",
    "\n",
    "importlib.reload(utils)\n",
    "importlib.reload(pandas_utils)\n",
    "importlib.reload(pesys_utils)\n",
    "\n",
    "utils.set_secrets_as_env()"
   ]
  },
  {
   "cell_type": "code",
   "execution_count": null,
   "metadata": {},
   "outputs": [],
   "source": [
    "con = pesys_utils.open_pen_connection()"
   ]
  },
  {
   "cell_type": "code",
   "execution_count": null,
   "metadata": {},
   "outputs": [],
   "source": [
    "df = pandas_utils.pandas_from_sql(con=con, sqlfile='../sql/retur_arsak.sql', lowercase=True, tuning=10000)"
   ]
  },
  {
   "cell_type": "code",
   "execution_count": null,
   "metadata": {},
   "outputs": [],
   "source": [
    "df[\"dato\"] = pd.to_datetime(df.dato)\n",
    "df_recent = df[df.dato.dt.year == 2021]\n",
    "df_recent.head()"
   ]
  },
  {
   "cell_type": "code",
   "execution_count": null,
   "metadata": {},
   "outputs": [],
   "source": [
    "px.bar(df_recent, \"dato\", \"antall\", color=\"sakstype\")"
   ]
  },
  {
   "attachments": {},
   "cell_type": "markdown",
   "metadata": {},
   "source": [
    "Problem 3.aug 2023: Tabellen t_k_krav_ret_arsak har ikke blitt oppdatert siden 21.06.21"
   ]
  }
 ],
 "metadata": {
  "kernelspec": {
   "display_name": "venv",
   "language": "python",
   "name": "python3"
  },
  "language_info": {
   "codemirror_mode": {
    "name": "ipython",
    "version": 3
   },
   "file_extension": ".py",
   "mimetype": "text/x-python",
   "name": "python",
   "nbconvert_exporter": "python",
   "pygments_lexer": "ipython3",
   "version": "3.9.2"
  },
  "orig_nbformat": 4
 },
 "nbformat": 4,
 "nbformat_minor": 2
}
