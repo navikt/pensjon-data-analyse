{
 "cells": [
  {
   "cell_type": "code",
   "execution_count": null,
   "id": "97609a29-7c05-4116-bd14-ba99127ce37e",
   "metadata": {},
   "outputs": [],
   "source": [
    "import cx_Oracle\n",
    "import pandas as pd\n",
    "import numpy as np\n",
    "import sys\n",
    "import os\n",
    "import importlib\n",
    "import plotly.express as px\n",
    "import plotly.graph_objects as go\n",
    "from datetime import datetime\n",
    "from time import time\n",
    "from plotly.subplots import make_subplots\n",
    "from datastory import DataStory\n",
    "\n",
    "from google.cloud import secretmanager\n",
    "from google.cloud.bigquery import Client, LoadJobConfig\n",
    "\n",
    "sys.path.append('../lib')\n",
    "import pandas_utils\n",
    "import pesys_utils\n",
    "import autograd_convenience\n",
    "import utils\n",
    "\n",
    "importlib.reload(pandas_utils)\n",
    "importlib.reload(pesys_utils)\n",
    "importlib.reload(autograd_convenience)\n",
    "importlib.reload(utils)\n",
    "\n",
    "utils.set_secrets_as_env()"
   ]
  },
  {
   "cell_type": "code",
   "execution_count": null,
   "id": "e6df6b42-8f27-4c31-9350-c2c29f74172e",
   "metadata": {},
   "outputs": [],
   "source": [
    "tuning = 10000\n",
    "\n",
    "con = pesys_utils.open_pen_connection()\n",
    "df_kontrollpunkt = pandas_utils.pandas_from_sql('../sql/kontrollpunkt.sql', con=con, tuning=tuning, lowercase=True)\n",
    "con.close()"
   ]
  },
  {
   "cell_type": "code",
   "execution_count": null,
   "id": "c1248f44-b515-4cf6-8f8a-5e908049d6de",
   "metadata": {},
   "outputs": [],
   "source": [
    "df_kontrollpunkt.head()"
   ]
  },
  {
   "cell_type": "code",
   "execution_count": null,
   "id": "ce89da8f-7513-4f96-950a-271aef3807e1",
   "metadata": {},
   "outputs": [],
   "source": [
    "df_2023 = df_kontrollpunkt[df_kontrollpunkt.dato.dt.year == 2023]"
   ]
  },
  {
   "cell_type": "code",
   "execution_count": null,
   "id": "9c7bf0f7-dc00-4401-9d30-cefe47099670",
   "metadata": {},
   "outputs": [],
   "source": [
    "px.bar(df_2023, \"dato\", \"antall\", color=\"sakstype\")"
   ]
  },
  {
   "cell_type": "code",
   "execution_count": null,
   "id": "ac26d16c-d6cd-404e-8d51-2a67bda812a6",
   "metadata": {},
   "outputs": [],
   "source": [
    "client = Client(project=\"pensjon-saksbehandli-prod-1f83\")\n",
    "\n",
    "table_id = 'pensjon-saksbehandli-prod-1f83.kontrollpunkt.kontrollpunkt_daglig'\n",
    "job_config = LoadJobConfig(\n",
    "    write_disposition=\"WRITE_TRUNCATE\",\n",
    ")\n",
    "\n",
    "start = time()\n",
    "job = client.load_table_from_dataframe(df_kontrollpunkt, table_id, job_config=job_config)\n",
    "job.result()\n",
    "\n",
    "end = time()\n",
    "\n",
    "print(f'{len(df_kontrollpunkt)} rad(er) ble skrevet til bigquery etter {end-start} sekunder.')"
   ]
  }
 ],
 "metadata": {
  "environment": {
   "kernel": "python3",
   "name": "common-cpu.m98",
   "type": "gcloud",
   "uri": "gcr.io/deeplearning-platform-release/base-cpu:m98"
  },
  "kernelspec": {
   "display_name": "Python 3",
   "language": "python",
   "name": "python3"
  },
  "language_info": {
   "codemirror_mode": {
    "name": "ipython",
    "version": 3
   },
   "file_extension": ".py",
   "mimetype": "text/x-python",
   "name": "python",
   "nbconvert_exporter": "python",
   "pygments_lexer": "ipython3",
   "version": "3.7.12"
  }
 },
 "nbformat": 4,
 "nbformat_minor": 5
}
