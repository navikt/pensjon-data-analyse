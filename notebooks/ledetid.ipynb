{
 "cells": [
  {
   "cell_type": "code",
   "execution_count": null,
   "id": "e3358e60-d453-4882-b8e0-acbf7498e1c7",
   "metadata": {
    "tags": []
   },
   "outputs": [],
   "source": [
    "import pandas as pd\n",
    "import numpy as np\n",
    "import os\n",
    "import sys\n",
    "import importlib\n",
    "\n",
    "from datetime import datetime\n",
    "from google.cloud.bigquery import Client, LoadJobConfig\n",
    "\n",
    "sys.path.append('../lib')\n",
    "import utils\n",
    "import pandas_utils\n",
    "import pesys_utils\n",
    "\n",
    "importlib.reload(utils)\n",
    "importlib.reload(pandas_utils)\n",
    "importlib.reload(pesys_utils)\n",
    "\n",
    "utils.set_secrets_as_env()"
   ]
  },
  {
   "cell_type": "code",
   "execution_count": null,
   "id": "2fbd3ffe-a1a8-4d32-b17f-4b1a8e36cb5e",
   "metadata": {},
   "outputs": [],
   "source": [
    "con = pesys_utils.open_pen_connection()\n",
    "\n",
    "df_ledetid = pandas_utils.pandas_from_sql('../sql/ledetid.sql', con, tuning=200000)\n",
    "con.close()"
   ]
  },
  {
   "cell_type": "code",
   "execution_count": null,
   "id": "c05a81cb-8c5b-4553-8529-34ae015bf6ac",
   "metadata": {},
   "outputs": [],
   "source": [
    "df = df_ledetid.copy()"
   ]
  },
  {
   "cell_type": "code",
   "execution_count": null,
   "id": "4d065931-2809-4110-b4df-fad4aaa59bd3",
   "metadata": {},
   "outputs": [],
   "source": [
    "df.head()"
   ]
  },
  {
   "cell_type": "code",
   "execution_count": null,
   "id": "e4896dc3-0805-4d21-ab0a-4c5d20834244",
   "metadata": {},
   "outputs": [],
   "source": [
    "df = df.merge(df.groupby([\"AR_MANED\", \"STOENAD\", \"KRAVTYPE\"]).DAGER.quantile(.95),\n",
    "             on=[\"AR_MANED\", \"STOENAD\", \"KRAVTYPE\"],\n",
    "             suffixes=[\"\", \"_KVANTIL95\"])"
   ]
  },
  {
   "cell_type": "code",
   "execution_count": null,
   "id": "f8d8c1fb-52f6-4972-b208-89193c0e8954",
   "metadata": {},
   "outputs": [],
   "source": [
    "df.loc[:,\"AR\"] = pd.to_numeric(df.AR)\n",
    "df.loc[:,\"MANED\"] = pd.to_numeric(df.MANED)\n",
    "df = df[df.AR == 2022]\n",
    "df = df[df.KRAVTYPE.isin(pesys_utils.fra_bruker)]\n",
    "df = df[df.STOENAD == \"Alderspensjon\"]\n",
    "df = df[df.DAGER < df.DAGER_KVANTIL95] # Fjerne verste outliers - Er det egentlig lurt?"
   ]
  },
  {
   "cell_type": "code",
   "execution_count": null,
   "id": "47d83614-58ee-416e-ac9d-2dd7cfd73943",
   "metadata": {},
   "outputs": [],
   "source": [
    "df.head()"
   ]
  },
  {
   "cell_type": "code",
   "execution_count": null,
   "id": "28e19c09-0f8d-4f5a-9c6f-9f22539255d2",
   "metadata": {},
   "outputs": [],
   "source": [
    "import plotly.express as px\n",
    "figs = []\n",
    "hists = []\n",
    "\n",
    "for i, kravtype in enumerate(pesys_utils.fra_bruker):\n",
    "    df_plot = df[df.KRAVTYPE == kravtype]\n",
    "    if df_plot.shape[0] > 0:\n",
    "        hist = px.histogram(df_plot, \"DAGER\", title=kravtype)\n",
    "        hist.show()\n",
    "        hists.append(hist)\n",
    "        \n",
    "        #fig = px.box(df_plot, \"MANED\", \"DAGER\", color=\"KRAVTYPE\", boxmode=\"group\", title=kravtype, height=600)\n",
    "        #fig.show()\n",
    "        #figs.append(fig)"
   ]
  }
 ],
 "metadata": {
  "environment": {
   "kernel": "python3",
   "name": "common-cpu.m98",
   "type": "gcloud",
   "uri": "gcr.io/deeplearning-platform-release/base-cpu:m98"
  },
  "kernelspec": {
   "display_name": "Python 3",
   "language": "python",
   "name": "python3"
  },
  "language_info": {
   "codemirror_mode": {
    "name": "ipython",
    "version": 3
   },
   "file_extension": ".py",
   "mimetype": "text/x-python",
   "name": "python",
   "nbconvert_exporter": "python",
   "pygments_lexer": "ipython3",
   "version": "3.7.12"
  }
 },
 "nbformat": 4,
 "nbformat_minor": 5
}
