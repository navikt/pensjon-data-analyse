{
 "cells": [
  {
   "cell_type": "code",
   "execution_count": null,
   "id": "97609a29-7c05-4116-bd14-ba99127ce37e",
   "metadata": {},
   "outputs": [],
   "source": [
    "import cx_Oracle\n",
    "import pandas as pd\n",
    "import numpy as np\n",
    "import sys\n",
    "import os\n",
    "import importlib\n",
    "import plotly.express as px\n",
    "import plotly.graph_objects as go\n",
    "from plotly.subplots import make_subplots\n",
    "from datastory import DataStory\n",
    "\n",
    "from google.cloud import secretmanager\n",
    "\n",
    "sys.path.append('../lib')\n",
    "import pandas_utils\n",
    "import pesys_utils\n",
    "import autograd_convenience\n",
    "import utils\n",
    "\n",
    "importlib.reload(pandas_utils)\n",
    "importlib.reload(pesys_utils)\n",
    "importlib.reload(autograd_convenience)\n",
    "importlib.reload(utils)\n",
    "\n",
    "utils.set_secrets_as_env()"
   ]
  },
  {
   "cell_type": "code",
   "execution_count": null,
   "id": "d0171ee8-bfea-4897-b644-ac60ef222d1b",
   "metadata": {
    "tags": []
   },
   "outputs": [],
   "source": [
    "try:\n",
    "    con = pesys_utils.open_pen_connection()\n",
    "except cx_Oracle.DatabaseError:\n",
    "    con.close()\n",
    "    con = pesys_utils.open_pen_connection()\n",
    "    \n",
    "df_list = pandas_utils.pandas_from_sql('../sql/forslag_auto.sql', con, tuning = 100000)\n",
    "#df_list = pandas_utils.pandas_from_sql('../sql/v8_kun_norge.sql', con)\n",
    "con.close()\n",
    "#df_list[\"ÅR-TERTIAL\"] = df_list[\"ÅR-TERTIAL\"].apply(lambda x: x[:4] + \"-\" + x[4:])"
   ]
  },
  {
   "cell_type": "code",
   "execution_count": null,
   "id": "a250cf40-4460-493c-b186-81cdac5678ab",
   "metadata": {},
   "outputs": [],
   "source": [
    "df_list.head()"
   ]
  },
  {
   "cell_type": "code",
   "execution_count": null,
   "id": "baeee59d-8f6f-4495-ac2f-a9b1488fa181",
   "metadata": {},
   "outputs": [],
   "source": [
    "df_list[\"DATO_VEDTAK\"] = df_list.DATO_VEDTAK.apply(pd.Timestamp.to_pydatetime)\n",
    "df_list[\"AAR_TERTIAL\"] = df_list.DATO_VEDTAK.apply(lambda x: str(x.year) + \"-\" + str((x.month - 1) // 4 + 1))"
   ]
  },
  {
   "cell_type": "code",
   "execution_count": null,
   "id": "466c79c1-cc6c-4686-877c-19042647c345",
   "metadata": {},
   "outputs": [],
   "source": [
    "df_list.head()"
   ]
  },
  {
   "cell_type": "code",
   "execution_count": null,
   "id": "17ebd5a6-25fd-4832-b6f7-ef1d067440d7",
   "metadata": {},
   "outputs": [],
   "source": [
    "from google.cloud.bigquery import Client, LoadJobConfig\n",
    "\n",
    "table_id = f'pensjon-saksbehandli-prod-1f83.vedtak.vedtak_automatisering_v2'\n",
    "job_config = LoadJobConfig(\n",
    "    write_disposition=\"WRITE_TRUNCATE\",\n",
    ")\n",
    "\n",
    "client = Client(project=\"pensjon-saksbehandli-prod-1f83\")\n",
    "\n",
    "job = client.load_table_from_dataframe(df_list, table_id, job_config=job_config)\n",
    "job.result()"
   ]
  },
  {
   "cell_type": "markdown",
   "id": "a9e2a05d-ee08-496c-a309-e8e842a7e110",
   "metadata": {},
   "source": [
    "# Krav"
   ]
  },
  {
   "cell_type": "code",
   "execution_count": null,
   "id": "0b4a5ac0-8bea-44db-b228-3dbf4301eebd",
   "metadata": {},
   "outputs": [],
   "source": [
    "try:\n",
    "    con = pesys_utils.open_pen_connection()\n",
    "except cx_Oracle.DatabaseError:\n",
    "    con.close()\n",
    "    con = pesys_utils.open_pen_connection()\n",
    "    \n",
    "df_krav = pandas_utils.pandas_from_sql('../sql/forslag_auto_krav.sql', con, tuning=100000, lowercase=True)\n",
    "#df_list = pandas_utils.pandas_from_sql('../sql/v8_kun_norge.sql', con)\n",
    "con.close()\n",
    "#df_list[\"ÅR-TERTIAL\"] = df_list[\"ÅR-TERTIAL\"].apply(lambda x: x[:4] + \"-\" + x[4:])"
   ]
  },
  {
   "cell_type": "code",
   "execution_count": null,
   "id": "05f1e34b-0752-446d-b2e4-305ba0de348c",
   "metadata": {},
   "outputs": [],
   "source": [
    "def add_time_columns_to_df(df, tcol):\n",
    "    df[\"tertial\"] = (df[tcol].dt.month - 1) // 4 + 1\n",
    "    df[\"year\"] = df[tcol].dt.year\n",
    "    df[\"month\"] = df[tcol].dt.month\n",
    "    df[\"0month\"] = df[\"month\"].apply(str).apply(lambda x: x.zfill(2))\n",
    "    df[\"year_month\"] = df[[\"year\", \"0month\"]].apply(lambda row: \"-\".join(row.values.astype(str)), axis=1)\n",
    "    df[\"year_tertial\"] = df[[\"year\", \"tertial\"]].apply(lambda row: \"-\".join(row.values.astype(str)), axis=1)\n",
    "    return df\n",
    "\n",
    "df_timed = add_time_columns_to_df(df_krav, \"dato_opprettet\")"
   ]
  },
  {
   "cell_type": "code",
   "execution_count": null,
   "id": "7e00c4bd-7838-4d17-ad3d-ea3a9edc732a",
   "metadata": {},
   "outputs": [],
   "source": [
    "df_krav.head()"
   ]
  },
  {
   "cell_type": "code",
   "execution_count": null,
   "id": "05d95393-3008-4933-8860-cf64ab784a95",
   "metadata": {},
   "outputs": [],
   "source": [
    "df_forstegang = df_krav[(df_krav.sakstype == \"Alderspensjon\") & (df_forstegang.batch == \"Ikke batch\") & (df_forstegang.kravtype.isin(pesys_utils.forstegang))]"
   ]
  },
  {
   "cell_type": "code",
   "execution_count": null,
   "id": "8d5224d9-a734-456b-9ad9-17ea5c2c425d",
   "metadata": {},
   "outputs": [],
   "source": [
    "def group_df_on_var(df, period, var):\n",
    "    if type(var) is list or type(var) is tuple:\n",
    "        df = df.groupby([period] + var)[period].count().reset_index(name=\"antall\")\n",
    "    else:\n",
    "        df = df.groupby([period, var])[var].count().reset_index(name=\"antall\")\n",
    "\n",
    "    df = df.merge(df.groupby([period], as_index=False).antall.sum(),\n",
    "                    left_on=[period],\n",
    "                    right_on=[period],\n",
    "                    suffixes=(\"\",\" totalt\")\n",
    "            )\n",
    "    df[\"andel\"] = df.antall.divide(df[\"antall totalt\"])\n",
    "    return df"
   ]
  },
  {
   "cell_type": "code",
   "execution_count": null,
   "id": "5b3bc006-0636-4f8a-856f-0ebf466b6f41",
   "metadata": {},
   "outputs": [],
   "source": [
    "df_auto = group_df_on_var(df_forstegang, \"year_month\", \"automatisering\")"
   ]
  },
  {
   "cell_type": "code",
   "execution_count": null,
   "id": "b4e824d3-1669-4b65-bbbf-2b293d009ee1",
   "metadata": {},
   "outputs": [],
   "source": [
    "df_auto.head()"
   ]
  },
  {
   "cell_type": "code",
   "execution_count": null,
   "id": "f063c28c-d783-46ce-800c-2b40f77316dd",
   "metadata": {},
   "outputs": [],
   "source": [
    "px.line(df_auto[df_auto.automatisering == \"AUTO\"], \"year_month\", \"andel\")"
   ]
  }
 ],
 "metadata": {
  "environment": {
   "kernel": "python3",
   "name": "common-cpu.m98",
   "type": "gcloud",
   "uri": "gcr.io/deeplearning-platform-release/base-cpu:m98"
  },
  "kernelspec": {
   "display_name": "Python 3",
   "language": "python",
   "name": "python3"
  },
  "language_info": {
   "codemirror_mode": {
    "name": "ipython",
    "version": 3
   },
   "file_extension": ".py",
   "mimetype": "text/x-python",
   "name": "python",
   "nbconvert_exporter": "python",
   "pygments_lexer": "ipython3",
   "version": "3.7.12"
  }
 },
 "nbformat": 4,
 "nbformat_minor": 5
}
