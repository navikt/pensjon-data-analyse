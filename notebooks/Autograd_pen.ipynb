{
 "cells": [
  {
   "cell_type": "markdown",
   "id": "f1c5e5ca-dbcc-4b1f-8656-c8a5328b7332",
   "metadata": {},
   "source": [
    "Note to self 6/4-22:\n",
    "Totalt antall stemmer godt med PSAK120.\n",
    "Alt med DP stemmer bra med excel, men ikke så bra med PSAK120.\n",
    "Automatisk stemmer så bra at autograd blir det samme på figur 1, men litt unøyaktighet her også.\n",
    "\n",
    "\n",
    "For the future 22/4-22:\n",
    "Når vi joiner med `PEN.T_SKJEMA` forsvinner (nesten) alle ikke-selvbetjente saker. Teste ut andre typer join for å konservere antall saker. Hvordan håndtere resulterende nullverdier fra `PEN.T_SKJEMA`?\n",
    "Kan være nødvendig å se mer på `OPPRETTET_AV`; mye der som kommer fra batch."
   ]
  },
  {
   "cell_type": "code",
   "execution_count": 125,
   "id": "9df7d94b-36ab-41d1-a56c-dbaf13ad00aa",
   "metadata": {},
   "outputs": [
    {
     "ename": "ModuleNotFoundError",
     "evalue": "No module named 'pandas_utils'",
     "output_type": "error",
     "traceback": [
      "\u001b[0;31m---------------------------------------------------------------------------\u001b[0m",
      "\u001b[0;31mModuleNotFoundError\u001b[0m                       Traceback (most recent call last)",
      "\u001b[0;32m/tmp/ipykernel_15689/1812638402.py\u001b[0m in \u001b[0;36m<module>\u001b[0;34m\u001b[0m\n\u001b[1;32m     11\u001b[0m \u001b[0;34m\u001b[0m\u001b[0m\n\u001b[1;32m     12\u001b[0m \u001b[0msys\u001b[0m\u001b[0;34m.\u001b[0m\u001b[0mpath\u001b[0m\u001b[0;34m.\u001b[0m\u001b[0mappend\u001b[0m\u001b[0;34m(\u001b[0m\u001b[0;34m'../../lib'\u001b[0m\u001b[0;34m)\u001b[0m\u001b[0;34m\u001b[0m\u001b[0;34m\u001b[0m\u001b[0m\n\u001b[0;32m---> 13\u001b[0;31m \u001b[0;32mimport\u001b[0m \u001b[0mpandas_utils\u001b[0m \u001b[0;32mas\u001b[0m \u001b[0mut\u001b[0m\u001b[0;34m\u001b[0m\u001b[0;34m\u001b[0m\u001b[0m\n\u001b[0m",
      "\u001b[0;31mModuleNotFoundError\u001b[0m: No module named 'pandas_utils'"
     ]
    }
   ],
   "source": [
    "import cx_Oracle\n",
    "import pandas as pd\n",
    "import numpy as np\n",
    "import plotly.express as px\n",
    "import plotly.graph_objects as go\n",
    "from plotly.subplots import make_subplots\n",
    "\n",
    "from google.cloud import secretmanager"
   ]
  },
  {
   "cell_type": "code",
   "execution_count": 126,
   "id": "b4a2e654-2617-4c5c-bf6a-5afe6886b5f4",
   "metadata": {},
   "outputs": [],
   "source": [
    "secrets = secretmanager.SecretManagerServiceClient()\n",
    "resource_name = f\"projects/knada-gcp/secrets/vebjorns-hemmelighet/versions/latest\"\n",
    "secret = secrets.access_secret_version(name=resource_name)\n",
    "secrets = dict([line.split(\"=\") for line in secret.payload.data.decode('UTF-8').splitlines()])\n",
    "\n",
    "ORACLE_HOST = '10.53.136.15'\n",
    "ORACLE_PORT = '1521'\n",
    "ORACLE_SERVICE = 'pen'"
   ]
  },
  {
   "cell_type": "code",
   "execution_count": 127,
   "id": "38a1762b-2a3d-4bee-8b1b-bae781062408",
   "metadata": {},
   "outputs": [],
   "source": [
    "dsnStr = cx_Oracle.makedsn(ORACLE_HOST, ORACLE_PORT, service_name=ORACLE_SERVICE)"
   ]
  },
  {
   "cell_type": "code",
   "execution_count": null,
   "id": "851c9c79-2291-48e8-bb9c-15e5e0c2e074",
   "metadata": {},
   "outputs": [],
   "source": [
    "con = cx_Oracle.connect(user=secrets[\"PEN_USER\"], password=secrets[\"PEN_PASSWORD\"],\n",
    "                               dsn=dsnStr)"
   ]
  },
  {
   "cell_type": "code",
   "execution_count": 106,
   "id": "4d04a3f8-67f7-49bf-868e-7160643053b1",
   "metadata": {},
   "outputs": [],
   "source": [
    "def pandas_from_sql(filename: str, con=con):\n",
    "    with open(filename, 'r') as file:\n",
    "        query = file.read()\n",
    "    return pd.read_sql(query, con=con)"
   ]
  },
  {
   "cell_type": "code",
   "execution_count": 107,
   "id": "52d4b02f-d19d-4d13-a323-af35805923bb",
   "metadata": {},
   "outputs": [],
   "source": [
    "df_total = pandas_from_sql('../sql/Forstegangskrav_mnd.sql', con)"
   ]
  },
  {
   "cell_type": "code",
   "execution_count": 108,
   "id": "ae4d666d-6ffb-4d09-811e-aba190fee4fa",
   "metadata": {},
   "outputs": [],
   "source": [
    "df_dp_tot = pandas_from_sql('../sql/Forstegangskrav_AP_DP.sql', con)"
   ]
  },
  {
   "cell_type": "code",
   "execution_count": 109,
   "id": "a134636e-f48d-4f41-9ae9-17353f9ceaba",
   "metadata": {},
   "outputs": [],
   "source": [
    "df_autograd_dp = pandas_from_sql('../sql/Autograd_DP.sql', con)"
   ]
  },
  {
   "cell_type": "code",
   "execution_count": 110,
   "id": "dbb36fe6-31d4-4b58-ab79-fa3862c461f6",
   "metadata": {},
   "outputs": [],
   "source": [
    "test = pandas_from_sql('../sql/AutoSelv.sql', con)"
   ]
  },
  {
   "cell_type": "code",
   "execution_count": 111,
   "id": "20c900c0-9d63-47da-91a7-d8a61ef5904c",
   "metadata": {},
   "outputs": [],
   "source": [
    "con.close()"
   ]
  },
  {
   "cell_type": "code",
   "execution_count": 112,
   "id": "38b786ca-261e-4e5d-b69c-ebba61b20746",
   "metadata": {},
   "outputs": [],
   "source": [
    "def get_dp_behandling(df, behandling):\n",
    "    return df[df[\"K_BEHANDLING_T\"] == behandling]"
   ]
  },
  {
   "cell_type": "code",
   "execution_count": 113,
   "id": "a02cd075-6948-4582-a0b0-bd0f756cacdc",
   "metadata": {},
   "outputs": [
    {
     "data": {
      "text/html": [
       "<div>\n",
       "<style scoped>\n",
       "    .dataframe tbody tr th:only-of-type {\n",
       "        vertical-align: middle;\n",
       "    }\n",
       "\n",
       "    .dataframe tbody tr th {\n",
       "        vertical-align: top;\n",
       "    }\n",
       "\n",
       "    .dataframe thead th {\n",
       "        text-align: right;\n",
       "    }\n",
       "</style>\n",
       "<table border=\"1\" class=\"dataframe\">\n",
       "  <thead>\n",
       "    <tr style=\"text-align: right;\">\n",
       "      <th></th>\n",
       "      <th>ÅR</th>\n",
       "      <th>MÅNED</th>\n",
       "      <th>ANTALL</th>\n",
       "    </tr>\n",
       "  </thead>\n",
       "  <tbody>\n",
       "    <tr>\n",
       "      <th>145</th>\n",
       "      <td>2021</td>\n",
       "      <td>1</td>\n",
       "      <td>4475</td>\n",
       "    </tr>\n",
       "    <tr>\n",
       "      <th>146</th>\n",
       "      <td>2021</td>\n",
       "      <td>2</td>\n",
       "      <td>3843</td>\n",
       "    </tr>\n",
       "    <tr>\n",
       "      <th>147</th>\n",
       "      <td>2021</td>\n",
       "      <td>3</td>\n",
       "      <td>3720</td>\n",
       "    </tr>\n",
       "    <tr>\n",
       "      <th>148</th>\n",
       "      <td>2021</td>\n",
       "      <td>4</td>\n",
       "      <td>3945</td>\n",
       "    </tr>\n",
       "    <tr>\n",
       "      <th>149</th>\n",
       "      <td>2021</td>\n",
       "      <td>5</td>\n",
       "      <td>3655</td>\n",
       "    </tr>\n",
       "    <tr>\n",
       "      <th>150</th>\n",
       "      <td>2021</td>\n",
       "      <td>6</td>\n",
       "      <td>3587</td>\n",
       "    </tr>\n",
       "    <tr>\n",
       "      <th>151</th>\n",
       "      <td>2021</td>\n",
       "      <td>7</td>\n",
       "      <td>2547</td>\n",
       "    </tr>\n",
       "    <tr>\n",
       "      <th>152</th>\n",
       "      <td>2021</td>\n",
       "      <td>8</td>\n",
       "      <td>3360</td>\n",
       "    </tr>\n",
       "    <tr>\n",
       "      <th>153</th>\n",
       "      <td>2021</td>\n",
       "      <td>9</td>\n",
       "      <td>3976</td>\n",
       "    </tr>\n",
       "    <tr>\n",
       "      <th>154</th>\n",
       "      <td>2021</td>\n",
       "      <td>10</td>\n",
       "      <td>3540</td>\n",
       "    </tr>\n",
       "    <tr>\n",
       "      <th>155</th>\n",
       "      <td>2021</td>\n",
       "      <td>11</td>\n",
       "      <td>3390</td>\n",
       "    </tr>\n",
       "    <tr>\n",
       "      <th>156</th>\n",
       "      <td>2021</td>\n",
       "      <td>12</td>\n",
       "      <td>2923</td>\n",
       "    </tr>\n",
       "    <tr>\n",
       "      <th>157</th>\n",
       "      <td>2022</td>\n",
       "      <td>1</td>\n",
       "      <td>4609</td>\n",
       "    </tr>\n",
       "    <tr>\n",
       "      <th>158</th>\n",
       "      <td>2022</td>\n",
       "      <td>2</td>\n",
       "      <td>3608</td>\n",
       "    </tr>\n",
       "    <tr>\n",
       "      <th>159</th>\n",
       "      <td>2022</td>\n",
       "      <td>3</td>\n",
       "      <td>4187</td>\n",
       "    </tr>\n",
       "    <tr>\n",
       "      <th>160</th>\n",
       "      <td>2022</td>\n",
       "      <td>4</td>\n",
       "      <td>3275</td>\n",
       "    </tr>\n",
       "  </tbody>\n",
       "</table>\n",
       "</div>"
      ],
      "text/plain": [
       "       ÅR  MÅNED  ANTALL\n",
       "145  2021      1    4475\n",
       "146  2021      2    3843\n",
       "147  2021      3    3720\n",
       "148  2021      4    3945\n",
       "149  2021      5    3655\n",
       "150  2021      6    3587\n",
       "151  2021      7    2547\n",
       "152  2021      8    3360\n",
       "153  2021      9    3976\n",
       "154  2021     10    3540\n",
       "155  2021     11    3390\n",
       "156  2021     12    2923\n",
       "157  2022      1    4609\n",
       "158  2022      2    3608\n",
       "159  2022      3    4187\n",
       "160  2022      4    3275"
      ]
     },
     "execution_count": 133,
     "metadata": {},
     "output_type": "execute_result"
    }
   ],
   "source": [
    "df_dp_tot.tail(16)"
   ]
  },
  {
   "cell_type": "code",
   "execution_count": 115,
   "id": "30b8cf6c-7450-497b-a9fc-04860d70d215",
   "metadata": {},
   "outputs": [
    {
     "data": {
      "text/html": [
       "<div>\n",
       "<style scoped>\n",
       "    .dataframe tbody tr th:only-of-type {\n",
       "        vertical-align: middle;\n",
       "    }\n",
       "\n",
       "    .dataframe tbody tr th {\n",
       "        vertical-align: top;\n",
       "    }\n",
       "\n",
       "    .dataframe thead th {\n",
       "        text-align: right;\n",
       "    }\n",
       "</style>\n",
       "<table border=\"1\" class=\"dataframe\">\n",
       "  <thead>\n",
       "    <tr style=\"text-align: right;\">\n",
       "      <th></th>\n",
       "      <th>ÅR</th>\n",
       "      <th>MÅNED</th>\n",
       "      <th>ANTALL</th>\n",
       "    </tr>\n",
       "  </thead>\n",
       "  <tbody>\n",
       "    <tr>\n",
       "      <th>0</th>\n",
       "      <td>2008</td>\n",
       "      <td>12</td>\n",
       "      <td>601</td>\n",
       "    </tr>\n",
       "    <tr>\n",
       "      <th>1</th>\n",
       "      <td>2009</td>\n",
       "      <td>1</td>\n",
       "      <td>1728</td>\n",
       "    </tr>\n",
       "    <tr>\n",
       "      <th>2</th>\n",
       "      <td>2009</td>\n",
       "      <td>2</td>\n",
       "      <td>5655</td>\n",
       "    </tr>\n",
       "    <tr>\n",
       "      <th>3</th>\n",
       "      <td>2009</td>\n",
       "      <td>3</td>\n",
       "      <td>4305</td>\n",
       "    </tr>\n",
       "    <tr>\n",
       "      <th>4</th>\n",
       "      <td>2009</td>\n",
       "      <td>4</td>\n",
       "      <td>4157</td>\n",
       "    </tr>\n",
       "    <tr>\n",
       "      <th>5</th>\n",
       "      <td>2009</td>\n",
       "      <td>5</td>\n",
       "      <td>4801</td>\n",
       "    </tr>\n",
       "    <tr>\n",
       "      <th>6</th>\n",
       "      <td>2009</td>\n",
       "      <td>6</td>\n",
       "      <td>5293</td>\n",
       "    </tr>\n",
       "    <tr>\n",
       "      <th>7</th>\n",
       "      <td>2009</td>\n",
       "      <td>7</td>\n",
       "      <td>5584</td>\n",
       "    </tr>\n",
       "    <tr>\n",
       "      <th>8</th>\n",
       "      <td>2009</td>\n",
       "      <td>8</td>\n",
       "      <td>4229</td>\n",
       "    </tr>\n",
       "    <tr>\n",
       "      <th>9</th>\n",
       "      <td>2009</td>\n",
       "      <td>9</td>\n",
       "      <td>4104</td>\n",
       "    </tr>\n",
       "    <tr>\n",
       "      <th>10</th>\n",
       "      <td>2009</td>\n",
       "      <td>10</td>\n",
       "      <td>5568</td>\n",
       "    </tr>\n",
       "    <tr>\n",
       "      <th>11</th>\n",
       "      <td>2009</td>\n",
       "      <td>11</td>\n",
       "      <td>3554</td>\n",
       "    </tr>\n",
       "  </tbody>\n",
       "</table>\n",
       "</div>"
      ],
      "text/plain": [
       "      ÅR  MÅNED  ANTALL\n",
       "0   2008     12     601\n",
       "1   2009      1    1728\n",
       "2   2009      2    5655\n",
       "3   2009      3    4305\n",
       "4   2009      4    4157\n",
       "5   2009      5    4801\n",
       "6   2009      6    5293\n",
       "7   2009      7    5584\n",
       "8   2009      8    4229\n",
       "9   2009      9    4104\n",
       "10  2009     10    5568\n",
       "11  2009     11    3554"
      ]
     },
     "execution_count": 115,
     "metadata": {},
     "output_type": "execute_result"
    }
   ],
   "source": [
    "df_total.head(12)"
   ]
  },
  {
   "cell_type": "code",
   "execution_count": 116,
   "id": "ff3b172c-a36d-40a7-9a81-7ea212806542",
   "metadata": {},
   "outputs": [],
   "source": [
    "df = df_dp_tot.copy()\n",
    "# Rename columns\n",
    "df.columns = [\"ÅR\", \"MÅNED\", \"DP_TOT\"]\n",
    "# Add \"ÅR-MÅNED\" TO FRONT\n",
    "df[\"ÅR-MÅNED\"] = df[[\"ÅR\", \"MÅNED\"]].apply(lambda row: '-'.join(row.values.astype(str)), axis=1)\n",
    "cols = list(df.columns.values)\n",
    "cols.insert(0, cols.pop())\n",
    "df = df[cols]"
   ]
  },
  {
   "cell_type": "code",
   "execution_count": 117,
   "id": "7991d7c6-d26d-43f6-abc8-034f390ca766",
   "metadata": {},
   "outputs": [],
   "source": [
    "# Førstegangskrav totalt minus krav som er opprettet i forbindelse med alderskonvertering\n",
    "# Stemmer mot PSAK120\n",
    "df[\"TOTALT\"] = df_total[\"ANTALL\"]\n",
    "\n",
    "df[\"AUTO\"] = get_dp_behandling(df_autograd_dp, \"AUTO\")[\"ANTALL\"].reset_index(drop=True)\n",
    "df[\"MAN\"] = get_dp_behandling(df_autograd_dp, \"MAN\")[\"ANTALL\"].reset_index(drop=True)\n",
    "\n",
    "# \"DEL_AUTO\" is missing from some months ==> indexes don't match (need to merge on month)\n",
    "tmp = get_dp_behandling(df_autograd_dp, \"DEL_AUTO\")[[\"ANTALL\", \"ÅR\", \"MÅNED\"]]\n",
    "df[\"DEL_AUTO\"] = df.merge(tmp, how=\"left\", left_on=[\"ÅR\", \"MÅNED\"], right_on=[\"ÅR\", \"MÅNED\"])[\"ANTALL\"].fillna(0).astype(int)\n",
    "\n",
    "df[\"DP_AUTOGRAD\"] = df[\"AUTO\"]/df[\"DP_TOT\"]\n",
    "df[\"AUTOGRAD\"] = df[\"AUTO\"]/df[\"TOTALT\"]\n",
    "df[\"AUTOGRAD_PROSENT\"] = df[\"AUTOGRAD\"].apply(lambda x: round(x*100, 0)).astype(int).astype(str) + '%'"
   ]
  },
  {
   "cell_type": "code",
   "execution_count": 118,
   "id": "ba733718-6f52-4562-97af-4f1021782cb7",
   "metadata": {},
   "outputs": [
    {
     "data": {
      "text/html": [
       "<div>\n",
       "<style scoped>\n",
       "    .dataframe tbody tr th:only-of-type {\n",
       "        vertical-align: middle;\n",
       "    }\n",
       "\n",
       "    .dataframe tbody tr th {\n",
       "        vertical-align: top;\n",
       "    }\n",
       "\n",
       "    .dataframe thead th {\n",
       "        text-align: right;\n",
       "    }\n",
       "</style>\n",
       "<table border=\"1\" class=\"dataframe\">\n",
       "  <thead>\n",
       "    <tr style=\"text-align: right;\">\n",
       "      <th></th>\n",
       "      <th>ÅR-MÅNED</th>\n",
       "      <th>ÅR</th>\n",
       "      <th>MÅNED</th>\n",
       "      <th>DP_TOT</th>\n",
       "      <th>TOTALT</th>\n",
       "      <th>AUTO</th>\n",
       "      <th>MAN</th>\n",
       "      <th>DEL_AUTO</th>\n",
       "      <th>DP_AUTOGRAD</th>\n",
       "      <th>AUTOGRAD</th>\n",
       "      <th>AUTOGRAD_PROSENT</th>\n",
       "    </tr>\n",
       "  </thead>\n",
       "  <tbody>\n",
       "    <tr>\n",
       "      <th>145</th>\n",
       "      <td>2021-1</td>\n",
       "      <td>2021</td>\n",
       "      <td>1</td>\n",
       "      <td>4475</td>\n",
       "      <td>5292</td>\n",
       "      <td>2605</td>\n",
       "      <td>1472</td>\n",
       "      <td>398</td>\n",
       "      <td>0.582123</td>\n",
       "      <td>0.492252</td>\n",
       "      <td>49%</td>\n",
       "    </tr>\n",
       "    <tr>\n",
       "      <th>146</th>\n",
       "      <td>2021-2</td>\n",
       "      <td>2021</td>\n",
       "      <td>2</td>\n",
       "      <td>3843</td>\n",
       "      <td>4711</td>\n",
       "      <td>2339</td>\n",
       "      <td>1130</td>\n",
       "      <td>374</td>\n",
       "      <td>0.608639</td>\n",
       "      <td>0.496498</td>\n",
       "      <td>50%</td>\n",
       "    </tr>\n",
       "    <tr>\n",
       "      <th>147</th>\n",
       "      <td>2021-3</td>\n",
       "      <td>2021</td>\n",
       "      <td>3</td>\n",
       "      <td>3720</td>\n",
       "      <td>4644</td>\n",
       "      <td>2264</td>\n",
       "      <td>1161</td>\n",
       "      <td>295</td>\n",
       "      <td>0.608602</td>\n",
       "      <td>0.487511</td>\n",
       "      <td>49%</td>\n",
       "    </tr>\n",
       "    <tr>\n",
       "      <th>148</th>\n",
       "      <td>2021-4</td>\n",
       "      <td>2021</td>\n",
       "      <td>4</td>\n",
       "      <td>3945</td>\n",
       "      <td>4772</td>\n",
       "      <td>2393</td>\n",
       "      <td>1262</td>\n",
       "      <td>290</td>\n",
       "      <td>0.606591</td>\n",
       "      <td>0.501467</td>\n",
       "      <td>50%</td>\n",
       "    </tr>\n",
       "    <tr>\n",
       "      <th>149</th>\n",
       "      <td>2021-5</td>\n",
       "      <td>2021</td>\n",
       "      <td>5</td>\n",
       "      <td>3655</td>\n",
       "      <td>4371</td>\n",
       "      <td>2152</td>\n",
       "      <td>1183</td>\n",
       "      <td>320</td>\n",
       "      <td>0.588782</td>\n",
       "      <td>0.492336</td>\n",
       "      <td>49%</td>\n",
       "    </tr>\n",
       "    <tr>\n",
       "      <th>150</th>\n",
       "      <td>2021-6</td>\n",
       "      <td>2021</td>\n",
       "      <td>6</td>\n",
       "      <td>3587</td>\n",
       "      <td>4541</td>\n",
       "      <td>2148</td>\n",
       "      <td>1102</td>\n",
       "      <td>337</td>\n",
       "      <td>0.598829</td>\n",
       "      <td>0.473024</td>\n",
       "      <td>47%</td>\n",
       "    </tr>\n",
       "    <tr>\n",
       "      <th>151</th>\n",
       "      <td>2021-7</td>\n",
       "      <td>2021</td>\n",
       "      <td>7</td>\n",
       "      <td>2547</td>\n",
       "      <td>3197</td>\n",
       "      <td>1514</td>\n",
       "      <td>794</td>\n",
       "      <td>239</td>\n",
       "      <td>0.594425</td>\n",
       "      <td>0.473569</td>\n",
       "      <td>47%</td>\n",
       "    </tr>\n",
       "    <tr>\n",
       "      <th>152</th>\n",
       "      <td>2021-8</td>\n",
       "      <td>2021</td>\n",
       "      <td>8</td>\n",
       "      <td>3360</td>\n",
       "      <td>4083</td>\n",
       "      <td>2002</td>\n",
       "      <td>1050</td>\n",
       "      <td>308</td>\n",
       "      <td>0.595833</td>\n",
       "      <td>0.490326</td>\n",
       "      <td>49%</td>\n",
       "    </tr>\n",
       "    <tr>\n",
       "      <th>153</th>\n",
       "      <td>2021-9</td>\n",
       "      <td>2021</td>\n",
       "      <td>9</td>\n",
       "      <td>3976</td>\n",
       "      <td>4795</td>\n",
       "      <td>2398</td>\n",
       "      <td>1219</td>\n",
       "      <td>359</td>\n",
       "      <td>0.603119</td>\n",
       "      <td>0.500104</td>\n",
       "      <td>50%</td>\n",
       "    </tr>\n",
       "    <tr>\n",
       "      <th>154</th>\n",
       "      <td>2021-10</td>\n",
       "      <td>2021</td>\n",
       "      <td>10</td>\n",
       "      <td>3540</td>\n",
       "      <td>4479</td>\n",
       "      <td>2054</td>\n",
       "      <td>1190</td>\n",
       "      <td>296</td>\n",
       "      <td>0.580226</td>\n",
       "      <td>0.458585</td>\n",
       "      <td>46%</td>\n",
       "    </tr>\n",
       "    <tr>\n",
       "      <th>155</th>\n",
       "      <td>2021-11</td>\n",
       "      <td>2021</td>\n",
       "      <td>11</td>\n",
       "      <td>3390</td>\n",
       "      <td>4249</td>\n",
       "      <td>2004</td>\n",
       "      <td>1107</td>\n",
       "      <td>279</td>\n",
       "      <td>0.591150</td>\n",
       "      <td>0.471640</td>\n",
       "      <td>47%</td>\n",
       "    </tr>\n",
       "    <tr>\n",
       "      <th>156</th>\n",
       "      <td>2021-12</td>\n",
       "      <td>2021</td>\n",
       "      <td>12</td>\n",
       "      <td>2923</td>\n",
       "      <td>3663</td>\n",
       "      <td>1715</td>\n",
       "      <td>944</td>\n",
       "      <td>264</td>\n",
       "      <td>0.586726</td>\n",
       "      <td>0.468195</td>\n",
       "      <td>47%</td>\n",
       "    </tr>\n",
       "    <tr>\n",
       "      <th>157</th>\n",
       "      <td>2022-1</td>\n",
       "      <td>2022</td>\n",
       "      <td>1</td>\n",
       "      <td>4609</td>\n",
       "      <td>5571</td>\n",
       "      <td>2799</td>\n",
       "      <td>1305</td>\n",
       "      <td>505</td>\n",
       "      <td>0.607290</td>\n",
       "      <td>0.502423</td>\n",
       "      <td>50%</td>\n",
       "    </tr>\n",
       "    <tr>\n",
       "      <th>158</th>\n",
       "      <td>2022-2</td>\n",
       "      <td>2022</td>\n",
       "      <td>2</td>\n",
       "      <td>3608</td>\n",
       "      <td>4510</td>\n",
       "      <td>2147</td>\n",
       "      <td>962</td>\n",
       "      <td>499</td>\n",
       "      <td>0.595067</td>\n",
       "      <td>0.476053</td>\n",
       "      <td>48%</td>\n",
       "    </tr>\n",
       "    <tr>\n",
       "      <th>159</th>\n",
       "      <td>2022-3</td>\n",
       "      <td>2022</td>\n",
       "      <td>3</td>\n",
       "      <td>4187</td>\n",
       "      <td>5221</td>\n",
       "      <td>2557</td>\n",
       "      <td>949</td>\n",
       "      <td>681</td>\n",
       "      <td>0.610700</td>\n",
       "      <td>0.489753</td>\n",
       "      <td>49%</td>\n",
       "    </tr>\n",
       "    <tr>\n",
       "      <th>160</th>\n",
       "      <td>2022-4</td>\n",
       "      <td>2022</td>\n",
       "      <td>4</td>\n",
       "      <td>3275</td>\n",
       "      <td>4002</td>\n",
       "      <td>1978</td>\n",
       "      <td>661</td>\n",
       "      <td>636</td>\n",
       "      <td>0.603969</td>\n",
       "      <td>0.494253</td>\n",
       "      <td>49%</td>\n",
       "    </tr>\n",
       "  </tbody>\n",
       "</table>\n",
       "</div>"
      ],
      "text/plain": [
       "    ÅR-MÅNED    ÅR  MÅNED  DP_TOT  TOTALT  AUTO   MAN  DEL_AUTO  DP_AUTOGRAD  \\\n",
       "145   2021-1  2021      1    4475    5292  2605  1472       398     0.582123   \n",
       "146   2021-2  2021      2    3843    4711  2339  1130       374     0.608639   \n",
       "147   2021-3  2021      3    3720    4644  2264  1161       295     0.608602   \n",
       "148   2021-4  2021      4    3945    4772  2393  1262       290     0.606591   \n",
       "149   2021-5  2021      5    3655    4371  2152  1183       320     0.588782   \n",
       "150   2021-6  2021      6    3587    4541  2148  1102       337     0.598829   \n",
       "151   2021-7  2021      7    2547    3197  1514   794       239     0.594425   \n",
       "152   2021-8  2021      8    3360    4083  2002  1050       308     0.595833   \n",
       "153   2021-9  2021      9    3976    4795  2398  1219       359     0.603119   \n",
       "154  2021-10  2021     10    3540    4479  2054  1190       296     0.580226   \n",
       "155  2021-11  2021     11    3390    4249  2004  1107       279     0.591150   \n",
       "156  2021-12  2021     12    2923    3663  1715   944       264     0.586726   \n",
       "157   2022-1  2022      1    4609    5571  2799  1305       505     0.607290   \n",
       "158   2022-2  2022      2    3608    4510  2147   962       499     0.595067   \n",
       "159   2022-3  2022      3    4187    5221  2557   949       681     0.610700   \n",
       "160   2022-4  2022      4    3275    4002  1978   661       636     0.603969   \n",
       "\n",
       "     AUTOGRAD AUTOGRAD_PROSENT  \n",
       "145  0.492252              49%  \n",
       "146  0.496498              50%  \n",
       "147  0.487511              49%  \n",
       "148  0.501467              50%  \n",
       "149  0.492336              49%  \n",
       "150  0.473024              47%  \n",
       "151  0.473569              47%  \n",
       "152  0.490326              49%  \n",
       "153  0.500104              50%  \n",
       "154  0.458585              46%  \n",
       "155  0.471640              47%  \n",
       "156  0.468195              47%  \n",
       "157  0.502423              50%  \n",
       "158  0.476053              48%  \n",
       "159  0.489753              49%  \n",
       "160  0.494253              49%  "
      ]
     },
     "execution_count": 118,
     "metadata": {},
     "output_type": "execute_result"
    }
   ],
   "source": [
    "df.tail(16)"
   ]
  },
  {
   "cell_type": "code",
   "execution_count": 119,
   "id": "4c3f8bb8-97af-4611-9224-1808807ab637",
   "metadata": {},
   "outputs": [],
   "source": [
    "nav_colors = (\n",
    "    \"#0067C5\",\n",
    "    \"#BA3A26\",\n",
    "    \"#06893A\",\n",
    "    \"#634689\",\n",
    "    \"#FF9100\",\n",
    "    \"#66CBEC\",\n",
    "    \"#F0C419\",\n",
    ")\n",
    "pastel = px.colors.qualitative.Pastel"
   ]
  },
  {
   "cell_type": "code",
   "execution_count": 120,
   "id": "73f23c69-a3b8-4445-bb57-9aff454031e5",
   "metadata": {},
   "outputs": [
    {
     "data": {
      "application/vnd.plotly.v1+json": {
       "config": {
        "plotlyServerURL": "https://plot.ly"
       },
       "data": [
        {
         "marker": {
          "color": "rgb(102, 197, 204)"
         },
         "name": "Antall saker",
         "type": "bar",
         "x": [
          "2021-1",
          "2021-2",
          "2021-3",
          "2021-4",
          "2021-5",
          "2021-6",
          "2021-7",
          "2021-8",
          "2021-9",
          "2021-10",
          "2021-11",
          "2021-12",
          "2022-1",
          "2022-2",
          "2022-3",
          "2022-4"
         ],
         "xaxis": "x",
         "y": [
          5292,
          4711,
          4644,
          4772,
          4371,
          4541,
          3197,
          4083,
          4795,
          4479,
          4249,
          3663,
          5571,
          4510,
          5221,
          4002
         ],
         "yaxis": "y"
        },
        {
         "marker": {
          "color": "black"
         },
         "mode": "lines+markers+text",
         "name": "Automatisk",
         "text": [
          "49%",
          "50%",
          "49%",
          "50%",
          "49%",
          "47%",
          "47%",
          "49%",
          "50%",
          "46%",
          "47%",
          "47%",
          "50%",
          "48%",
          "49%",
          "49%"
         ],
         "textposition": "top center",
         "type": "scatter",
         "x": [
          "2021-1",
          "2021-2",
          "2021-3",
          "2021-4",
          "2021-5",
          "2021-6",
          "2021-7",
          "2021-8",
          "2021-9",
          "2021-10",
          "2021-11",
          "2021-12",
          "2022-1",
          "2022-2",
          "2022-3",
          "2022-4"
         ],
         "xaxis": "x",
         "y": [
          0.49225245653817085,
          0.49649755890469116,
          0.48751076658053405,
          0.5014668901927913,
          0.4923358499199268,
          0.47302356309182997,
          0.4735689709102283,
          0.49032574087680625,
          0.500104275286757,
          0.458584505469971,
          0.47164038597317015,
          0.4681954681954682,
          0.5024232633279483,
          0.47605321507760534,
          0.48975292089638,
          0.4942528735632184
         ],
         "yaxis": "y2"
        }
       ],
       "layout": {
        "autosize": false,
        "height": 500,
        "template": {
         "data": {
          "bar": [
           {
            "error_x": {
             "color": "#2a3f5f"
            },
            "error_y": {
             "color": "#2a3f5f"
            },
            "marker": {
             "line": {
              "color": "#E5ECF6",
              "width": 0.5
             },
             "pattern": {
              "fillmode": "overlay",
              "size": 10,
              "solidity": 0.2
             }
            },
            "type": "bar"
           }
          ],
          "barpolar": [
           {
            "marker": {
             "line": {
              "color": "#E5ECF6",
              "width": 0.5
             },
             "pattern": {
              "fillmode": "overlay",
              "size": 10,
              "solidity": 0.2
             }
            },
            "type": "barpolar"
           }
          ],
          "carpet": [
           {
            "aaxis": {
             "endlinecolor": "#2a3f5f",
             "gridcolor": "white",
             "linecolor": "white",
             "minorgridcolor": "white",
             "startlinecolor": "#2a3f5f"
            },
            "baxis": {
             "endlinecolor": "#2a3f5f",
             "gridcolor": "white",
             "linecolor": "white",
             "minorgridcolor": "white",
             "startlinecolor": "#2a3f5f"
            },
            "type": "carpet"
           }
          ],
          "choropleth": [
           {
            "colorbar": {
             "outlinewidth": 0,
             "ticks": ""
            },
            "type": "choropleth"
           }
          ],
          "contour": [
           {
            "colorbar": {
             "outlinewidth": 0,
             "ticks": ""
            },
            "colorscale": [
             [
              0,
              "#0d0887"
             ],
             [
              0.1111111111111111,
              "#46039f"
             ],
             [
              0.2222222222222222,
              "#7201a8"
             ],
             [
              0.3333333333333333,
              "#9c179e"
             ],
             [
              0.4444444444444444,
              "#bd3786"
             ],
             [
              0.5555555555555556,
              "#d8576b"
             ],
             [
              0.6666666666666666,
              "#ed7953"
             ],
             [
              0.7777777777777778,
              "#fb9f3a"
             ],
             [
              0.8888888888888888,
              "#fdca26"
             ],
             [
              1,
              "#f0f921"
             ]
            ],
            "type": "contour"
           }
          ],
          "contourcarpet": [
           {
            "colorbar": {
             "outlinewidth": 0,
             "ticks": ""
            },
            "type": "contourcarpet"
           }
          ],
          "heatmap": [
           {
            "colorbar": {
             "outlinewidth": 0,
             "ticks": ""
            },
            "colorscale": [
             [
              0,
              "#0d0887"
             ],
             [
              0.1111111111111111,
              "#46039f"
             ],
             [
              0.2222222222222222,
              "#7201a8"
             ],
             [
              0.3333333333333333,
              "#9c179e"
             ],
             [
              0.4444444444444444,
              "#bd3786"
             ],
             [
              0.5555555555555556,
              "#d8576b"
             ],
             [
              0.6666666666666666,
              "#ed7953"
             ],
             [
              0.7777777777777778,
              "#fb9f3a"
             ],
             [
              0.8888888888888888,
              "#fdca26"
             ],
             [
              1,
              "#f0f921"
             ]
            ],
            "type": "heatmap"
           }
          ],
          "heatmapgl": [
           {
            "colorbar": {
             "outlinewidth": 0,
             "ticks": ""
            },
            "colorscale": [
             [
              0,
              "#0d0887"
             ],
             [
              0.1111111111111111,
              "#46039f"
             ],
             [
              0.2222222222222222,
              "#7201a8"
             ],
             [
              0.3333333333333333,
              "#9c179e"
             ],
             [
              0.4444444444444444,
              "#bd3786"
             ],
             [
              0.5555555555555556,
              "#d8576b"
             ],
             [
              0.6666666666666666,
              "#ed7953"
             ],
             [
              0.7777777777777778,
              "#fb9f3a"
             ],
             [
              0.8888888888888888,
              "#fdca26"
             ],
             [
              1,
              "#f0f921"
             ]
            ],
            "type": "heatmapgl"
           }
          ],
          "histogram": [
           {
            "marker": {
             "pattern": {
              "fillmode": "overlay",
              "size": 10,
              "solidity": 0.2
             }
            },
            "type": "histogram"
           }
          ],
          "histogram2d": [
           {
            "colorbar": {
             "outlinewidth": 0,
             "ticks": ""
            },
            "colorscale": [
             [
              0,
              "#0d0887"
             ],
             [
              0.1111111111111111,
              "#46039f"
             ],
             [
              0.2222222222222222,
              "#7201a8"
             ],
             [
              0.3333333333333333,
              "#9c179e"
             ],
             [
              0.4444444444444444,
              "#bd3786"
             ],
             [
              0.5555555555555556,
              "#d8576b"
             ],
             [
              0.6666666666666666,
              "#ed7953"
             ],
             [
              0.7777777777777778,
              "#fb9f3a"
             ],
             [
              0.8888888888888888,
              "#fdca26"
             ],
             [
              1,
              "#f0f921"
             ]
            ],
            "type": "histogram2d"
           }
          ],
          "histogram2dcontour": [
           {
            "colorbar": {
             "outlinewidth": 0,
             "ticks": ""
            },
            "colorscale": [
             [
              0,
              "#0d0887"
             ],
             [
              0.1111111111111111,
              "#46039f"
             ],
             [
              0.2222222222222222,
              "#7201a8"
             ],
             [
              0.3333333333333333,
              "#9c179e"
             ],
             [
              0.4444444444444444,
              "#bd3786"
             ],
             [
              0.5555555555555556,
              "#d8576b"
             ],
             [
              0.6666666666666666,
              "#ed7953"
             ],
             [
              0.7777777777777778,
              "#fb9f3a"
             ],
             [
              0.8888888888888888,
              "#fdca26"
             ],
             [
              1,
              "#f0f921"
             ]
            ],
            "type": "histogram2dcontour"
           }
          ],
          "mesh3d": [
           {
            "colorbar": {
             "outlinewidth": 0,
             "ticks": ""
            },
            "type": "mesh3d"
           }
          ],
          "parcoords": [
           {
            "line": {
             "colorbar": {
              "outlinewidth": 0,
              "ticks": ""
             }
            },
            "type": "parcoords"
           }
          ],
          "pie": [
           {
            "automargin": true,
            "type": "pie"
           }
          ],
          "scatter": [
           {
            "marker": {
             "colorbar": {
              "outlinewidth": 0,
              "ticks": ""
             }
            },
            "type": "scatter"
           }
          ],
          "scatter3d": [
           {
            "line": {
             "colorbar": {
              "outlinewidth": 0,
              "ticks": ""
             }
            },
            "marker": {
             "colorbar": {
              "outlinewidth": 0,
              "ticks": ""
             }
            },
            "type": "scatter3d"
           }
          ],
          "scattercarpet": [
           {
            "marker": {
             "colorbar": {
              "outlinewidth": 0,
              "ticks": ""
             }
            },
            "type": "scattercarpet"
           }
          ],
          "scattergeo": [
           {
            "marker": {
             "colorbar": {
              "outlinewidth": 0,
              "ticks": ""
             }
            },
            "type": "scattergeo"
           }
          ],
          "scattergl": [
           {
            "marker": {
             "colorbar": {
              "outlinewidth": 0,
              "ticks": ""
             }
            },
            "type": "scattergl"
           }
          ],
          "scattermapbox": [
           {
            "marker": {
             "colorbar": {
              "outlinewidth": 0,
              "ticks": ""
             }
            },
            "type": "scattermapbox"
           }
          ],
          "scatterpolar": [
           {
            "marker": {
             "colorbar": {
              "outlinewidth": 0,
              "ticks": ""
             }
            },
            "type": "scatterpolar"
           }
          ],
          "scatterpolargl": [
           {
            "marker": {
             "colorbar": {
              "outlinewidth": 0,
              "ticks": ""
             }
            },
            "type": "scatterpolargl"
           }
          ],
          "scatterternary": [
           {
            "marker": {
             "colorbar": {
              "outlinewidth": 0,
              "ticks": ""
             }
            },
            "type": "scatterternary"
           }
          ],
          "surface": [
           {
            "colorbar": {
             "outlinewidth": 0,
             "ticks": ""
            },
            "colorscale": [
             [
              0,
              "#0d0887"
             ],
             [
              0.1111111111111111,
              "#46039f"
             ],
             [
              0.2222222222222222,
              "#7201a8"
             ],
             [
              0.3333333333333333,
              "#9c179e"
             ],
             [
              0.4444444444444444,
              "#bd3786"
             ],
             [
              0.5555555555555556,
              "#d8576b"
             ],
             [
              0.6666666666666666,
              "#ed7953"
             ],
             [
              0.7777777777777778,
              "#fb9f3a"
             ],
             [
              0.8888888888888888,
              "#fdca26"
             ],
             [
              1,
              "#f0f921"
             ]
            ],
            "type": "surface"
           }
          ],
          "table": [
           {
            "cells": {
             "fill": {
              "color": "#EBF0F8"
             },
             "line": {
              "color": "white"
             }
            },
            "header": {
             "fill": {
              "color": "#C8D4E3"
             },
             "line": {
              "color": "white"
             }
            },
            "type": "table"
           }
          ]
         },
         "layout": {
          "annotationdefaults": {
           "arrowcolor": "#2a3f5f",
           "arrowhead": 0,
           "arrowwidth": 1
          },
          "autotypenumbers": "strict",
          "coloraxis": {
           "colorbar": {
            "outlinewidth": 0,
            "ticks": ""
           }
          },
          "colorscale": {
           "diverging": [
            [
             0,
             "#8e0152"
            ],
            [
             0.1,
             "#c51b7d"
            ],
            [
             0.2,
             "#de77ae"
            ],
            [
             0.3,
             "#f1b6da"
            ],
            [
             0.4,
             "#fde0ef"
            ],
            [
             0.5,
             "#f7f7f7"
            ],
            [
             0.6,
             "#e6f5d0"
            ],
            [
             0.7,
             "#b8e186"
            ],
            [
             0.8,
             "#7fbc41"
            ],
            [
             0.9,
             "#4d9221"
            ],
            [
             1,
             "#276419"
            ]
           ],
           "sequential": [
            [
             0,
             "#0d0887"
            ],
            [
             0.1111111111111111,
             "#46039f"
            ],
            [
             0.2222222222222222,
             "#7201a8"
            ],
            [
             0.3333333333333333,
             "#9c179e"
            ],
            [
             0.4444444444444444,
             "#bd3786"
            ],
            [
             0.5555555555555556,
             "#d8576b"
            ],
            [
             0.6666666666666666,
             "#ed7953"
            ],
            [
             0.7777777777777778,
             "#fb9f3a"
            ],
            [
             0.8888888888888888,
             "#fdca26"
            ],
            [
             1,
             "#f0f921"
            ]
           ],
           "sequentialminus": [
            [
             0,
             "#0d0887"
            ],
            [
             0.1111111111111111,
             "#46039f"
            ],
            [
             0.2222222222222222,
             "#7201a8"
            ],
            [
             0.3333333333333333,
             "#9c179e"
            ],
            [
             0.4444444444444444,
             "#bd3786"
            ],
            [
             0.5555555555555556,
             "#d8576b"
            ],
            [
             0.6666666666666666,
             "#ed7953"
            ],
            [
             0.7777777777777778,
             "#fb9f3a"
            ],
            [
             0.8888888888888888,
             "#fdca26"
            ],
            [
             1,
             "#f0f921"
            ]
           ]
          },
          "colorway": [
           "#636efa",
           "#EF553B",
           "#00cc96",
           "#ab63fa",
           "#FFA15A",
           "#19d3f3",
           "#FF6692",
           "#B6E880",
           "#FF97FF",
           "#FECB52"
          ],
          "font": {
           "color": "#2a3f5f"
          },
          "geo": {
           "bgcolor": "white",
           "lakecolor": "white",
           "landcolor": "#E5ECF6",
           "showlakes": true,
           "showland": true,
           "subunitcolor": "white"
          },
          "hoverlabel": {
           "align": "left"
          },
          "hovermode": "closest",
          "mapbox": {
           "style": "light"
          },
          "paper_bgcolor": "white",
          "plot_bgcolor": "#E5ECF6",
          "polar": {
           "angularaxis": {
            "gridcolor": "white",
            "linecolor": "white",
            "ticks": ""
           },
           "bgcolor": "#E5ECF6",
           "radialaxis": {
            "gridcolor": "white",
            "linecolor": "white",
            "ticks": ""
           }
          },
          "scene": {
           "xaxis": {
            "backgroundcolor": "#E5ECF6",
            "gridcolor": "white",
            "gridwidth": 2,
            "linecolor": "white",
            "showbackground": true,
            "ticks": "",
            "zerolinecolor": "white"
           },
           "yaxis": {
            "backgroundcolor": "#E5ECF6",
            "gridcolor": "white",
            "gridwidth": 2,
            "linecolor": "white",
            "showbackground": true,
            "ticks": "",
            "zerolinecolor": "white"
           },
           "zaxis": {
            "backgroundcolor": "#E5ECF6",
            "gridcolor": "white",
            "gridwidth": 2,
            "linecolor": "white",
            "showbackground": true,
            "ticks": "",
            "zerolinecolor": "white"
           }
          },
          "shapedefaults": {
           "line": {
            "color": "#2a3f5f"
           }
          },
          "ternary": {
           "aaxis": {
            "gridcolor": "white",
            "linecolor": "white",
            "ticks": ""
           },
           "baxis": {
            "gridcolor": "white",
            "linecolor": "white",
            "ticks": ""
           },
           "bgcolor": "#E5ECF6",
           "caxis": {
            "gridcolor": "white",
            "linecolor": "white",
            "ticks": ""
           }
          },
          "title": {
           "x": 0.05
          },
          "xaxis": {
           "automargin": true,
           "gridcolor": "white",
           "linecolor": "white",
           "ticks": "",
           "title": {
            "standoff": 15
           },
           "zerolinecolor": "white",
           "zerolinewidth": 2
          },
          "yaxis": {
           "automargin": true,
           "gridcolor": "white",
           "linecolor": "white",
           "ticks": "",
           "title": {
            "standoff": 15
           },
           "zerolinecolor": "white",
           "zerolinewidth": 2
          }
         }
        },
        "width": 1300,
        "xaxis": {
         "anchor": "y",
         "autorange": true,
         "domain": [
          0,
          0.94
         ],
         "range": [
          "2020-12-04 14:38:57.7623",
          "2022-04-28 09:21:02.2377"
         ],
         "type": "date"
        },
        "yaxis": {
         "anchor": "x",
         "autorange": true,
         "domain": [
          0,
          1
         ],
         "range": [
          0,
          5864.210526315789
         ],
         "title": {
          "text": "Antall saker"
         },
         "type": "linear"
        },
        "yaxis2": {
         "anchor": "x",
         "overlaying": "y",
         "range": [
          0.2,
          0.8
         ],
         "showgrid": false,
         "side": "right",
         "tickformat": ".0%",
         "title": {
          "text": "Andel automatisert"
         },
         "type": "linear"
        }
       }
      },
      "image/png": "[encoded data removed]",
      "text/html": [
       "<div>                            <div id=\"7db7e205-83b5-44d6-94e7-c2973d8f1aee\" class=\"plotly-graph-div\" style=\"height:500px; width:1300px;\"></div>            <script type=\"text/javascript\">                require([\"plotly\"], function(Plotly) {                    window.PLOTLYENV=window.PLOTLYENV || {};                                    if (document.getElementById(\"7db7e205-83b5-44d6-94e7-c2973d8f1aee\")) {                    Plotly.newPlot(                        \"7db7e205-83b5-44d6-94e7-c2973d8f1aee\",                        [{\"marker\":{\"color\":\"rgb(102, 197, 204)\"},\"name\":\"Antall saker\",\"x\":[\"2021-1\",\"2021-2\",\"2021-3\",\"2021-4\",\"2021-5\",\"2021-6\",\"2021-7\",\"2021-8\",\"2021-9\",\"2021-10\",\"2021-11\",\"2021-12\",\"2022-1\",\"2022-2\",\"2022-3\",\"2022-4\"],\"y\":[5292,4711,4644,4772,4371,4541,3197,4083,4795,4479,4249,3663,5571,4510,5221,4002],\"type\":\"bar\",\"xaxis\":\"x\",\"yaxis\":\"y\"},{\"marker\":{\"color\":\"black\"},\"mode\":\"lines+markers+text\",\"name\":\"Automatisk\",\"text\":[\"49%\",\"50%\",\"49%\",\"50%\",\"49%\",\"47%\",\"47%\",\"49%\",\"50%\",\"46%\",\"47%\",\"47%\",\"50%\",\"48%\",\"49%\",\"49%\"],\"textposition\":\"top center\",\"x\":[\"2021-1\",\"2021-2\",\"2021-3\",\"2021-4\",\"2021-5\",\"2021-6\",\"2021-7\",\"2021-8\",\"2021-9\",\"2021-10\",\"2021-11\",\"2021-12\",\"2022-1\",\"2022-2\",\"2022-3\",\"2022-4\"],\"y\":[0.49225245653817085,0.49649755890469116,0.48751076658053405,0.5014668901927913,0.4923358499199268,0.47302356309182997,0.4735689709102283,0.49032574087680625,0.500104275286757,0.458584505469971,0.47164038597317015,0.4681954681954682,0.5024232633279483,0.47605321507760534,0.48975292089638,0.4942528735632184],\"type\":\"scatter\",\"xaxis\":\"x\",\"yaxis\":\"y2\"}],                        {\"template\":{\"data\":{\"bar\":[{\"error_x\":{\"color\":\"#2a3f5f\"},\"error_y\":{\"color\":\"#2a3f5f\"},\"marker\":{\"line\":{\"color\":\"#E5ECF6\",\"width\":0.5},\"pattern\":{\"fillmode\":\"overlay\",\"size\":10,\"solidity\":0.2}},\"type\":\"bar\"}],\"barpolar\":[{\"marker\":{\"line\":{\"color\":\"#E5ECF6\",\"width\":0.5},\"pattern\":{\"fillmode\":\"overlay\",\"size\":10,\"solidity\":0.2}},\"type\":\"barpolar\"}],\"carpet\":[{\"aaxis\":{\"endlinecolor\":\"#2a3f5f\",\"gridcolor\":\"white\",\"linecolor\":\"white\",\"minorgridcolor\":\"white\",\"startlinecolor\":\"#2a3f5f\"},\"baxis\":{\"endlinecolor\":\"#2a3f5f\",\"gridcolor\":\"white\",\"linecolor\":\"white\",\"minorgridcolor\":\"white\",\"startlinecolor\":\"#2a3f5f\"},\"type\":\"carpet\"}],\"choropleth\":[{\"colorbar\":{\"outlinewidth\":0,\"ticks\":\"\"},\"type\":\"choropleth\"}],\"contour\":[{\"colorbar\":{\"outlinewidth\":0,\"ticks\":\"\"},\"colorscale\":[[0.0,\"#0d0887\"],[0.1111111111111111,\"#46039f\"],[0.2222222222222222,\"#7201a8\"],[0.3333333333333333,\"#9c179e\"],[0.4444444444444444,\"#bd3786\"],[0.5555555555555556,\"#d8576b\"],[0.6666666666666666,\"#ed7953\"],[0.7777777777777778,\"#fb9f3a\"],[0.8888888888888888,\"#fdca26\"],[1.0,\"#f0f921\"]],\"type\":\"contour\"}],\"contourcarpet\":[{\"colorbar\":{\"outlinewidth\":0,\"ticks\":\"\"},\"type\":\"contourcarpet\"}],\"heatmap\":[{\"colorbar\":{\"outlinewidth\":0,\"ticks\":\"\"},\"colorscale\":[[0.0,\"#0d0887\"],[0.1111111111111111,\"#46039f\"],[0.2222222222222222,\"#7201a8\"],[0.3333333333333333,\"#9c179e\"],[0.4444444444444444,\"#bd3786\"],[0.5555555555555556,\"#d8576b\"],[0.6666666666666666,\"#ed7953\"],[0.7777777777777778,\"#fb9f3a\"],[0.8888888888888888,\"#fdca26\"],[1.0,\"#f0f921\"]],\"type\":\"heatmap\"}],\"heatmapgl\":[{\"colorbar\":{\"outlinewidth\":0,\"ticks\":\"\"},\"colorscale\":[[0.0,\"#0d0887\"],[0.1111111111111111,\"#46039f\"],[0.2222222222222222,\"#7201a8\"],[0.3333333333333333,\"#9c179e\"],[0.4444444444444444,\"#bd3786\"],[0.5555555555555556,\"#d8576b\"],[0.6666666666666666,\"#ed7953\"],[0.7777777777777778,\"#fb9f3a\"],[0.8888888888888888,\"#fdca26\"],[1.0,\"#f0f921\"]],\"type\":\"heatmapgl\"}],\"histogram\":[{\"marker\":{\"pattern\":{\"fillmode\":\"overlay\",\"size\":10,\"solidity\":0.2}},\"type\":\"histogram\"}],\"histogram2d\":[{\"colorbar\":{\"outlinewidth\":0,\"ticks\":\"\"},\"colorscale\":[[0.0,\"#0d0887\"],[0.1111111111111111,\"#46039f\"],[0.2222222222222222,\"#7201a8\"],[0.3333333333333333,\"#9c179e\"],[0.4444444444444444,\"#bd3786\"],[0.5555555555555556,\"#d8576b\"],[0.6666666666666666,\"#ed7953\"],[0.7777777777777778,\"#fb9f3a\"],[0.8888888888888888,\"#fdca26\"],[1.0,\"#f0f921\"]],\"type\":\"histogram2d\"}],\"histogram2dcontour\":[{\"colorbar\":{\"outlinewidth\":0,\"ticks\":\"\"},\"colorscale\":[[0.0,\"#0d0887\"],[0.1111111111111111,\"#46039f\"],[0.2222222222222222,\"#7201a8\"],[0.3333333333333333,\"#9c179e\"],[0.4444444444444444,\"#bd3786\"],[0.5555555555555556,\"#d8576b\"],[0.6666666666666666,\"#ed7953\"],[0.7777777777777778,\"#fb9f3a\"],[0.8888888888888888,\"#fdca26\"],[1.0,\"#f0f921\"]],\"type\":\"histogram2dcontour\"}],\"mesh3d\":[{\"colorbar\":{\"outlinewidth\":0,\"ticks\":\"\"},\"type\":\"mesh3d\"}],\"parcoords\":[{\"line\":{\"colorbar\":{\"outlinewidth\":0,\"ticks\":\"\"}},\"type\":\"parcoords\"}],\"pie\":[{\"automargin\":true,\"type\":\"pie\"}],\"scatter\":[{\"marker\":{\"colorbar\":{\"outlinewidth\":0,\"ticks\":\"\"}},\"type\":\"scatter\"}],\"scatter3d\":[{\"line\":{\"colorbar\":{\"outlinewidth\":0,\"ticks\":\"\"}},\"marker\":{\"colorbar\":{\"outlinewidth\":0,\"ticks\":\"\"}},\"type\":\"scatter3d\"}],\"scattercarpet\":[{\"marker\":{\"colorbar\":{\"outlinewidth\":0,\"ticks\":\"\"}},\"type\":\"scattercarpet\"}],\"scattergeo\":[{\"marker\":{\"colorbar\":{\"outlinewidth\":0,\"ticks\":\"\"}},\"type\":\"scattergeo\"}],\"scattergl\":[{\"marker\":{\"colorbar\":{\"outlinewidth\":0,\"ticks\":\"\"}},\"type\":\"scattergl\"}],\"scattermapbox\":[{\"marker\":{\"colorbar\":{\"outlinewidth\":0,\"ticks\":\"\"}},\"type\":\"scattermapbox\"}],\"scatterpolar\":[{\"marker\":{\"colorbar\":{\"outlinewidth\":0,\"ticks\":\"\"}},\"type\":\"scatterpolar\"}],\"scatterpolargl\":[{\"marker\":{\"colorbar\":{\"outlinewidth\":0,\"ticks\":\"\"}},\"type\":\"scatterpolargl\"}],\"scatterternary\":[{\"marker\":{\"colorbar\":{\"outlinewidth\":0,\"ticks\":\"\"}},\"type\":\"scatterternary\"}],\"surface\":[{\"colorbar\":{\"outlinewidth\":0,\"ticks\":\"\"},\"colorscale\":[[0.0,\"#0d0887\"],[0.1111111111111111,\"#46039f\"],[0.2222222222222222,\"#7201a8\"],[0.3333333333333333,\"#9c179e\"],[0.4444444444444444,\"#bd3786\"],[0.5555555555555556,\"#d8576b\"],[0.6666666666666666,\"#ed7953\"],[0.7777777777777778,\"#fb9f3a\"],[0.8888888888888888,\"#fdca26\"],[1.0,\"#f0f921\"]],\"type\":\"surface\"}],\"table\":[{\"cells\":{\"fill\":{\"color\":\"#EBF0F8\"},\"line\":{\"color\":\"white\"}},\"header\":{\"fill\":{\"color\":\"#C8D4E3\"},\"line\":{\"color\":\"white\"}},\"type\":\"table\"}]},\"layout\":{\"annotationdefaults\":{\"arrowcolor\":\"#2a3f5f\",\"arrowhead\":0,\"arrowwidth\":1},\"autotypenumbers\":\"strict\",\"coloraxis\":{\"colorbar\":{\"outlinewidth\":0,\"ticks\":\"\"}},\"colorscale\":{\"diverging\":[[0,\"#8e0152\"],[0.1,\"#c51b7d\"],[0.2,\"#de77ae\"],[0.3,\"#f1b6da\"],[0.4,\"#fde0ef\"],[0.5,\"#f7f7f7\"],[0.6,\"#e6f5d0\"],[0.7,\"#b8e186\"],[0.8,\"#7fbc41\"],[0.9,\"#4d9221\"],[1,\"#276419\"]],\"sequential\":[[0.0,\"#0d0887\"],[0.1111111111111111,\"#46039f\"],[0.2222222222222222,\"#7201a8\"],[0.3333333333333333,\"#9c179e\"],[0.4444444444444444,\"#bd3786\"],[0.5555555555555556,\"#d8576b\"],[0.6666666666666666,\"#ed7953\"],[0.7777777777777778,\"#fb9f3a\"],[0.8888888888888888,\"#fdca26\"],[1.0,\"#f0f921\"]],\"sequentialminus\":[[0.0,\"#0d0887\"],[0.1111111111111111,\"#46039f\"],[0.2222222222222222,\"#7201a8\"],[0.3333333333333333,\"#9c179e\"],[0.4444444444444444,\"#bd3786\"],[0.5555555555555556,\"#d8576b\"],[0.6666666666666666,\"#ed7953\"],[0.7777777777777778,\"#fb9f3a\"],[0.8888888888888888,\"#fdca26\"],[1.0,\"#f0f921\"]]},\"colorway\":[\"#636efa\",\"#EF553B\",\"#00cc96\",\"#ab63fa\",\"#FFA15A\",\"#19d3f3\",\"#FF6692\",\"#B6E880\",\"#FF97FF\",\"#FECB52\"],\"font\":{\"color\":\"#2a3f5f\"},\"geo\":{\"bgcolor\":\"white\",\"lakecolor\":\"white\",\"landcolor\":\"#E5ECF6\",\"showlakes\":true,\"showland\":true,\"subunitcolor\":\"white\"},\"hoverlabel\":{\"align\":\"left\"},\"hovermode\":\"closest\",\"mapbox\":{\"style\":\"light\"},\"paper_bgcolor\":\"white\",\"plot_bgcolor\":\"#E5ECF6\",\"polar\":{\"angularaxis\":{\"gridcolor\":\"white\",\"linecolor\":\"white\",\"ticks\":\"\"},\"bgcolor\":\"#E5ECF6\",\"radialaxis\":{\"gridcolor\":\"white\",\"linecolor\":\"white\",\"ticks\":\"\"}},\"scene\":{\"xaxis\":{\"backgroundcolor\":\"#E5ECF6\",\"gridcolor\":\"white\",\"gridwidth\":2,\"linecolor\":\"white\",\"showbackground\":true,\"ticks\":\"\",\"zerolinecolor\":\"white\"},\"yaxis\":{\"backgroundcolor\":\"#E5ECF6\",\"gridcolor\":\"white\",\"gridwidth\":2,\"linecolor\":\"white\",\"showbackground\":true,\"ticks\":\"\",\"zerolinecolor\":\"white\"},\"zaxis\":{\"backgroundcolor\":\"#E5ECF6\",\"gridcolor\":\"white\",\"gridwidth\":2,\"linecolor\":\"white\",\"showbackground\":true,\"ticks\":\"\",\"zerolinecolor\":\"white\"}},\"shapedefaults\":{\"line\":{\"color\":\"#2a3f5f\"}},\"ternary\":{\"aaxis\":{\"gridcolor\":\"white\",\"linecolor\":\"white\",\"ticks\":\"\"},\"baxis\":{\"gridcolor\":\"white\",\"linecolor\":\"white\",\"ticks\":\"\"},\"bgcolor\":\"#E5ECF6\",\"caxis\":{\"gridcolor\":\"white\",\"linecolor\":\"white\",\"ticks\":\"\"}},\"title\":{\"x\":0.05},\"xaxis\":{\"automargin\":true,\"gridcolor\":\"white\",\"linecolor\":\"white\",\"ticks\":\"\",\"title\":{\"standoff\":15},\"zerolinecolor\":\"white\",\"zerolinewidth\":2},\"yaxis\":{\"automargin\":true,\"gridcolor\":\"white\",\"linecolor\":\"white\",\"ticks\":\"\",\"title\":{\"standoff\":15},\"zerolinecolor\":\"white\",\"zerolinewidth\":2}}},\"xaxis\":{\"anchor\":\"y\",\"domain\":[0.0,0.94]},\"yaxis\":{\"anchor\":\"x\",\"domain\":[0.0,1.0],\"title\":{\"text\":\"Antall saker\"}},\"yaxis2\":{\"anchor\":\"x\",\"overlaying\":\"y\",\"side\":\"right\",\"title\":{\"text\":\"Andel automatisert\"},\"range\":[0.2,0.8],\"tickformat\":\".0%\",\"showgrid\":false},\"autosize\":false,\"width\":1300,\"height\":500},                        {\"responsive\": true}                    ).then(function(){\n",
       "                            \n",
       "var gd = document.getElementById('7db7e205-83b5-44d6-94e7-c2973d8f1aee');\n",
       "var x = new MutationObserver(function (mutations, observer) {{\n",
       "        var display = window.getComputedStyle(gd).display;\n",
       "        if (!display || display === 'none') {{\n",
       "            console.log([gd, 'removed!']);\n",
       "            Plotly.purge(gd);\n",
       "            observer.disconnect();\n",
       "        }}\n",
       "}});\n",
       "\n",
       "// Listen for the removal of the full notebook cells\n",
       "var notebookContainer = gd.closest('#notebook-container');\n",
       "if (notebookContainer) {{\n",
       "    x.observe(notebookContainer, {childList: true});\n",
       "}}\n",
       "\n",
       "// Listen for the clearing of the current output cell\n",
       "var outputEl = gd.closest('.output');\n",
       "if (outputEl) {{\n",
       "    x.observe(outputEl, {childList: true});\n",
       "}}\n",
       "\n",
       "                        })                };                });            </script>        </div>"
      ]
     },
     "metadata": {},
     "output_type": "display_data"
    }
   ],
   "source": [
    "n_months = 16\n",
    "\n",
    "df_plot = df.iloc[-n_months:,:]\n",
    "\n",
    "fig = make_subplots(specs=[[{\"secondary_y\": True}]])\n",
    "fig.add_trace(go.Bar(x=df_plot[\"ÅR-MÅNED\"], y=df_plot[\"TOTALT\"], marker_color=pastel[0], name=\"Antall saker\"), secondary_y=False)\n",
    "fig.add_trace(go.Scatter(x=df_plot[\"ÅR-MÅNED\"], y=df_plot[\"AUTOGRAD\"], text=df_plot[\"AUTOGRAD_PROSENT\"], mode='lines+markers+text', marker_color=\"black\", name=\"Automatisk\", textposition='top center'), secondary_y=True)\n",
    "#fig.add_trace(go.Scatter(x=df_plot[\"ÅR-MÅNED\"], y=df_plot[\"DP_AUTOGRAD\"], marker_color=pastel[2], name=\"Automatisk DP\"), secondary_y=True)\n",
    "fig.update_yaxes(title_text=\"Andel automatisert\", secondary_y=True, range=[0.2,0.8], tickformat='.0%')\n",
    "fig.update_yaxes(title_text=\"Antall saker\", secondary_y=False)\n",
    "fig.layout.yaxis2.showgrid = False\n",
    "fig.update_layout(\n",
    "    autosize=False,\n",
    "    width=1300,\n",
    "    height=500,)"
   ]
  },
  {
   "cell_type": "code",
   "execution_count": 121,
   "id": "8b770eeb-50e2-4d80-8413-2244cc01ffd8",
   "metadata": {},
   "outputs": [
    {
     "data": {
      "text/html": [
       "<div>\n",
       "<style scoped>\n",
       "    .dataframe tbody tr th:only-of-type {\n",
       "        vertical-align: middle;\n",
       "    }\n",
       "\n",
       "    .dataframe tbody tr th {\n",
       "        vertical-align: top;\n",
       "    }\n",
       "\n",
       "    .dataframe thead th {\n",
       "        text-align: right;\n",
       "    }\n",
       "</style>\n",
       "<table border=\"1\" class=\"dataframe\">\n",
       "  <thead>\n",
       "    <tr style=\"text-align: right;\">\n",
       "      <th></th>\n",
       "      <th>ÅR</th>\n",
       "      <th>MÅNED</th>\n",
       "      <th>OPPRETTET_AV</th>\n",
       "      <th>AUTOMATISERING</th>\n",
       "      <th>ANTALL</th>\n",
       "    </tr>\n",
       "  </thead>\n",
       "  <tbody>\n",
       "    <tr>\n",
       "      <th>28</th>\n",
       "      <td>2021</td>\n",
       "      <td>8</td>\n",
       "      <td>bruker</td>\n",
       "      <td>AUTO</td>\n",
       "      <td>1970</td>\n",
       "    </tr>\n",
       "    <tr>\n",
       "      <th>29</th>\n",
       "      <td>2021</td>\n",
       "      <td>8</td>\n",
       "      <td>bruker</td>\n",
       "      <td>MAN</td>\n",
       "      <td>1348</td>\n",
       "    </tr>\n",
       "    <tr>\n",
       "      <th>30</th>\n",
       "      <td>2021</td>\n",
       "      <td>8</td>\n",
       "      <td>saksbehandler</td>\n",
       "      <td>AUTO</td>\n",
       "      <td>32</td>\n",
       "    </tr>\n",
       "    <tr>\n",
       "      <th>31</th>\n",
       "      <td>2021</td>\n",
       "      <td>8</td>\n",
       "      <td>saksbehandler</td>\n",
       "      <td>MAN</td>\n",
       "      <td>733</td>\n",
       "    </tr>\n",
       "    <tr>\n",
       "      <th>32</th>\n",
       "      <td>2021</td>\n",
       "      <td>9</td>\n",
       "      <td>bruker</td>\n",
       "      <td>AUTO</td>\n",
       "      <td>2344</td>\n",
       "    </tr>\n",
       "    <tr>\n",
       "      <th>33</th>\n",
       "      <td>2021</td>\n",
       "      <td>9</td>\n",
       "      <td>bruker</td>\n",
       "      <td>MAN</td>\n",
       "      <td>1563</td>\n",
       "    </tr>\n",
       "    <tr>\n",
       "      <th>34</th>\n",
       "      <td>2021</td>\n",
       "      <td>9</td>\n",
       "      <td>saksbehandler</td>\n",
       "      <td>AUTO</td>\n",
       "      <td>54</td>\n",
       "    </tr>\n",
       "    <tr>\n",
       "      <th>35</th>\n",
       "      <td>2021</td>\n",
       "      <td>9</td>\n",
       "      <td>saksbehandler</td>\n",
       "      <td>MAN</td>\n",
       "      <td>834</td>\n",
       "    </tr>\n",
       "    <tr>\n",
       "      <th>36</th>\n",
       "      <td>2021</td>\n",
       "      <td>10</td>\n",
       "      <td>bruker</td>\n",
       "      <td>AUTO</td>\n",
       "      <td>2024</td>\n",
       "    </tr>\n",
       "    <tr>\n",
       "      <th>37</th>\n",
       "      <td>2021</td>\n",
       "      <td>10</td>\n",
       "      <td>bruker</td>\n",
       "      <td>MAN</td>\n",
       "      <td>1481</td>\n",
       "    </tr>\n",
       "    <tr>\n",
       "      <th>38</th>\n",
       "      <td>2021</td>\n",
       "      <td>10</td>\n",
       "      <td>saksbehandler</td>\n",
       "      <td>AUTO</td>\n",
       "      <td>30</td>\n",
       "    </tr>\n",
       "    <tr>\n",
       "      <th>39</th>\n",
       "      <td>2021</td>\n",
       "      <td>10</td>\n",
       "      <td>saksbehandler</td>\n",
       "      <td>MAN</td>\n",
       "      <td>944</td>\n",
       "    </tr>\n",
       "    <tr>\n",
       "      <th>40</th>\n",
       "      <td>2021</td>\n",
       "      <td>11</td>\n",
       "      <td>bruker</td>\n",
       "      <td>AUTO</td>\n",
       "      <td>1966</td>\n",
       "    </tr>\n",
       "    <tr>\n",
       "      <th>41</th>\n",
       "      <td>2021</td>\n",
       "      <td>11</td>\n",
       "      <td>bruker</td>\n",
       "      <td>MAN</td>\n",
       "      <td>1377</td>\n",
       "    </tr>\n",
       "    <tr>\n",
       "      <th>42</th>\n",
       "      <td>2021</td>\n",
       "      <td>11</td>\n",
       "      <td>saksbehandler</td>\n",
       "      <td>AUTO</td>\n",
       "      <td>38</td>\n",
       "    </tr>\n",
       "    <tr>\n",
       "      <th>43</th>\n",
       "      <td>2021</td>\n",
       "      <td>11</td>\n",
       "      <td>saksbehandler</td>\n",
       "      <td>MAN</td>\n",
       "      <td>868</td>\n",
       "    </tr>\n",
       "    <tr>\n",
       "      <th>44</th>\n",
       "      <td>2021</td>\n",
       "      <td>12</td>\n",
       "      <td>bruker</td>\n",
       "      <td>AUTO</td>\n",
       "      <td>1679</td>\n",
       "    </tr>\n",
       "    <tr>\n",
       "      <th>45</th>\n",
       "      <td>2021</td>\n",
       "      <td>12</td>\n",
       "      <td>bruker</td>\n",
       "      <td>MAN</td>\n",
       "      <td>1197</td>\n",
       "    </tr>\n",
       "    <tr>\n",
       "      <th>46</th>\n",
       "      <td>2021</td>\n",
       "      <td>12</td>\n",
       "      <td>saksbehandler</td>\n",
       "      <td>AUTO</td>\n",
       "      <td>36</td>\n",
       "    </tr>\n",
       "    <tr>\n",
       "      <th>47</th>\n",
       "      <td>2021</td>\n",
       "      <td>12</td>\n",
       "      <td>saksbehandler</td>\n",
       "      <td>MAN</td>\n",
       "      <td>751</td>\n",
       "    </tr>\n",
       "  </tbody>\n",
       "</table>\n",
       "</div>"
      ],
      "text/plain": [
       "      ÅR  MÅNED   OPPRETTET_AV AUTOMATISERING  ANTALL\n",
       "28  2021      8         bruker           AUTO    1970\n",
       "29  2021      8         bruker            MAN    1348\n",
       "30  2021      8  saksbehandler           AUTO      32\n",
       "31  2021      8  saksbehandler            MAN     733\n",
       "32  2021      9         bruker           AUTO    2344\n",
       "33  2021      9         bruker            MAN    1563\n",
       "34  2021      9  saksbehandler           AUTO      54\n",
       "35  2021      9  saksbehandler            MAN     834\n",
       "36  2021     10         bruker           AUTO    2024\n",
       "37  2021     10         bruker            MAN    1481\n",
       "38  2021     10  saksbehandler           AUTO      30\n",
       "39  2021     10  saksbehandler            MAN     944\n",
       "40  2021     11         bruker           AUTO    1966\n",
       "41  2021     11         bruker            MAN    1377\n",
       "42  2021     11  saksbehandler           AUTO      38\n",
       "43  2021     11  saksbehandler            MAN     868\n",
       "44  2021     12         bruker           AUTO    1679\n",
       "45  2021     12         bruker            MAN    1197\n",
       "46  2021     12  saksbehandler           AUTO      36\n",
       "47  2021     12  saksbehandler            MAN     751"
      ]
     },
     "execution_count": 134,
     "metadata": {},
     "output_type": "execute_result"
    }
   ],
   "source": [
    "test.tail(20)"
   ]
  },
  {
   "cell_type": "code",
   "execution_count": 122,
   "id": "feacf276-54e5-43da-8451-a86668f50351",
   "metadata": {},
   "outputs": [],
   "source": [
    "from datastory import DataStory"
   ]
  },
  {
   "cell_type": "code",
   "execution_count": 123,
   "id": "0acbe54b-3d71-4c40-9163-a58f64c8ac09",
   "metadata": {},
   "outputs": [],
   "source": [
    "ds = DataStory(f\"Automatiserings- og selvbetjeningsgrad for alderspensjon\")\n",
    "\n",
    "ds.markdown(\"**(Under utvikling)**\")\n",
    "ds.markdown(f\"Automatisering av førstegangsbehandlingssaker for alderspensjon i pesys. Saker opprettet av batch er eksludert.\")\n",
    "ds.plotly(fig.to_json())"
   ]
  },
  {
   "cell_type": "code",
   "execution_count": null,
   "id": "ba87d266-6ff0-4cdf-a642-74b673878c29",
   "metadata": {},
   "outputs": [],
   "source": [
    "#ds.publish(url=\"https://nada.intern.nav.no/api\") #prod"
   ]
  }
 ],
 "metadata": {
  "environment": {
   "kernel": "python3",
   "name": "common-cpu.m87",
   "type": "gcloud",
   "uri": "gcr.io/deeplearning-platform-release/base-cpu:m87"
  },
  "kernelspec": {
   "display_name": "Python 3",
   "language": "python",
   "name": "python3"
  },
  "language_info": {
   "codemirror_mode": {
    "name": "ipython",
    "version": 3
   },
   "file_extension": ".py",
   "mimetype": "text/x-python",
   "name": "python",
   "nbconvert_exporter": "python",
   "pygments_lexer": "ipython3",
   "version": "3.7.12"
  }
 },
 "nbformat": 4,
 "nbformat_minor": 5
}
