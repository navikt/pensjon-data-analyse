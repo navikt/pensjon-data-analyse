{
 "cells": [
  {
   "cell_type": "markdown",
   "id": "46808275-b43f-409c-82fc-786e768afeb3",
   "metadata": {},
   "source": [
    "# Generelt om saksbehandling i pesys"
   ]
  },
  {
   "cell_type": "code",
   "execution_count": null,
   "id": "9d863216-9236-4470-9ecf-8a54033278cc",
   "metadata": {},
   "outputs": [],
   "source": [
    "import cx_Oracle\n",
    "import pandas as pd\n",
    "import numpy as np\n",
    "import sys\n",
    "import os\n",
    "import importlib\n",
    "import plotly.express as px\n",
    "import plotly.graph_objects as go\n",
    "from plotly.subplots import make_subplots\n",
    "\n",
    "from google.cloud import secretmanager\n",
    "\n",
    "sys.path.append('../lib')\n",
    "import pandas_utils\n",
    "import pesys_utils\n",
    "from autograd_plot import nav_colors\n",
    "\n",
    "importlib.reload(pandas_utils)\n",
    "importlib.reload(pesys_utils)"
   ]
  },
  {
   "cell_type": "code",
   "execution_count": null,
   "id": "209b7b14-9c47-4846-8514-4cc7e8fda2fa",
   "metadata": {},
   "outputs": [],
   "source": [
    "secrets = secretmanager.SecretManagerServiceClient()\n",
    "resource_name = f\"projects/knada-gcp/secrets/vebjorns-hemmelighet/versions/latest\"\n",
    "secret = secrets.access_secret_version(name=resource_name)\n",
    "secrets = dict([line.split(\":\") for line in secret.payload.data.decode('UTF-8').splitlines()])\n",
    "\n",
    "ORACLE_HOST = '10.53.136.15'\n",
    "ORACLE_PORT = '1521'\n",
    "ORACLE_SERVICE = 'pen'"
   ]
  },
  {
   "cell_type": "code",
   "execution_count": null,
   "id": "0cf64057-0659-48f9-871a-0d4c1f4c9480",
   "metadata": {},
   "outputs": [],
   "source": [
    "dsnStr = cx_Oracle.makedsn(ORACLE_HOST, ORACLE_PORT, service_name=ORACLE_SERVICE)"
   ]
  },
  {
   "cell_type": "code",
   "execution_count": null,
   "id": "76c4d40d-7097-4c24-ba90-5b74c7e34f7f",
   "metadata": {},
   "outputs": [],
   "source": [
    "con = cx_Oracle.connect(user=secrets[\"PEN_USER\"], password=secrets[\"PEN_PASSWORD\"],\n",
    "                               dsn=dsnStr)"
   ]
  },
  {
   "cell_type": "code",
   "execution_count": null,
   "id": "c530f747-0ca0-4ff9-8f2f-7351c14ec57d",
   "metadata": {},
   "outputs": [],
   "source": [
    "df_v4 = pandas_utils.pandas_from_sql('../sql/v4.sql', con)"
   ]
  },
  {
   "cell_type": "code",
   "execution_count": null,
   "id": "77d90059-0beb-41ae-a431-bb89956fb443",
   "metadata": {},
   "outputs": [],
   "source": [
    "k_krav_gjelder = pandas_utils.pandas_from_sql('../sql/k_krav_gjelder.sql', con)\n",
    "k_krav_gjelder = dict(zip(k_krav_gjelder.K_KRAV_GJELDER, k_krav_gjelder.DEKODE))"
   ]
  },
  {
   "cell_type": "code",
   "execution_count": null,
   "id": "3f549c84-7c43-46f7-a34b-d05f923f84f8",
   "metadata": {},
   "outputs": [],
   "source": [
    "con.close()"
   ]
  },
  {
   "cell_type": "code",
   "execution_count": null,
   "id": "c9c74707-dda0-4a97-aa31-57e14026e82d",
   "metadata": {
    "tags": []
   },
   "outputs": [],
   "source": [
    "df = df_v4.copy()\n",
    "# Add \"ÅR-MÅNED\" TO FRONT\n",
    "df[\"ÅR-MÅNED\"] = df[[\"ÅR\", \"MÅNED\"]].apply(lambda row: '-'.join(row.values.astype(str)), axis=1)\n",
    "cols = list(df.columns.values)\n",
    "cols.insert(0, cols.pop())\n",
    "df = df[cols]\n",
    "\n",
    "df[\"STØNADSOMRÅDE\"] = df.STØNADSOMRÅDE.apply(pesys_utils.map_stonad)\n",
    "sjeldne_stonader = [\"Krigspensjon\", \"Familiepleierytelse\", \"Gammel yrkesskade\", \"Generell\"]"
   ]
  },
  {
   "cell_type": "code",
   "execution_count": null,
   "id": "9b439b90-f491-4c00-ab01-92f15557444d",
   "metadata": {},
   "outputs": [],
   "source": [
    "def map_k_krav_gjelder(kode):\n",
    "    return k_krav_gjelder[kode]"
   ]
  },
  {
   "cell_type": "code",
   "execution_count": null,
   "id": "312aa449-f56d-4f17-9a50-7a26d5868a5f",
   "metadata": {},
   "outputs": [],
   "source": [
    "df[\"SAKSTYPE\"] = df.SAKSTYPE.apply(lambda kode: map_k_krav_gjelder(kode))"
   ]
  },
  {
   "cell_type": "code",
   "execution_count": null,
   "id": "1884b4cb-973a-45af-9496-0b2bd9e8f983",
   "metadata": {},
   "outputs": [],
   "source": [
    "df.head()"
   ]
  },
  {
   "cell_type": "code",
   "execution_count": null,
   "id": "e3339479-bc3d-4344-b99e-4e130b13ac3d",
   "metadata": {},
   "outputs": [],
   "source": [
    "for stonad in sjeldne_stonader:\n",
    "    df = df.loc[df.STØNADSOMRÅDE != stonad]"
   ]
  },
  {
   "cell_type": "code",
   "execution_count": null,
   "id": "46ef7692-7c73-49f0-a01b-64643d48bc76",
   "metadata": {},
   "outputs": [],
   "source": [
    "pastel = px.colors.qualitative.Pastel\n",
    "figs = {}"
   ]
  },
  {
   "cell_type": "markdown",
   "id": "c670f37c-69ab-4869-beff-b24b387998e9",
   "metadata": {},
   "source": [
    "# Saker i alle ytelser"
   ]
  },
  {
   "cell_type": "markdown",
   "id": "016b2e98-81fe-432e-b6c6-79a994ab71d0",
   "metadata": {},
   "source": [
    "## Uten batch"
   ]
  },
  {
   "cell_type": "code",
   "execution_count": null,
   "id": "688a0d77-da54-4e55-9456-004f413551a5",
   "metadata": {},
   "outputs": [],
   "source": [
    "df_ingen_batch = df.loc[df.BATCH_FLAGG == 'ikke opprettet av batch']\n",
    "\n",
    "df_ingen_batch_stonad = df_ingen_batch.groupby([\"ÅR-MÅNED\", \"STØNADSOMRÅDE\"], as_index=False).ANTALL.sum().sort_values([\"ÅR-MÅNED\", \"ANTALL\"], ascending=[True, False])\n",
    "\n",
    "fig = px.bar(df_ingen_batch_stonad, \"ÅR-MÅNED\", \"ANTALL\", color=\"STØNADSOMRÅDE\", color_discrete_sequence=nav_colors, log_y=False)\n",
    "figs[\"saker_totalt_ib\"] = fig"
   ]
  },
  {
   "cell_type": "markdown",
   "id": "25cee6f9-707b-4ab8-9331-11bdd856e6d7",
   "metadata": {},
   "source": [
    "## Bare batch"
   ]
  },
  {
   "cell_type": "code",
   "execution_count": null,
   "id": "ebf330c5-4f14-497a-bf27-47cf7fcecf95",
   "metadata": {},
   "outputs": [],
   "source": [
    "df_batch = df.loc[df.BATCH_FLAGG == 'opprettet av batch']\n",
    "\n",
    "df_batch_stonad = df_batch.groupby([\"ÅR-MÅNED\", \"STØNADSOMRÅDE\"], as_index=False).ANTALL.sum().sort_values([\"ÅR-MÅNED\", \"ANTALL\"], ascending=[True, False])\n",
    "\n",
    "fig = px.bar(df_batch_stonad, \"ÅR-MÅNED\", \"ANTALL\", color=\"STØNADSOMRÅDE\", color_discrete_sequence=nav_colors, log_y=True)\n",
    "figs[\"saker_totalt_b\"] = fig"
   ]
  },
  {
   "cell_type": "markdown",
   "id": "e4577b90-6462-4eaf-8bf9-e66811ee4934",
   "metadata": {},
   "source": [
    "# Sakstyper"
   ]
  },
  {
   "cell_type": "code",
   "execution_count": null,
   "id": "74d7a97d-f9d7-47ca-a24a-f01548270c5c",
   "metadata": {},
   "outputs": [],
   "source": [
    "df_sakstype = df.groupby([\"ÅR-MÅNED\", \"SAKSTYPE\"], as_index=False).ANTALL.sum().sort_values([\"ÅR-MÅNED\", \"ANTALL\"], ascending=[True, False])"
   ]
  },
  {
   "cell_type": "code",
   "execution_count": null,
   "id": "7ca61403-05e2-49d7-a6ad-4a4a65e0b4eb",
   "metadata": {},
   "outputs": [],
   "source": [
    "px.bar(df_sakstype, \"ÅR-MÅNED\", \"ANTALL\", color=\"SAKSTYPE\", log_y=True)"
   ]
  },
  {
   "cell_type": "markdown",
   "id": "0ae0d118-0356-470b-9a2e-291c35d40c46",
   "metadata": {},
   "source": [
    "# Sjekk figurer"
   ]
  },
  {
   "cell_type": "code",
   "execution_count": null,
   "id": "7dd8e477-38d4-474c-bee5-96bd04559d4e",
   "metadata": {},
   "outputs": [],
   "source": [
    "for _, fig in figs.items():\n",
    "    fig.show()"
   ]
  },
  {
   "cell_type": "code",
   "execution_count": null,
   "id": "b4adf824-772e-4b0b-b7d3-26d489c509c6",
   "metadata": {},
   "outputs": [],
   "source": []
  },
  {
   "cell_type": "code",
   "execution_count": null,
   "id": "dfdc58f2-b68e-4353-b9bc-0a4f4c6a593d",
   "metadata": {},
   "outputs": [],
   "source": []
  }
 ],
 "metadata": {
  "environment": {
   "kernel": "python3",
   "name": "common-cpu.m87",
   "type": "gcloud",
   "uri": "gcr.io/deeplearning-platform-release/base-cpu:m87"
  },
  "kernelspec": {
   "display_name": "Python 3",
   "language": "python",
   "name": "python3"
  },
  "language_info": {
   "codemirror_mode": {
    "name": "ipython",
    "version": 3
   },
   "file_extension": ".py",
   "mimetype": "text/x-python",
   "name": "python",
   "nbconvert_exporter": "python",
   "pygments_lexer": "ipython3",
   "version": "3.7.12"
  }
 },
 "nbformat": 4,
 "nbformat_minor": 5
}
