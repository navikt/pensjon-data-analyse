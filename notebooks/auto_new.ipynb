{
 "cells": [
  {
   "cell_type": "markdown",
   "id": "c9b5d796-d82a-421c-bec7-55942e2e8fba",
   "metadata": {},
   "source": [
    "# IKKE I BRUK"
   ]
  },
  {
   "cell_type": "markdown",
   "id": "9daca7e7-ca0a-47af-abc4-27211238a1c7",
   "metadata": {
    "tags": []
   },
   "source": [
    "# Automatiseringsgrad Alderpensjon\n",
    "\n",
    "### Oppskrift for å hente datafil\n",
    "- Åpne NAV applikasjoner > Datavarehus\n",
    "- Velg Saker og oppgaver > Sak Pesys > Kravbehandlingsprosess\n",
    "- Åpne \"SAK140 Pesys saksstatistikk\"\n",
    "- Eksporter rapporter. Velg kun Totalrapport, filtype CSV-arkiv.\n",
    "- Last opp filen til jupyter, for eksempel via onedrive (https://navno-my.sharepoint.com/)"
   ]
  },
  {
   "cell_type": "code",
   "execution_count": null,
   "id": "9dec8f0e-856c-4d43-b65b-493cd2775efd",
   "metadata": {
    "tags": []
   },
   "outputs": [],
   "source": [
    "#import zipfile\n",
    "#with zipfile.ZipFile(\"pensjon-data-analyse/data/SAK140_Pesys_saksstatistikk._Tidsserie.zip\",\"r\") as zip_ref:\n",
    "#    zip_ref.extractall(\"pensjon-data-analyse/data/\")"
   ]
  },
  {
   "cell_type": "code",
   "execution_count": null,
   "id": "cbaede21-add9-449e-83ee-5cf91b842c7a",
   "metadata": {},
   "outputs": [],
   "source": [
    "import pandas as pd\n",
    "import operator\n",
    "import numpy as np\n",
    "import unidecode"
   ]
  },
  {
   "cell_type": "code",
   "execution_count": null,
   "id": "6413d2d7-4a6f-45b6-971c-451c107fe7aa",
   "metadata": {},
   "outputs": [],
   "source": [
    "# Read file\n",
    "# home directory might change\n",
    "df_file = pd.read_csv(\"../data/Totalrapport_03-22.csv\").drop([0,1], axis=0).drop(\"Periode kjørt:  2021 mnd 01 - 2022 mnd 02\", axis=1).reset_index(drop=True)"
   ]
  },
  {
   "cell_type": "code",
   "execution_count": null,
   "id": "027c14a0-13dd-475e-8df0-f6f6111cc8b3",
   "metadata": {},
   "outputs": [],
   "source": [
    "df_file.head()"
   ]
  },
  {
   "cell_type": "code",
   "execution_count": null,
   "id": "683fc9dd-c989-47e1-9736-30e8e117aa19",
   "metadata": {},
   "outputs": [],
   "source": [
    "cols = df_file.columns.array\n",
    "for i in range(len(cols)):\n",
    "    cols[i] = \"_\".join(cols[i].split(\" \"))\n",
    "    cols[i] = \"_\".join(cols[i].split(\"-\"))\n",
    "    cols[i] = \"Aa\".join(cols[i].split(\"Å\"))\n",
    "    cols[i] = \"aa\".join(cols[i].split(\"å\"))\n",
    "    cols[i] = \"oe\".join(cols[i].split(\"ø\"))    \n",
    "    cols[i] = \"\".join(cols[i].split(\"(\"))\n",
    "    cols[i] = \"\".join(cols[i].split(\")\"))\n",
    "df_file.columns = cols"
   ]
  },
  {
   "cell_type": "code",
   "execution_count": null,
   "id": "39584e75-c27a-44ec-b2ce-c9019ca9d0a5",
   "metadata": {},
   "outputs": [],
   "source": [
    "df_file.head()"
   ]
  },
  {
   "cell_type": "code",
   "execution_count": null,
   "id": "800f5042-e238-422e-b0ea-1f52dbf014e6",
   "metadata": {},
   "outputs": [],
   "source": [
    "# Antall rader (flere saker per rad) per stønadsområde\n",
    "#df_file.Stønadsområde.value_counts()"
   ]
  },
  {
   "cell_type": "markdown",
   "id": "81452dcc-298f-4d7d-a501-dfe95d0e8f71",
   "metadata": {},
   "source": [
    "# Forbered data"
   ]
  },
  {
   "cell_type": "code",
   "execution_count": null,
   "id": "13c94b51-8c96-45b2-899c-c2872c42804b",
   "metadata": {},
   "outputs": [],
   "source": [
    "def filter_df(df, col_name: str, relate, field: str):\n",
    "    return df[relate(df[col_name], field)]\n",
    "\n",
    "def clean_numbers(x):\n",
    "    if isinstance(x, str):\n",
    "        # replace non-ascii characters with ascii counterpart\n",
    "        x = unidecode.unidecode(x)\n",
    "        if \"%\" in x:\n",
    "            tmp = x[:-2]\n",
    "            x = str(float(tmp)/100)\n",
    "        if \"-\" in x:\n",
    "            x = \"0\"\n",
    "        return \"\".join(x.split(\" \"))\n",
    "    if pd.isna(x):\n",
    "        return \"\"\n",
    "    else:\n",
    "        return str(x)"
   ]
  },
  {
   "cell_type": "code",
   "execution_count": null,
   "id": "1d08e434-8dea-4ff9-b72d-8057ef73d7c3",
   "metadata": {},
   "outputs": [],
   "source": [
    "#Sett tallkolonner til numerisk type\n",
    "numeric_cols = df_file.columns[15:]\n",
    "for col in numeric_cols:\n",
    "    df_file.loc[:,col] = df_file[col].apply(lambda x: clean_numbers(x))\n",
    "    df_file.loc[:,col] = df_file[col].apply(pd.to_numeric)"
   ]
  },
  {
   "cell_type": "code",
   "execution_count": null,
   "id": "11eea4ae-4c37-4681-8fe4-e35492bdcf8f",
   "metadata": {},
   "outputs": [],
   "source": [
    "df_file.head()"
   ]
  },
  {
   "cell_type": "code",
   "execution_count": null,
   "id": "77159043-cad1-4edf-aa63-c6ee3d2455a9",
   "metadata": {},
   "outputs": [],
   "source": [
    "#project_id = \"pensjon-saksbehandli-prod-1f83\"\n",
    "project_id = \"pensjon-saksbehandli-dev-cb76\"\n",
    "dataset_id = \"sak140\"\n",
    "table_id = \"sak140-saksstatistikk\"\n",
    "\n",
    "destination_table = f'{project_id}.{dataset_id}.{table_id}'"
   ]
  },
  {
   "cell_type": "code",
   "execution_count": null,
   "id": "339b7161-e2c1-4120-b7ec-bb1c635090de",
   "metadata": {},
   "outputs": [],
   "source": [
    "df_file.to_gbq(\n",
    "    project_id = project_id,\n",
    "    destination_table=destination_table,\n",
    "    if_exists='replace', \n",
    "    location='europe-north1'\n",
    ")"
   ]
  },
  {
   "cell_type": "code",
   "execution_count": null,
   "id": "2e73ad99-d0b3-41c3-8c0a-aeb55517e395",
   "metadata": {},
   "outputs": [],
   "source": [
    "print(df_file.shape)\n",
    "# Fjern saker opprettet av batch\n",
    "df_no_batch = filter_df(df_file, \"Opprettet av batch\", operator.eq, \"Ikke opprettet av batch\")\n",
    "print(df_no_batch.shape)\n",
    "# Velg kun førstegangsbehandling\n",
    "#df_forstegang = filter_df(df_no_batch, \"Sakstype Topp\", operator.eq, \"Førstegangsbehandling\")\n",
    "#print(df_forstegang.shape)\n",
    "# Alderspensjon\n",
    "ytelse = \"Alderspensjon\"\n",
    "df_alderspensjon = filter_df(df_no_batch, \"Stønadsområde\", operator.eq, ytelse)\n",
    "print(df_alderspensjon.shape)"
   ]
  },
  {
   "cell_type": "code",
   "execution_count": null,
   "id": "57f1586a-b886-4561-8451-09d62b945651",
   "metadata": {},
   "outputs": [],
   "source": []
  },
  {
   "cell_type": "code",
   "execution_count": null,
   "id": "ab58479f-1b90-4909-b7e5-e5be18a744c6",
   "metadata": {},
   "outputs": [],
   "source": [
    "df_alderspensjon.head()"
   ]
  },
  {
   "cell_type": "code",
   "execution_count": null,
   "id": "624dff6b-1d37-45c0-b077-ec40be945116",
   "metadata": {},
   "outputs": [],
   "source": [
    "df_alderspensjon.loc[:,[\"År-måned\", \"Krav automatgrad\", \"Vedtak automatgrad\", \"Utenlandssak\", \"Sakstype topp\"]] = df_alderspensjon[[\"År-måned\", \"Krav automatgrad\", \"Vedtak automatgrad\", \"Utenlandssak\", \"Sakstype topp\"]].astype(\"category\")"
   ]
  },
  {
   "cell_type": "code",
   "execution_count": null,
   "id": "97c4bdef-674b-4808-9675-ae39daabec90",
   "metadata": {},
   "outputs": [],
   "source": [
    "# Gruppér på interessante variabler\n",
    "df_ap_grouped = df_alderspensjon.groupby([\"År-måned\", \"Sakstype topp\", \"Krav automatgrad\", \"Vedtak automatgrad\", \"Utenlandssak\"], as_index=False)"
   ]
  },
  {
   "cell_type": "code",
   "execution_count": null,
   "id": "0bcbe7c2-6a85-4200-876b-36a0792db388",
   "metadata": {},
   "outputs": [],
   "source": [
    "df_ap = df_ap_grouped[\"Antall produksjon\"].sum().sort_values(\n",
    "    [\"År-måned\", \"Sakstype topp\", \"Krav automatgrad\", \"Vedtak automatgrad\", \"Utenlandssak\"]\n",
    ").reset_index(drop=True)"
   ]
  },
  {
   "cell_type": "code",
   "execution_count": null,
   "id": "2f179532-1b12-45a9-b011-3123298a2f6c",
   "metadata": {},
   "outputs": [],
   "source": [
    "# Funksjon som regner ut totalt antall saker per dag og andel per gruppering\n",
    "def add_total_and_andel(df):\n",
    "    df = pd.merge(left=df, \n",
    "                  right=df.groupby(\"År-måned\", as_index=False)[\"Antall produksjon\"].sum(),\n",
    "                  how=\"inner\", \n",
    "                  on=\"År-måned\", \n",
    "                  suffixes=(\"\", \" totalt\"))\n",
    "    df[\"Andel\"] = df[\"Antall produksjon\"] / df[\"Antall produksjon totalt\"]\n",
    "    return df"
   ]
  },
  {
   "cell_type": "code",
   "execution_count": null,
   "id": "c5b6e313-ff58-47f4-9ede-79f6c8d6ebf2",
   "metadata": {},
   "outputs": [],
   "source": [
    "df_ap = add_total_and_andel(df_ap)"
   ]
  },
  {
   "cell_type": "code",
   "execution_count": null,
   "id": "8879bd96-d933-4e37-8b3b-85c527e46108",
   "metadata": {},
   "outputs": [],
   "source": [
    "df_ap"
   ]
  },
  {
   "cell_type": "code",
   "execution_count": null,
   "id": "86fd9e8b-4857-4298-992d-7300de2fa5a7",
   "metadata": {},
   "outputs": [],
   "source": [
    "df_ap[\"Krav automatgrad\"].value_counts()"
   ]
  },
  {
   "cell_type": "markdown",
   "id": "ff37aa25-3bb4-49ff-bdc2-5184773b5848",
   "metadata": {},
   "source": [
    "# Utgangspunkt Alderspensjon"
   ]
  },
  {
   "cell_type": "markdown",
   "id": "f7016762-63fc-4fb8-9836-436ad473ea18",
   "metadata": {},
   "source": [
    "# Plotting"
   ]
  },
  {
   "cell_type": "code",
   "execution_count": null,
   "id": "1cf9df94-3d11-4b2c-9ed9-67da1477858d",
   "metadata": {},
   "outputs": [],
   "source": [
    "import plotly.express as px\n",
    "import plotly.graph_objects as go\n",
    "from plotly.subplots import make_subplots"
   ]
  },
  {
   "cell_type": "code",
   "execution_count": null,
   "id": "5e12fbf2-7137-417a-84ad-75337baf8ac6",
   "metadata": {},
   "outputs": [],
   "source": []
  },
  {
   "cell_type": "code",
   "execution_count": null,
   "id": "91f69512-5986-4c63-9f10-c4b83bc3f645",
   "metadata": {},
   "outputs": [],
   "source": [
    "# Filtre som funker på df_ap\n",
    "#_selvbetjent = df_ap[\"Selvbetjening\"] == \"Selvbetjent\"\n",
    "_innland = df_ap[\"Utenlandssak\"] == \"Nasjonal\"\n",
    "_autokrav = df_ap[\"Krav automatgrad\"] == \"Automatisk\"\n",
    "_autovedtak = df_ap[\"Vedtak automatgrad\"] == \"Automatisk\""
   ]
  },
  {
   "cell_type": "code",
   "execution_count": null,
   "id": "7fe43fa2-8575-47ed-85e3-47485bde8c54",
   "metadata": {},
   "outputs": [],
   "source": [
    "# Angi farger for ulik grad av automatisering\n",
    "automatiserings_colors = px.colors.qualitative.Set1[2::-1]"
   ]
  },
  {
   "cell_type": "code",
   "execution_count": null,
   "id": "141d8976-2286-4ea3-8407-ac7815d1601c",
   "metadata": {},
   "outputs": [],
   "source": [
    "def plot_automatisering1(df, krav_vedtak, box_color=px.colors.qualitative.Pastel[0]):\n",
    "    '''\n",
    "    df: en verdi per måned og automatiseringsgrad\n",
    "    box_color: Farge på boxplot\n",
    "    fig: Box for antall saker, line for automatiseringsgrad\n",
    "    '''\n",
    "    df_tot = df.groupby(\"År-måned\", as_index=False)[\"Antall produksjon\"].sum()\n",
    "    \n",
    "    _automatisk = df[krav_vedtak] == \"Automatisk\"\n",
    "    _manuell = df[krav_vedtak] == \"Manuell\"\n",
    "    \n",
    "    fig = make_subplots(specs=[[{\"secondary_y\": True}]])\n",
    "    \n",
    "    fig.add_trace(go.Bar(x=df_tot[\"År-måned\"], y=df_tot[\"Antall produksjon\"], \n",
    "                         name=\"Antall saker\", marker_color=box_color), \n",
    "                  secondary_y=False)\n",
    "    \n",
    "    fig.add_trace(go.Scatter(x=df[_automatisk][\"År-måned\"], y=df[_automatisk][\"Andel\"], \n",
    "                             name=\"Automatisk\", mode=\"lines+markers\",\n",
    "                             line={'dash': 'solid', 'color': 'black'}),           \n",
    "                  secondary_y=True)\n",
    "    \n",
    "#    fig.add_trace(go.Scatter(x=df[~_automatisk & ~_manuell][\"År-måned\"], y=df[~_automatisk & ~_manuell][\"Andel\"], \n",
    "#                             name=\"Del-automatisk\", mode=\"lines\",\n",
    "#                             line={'dash': 'solid', 'color': 'grey'}), \n",
    "#                  secondary_y=True)\n",
    "    \n",
    "    fig.update_yaxes(title_text=\"Andel automatisert\", secondary_y=True, range=[0,1], tickformat='.0%')\n",
    "    fig.update_yaxes(title_text=\"Antall saker\", range=[0,max(df_tot[\"Antall produksjon\"])*1.1], secondary_y=False)\n",
    "    fig.layout.yaxis2.showgrid = False\n",
    "    fig.update_layout(\n",
    "        autosize=False,\n",
    "        width=1300,\n",
    "        height=500,)\n",
    "    return fig"
   ]
  },
  {
   "cell_type": "code",
   "execution_count": null,
   "id": "8f85b1e7-4f4c-4e29-80c7-7740150bba88",
   "metadata": {},
   "outputs": [],
   "source": [
    "def plot_automatisering2(df):\n",
    "    '''\n",
    "    df: en verdi per måned, automatiseringsgrad\n",
    "    fig: Stacked box for automatiseringsgrad, line for totalt antall\n",
    "    '''\n",
    "    df_tot = df.groupby(\"År-måned\", as_index=False)[\"Antall produksjon\"].sum()\n",
    "    \n",
    "    _automatisk = df[\"Automatiseringsgrad\"] == \"Automatisk\"\n",
    "    _manuell = df[\"Automatiseringsgrad\"] == \"Manuell\"\n",
    "    \n",
    "    fig = make_subplots(specs=[[{\"secondary_y\": True}]])\n",
    "    \n",
    "    fig.add_trace(go.Scatter(x=df_tot[\"År-måned\"], y=df_tot[\"Antall produksjon\"], mode=\"lines\", marker_color=\"rgb(0,0,0)\", name=\"Totalt antall saker\"), secondary_y=True)\n",
    "    \n",
    "    fig.add_trace(go.Bar(x=df[_automatisk][\"År-måned\"], y=df[_automatisk][\"Andel\"], marker_color=automatiserings_colors[0], name=\"Automatisk\"), secondary_y=False)\n",
    "    fig.add_trace(go.Bar(x=df[~_automatisk & ~_manuell][\"År-måned\"], y=df[~_automatisk & ~_manuell][\"Andel\"], marker_color=automatiserings_colors[1], name=\"Del-automatisk\"), secondary_y=False)\n",
    "    fig.add_trace(go.Bar(x=df[_manuell][\"År-måned\"], y=df[_manuell][\"Andel\"], marker_color=automatiserings_colors[2], name=\"Manuell\"), secondary_y=False)\n",
    "    \n",
    "    fig.update_layout(yaxis_tickformat = '.0%', barmode='stack')\n",
    "    fig.update_yaxes(title_text=\"Andel\", secondary_y=False)\n",
    "    fig.update_yaxes(title_text=\"Antall saker\", range=[0,max(df_tot[\"Antall produksjon\"]*1.1)], secondary_y=True)\n",
    "    \n",
    "    return fig"
   ]
  },
  {
   "cell_type": "code",
   "execution_count": null,
   "id": "b86fd95c-41ef-4afc-9c6a-8ea3c109298c",
   "metadata": {},
   "outputs": [],
   "source": [
    "def plot_automatisering_subplots(df_list, titles, box_color=px.colors.qualitative.Pastel[0]):\n",
    "    '''\n",
    "    df: en verdi per måned og automatiseringsgrad\n",
    "    box_color: Farge på boxplot\n",
    "    fig: Box for antall saker, line for automatiseringsgrad\n",
    "    '''\n",
    "    N = len(df_list)\n",
    "    M = len(df_list[0])\n",
    "    fig = make_subplots(rows=N, cols=M, specs=[[{\"secondary_y\": True} for i in range(N*M)]], subplot_titles=titles)\n",
    "    showlegend = True\n",
    "    for i in range(N):\n",
    "        for j in range(M):\n",
    "            if i+j > 0:\n",
    "                showlegend = False\n",
    "            df = df_list[i][j]\n",
    "            df_tot = df.groupby(\"År-måned\", as_index=False)[\"Antall produksjon\"].sum()\n",
    "\n",
    "            _automatisk = df[\"Automatiseringsgrad\"] == \"Automatisk\"\n",
    "            _manuell = df[\"Automatiseringsgrad\"] == \"Manuell\"\n",
    "    \n",
    "            fig.add_trace(go.Bar(x=df_tot[\"År-måned\"], y=df_tot[\"Antall produksjon\"], \n",
    "                                 name=\"Antall saker\", legendgroup=\"Antall saker\", showlegend=showlegend, marker_color=box_color),\n",
    "                          row=i+1, col=j+1, secondary_y=False)\n",
    "\n",
    "            fig.add_trace(go.Scatter(x=df[_automatisk][\"År-måned\"], y=df[_automatisk][\"Andel\"], \n",
    "                                     name=\"Automatisk\", legendgroup=\"Automatisk\", showlegend=showlegend, mode=\"lines+markers\",\n",
    "                                     line={'dash': 'solid', 'color': 'black'}),\n",
    "                          row=i+1, col=j+1, secondary_y=True)\n",
    "            \n",
    "            fig.add_trace(go.Scatter(x=df[~_automatisk & ~_manuell][\"År-måned\"], y=df[~_automatisk & ~_manuell][\"Andel\"], \n",
    "                                     name=\"Del-automatisk\", legendgroup=\"Del-automatisk\", showlegend=showlegend, mode=\"lines\",\n",
    "                                     line={'dash': 'solid', 'color': 'grey'}), \n",
    "                          row=i+1, col=j+1, secondary_y=True)\n",
    "    \n",
    "            fig.update_yaxes(title_text=\"Andel automatisert\", secondary_y=True, range=[0,1], tickformat='.0%', row=i+1, col=j+1)\n",
    "            fig.update_yaxes(title_text=\"Antall saker\", range=[0,max(df_tot[\"Antall produksjon\"])*1.1], secondary_y=False, row=i+1, col=j+1)\n",
    "    \n",
    "    fig.layout.yaxis2.showgrid = False\n",
    "    fig.update_layout(\n",
    "        autosize=False,\n",
    "        width=1300,\n",
    "        height=500,)\n",
    "    return fig"
   ]
  },
  {
   "cell_type": "markdown",
   "id": "1145a263-7baa-4c40-9d08-27e3a6211991",
   "metadata": {},
   "source": [
    "## Total automatiseringsgrad"
   ]
  },
  {
   "cell_type": "code",
   "execution_count": null,
   "id": "af4e0d8b-1dd8-4b39-9cf0-2c96f4d8b108",
   "metadata": {},
   "outputs": [],
   "source": [
    "#krav_vedtak = \"Krav automatgrad\"\n",
    "krav_vedtak = \"Vedtak automatgrad\"\n",
    "df_auto = df_ap.groupby([\"År-måned\", krav_vedtak], as_index=False)[\"Antall produksjon\"].sum()\n",
    "df_auto = add_total_and_andel(df_auto)"
   ]
  },
  {
   "cell_type": "code",
   "execution_count": null,
   "id": "236a7978-48f0-4bb3-8b3d-c018aaee6dc6",
   "metadata": {},
   "outputs": [],
   "source": [
    "fig_automatisering_total1 = plot_automatisering1(df_auto, krav_vedtak)\n",
    "fig_automatisering_total1.show()"
   ]
  },
  {
   "cell_type": "markdown",
   "id": "47fd09f9-63fa-42d1-84d2-23a8906fadea",
   "metadata": {},
   "source": [
    "## Automatisering på selvbetjente saker"
   ]
  },
  {
   "cell_type": "code",
   "execution_count": null,
   "id": "d26e9e3c-3c59-43ca-ade9-125cd2635dd1",
   "metadata": {},
   "outputs": [],
   "source": [
    "df_selvbetjent = df_ap[_selvbetjent].groupby([\"År-måned\", \"Automatiseringsgrad\"], as_index=False)[[\"Antall produksjon\"]].sum()\n",
    "df_selvbetjent = add_total_and_andel(df_selvbetjent)\n",
    "\n",
    "#fig_selvbetjent = px.bar(df_selvbetjent, x=\"År-måned\", y=\"Andel\", color=\"Automatiseringsgrad\", color_discrete_sequence=automatiserings_colors)\n",
    "#fig_selvbetjent.update_layout(yaxis_tickformat = '.0%')\n",
    "#fig_selvbetjent.show()"
   ]
  },
  {
   "cell_type": "code",
   "execution_count": null,
   "id": "63357522-3db4-4787-bc5b-f0c6f28304b7",
   "metadata": {},
   "outputs": [],
   "source": [
    "fig_automatisering_selvbetjent1 = plot_automatisering1(df_selvbetjent)\n",
    "fig_automatisering_selvbetjent1.show()"
   ]
  },
  {
   "cell_type": "markdown",
   "id": "ec4e0182-ec1a-4f2a-9e08-be38c70b66d2",
   "metadata": {},
   "source": [
    "## Automatisering på ikke selvbetjente saker"
   ]
  },
  {
   "cell_type": "code",
   "execution_count": null,
   "id": "0d7a9cfe-0468-439f-a04a-10ce9d61b6b2",
   "metadata": {},
   "outputs": [],
   "source": [
    "df_ikke_selvbetjent = df_ap[~_selvbetjent].groupby([\"År-måned\", \"Automatiseringsgrad\"], as_index=False)[[\"Antall produksjon\"]].sum()\n",
    "df_ikke_selvbetjent = add_total_and_andel(df_ikke_selvbetjent)"
   ]
  },
  {
   "cell_type": "code",
   "execution_count": null,
   "id": "c28c9aea-4813-48f0-aa9c-01be3fd39c25",
   "metadata": {},
   "outputs": [],
   "source": [
    "fig_automatisering_ikke_selvbetjent1 = plot_automatisering1(df_ikke_selvbetjent)\n",
    "fig_automatisering_ikke_selvbetjent1.show()"
   ]
  },
  {
   "cell_type": "code",
   "execution_count": null,
   "id": "dff2cc42-c487-41a1-b009-7604368ffab0",
   "metadata": {},
   "outputs": [],
   "source": [
    "titles = ('Selvbetjent', 'Ikke selvbetjent')\n",
    "fig_automatisering_selvbetjening = plot_automatisering_subplots([[df_selvbetjent, df_ikke_selvbetjent]], titles)\n",
    "fig_automatisering_selvbetjening.show()"
   ]
  },
  {
   "cell_type": "markdown",
   "id": "1718936a-6e49-41c2-a54f-564f52426909",
   "metadata": {},
   "source": [
    "## Automatiseringsgrad Utlandstilsnitt"
   ]
  },
  {
   "cell_type": "code",
   "execution_count": null,
   "id": "2c0b597f-9c8f-4aa6-90de-e62bb7b162c3",
   "metadata": {},
   "outputs": [],
   "source": [
    "df_automatisering_innland = df_ap[_innland].groupby([\"År-måned\", \"Automatiseringsgrad\"], as_index=False)[\"Antall produksjon\"].sum()\n",
    "df_automatisering_innland = add_total_and_andel(df_automatisering_innland)"
   ]
  },
  {
   "cell_type": "code",
   "execution_count": null,
   "id": "d691b2ac-09a7-4925-a85a-13d3dd5cfc7b",
   "metadata": {},
   "outputs": [],
   "source": [
    "df_automatisering_utland = df_ap[~_innland].groupby([\"År-måned\", \"Automatiseringsgrad\"], as_index=False)[\"Antall produksjon\"].sum()\n",
    "df_automatisering_utland = add_total_and_andel(df_automatisering_utland)"
   ]
  },
  {
   "cell_type": "code",
   "execution_count": null,
   "id": "ae6d08ee-a0e4-4cf1-9c34-e8967c861abf",
   "metadata": {},
   "outputs": [],
   "source": [
    "fig_automatisering_utlandstilsnitt = plot_automatisering_subplots([[df_automatisering_innland, df_automatisering_utland]], titles=[\"Innland\", \"Utland\"])\n",
    "fig_automatisering_utlandstilsnitt.show()"
   ]
  },
  {
   "cell_type": "markdown",
   "id": "f2fcfc02-5691-44e8-b72f-ee3feff22349",
   "metadata": {},
   "source": [
    "# Selvbetjeningsgrad"
   ]
  },
  {
   "cell_type": "code",
   "execution_count": null,
   "id": "90150880-d498-42ec-b40e-96672f3c806b",
   "metadata": {},
   "outputs": [],
   "source": [
    "def plot_selvbetjening1(df, box_color=px.colors.qualitative.Pastel[2]):\n",
    "\n",
    "    df_tot = df.groupby(\"År-måned\", as_index=False)[\"Antall produksjon\"].sum()\n",
    "    \n",
    "    _selvbetjent = df[\"Selvbetjening\"] == \"Selvbetjent\"\n",
    "    \n",
    "    fig = make_subplots(specs=[[{\"secondary_y\": True}]])\n",
    "    \n",
    "    fig.add_trace(go.Bar(x=df_tot[\"År-måned\"], y=df_tot[\"Antall produksjon\"], \n",
    "                         name=\"Antall saker\", marker_color=box_color), \n",
    "                  secondary_y=False)\n",
    "    \n",
    "    fig.add_trace(go.Scatter(x=df[_selvbetjent][\"År-måned\"], y=df[_selvbetjent][\"Andel\"], \n",
    "                             name=\"Selvbetjening\", mode=\"lines+markers\",\n",
    "                             line={'dash': 'solid', 'color': 'black'}),\n",
    "                  \n",
    "                  secondary_y=True)\n",
    "    \n",
    "    fig.update_yaxes(title_text=\"Andel selvbetjening\", secondary_y=True, range=[0,1], tickformat='.0%')\n",
    "    fig.update_yaxes(title_text=\"Antall saker\", range=[0,max(df_tot[\"Antall produksjon\"])*1.1], secondary_y=False)\n",
    "    fig.layout.yaxis2.showgrid = False\n",
    "    fig.update_layout(\n",
    "        autosize=False,\n",
    "        width=1300,\n",
    "        height=500,)    \n",
    "    return fig"
   ]
  },
  {
   "cell_type": "code",
   "execution_count": null,
   "id": "d01e30f0-90bb-44bd-be47-81a6e010ab4e",
   "metadata": {},
   "outputs": [],
   "source": [
    "def plot_selvbetjening2(df):\n",
    "    \n",
    "    df_tot = df.groupby(\"År-måned\", as_index=False)[\"Antall produksjon\"].sum()\n",
    "    \n",
    "    _selvbetjent = df[\"Selvbetjening\"] == \"Selvbetjent\"\n",
    "    \n",
    "    fig = make_subplots(specs=[[{\"secondary_y\": True}]])\n",
    "    \n",
    "    fig.add_trace(go.Scatter(x=df_tot[\"År-måned\"], y=df_tot[\"Antall produksjon\"], mode=\"lines\", marker_color=\"rgb(0,0,0)\", name=\"Totalt antall saker\"), secondary_y=True)\n",
    "    \n",
    "    fig.add_trace(go.Bar(x=df[_selvbetjent][\"År-måned\"], y=df[_selvbetjent][\"Andel\"], marker_color=automatiserings_colors[0], name=\"Selvbetjent\"), secondary_y=False)\n",
    "    fig.add_trace(go.Bar(x=df[~_selvbetjent][\"År-måned\"], y=df[~_selvbetjent][\"Andel\"], marker_color=automatiserings_colors[2], name=\"Ikke selvbetjent\"), secondary_y=False)\n",
    "    \n",
    "    fig.update_layout(yaxis_tickformat = '.0%', barmode='stack')\n",
    "    fig.update_yaxes(title_text=\"Andel selvbetjening\", secondary_y=False)\n",
    "    fig.update_yaxes(title_text=\"Antall saker\", range=[0,max(df_tot[\"Antall produksjon\"])*1.1], secondary_y=True)\n",
    "    \n",
    "    return fig"
   ]
  },
  {
   "cell_type": "code",
   "execution_count": null,
   "id": "38db64c9-ef61-48fa-a270-8ac3580f72fe",
   "metadata": {},
   "outputs": [],
   "source": [
    "def plot_selvbetjening_subplots(df_list, titles, box_color=px.colors.qualitative.Pastel[2]):\n",
    "    '''\n",
    "    '''\n",
    "    N = len(df_list)\n",
    "    M = len(df_list[0])\n",
    "    fig = make_subplots(rows=N, cols=M, specs=[[{\"secondary_y\": True} for i in range(N*M)]], subplot_titles=titles)\n",
    "    showlegend = True\n",
    "    for i in range(N):\n",
    "        for j in range(M):\n",
    "            if i+j > 0:\n",
    "                showlegend = False\n",
    "            df = df_list[i][j]\n",
    "            df_tot = df.groupby(\"År-måned\", as_index=False)[\"Antall produksjon\"].sum()\n",
    "\n",
    "            _selvbetjent = df[\"Selvbetjening\"] == \"Selvbetjent\"\n",
    "            \n",
    "            fig.add_trace(go.Bar(x=df_tot[\"År-måned\"], y=df_tot[\"Antall produksjon\"], \n",
    "                         name=\"Antall saker\", legendgroup=\"Antall saker\", showlegend=showlegend, marker_color=box_color), \n",
    "                  row=i+1, col=j+1, secondary_y=False)\n",
    "    \n",
    "            fig.add_trace(go.Scatter(x=df[_selvbetjent][\"År-måned\"], y=df[_selvbetjent][\"Andel\"], \n",
    "                             name=\"Selvbetjening\", legendgroup=\"Selvbetjening\", showlegend=showlegend, mode=\"lines+markers\",\n",
    "                             line={'dash': 'solid', 'color': 'black'}),\n",
    "                  row=i+1, col=j+1, secondary_y=True)\n",
    "            \n",
    "            fig.update_yaxes(title_text=\"Andel selvbetjening\", secondary_y=True, range=[0,1], tickformat='.0%', row=i+1, col=j+1)\n",
    "            fig.update_yaxes(title_text=\"Antall saker\", range=[0,max(df_tot[\"Antall produksjon\"])*1.1], secondary_y=False, row=i+1, col=j+1)\n",
    "    \n",
    "    fig.layout.yaxis2.showgrid = False\n",
    "    fig.update_layout(\n",
    "        autosize=False,\n",
    "        width=1300,\n",
    "        height=500,)\n",
    "    return fig"
   ]
  },
  {
   "cell_type": "markdown",
   "id": "5a0450fe-abde-41f8-a2bd-bde8dca81b3b",
   "metadata": {},
   "source": [
    "## Total selvbetjeningsgrad"
   ]
  },
  {
   "cell_type": "code",
   "execution_count": null,
   "id": "53fb0579-84f0-4c04-852f-7a798a21971d",
   "metadata": {
    "tags": []
   },
   "outputs": [],
   "source": [
    "df_andel_selvbetjening = df_ap.groupby([\"År-måned\", \"Selvbetjening\"], as_index=False)[\"Antall produksjon\"].sum()\n",
    "df_andel_selvbetjening = add_total_and_andel(df_andel_selvbetjening)"
   ]
  },
  {
   "cell_type": "code",
   "execution_count": null,
   "id": "8402b775-b39b-4399-b92c-a6cc1e239b89",
   "metadata": {},
   "outputs": [],
   "source": [
    "fig_selvbetjening_total1 = plot_selvbetjening1(df_andel_selvbetjening)\n",
    "fig_selvbetjening_total1.show()"
   ]
  },
  {
   "cell_type": "markdown",
   "id": "61e81d53-37e3-4cb8-9a9c-bb27a6391707",
   "metadata": {},
   "source": [
    "## Selvbetjening innland"
   ]
  },
  {
   "cell_type": "code",
   "execution_count": null,
   "id": "de7c414b-afc0-424b-8bd5-b9d2fcae267c",
   "metadata": {},
   "outputs": [],
   "source": [
    "df_selvbetjening_innland = df_ap[_innland].groupby([\"År-måned\", \"Selvbetjening\"], as_index=False)[\"Antall produksjon\"].sum()\n",
    "df_selvbetjening_innland = add_total_and_andel(df_selvbetjening_innland)"
   ]
  },
  {
   "cell_type": "markdown",
   "id": "2709fe50-c5ab-466f-984e-9f393af20665",
   "metadata": {},
   "source": [
    "## Selvbetjening utland"
   ]
  },
  {
   "cell_type": "code",
   "execution_count": null,
   "id": "bb63804a-532c-45ba-909c-50a2b88ed75d",
   "metadata": {
    "tags": []
   },
   "outputs": [],
   "source": [
    "df_selvbetjening_utland = df_ap[~_innland].groupby([\"År-måned\", \"Selvbetjening\"], as_index=False)[\"Antall produksjon\"].sum()\n",
    "df_selvbetjening_utland = add_total_and_andel(df_selvbetjening_utland)"
   ]
  },
  {
   "cell_type": "code",
   "execution_count": null,
   "id": "7315e5fc-6e7b-4f46-ab0a-c09d7d87b583",
   "metadata": {},
   "outputs": [],
   "source": [
    "fig_selvbetjening_utlandstilsnitt = plot_selvbetjening_subplots([[df_selvbetjening_innland, df_selvbetjening_utland]], [\"Innland\", \"Utland\"])\n",
    "fig_selvbetjening_utlandstilsnitt.show()"
   ]
  },
  {
   "cell_type": "code",
   "execution_count": null,
   "id": "e1bc7f4e-7548-4aff-a7fa-73b3548dda5c",
   "metadata": {},
   "outputs": [],
   "source": [
    "innledning = f\"Statistikk på automatiserings- og selvbetjeningsgrad for førstegangsbehandling av {ytelse}. Data er basert på rapporten PSAK120. Saker opprettet av batch er eksludert.\""
   ]
  },
  {
   "cell_type": "code",
   "execution_count": null,
   "id": "83c4c21a-e9a0-4ec7-a69b-5dd3b0448db4",
   "metadata": {},
   "outputs": [],
   "source": [
    "from datastory import DataStory"
   ]
  },
  {
   "cell_type": "code",
   "execution_count": null,
   "id": "e6080fcf-df3a-4d63-9d29-23306755963f",
   "metadata": {},
   "outputs": [],
   "source": [
    "ds = DataStory(f\"Automatiserings- og Selvbetjeningsgrad for {ytelse}\")\n",
    "\n",
    "ds.markdown(innledning)\n",
    "\n",
    "ds.header(\"Automatiseringsgrad\", level=1)\n",
    "ds.markdown(\"Automatiseringsgrad på alle nye saker. Del-automatisk henviser til saker hvor deler av saksbehandlingen ble gjort automatisk.\")\n",
    "ds.plotly(fig_automatisering_total1.to_json())\n",
    "\n",
    "ds.header(\"Automatiseringsgrad selvbetjening\", level=2)\n",
    "ds.plotly(fig_automatisering_selvbetjening.to_json())\n",
    "\n",
    "ds.header(\"Automatiseringsgrad utlandstilsnitt\", level=2)\n",
    "ds.plotly(fig_automatisering_utlandstilsnitt.to_json())\n",
    "\n",
    "ds.header(\"Selvbetjeningsgrad\", level=1)\n",
    "ds.markdown(\"Selvbetjeningsgrad på alle nye saker.\")\n",
    "ds.plotly(fig_selvbetjening_total1.to_json())\n",
    "\n",
    "ds.header(\"Selvbetjeningsgrad utlandstilsnitt\", level=2)\n",
    "ds.plotly(fig_selvbetjening_utlandstilsnitt.to_json())"
   ]
  },
  {
   "cell_type": "code",
   "execution_count": null,
   "id": "3caafaf8-ca09-417e-9d24-8bff11e3ff21",
   "metadata": {},
   "outputs": [],
   "source": [
    "ds.publish(url=\"https://nada.ekstern.dev.nav.no/api\") #dev\n",
    "#ds.publish(url=\"https://nada.intern.nav.no/api\") #prod\n",
    "#ds.update(url=\"https://nada.ekstern.dev.nav.no/api\", token='1f79f29a-b9a6-48d4-8514-96a2c45ef319')"
   ]
  }
 ],
 "metadata": {
  "environment": {
   "kernel": "python3",
   "name": "common-cpu.m87",
   "type": "gcloud",
   "uri": "gcr.io/deeplearning-platform-release/base-cpu:m87"
  },
  "kernelspec": {
   "display_name": "Python 3",
   "language": "python",
   "name": "python3"
  },
  "language_info": {
   "codemirror_mode": {
    "name": "ipython",
    "version": 3
   },
   "file_extension": ".py",
   "mimetype": "text/x-python",
   "name": "python",
   "nbconvert_exporter": "python",
   "pygments_lexer": "ipython3",
   "version": "3.7.12"
  }
 },
 "nbformat": 4,
 "nbformat_minor": 5
}
