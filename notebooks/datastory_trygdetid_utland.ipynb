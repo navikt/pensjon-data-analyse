{
 "cells": [
  {
   "cell_type": "code",
   "execution_count": null,
   "id": "ff307d2f-5806-4a75-ae3d-9da08d265a04",
   "metadata": {},
   "outputs": [],
   "source": [
    "import sys\n",
    "import numpy as np\n",
    "import pandas as pd\n",
    "import importlib\n",
    "import plotly.express as px\n",
    "import plotly.graph_objects as go\n",
    "from datetime import datetime\n",
    "\n",
    "from google.cloud import secretmanager\n",
    "from datastory import datastory\n",
    "\n",
    "sys.path.append('../lib')\n",
    "import utils\n",
    "import pandas_utils\n",
    "import pesys_utils\n",
    "importlib.reload(utils)\n",
    "importlib.reload(pesys_utils)\n",
    "importlib.reload(pandas_utils)"
   ]
  },
  {
   "cell_type": "code",
   "execution_count": null,
   "id": "cdc072fb-5af9-43bf-8810-579dd7a1a038",
   "metadata": {},
   "outputs": [],
   "source": [
    "utils.set_secrets_as_env(split_on=\":\", secret_name=\"projects/193123067890/secrets/vebjorn-rekkebo/versions/latest\")"
   ]
  },
  {
   "cell_type": "code",
   "execution_count": null,
   "id": "34a8313c-2a06-4e60-9c92-894cff9064c4",
   "metadata": {},
   "outputs": [],
   "source": [
    "con = pesys_utils.open_pen_connection()\n",
    "df_perioder_registrert = pandas_utils.pandas_from_sql('../sql/trygdetidsperioder_saksbehandler.sql', con=con, lowercase=True)\n",
    "df_perioder_frekvens = pandas_utils.pandas_from_sql('../sql/trygdetidsperioder_saksbehandler_frekvens.sql', con=con, lowercase=True)\n",
    "con.close()"
   ]
  },
  {
   "cell_type": "code",
   "execution_count": null,
   "id": "c2c7bb21-6373-4865-b1a7-1cbf41237380",
   "metadata": {},
   "outputs": [],
   "source": [
    "df_perioder_registrert.head()"
   ]
  },
  {
   "cell_type": "code",
   "execution_count": null,
   "id": "12225f88-fdff-403f-9503-bf7d5dddafd0",
   "metadata": {},
   "outputs": [],
   "source": [
    "current_year = datetime.now().year\n",
    "\n",
    "df = df_perioder_registrert[df_perioder_registrert.land == 'Utland'].reset_index(drop=True)\n",
    "df = df[df.aar != current_year]\n",
    "df = df[df.aar != 2008]\n",
    "df[\"snitt\"] = df.antall_grunnlag / df.antall_personer"
   ]
  },
  {
   "cell_type": "code",
   "execution_count": null,
   "id": "f1715559-9b6e-4308-9d48-c44528473cb6",
   "metadata": {},
   "outputs": [],
   "source": [
    "fig_n_grunnlag = px.bar(df, \"aar\", \"antall_grunnlag\", labels={'antall_grunnlag':'Antall perioder', 'aar':'År'}, title='Antall manuelt registrerte utlandsperioder i pesys per år')\n",
    "fig_n_grunnlag.show()"
   ]
  },
  {
   "cell_type": "code",
   "execution_count": null,
   "id": "401c6bd1-a085-40db-ab92-31f7df9293cb",
   "metadata": {},
   "outputs": [],
   "source": [
    "fig_n_personer = px.bar(df, \"aar\", \"antall_personer\", labels={'antall_personer':'Antall personer', 'aar':'År'}, title='Antall personer med minst én manuelt registrert utlandsperiode i pesys per år')\n",
    "fig_n_personer.show()"
   ]
  },
  {
   "cell_type": "code",
   "execution_count": null,
   "id": "555b8a5b-dbb7-4822-bf66-f23b4986fb2a",
   "metadata": {},
   "outputs": [],
   "source": [
    "fig_snitt_grunnlag = px.bar(df, \"aar\", \"snitt\", labels={'aar':'År', 'snitt':'Antall perioder'}, title='Gjennomsnittlig antall manuelt registrerte utlandsperioder per person')\n",
    "fig_snitt_grunnlag.show()"
   ]
  },
  {
   "cell_type": "code",
   "execution_count": null,
   "id": "804c9f84-df58-410e-acb6-e9ee19bb8012",
   "metadata": {},
   "outputs": [],
   "source": [
    "df_perioder_frekvens = df_perioder_frekvens[df_perioder_frekvens.aar != current_year]\n",
    "df_perioder_frekvens_utland = df_perioder_frekvens[df_perioder_frekvens.land == 'Utland']\n",
    "\n",
    "df2 = group_df_on_var(df_perioder_frekvens_utland, 'aar')"
   ]
  },
  {
   "cell_type": "code",
   "execution_count": null,
   "id": "766d0945-183c-474c-8cb9-5d422d702f0e",
   "metadata": {},
   "outputs": [],
   "source": [
    "df2.tail()"
   ]
  },
  {
   "cell_type": "code",
   "execution_count": null,
   "id": "5d4ca940-af95-4d13-aa84-98e1ae69acce",
   "metadata": {},
   "outputs": [],
   "source": [
    "cutoffs = [2, 5, 10, 20]\n",
    "fig4 = go.Figure()\n",
    "fig4.update_layout(title=\"Utvikling i andel personer med x antall trygdetidsperioder i utlandet (av alle som har minst én)\")\n",
    "for cutoff in cutoffs:\n",
    "    df3 = df2[df2.antall_grunnlag >= cutoff].groupby(['aar'], as_index=False).andel.sum()\n",
    "    fig4.add_traces(go.Scatter(x=df3.aar, y=df3.andel, name=f\"Minst {cutoff}\"))\n",
    "    fig4.update_yaxes(tickformat='.0%')\n",
    "    fig4.update_layout(xaxis_title=\"År\", yaxis_title=\"Andel\")\n",
    "fig4.show()"
   ]
  },
  {
   "cell_type": "code",
   "execution_count": null,
   "id": "793bd124-5b88-44bc-8d14-b3cfc6629fa5",
   "metadata": {},
   "outputs": [],
   "source": [
    "df2_2022 = df2[df2.aar == 2022]"
   ]
  },
  {
   "cell_type": "code",
   "execution_count": null,
   "id": "b1ef2004-8e74-4910-a4eb-f6d710888ce8",
   "metadata": {},
   "outputs": [],
   "source": [
    "df2_2022[df2_2022.antall_grunnlag >= 30].frekvens.sum()"
   ]
  },
  {
   "cell_type": "code",
   "execution_count": null,
   "id": "a673832f-095a-40d3-9693-7dc778e02627",
   "metadata": {},
   "outputs": [],
   "source": [
    "fig_histogram = px.histogram(df2_2022[df2_2022.antall_grunnlag < 30], \"antall_grunnlag\", \"frekvens\", nbins=30, labels={'antall_grunnlag':'Antall perioder'}, title='Fordeling av antall utlandsperioder per person')\n",
    "fig_histogram.update_layout(yaxis_title=\"Frekvens\")\n",
    "fig_histogram.show()"
   ]
  },
  {
   "cell_type": "code",
   "execution_count": null,
   "id": "5314dd4a-9fed-4e31-ace1-06257c32903b",
   "metadata": {},
   "outputs": [],
   "source": [
    "ds = datastory.DataStory(\"Trygdetidsperioder i utlandet\")\n",
    "ds.header(\"Trygdetidsperioder i utlandet\")\n",
    "ds.markdown(\"\"\"Saksbehandlere opplever at det er veldig tidkrevende å saksbehandle utlandssaker. \n",
    "    Særlig er det veldig mye jobb å registrere trygdetidsperioder for personer med mange perioder i utlandet.\n",
    "    Dette er informasjon man har i EESSI-løsningen, men som ikke automatisk overføres til pesys, slik at saksbehandler må registrere hver periode manuelt.\n",
    "    Her ser vi på omfanget av personer med mange trygdetidsperioder i pesys de siste årene. \n",
    "    Dette er altså på tvers av alle ytelser i pesys, med alderspensjon og uføretrygd som de to klart største.\n",
    "\"\"\")\n",
    "ds.plotly(fig_n_personer.to_json())\n",
    "ds.markdown(\"\"\"Figuren over viser antall personer som har minst én manuelt utfylt trygdetidsperiode for hvert år. \n",
    "    Her ser vi en svært tydelig økning i personer med utlandske perioder fram til 2014, men mer stabilt etterpå.\n",
    "\"\"\")\n",
    "ds.plotly(fig_n_grunnlag.to_json())\n",
    "ds.markdown(\"\"\"Denne figuren viser det totale antallet trygdetidsperioder som er registrert av saksbehandler hvert år. \n",
    "    Her er det en oppgang også etter 2014, hvilket betyr at antallet perioder per person har økt som vi ser i neste figur.\n",
    "    Denne figuren illustrerer best den totale arbeidsmengden for saksbehandlerne gjennom et år.\n",
    "\"\"\")\n",
    "ds.plotly(fig_snitt_grunnlag.to_json())\n",
    "ds.markdown(\"\"\"Her vises gjennomsnittlig antall utlandsperioder per person med minst én periode. Her må man være klar over at det er en mindre mengde personer med svært mange perioder som drar opp gjennomsnittet.\n",
    "    Til sammenligning er median 2.\n",
    "\"\"\")\n",
    "ds.plotly(fig4.to_json())\n",
    "ds.markdown(\"\"\"For å tallfeste hvor ofte en saksbehandler må registrere *for* mange trygdetidsperioder ser vi på hvor mange av personene som har mer enn x perioder. \n",
    "    Hvis vi setter en imaginær grense på mindre enn 5 perioder per person, så er det 27% av personene som er over denne grensa.\n",
    "\"\"\")\n",
    "ds.plotly(fig_histogram.to_json())\n",
    "ds.markdown(\"\"\"Siste figuren viser fordelingen av antall perioder per person i 2022. Merk at x-aksen er kutta på 30 perioder for små grupperinger. Det var i underkant av 200 personer med mer enn 30 perioder.\n",
    "\"\"\")\n",
    "ds.publish(url=\"https://datamarkedsplassen.intern.nav.no/api\")"
   ]
  }
 ],
 "metadata": {
  "environment": {
   "kernel": "python3",
   "name": "common-cpu.m98",
   "type": "gcloud",
   "uri": "gcr.io/deeplearning-platform-release/base-cpu:m98"
  },
  "kernelspec": {
   "display_name": "Python 3",
   "language": "python",
   "name": "python3"
  },
  "language_info": {
   "codemirror_mode": {
    "name": "ipython",
    "version": 3
   },
   "file_extension": ".py",
   "mimetype": "text/x-python",
   "name": "python",
   "nbconvert_exporter": "python",
   "pygments_lexer": "ipython3",
   "version": "3.7.12"
  }
 },
 "nbformat": 4,
 "nbformat_minor": 5
}
