{
 "cells": [
  {
   "cell_type": "code",
   "execution_count": null,
   "id": "97609a29-7c05-4116-bd14-ba99127ce37e",
   "metadata": {},
   "outputs": [],
   "source": [
    "import cx_Oracle\n",
    "import pandas as pd\n",
    "import numpy as np\n",
    "import sys\n",
    "import os\n",
    "import importlib\n",
    "import plotly.express as px\n",
    "import plotly.graph_objects as go\n",
    "from datetime import datetime\n",
    "from time import time\n",
    "from plotly.subplots import make_subplots\n",
    "from datastory import DataStory\n",
    "\n",
    "from google.cloud import secretmanager\n",
    "from google.cloud.bigquery import Client, LoadJobConfig\n",
    "\n",
    "sys.path.append('/home/jupyter/pensjon-data-analyse/lib')\n",
    "import pandas_utils\n",
    "import pesys_utils\n",
    "import autograd_convenience\n",
    "import utils\n",
    "\n",
    "importlib.reload(pandas_utils)\n",
    "importlib.reload(pesys_utils)\n",
    "importlib.reload(autograd_convenience)\n",
    "importlib.reload(utils)\n",
    "\n",
    "utils.set_secrets_as_env()"
   ]
  },
  {
   "cell_type": "code",
   "execution_count": null,
   "id": "e6df6b42-8f27-4c31-9350-c2c29f74172e",
   "metadata": {},
   "outputs": [],
   "source": [
    "tuning = 1000\n",
    "\n",
    "con = pesys_utils.open_pen_connection()\n",
    "df_bq = pandas_utils.pandas_from_sql('/home/jupyter/pensjon-data-analyse/sql/laaste_vedtak.sql', con=con, tuning=tuning, lowercase=True)\n",
    "con.close()"
   ]
  },
  {
   "cell_type": "code",
   "execution_count": null,
   "id": "c1248f44-b515-4cf6-8f8a-5e908049d6de",
   "metadata": {},
   "outputs": [],
   "source": [
    "df_bq.head()"
   ]
  },
  {
   "cell_type": "code",
   "execution_count": null,
   "id": "82b4ca6e-ab94-4a05-bfc2-a10797de0847",
   "metadata": {},
   "outputs": [],
   "source": [
    "def df_to_bq(project_id, full_table_id, dataframe, write_disposition):\n",
    "    client = Client(project=\"pensjon-saksbehandli-prod-1f83\")\n",
    "    job_config = LoadJobConfig(write_disposition=write_disposition)\n",
    "    \n",
    "    start = time()\n",
    "    job = client.load_table_from_dataframe(dataframe, full_table_id, job_config=job_config)\n",
    "    job.result()\n",
    "\n",
    "    end = time()\n",
    "\n",
    "    print(f'{len(dataframe)} rad(er) ble skrevet til bigquery etter {end-start} sekunder.')"
   ]
  },
  {
   "cell_type": "code",
   "execution_count": null,
   "id": "903b9171-c39d-489f-a04c-12751b8408e3",
   "metadata": {},
   "outputs": [],
   "source": [
    "df_to_bq(\n",
    "    project_id='pensjon-saksbehandli-prod-1f83',\n",
    "    full_table_id='pensjon-saksbehandli-prod-1f83.vedtak.laast_data_handling',\n",
    "    dataframe=df_bq,\n",
    "    write_disposition='WRITE_TRUNCATE'        \n",
    ")"
   ]
  }
 ],
 "metadata": {
  "environment": {
   "kernel": "python3",
   "name": "common-cpu.m98",
   "type": "gcloud",
   "uri": "gcr.io/deeplearning-platform-release/base-cpu:m98"
  },
  "kernelspec": {
   "display_name": "Python 3",
   "language": "python",
   "name": "python3"
  },
  "language_info": {
   "codemirror_mode": {
    "name": "ipython",
    "version": 3
   },
   "file_extension": ".py",
   "mimetype": "text/x-python",
   "name": "python",
   "nbconvert_exporter": "python",
   "pygments_lexer": "ipython3",
   "version": "3.7.12"
  }
 },
 "nbformat": 4,
 "nbformat_minor": 5
}
