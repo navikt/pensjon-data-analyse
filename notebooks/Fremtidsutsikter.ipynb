{
 "cells": [
  {
   "cell_type": "code",
   "execution_count": null,
   "id": "ec927263-677f-483e-8b8a-4df83ad99d33",
   "metadata": {},
   "outputs": [],
   "source": [
    "from google.cloud import bigquery, secretmanager\n",
    "\n",
    "import sys\n",
    "import numpy as np\n",
    "import pandas as pd\n",
    "import importlib\n",
    "import plotly.express as px\n",
    "import plotly.graph_objects as go\n",
    "import plotly.io as pio\n",
    "\n",
    "sys.path.append('../lib')\n",
    "import utils\n",
    "import pandas_utils\n",
    "import pesys_utils\n",
    "importlib.reload(utils)\n",
    "importlib.reload(pesys_utils)\n",
    "importlib.reload(pandas_utils)"
   ]
  },
  {
   "cell_type": "code",
   "execution_count": null,
   "id": "27b5fab5-3e00-43f7-a28b-c88c97e658b9",
   "metadata": {},
   "outputs": [],
   "source": [
    "import dataverk_tools.themes.navdesign as theme\n",
    "import dataverk_tools.themes.navdesign.plotly_template as template\n",
    "pio.templates.default = template"
   ]
  },
  {
   "cell_type": "code",
   "execution_count": null,
   "id": "8a398d9b-9bfb-4bed-b9f2-fbb3407abc80",
   "metadata": {},
   "outputs": [],
   "source": [
    "utils.set_secrets_as_env()"
   ]
  },
  {
   "cell_type": "code",
   "execution_count": null,
   "id": "f03a1acd-ac0d-4fc5-8deb-dbb0ab0cb72f",
   "metadata": {},
   "outputs": [],
   "source": [
    "con = pesys_utils.open_pen_connection()\n",
    "df_first = pandas_utils.pandas_from_sql('../sql/auto_krav_aar.sql', con)\n",
    "con.close()"
   ]
  },
  {
   "cell_type": "code",
   "execution_count": null,
   "id": "ca413d34-9dc7-4fb4-a479-87dd25af0353",
   "metadata": {},
   "outputs": [],
   "source": [
    "df_first.head()"
   ]
  },
  {
   "cell_type": "code",
   "execution_count": null,
   "id": "1410c7fe-75a1-4f83-b7e2-70f1698d17af",
   "metadata": {},
   "outputs": [],
   "source": [
    "df = df_first.copy()"
   ]
  },
  {
   "cell_type": "code",
   "execution_count": null,
   "id": "a5995832-00a6-4547-8543-afbba1624c23",
   "metadata": {},
   "outputs": [],
   "source": [
    "def delauto_to_auto(x):\n",
    "    if x==\"DEL_AUTO\": \n",
    "        return \"AUTO\"\n",
    "    else: return x"
   ]
  },
  {
   "cell_type": "code",
   "execution_count": null,
   "id": "56391040-eab8-4781-b450-88441bda50d9",
   "metadata": {},
   "outputs": [],
   "source": [
    "df = df[(df.SAKSTYPE == 'Alderspensjon') & (df.KRAVTYPE.isin(pesys_utils.forstegang))]\n",
    "\n",
    "df[\"AUTOMATISERING\"] = df.AUTOMATISERING.apply(delauto_to_auto)"
   ]
  },
  {
   "cell_type": "code",
   "execution_count": null,
   "id": "8660767c-402d-4108-8ca2-130dfce080ab",
   "metadata": {},
   "outputs": [],
   "source": [
    "def group_df_on_var(df, period, var):\n",
    "    if type(var) is list or type(var) is tuple:\n",
    "        df = df.groupby([period] + var)[period].count().reset_index(name=\"ANTALL\")\n",
    "    else:\n",
    "        df = df.groupby([period, var])[var].count().reset_index(name=\"ANTALL\")\n",
    "\n",
    "    df = df.merge(df.groupby([period], as_index=False).ANTALL.sum(),\n",
    "                    left_on=[period],\n",
    "                    right_on=[period],\n",
    "                    suffixes=(\"\",\" TOTALT\")\n",
    "            )\n",
    "    df[\"ANDEL\"] = df.ANTALL.divide(df[\"ANTALL TOTALT\"])\n",
    "    return df"
   ]
  },
  {
   "cell_type": "code",
   "execution_count": null,
   "id": "abec0fc5-ff2e-4eee-ac2a-18fc89b2a573",
   "metadata": {},
   "outputs": [],
   "source": [
    "df_aar = df.groupby([\"AUTOMATISERING\", \"AAR\"], as_index=False).ANTALL.sum()\n",
    "df_aar = df_aar[(df_aar.AAR >= 2011) & (df_aar.AAR < 2023)] #Dårlig data før 2011\n",
    "df_aar = df_aar.merge(df_aar.groupby([\"AAR\"], as_index=False).ANTALL.sum(),\n",
    "                    left_on=[\"AAR\"],\n",
    "                    right_on=[\"AAR\"],\n",
    "                    suffixes=(\"\",\" TOTALT\")\n",
    "            )\n",
    "df_aar[\"ANDEL\"] = df_aar.ANTALL.divide(df_aar[\"ANTALL TOTALT\"])"
   ]
  },
  {
   "cell_type": "code",
   "execution_count": null,
   "id": "a53d265b-453f-4e68-847e-5bcfe19a2a2e",
   "metadata": {},
   "outputs": [],
   "source": [
    "df_aar.head()"
   ]
  },
  {
   "cell_type": "code",
   "execution_count": null,
   "id": "0d2085d6-71b1-4d3d-aaee-0cf8e43753b3",
   "metadata": {},
   "outputs": [],
   "source": [
    "df_aar.sort_values([\"AAR\", \"AUTOMATISERING\"], inplace=True)"
   ]
  },
  {
   "cell_type": "code",
   "execution_count": null,
   "id": "488c81e6-84c5-4cd5-a6b0-f6160fed5438",
   "metadata": {},
   "outputs": [],
   "source": [
    "px.bar(df_aar, \"AAR\", \"ANTALL\", color=\"AUTOMATISERING\")\n",
    "#fig.add_traces(go.Scatter(x=df_aar[df_aar[\"AUTOMATISERING\"] == \"AUTO\"].AAR, y=df_aar[df_aar[\"AUTOMATISERING\"] == \"AUTO\"].ANDEL))"
   ]
  },
  {
   "cell_type": "code",
   "execution_count": null,
   "id": "45ebff98-6b9a-4d45-8970-6569f8d9ba62",
   "metadata": {},
   "outputs": [],
   "source": [
    "px.line(df_aar, \"AAR\", \"ANDEL\", color=\"AUTOMATISERING\")"
   ]
  },
  {
   "cell_type": "code",
   "execution_count": null,
   "id": "d5dbbaad-80c8-46e2-a4df-c1719cabe7a3",
   "metadata": {},
   "outputs": [],
   "source": [
    "vekst_fra_2021 = np.array([1.00, 1.02, 1.04, 1.06, 1.08, 1.12, 1.15, 1.18, 1.21, 1.24, 1.27, 1.29, 1.32, 1.35, 1.38, 1.40, 1.43, 1.45, 1.47, 1.49, 1.51, 1.53, 1.55, 1.56, 1.58, 1.59, 1.61, 1.62, 1.64, 1.65])"
   ]
  },
  {
   "cell_type": "code",
   "execution_count": null,
   "id": "375d77d9-a6bc-4261-aaba-b46360415d41",
   "metadata": {},
   "outputs": [],
   "source": [
    "år = np.array(range(2021,2051,1))"
   ]
  },
  {
   "cell_type": "code",
   "execution_count": null,
   "id": "1bdd53ac-db1e-4684-9379-e421ff01ab6d",
   "metadata": {},
   "outputs": [],
   "source": [
    "df_2021 = df_aar[df_aar.AAR == 2021]"
   ]
  },
  {
   "cell_type": "code",
   "execution_count": null,
   "id": "3e99a86b-a29d-4942-b67e-43a12183eb94",
   "metadata": {},
   "outputs": [],
   "source": [
    "df_2021[(df_2021.AUTOMATISERING == 'AUTO') | (df_2021.AUTOMATISERING == 'DEL_AUTO')].ANTALL.sum() / df_2021.ANTALL.sum()"
   ]
  },
  {
   "cell_type": "code",
   "execution_count": null,
   "id": "e853bd59-adb0-4992-8f8b-8b310623490a",
   "metadata": {},
   "outputs": [],
   "source": [
    "df_2021.ANTALL.sum()"
   ]
  },
  {
   "cell_type": "code",
   "execution_count": null,
   "id": "aef6b57e-0ca2-45aa-84f7-f3d826fc5b9a",
   "metadata": {},
   "outputs": [],
   "source": [
    "df_forecast = pd.DataFrame(data = {\"År\": år, \"Vekst\": vekst_fra_2021} )"
   ]
  },
  {
   "cell_type": "code",
   "execution_count": null,
   "id": "f54227b1-942f-4a57-97aa-65803878437e",
   "metadata": {},
   "outputs": [],
   "source": [
    "df_forecast[\"Manuelt\"] = df_forecast.Vekst * df_2021[df_2021.AUTOMATISERING == 'MAN'].ANTALL.item()\n",
    "df_forecast[\"Automatisk\"] = df_forecast.Vekst * df_2021[df_2021.AUTOMATISERING == 'AUTO'].ANTALL.item()\n",
    "#df_forecast[\"Del-automatisk\"] = df_forecast.Vekst * df_2021[df_2021.AUTOMATISERING == 'DEL_AUTO'].ANTALL.item()"
   ]
  },
  {
   "cell_type": "code",
   "execution_count": null,
   "id": "e9aa0c30-71a1-4627-b4c4-33e0cd21a50c",
   "metadata": {},
   "outputs": [],
   "source": [
    "df_forecast.head()"
   ]
  },
  {
   "cell_type": "code",
   "execution_count": null,
   "id": "71092872-5b0e-4cf3-bb55-b95a108cfc73",
   "metadata": {},
   "outputs": [],
   "source": [
    "p0 = df_2021[(df_2021.AUTOMATISERING == 'AUTO') | (df_2021.AUTOMATISERING == 'DEL_AUTO')].ANTALL.sum() / df_2021.ANTALL.sum().item()\n",
    "df_forecast[\"Automatiseringsgrad\"] = - (1 - p0 - df_forecast.Vekst) / df_forecast.Vekst\n",
    "df_forecast[\"Forklaring1\"] = \"Utvikling for samme mengde manuelt arbeid som 2021\"\n",
    "df_forecast[\"Forklaring2\"] = \"Med samme automatiseringsgrad som i dag\""
   ]
  },
  {
   "cell_type": "code",
   "execution_count": null,
   "id": "edc7a318-5700-4df7-8c69-9c99ce93677f",
   "metadata": {},
   "outputs": [],
   "source": [
    "df_forecast.head()"
   ]
  },
  {
   "cell_type": "code",
   "execution_count": null,
   "id": "d624255a-42b4-4b7d-a8d9-bf8760e04043",
   "metadata": {},
   "outputs": [],
   "source": [
    "df_aar_auto = df_aar[(df_aar.AUTOMATISERING == 'AUTO') & (df_aar.AAR > 2017)]\n",
    "\n",
    "fig = px.line(df_forecast, \"År\", \"Automatiseringsgrad\", line_dash=\"Forklaring1\", line_dash_sequence=['dash'], \n",
    "              title=\"Andel automatisk eller del-automatisk behandling - førstegangsbehandling alderspensjon\")\n",
    "\n",
    "fig.add_traces(go.Scatter(x=df_aar_auto.AAR, y=df_aar_auto.ANDEL, name=\"Utvikling siden 2017\"))\n",
    "\n",
    "fig.update_yaxes(tickformat='.0%', range=[0.6,.85])\n",
    "fig.update_layout(legend_title=\"\")"
   ]
  },
  {
   "cell_type": "code",
   "execution_count": null,
   "id": "bc4ce30e-f7d9-44f3-8d7d-3e54a9dbe0e3",
   "metadata": {},
   "outputs": [],
   "source": [
    "df_aar_man = df_aar[(df_aar.AUTOMATISERING == 'MAN') & (df_aar.AAR > 2016)]\n",
    "\n",
    "fig_man = px.bar(df_forecast[df_forecast.År > 2022], \"År\", \"Manuelt\", color=\"Forklaring2\", \n",
    "                 labels={\"Manuelt\":\"Antall manuelle krav\"}, title=\"Antall manuelt behandlede krav - førstegangsbehandling alderpensjon\")\n",
    "\n",
    "fig_man.add_traces(go.Bar(x=df_aar_man.AAR, y=df_aar_man.ANTALL, name=\"Siden 2017\"))\n",
    "\n",
    "fig_man.update_layout(legend_title=\"\")\n",
    "#fig_man.add_hline(y=21000, line_dash=\"dash\", line_color=\"lightblue\")"
   ]
  },
  {
   "cell_type": "code",
   "execution_count": null,
   "id": "d9de52fe-084d-42b9-9201-8884097c268a",
   "metadata": {},
   "outputs": [],
   "source": [
    "n_man_2021 = df_2021[df_2021.AUTOMATISERING == 'MAN'].ANTALL.item()"
   ]
  },
  {
   "cell_type": "code",
   "execution_count": null,
   "id": "56bb14a6-043f-4d43-bb5c-7cc667df85fb",
   "metadata": {},
   "outputs": [],
   "source": [
    "df_forecast[\"diff_siden_2021\"] = df_forecast[\"Manuelt\"] - n_man_2021"
   ]
  },
  {
   "cell_type": "code",
   "execution_count": null,
   "id": "f41943e8-fa41-4382-a517-d02a64c071c0",
   "metadata": {},
   "outputs": [],
   "source": [
    "df_forecast.diff_siden_2021.sum()"
   ]
  },
  {
   "cell_type": "code",
   "execution_count": null,
   "id": "53c5dffe-58e6-4ac4-996e-005bb9a8ceb2",
   "metadata": {},
   "outputs": [],
   "source": [
    "df_forecast[df_forecast.År <= 2030].diff_siden_2021.sum()"
   ]
  }
 ],
 "metadata": {
  "environment": {
   "kernel": "python3",
   "name": "common-cpu.m98",
   "type": "gcloud",
   "uri": "gcr.io/deeplearning-platform-release/base-cpu:m98"
  },
  "kernelspec": {
   "display_name": "Python 3",
   "language": "python",
   "name": "python3"
  },
  "language_info": {
   "codemirror_mode": {
    "name": "ipython",
    "version": 3
   },
   "file_extension": ".py",
   "mimetype": "text/x-python",
   "name": "python",
   "nbconvert_exporter": "python",
   "pygments_lexer": "ipython3",
   "version": "3.7.12"
  }
 },
 "nbformat": 4,
 "nbformat_minor": 5
}
