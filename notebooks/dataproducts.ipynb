{
 "cells": [
  {
   "cell_type": "code",
   "execution_count": null,
   "id": "a9233e17-8842-4f51-9aa8-360e5f68ce69",
   "metadata": {
    "tags": []
   },
   "outputs": [],
   "source": [
    "import pandas as pd\n",
    "import numpy as np\n",
    "import os\n",
    "import sys\n",
    "import importlib\n",
    "\n",
    "from datetime import datetime\n",
    "from google.cloud.bigquery import Client, LoadJobConfig\n",
    "\n",
    "sys.path.append('../lib')\n",
    "import utils\n",
    "import pandas_utils\n",
    "import pesys_utils\n",
    "\n",
    "importlib.reload(utils)\n",
    "importlib.reload(pandas_utils)\n",
    "importlib.reload(pesys_utils)\n",
    "\n",
    "utils.set_secrets_as_env()"
   ]
  },
  {
   "cell_type": "markdown",
   "id": "4ae8bc75-a9d4-48ba-96b8-690a8f874230",
   "metadata": {},
   "source": [
    "# Antall krav, førstegangsbehandling innland/utland"
   ]
  },
  {
   "cell_type": "code",
   "execution_count": null,
   "id": "1ccc9d97-0075-4c6a-814f-fa4648e1e4be",
   "metadata": {},
   "outputs": [],
   "source": [
    "con = pesys_utils.open_pen_connection()\n",
    "df_krav = pandas_utils.pandas_from_sql('../sql/kravcount.sql', con)\n",
    "con.close() "
   ]
  },
  {
   "cell_type": "code",
   "execution_count": null,
   "id": "f68155aa-af15-4d13-87f8-51e68bafa3fe",
   "metadata": {},
   "outputs": [],
   "source": [
    "df = df_krav.copy()\n",
    "#df[\"ANTALL\"] = df.ANTALL.apply(lambda x: utils.randomize_zeros(x)) # Er dette lurt?"
   ]
  },
  {
   "cell_type": "code",
   "execution_count": null,
   "id": "6654434b-4e9c-4d8e-ae08-768120b15939",
   "metadata": {},
   "outputs": [],
   "source": [
    "df_forstegang = df[df.KRAVTYPE.isin(pesys_utils.forstegang)]\n",
    "df_forstegang.head()"
   ]
  },
  {
   "cell_type": "code",
   "execution_count": null,
   "id": "157c4a46-00ee-4d1a-955b-ec27763798e8",
   "metadata": {},
   "outputs": [],
   "source": [
    "table_id = f'pensjon-saksbehandli-prod-1f83.saksstatistikk.krav_forstegang'\n",
    "job_config = LoadJobConfig(\n",
    "    write_disposition=\"WRITE_TRUNCATE\",\n",
    ")\n",
    "\n",
    "client = Client(project=\"pensjon-saksbehandli-prod-1f83\")\n",
    "\n",
    "job = client.load_table_from_dataframe(df_forstegang, table_id, job_config=job_config)\n",
    "job.result()"
   ]
  },
  {
   "cell_type": "markdown",
   "id": "0cc36530-2ff1-4407-91c2-ba8012569478",
   "metadata": {},
   "source": [
    "## Alle krav, med filter på om det kommer fra bruker"
   ]
  },
  {
   "cell_type": "code",
   "execution_count": null,
   "id": "c215d757-0e06-4509-87eb-41bc71465074",
   "metadata": {},
   "outputs": [],
   "source": [
    "df = df_krav.copy()"
   ]
  },
  {
   "cell_type": "code",
   "execution_count": null,
   "id": "0b5c7956-a8d3-482b-8eb5-25b26069cc60",
   "metadata": {},
   "outputs": [],
   "source": [
    "df.head()\n",
    "\n",
    "df[\"FRA_BRUKER\"] = df.KRAVTYPE.isin(kravtyper)"
   ]
  },
  {
   "cell_type": "markdown",
   "id": "145607c3-bb13-4d2d-b9fa-e69dd28849f7",
   "metadata": {},
   "source": [
    "## Lag en fil med alle kravtyper og hvor mange det har vært av dem"
   ]
  },
  {
   "cell_type": "code",
   "execution_count": null,
   "id": "4e783ce8-e1be-4c04-b148-9e1eb6cdddfa",
   "metadata": {},
   "outputs": [],
   "source": [
    "# con = pesys_utils.open_pen_connection()\n",
    "\n",
    "# df_tmp = pandas_utils.pandas_from_sql('../sql/kravtyper_antall.sql', con)\n",
    "# con.close()"
   ]
  },
  {
   "cell_type": "code",
   "execution_count": null,
   "id": "b1cc135d-00ae-4a40-862b-37a6f27a917e",
   "metadata": {},
   "outputs": [],
   "source": [
    "#df_tmp.sort_values(\"ANTALL\", ascending=False).reset_index(drop=True).to_csv(\"k_krav_gjelder i pesys.csv\")"
   ]
  },
  {
   "cell_type": "markdown",
   "id": "00b80974-9dc5-46ba-914c-cdba62e7f03d",
   "metadata": {},
   "source": [
    "# Ledetid"
   ]
  },
  {
   "cell_type": "code",
   "execution_count": null,
   "id": "6072cd09-72cc-487c-acfd-b5889c3b9a7b",
   "metadata": {},
   "outputs": [],
   "source": [
    "con = pesys_utils.open_pen_connection()\n",
    "\n",
    "df_ledetid = pandas_utils.pandas_from_sql('../sql/ledetid_grouped.sql', con, tuning=200000)\n",
    "con.close()"
   ]
  },
  {
   "cell_type": "code",
   "execution_count": null,
   "id": "0897bb14-f92e-4827-98e5-7dcdd2ffad97",
   "metadata": {},
   "outputs": [],
   "source": [
    "df.head()"
   ]
  },
  {
   "cell_type": "markdown",
   "id": "551294ab-13f0-4e2d-94c7-2515432d4115",
   "metadata": {},
   "source": [
    "# Klager"
   ]
  },
  {
   "cell_type": "code",
   "execution_count": null,
   "id": "30174632-3ae1-4fc7-8ddc-50b8046979b6",
   "metadata": {},
   "outputs": [],
   "source": [
    "con = pesys_utils.open_pen_connection()\n",
    "\n",
    "df_klager = pandas_utils.pandas_from_sql('../sql/GP_BP/klager.sql', con)\n",
    "con.close()"
   ]
  },
  {
   "cell_type": "code",
   "execution_count": null,
   "id": "45694aae-8efa-4637-bd13-5bbb21ea4d99",
   "metadata": {},
   "outputs": [],
   "source": [
    "df = df_klager.copy()\n",
    "df[\"AR\"] = df[\"AR\"].apply(str)"
   ]
  },
  {
   "cell_type": "code",
   "execution_count": null,
   "id": "f568b16f-f112-4b40-b368-3fd53dcb776f",
   "metadata": {},
   "outputs": [],
   "source": [
    "df_bp = df[df.STOENAD == \"Barnepensjon\"]\n",
    "df_gjenlev = df[df.STOENAD == \"Gjenlevendeytelse\"]"
   ]
  },
  {
   "cell_type": "code",
   "execution_count": null,
   "id": "3c8a84f7-7edb-4b5c-9251-d069548acad7",
   "metadata": {},
   "outputs": [],
   "source": [
    "subset = {\"Stadfestet\", \"Omgjøre\", \"Delvis omgjøre\", \"Avvist\", \"Opphevet og hjemvist\"}\n",
    "group_color = {key: theme.colors.navColors[i] for i, key in enumerate(subset)}\n",
    "labels[\"ANTALL\"] = \"Antall vedtak\""
   ]
  }
 ],
 "metadata": {
  "environment": {
   "kernel": "python3",
   "name": "common-cpu.m98",
   "type": "gcloud",
   "uri": "gcr.io/deeplearning-platform-release/base-cpu:m98"
  },
  "kernelspec": {
   "display_name": "Python 3",
   "language": "python",
   "name": "python3"
  },
  "language_info": {
   "codemirror_mode": {
    "name": "ipython",
    "version": 3
   },
   "file_extension": ".py",
   "mimetype": "text/x-python",
   "name": "python",
   "nbconvert_exporter": "python",
   "pygments_lexer": "ipython3",
   "version": "3.7.12"
  }
 },
 "nbformat": 4,
 "nbformat_minor": 5
}
