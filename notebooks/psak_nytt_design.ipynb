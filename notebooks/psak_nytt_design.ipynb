{
 "cells": [
  {
   "cell_type": "markdown",
   "id": "0d14144e-b6e1-4e26-bc66-333fcdc7890a",
   "metadata": {},
   "source": [
    "# Hente hemmeligheter fra secret manager"
   ]
  },
  {
   "cell_type": "code",
   "execution_count": null,
   "id": "813f3a59-9168-4298-a064-77f9da8a0a66",
   "metadata": {},
   "outputs": [],
   "source": [
    "from google.cloud import secretmanager\n",
    "from google.oauth2 import service_account"
   ]
  },
  {
   "cell_type": "code",
   "execution_count": null,
   "id": "989e92c8-0105-44d1-843d-4012dea3a7a7",
   "metadata": {},
   "outputs": [],
   "source": [
    "credentials = service_account.Credentials.from_service_account_file('/home/jupyter/sa_key.json')"
   ]
  },
  {
   "cell_type": "code",
   "execution_count": null,
   "id": "7d222b3c-ea89-4bd0-9eb9-1cbfbe45993a",
   "metadata": {},
   "outputs": [],
   "source": [
    "secrets = secretmanager.SecretManagerServiceClient(credentials=credentials)"
   ]
  },
  {
   "cell_type": "code",
   "execution_count": null,
   "id": "a034889b-94fc-4fd3-b63a-3dc394f0bf89",
   "metadata": {},
   "outputs": [],
   "source": [
    "project_name = \"knada-gcp\"\n",
    "secret_name = \"vebjorn-rekkebo-bac1\"\n",
    "version = \"latest\"\n",
    "\n",
    "resource_name = f\"projects/{project_name}/secrets/{secret_name}/versions/{version}\"\n",
    "secret = secrets.access_secret_version(name=resource_name)"
   ]
  },
  {
   "cell_type": "code",
   "execution_count": null,
   "id": "f1fa0cb6-e17d-436c-817a-1f2da0d6b1b6",
   "metadata": {},
   "outputs": [],
   "source": [
    "secrets = dict([line.split(\":\") for line in secret.payload.data.decode('UTF-8').splitlines()])"
   ]
  },
  {
   "cell_type": "code",
   "execution_count": null,
   "id": "97bcdc18-bc22-4376-9955-a767bb080dc6",
   "metadata": {},
   "outputs": [],
   "source": [
    "import psycopg2\n",
    "\n",
    "import pandas as pd\n",
    "import datetime\n",
    "\n",
    "from sqlalchemy import create_engine"
   ]
  },
  {
   "cell_type": "code",
   "execution_count": null,
   "id": "1d756c7e-6e60-4814-bf60-a6bcb2667deb",
   "metadata": {},
   "outputs": [],
   "source": [
    "method = \"postgresql+psycopg2\"\n",
    "host = \"A01DBVL029.adeo.no:5432\"\n",
    "db_name = \"pensjon-psak-db\"\n",
    "\n",
    "alchemyEngine = create_engine(f'{method}://{secrets[\"PSAK_POSTGRES_USER\"]}:{secrets[\"PSAK_POSTGRES_PASSWORD\"]}@{host}/{db_name}')\n",
    "dbConnection = alchemyEngine.connect()"
   ]
  },
  {
   "cell_type": "code",
   "execution_count": null,
   "id": "8075a801-aab7-48f8-b902-ca517057b9fb",
   "metadata": {},
   "outputs": [],
   "source": [
    "df_pref = pd.read_sql(\n",
    "    \"\"\"\n",
    "    select bruk_nytt_design, count(*) Antall\n",
    "    from t_saksbeh_preferanser\n",
    "    group by bruk_nytt_design;\n",
    "    \"\"\",\n",
    "    dbConnection).T"
   ]
  },
  {
   "cell_type": "code",
   "execution_count": null,
   "id": "9decfd81-a597-4e11-8c9d-6834fcbe76d0",
   "metadata": {},
   "outputs": [],
   "source": [
    "new_header = df_pref.iloc[0]\n",
    "df_pref = df_pref[1:]\n",
    "df_pref.columns = new_header\n",
    "df_pref[\"Uttrekk_tidspunkt\"] = datetime.datetime.utcnow()\n",
    "\n",
    "df_pref.columns = [\"Uspesifisert\", \"Gammelt\", \"Nytt\", \"Uttrekk_tidspunkt\"]\n",
    "df_pref = df_pref.reset_index(drop=True)\n",
    "\n",
    "df_pref[\"Uspesifisert\"] = pd.to_numeric(df_pref[\"Uspesifisert\"])\n",
    "df_pref[\"Gammelt\"] = pd.to_numeric(df_pref[\"Gammelt\"])\n",
    "df_pref[\"Nytt\"] = pd.to_numeric(df_pref[\"Nytt\"])"
   ]
  },
  {
   "cell_type": "code",
   "execution_count": null,
   "id": "3ced8f4c-e13f-427a-b5e7-ac31952593d2",
   "metadata": {},
   "outputs": [],
   "source": [
    "df_pref[\"Andel_nytt\"] = df_pref.Nytt / df_pref[[\"Uspesifisert\", \"Gammelt\", \"Nytt\"]].sum(axis=1)\n",
    "df_pref[\"Andel_nytt\"] = df_pref[\"Andel_nytt\"].apply(lambda x: round(x, 2))"
   ]
  },
  {
   "cell_type": "code",
   "execution_count": null,
   "id": "bef7316e-67c3-4c9c-83eb-82682f09a734",
   "metadata": {},
   "outputs": [],
   "source": [
    "df_pref.head()"
   ]
  },
  {
   "cell_type": "code",
   "execution_count": null,
   "id": "d5ea27cf-dd03-44d2-b947-a0d6aa4e2f90",
   "metadata": {},
   "outputs": [],
   "source": [
    "from google.cloud.bigquery import Client, LoadJobConfig, SchemaField, enums\n",
    "\n",
    "table_id = f'pensjon-saksbehandli-prod-1f83.saksbehandling_psak.nytt_gammelt_design'\n",
    "job_config = LoadJobConfig(\n",
    "    schema = [\n",
    "        SchemaField(\"Uspesifisert\", enums.SqlTypeNames.INTEGER),\n",
    "        SchemaField(\"Gammelt\", enums.SqlTypeNames.INTEGER),\n",
    "        SchemaField(\"Nytt\", enums.SqlTypeNames.INTEGER),\n",
    "        SchemaField(\"Uttrekk_tidspunkt\", enums.SqlTypeNames.TIMESTAMP),\n",
    "        SchemaField(\"Andel_nytt\", enums.SqlTypeNames.FLOAT),\n",
    "    ],\n",
    "    write_disposition=\"WRITE_APPEND\",\n",
    ")\n",
    "\n",
    "client = Client(project=\"pensjon-saksbehandli-prod-1f83\", credentials=credentials)\n",
    "\n",
    "job = client.load_table_from_dataframe(df_pref, table_id, job_config=job_config)\n",
    "job.result()"
   ]
  }
 ],
 "metadata": {
  "environment": {
   "kernel": "python3",
   "name": "common-cpu.m98",
   "type": "gcloud",
   "uri": "gcr.io/deeplearning-platform-release/base-cpu:m98"
  },
  "kernelspec": {
   "display_name": "Python 3",
   "language": "python",
   "name": "python3"
  },
  "language_info": {
   "codemirror_mode": {
    "name": "ipython",
    "version": 3
   },
   "file_extension": ".py",
   "mimetype": "text/x-python",
   "name": "python",
   "nbconvert_exporter": "python",
   "pygments_lexer": "ipython3",
   "version": "3.7.12"
  }
 },
 "nbformat": 4,
 "nbformat_minor": 5
}
