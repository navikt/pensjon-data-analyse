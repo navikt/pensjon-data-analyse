{
 "cells": [
  {
   "cell_type": "markdown",
   "id": "004fb647-4181-48a5-b57c-fb43b8dad7e8",
   "metadata": {},
   "source": [
    "# Kode for datafortelling om operative mål i PO Pensjon\n",
    "Målingene legges manuelt inn i et excel dokument som må lastes opp som \"../data/Måleparametere PO Pensjon 2022.csv\" ved oppdatering."
   ]
  },
  {
   "cell_type": "code",
   "execution_count": null,
   "id": "871372e2-9461-4db3-a2fb-36115f383747",
   "metadata": {},
   "outputs": [],
   "source": [
    "import sys\n",
    "import importlib\n",
    "import pandas as pd\n",
    "import numpy as np\n",
    "import plotly\n",
    "import plotly.express as px\n",
    "import plotly.graph_objects as go\n",
    "from typing import Dict\n",
    "\n",
    "import datastory as ds\n",
    "\n",
    "sys.path.append('../lib')\n",
    "import operative as opera\n",
    "importlib.reload(opera)"
   ]
  },
  {
   "cell_type": "code",
   "execution_count": null,
   "id": "8ed0f3f1-6e2c-4b75-a148-3cdc7aeb4fda",
   "metadata": {},
   "outputs": [],
   "source": [
    "df = pd.read_csv(\"../data/Måleparametere PO Pensjon 2022.csv\", sep=\";\", header=2)"
   ]
  },
  {
   "cell_type": "code",
   "execution_count": null,
   "id": "56dd4195-9347-4b45-b49f-e9c54e813ed2",
   "metadata": {},
   "outputs": [],
   "source": [
    "df[\"prosent_flagg\"] = df.Nullpunktsmåling.apply(lambda x: \"%\" in x)"
   ]
  },
  {
   "cell_type": "code",
   "execution_count": null,
   "id": "07f7194b-9dae-4918-9224-149065a13490",
   "metadata": {},
   "outputs": [],
   "source": [
    "# Propager operative mål:\n",
    "tmp = df[\"Operativt mål\"].isna()\n",
    "for i in range(df.shape[0]):\n",
    "    if tmp[i]:\n",
    "        df.iloc[i, 1] = df.iloc[i-1, 1]"
   ]
  },
  {
   "cell_type": "code",
   "execution_count": null,
   "id": "47a2d13e-b6a8-4ee9-839a-ffad7460d04f",
   "metadata": {},
   "outputs": [],
   "source": [
    "def clean_numbers(x):\n",
    "    if \"%\" in x:\n",
    "        tmp = x[:-2]\n",
    "        x = str(float(tmp)/100)\n",
    "    if \"-\" in x:\n",
    "        x = \"0\"\n",
    "    return \"\".join(x.split(\" \"))"
   ]
  },
  {
   "cell_type": "code",
   "execution_count": null,
   "id": "469f8386-5824-4f92-9132-6c12b5568dcd",
   "metadata": {},
   "outputs": [],
   "source": [
    "def set_plus(x):\n",
    "    if x[0].isnumeric():\n",
    "        return \"+\" + x\n",
    "    elif x.strip() == \"-\":\n",
    "        return \"+0 %\"\n",
    "    else:\n",
    "        return x"
   ]
  },
  {
   "cell_type": "code",
   "execution_count": null,
   "id": "88e5534a-3ee5-43c8-a196-c63f9d0ff1c4",
   "metadata": {},
   "outputs": [],
   "source": [
    "# Få alle tall på riktig format\n",
    "maalinger_cols = ['Nullpunktsmåling', 'Måling T1'] # Legg til nye målinger her\n",
    "for col in maalinger_cols:\n",
    "    df[col] = df[col].apply(lambda x: clean_numbers(x)).astype(\"float\")\n",
    "\n",
    "prosent_endring_cols = ['% endring mot NP'] # Legg til ny endringsprosent hver tertial\n",
    "for col in prosent_endring_cols:\n",
    "    df[col] = df[col].apply(lambda x: set_plus(x))"
   ]
  },
  {
   "cell_type": "code",
   "execution_count": null,
   "id": "816091bf-a792-4fda-b934-b379a5f0242e",
   "metadata": {},
   "outputs": [],
   "source": [
    "df.tail()"
   ]
  },
  {
   "cell_type": "code",
   "execution_count": null,
   "id": "e2f49d61-bafb-487f-b049-b1ddf215cf56",
   "metadata": {},
   "outputs": [],
   "source": [
    "# Hardkoder en linje fordi NP er \"-\" og ikke \"0%\":\n",
    "df.loc[df.shape[0]-1, \"prosent_flagg\"] = True     \n",
    "\n",
    "### Fjern målepunkter med bare \"-\" (hvis ønskelig):\n",
    "#df.loc[df.shape[0]-1, \"Nullpunktsmåling\"] = np.nan\n",
    "#df.drop([0,7,11,17,18,19,28] , inplace=True)"
   ]
  },
  {
   "cell_type": "code",
   "execution_count": null,
   "id": "91bf9d9c-89ec-4288-894a-4b76c379f422",
   "metadata": {},
   "outputs": [],
   "source": [
    "df = df.T"
   ]
  },
  {
   "cell_type": "code",
   "execution_count": null,
   "id": "7837c41e-736f-46e8-972d-4d3aa51c6722",
   "metadata": {},
   "outputs": [],
   "source": [
    "df"
   ]
  },
  {
   "cell_type": "code",
   "execution_count": null,
   "id": "d7935f5e-fc6c-45d0-bce8-5a61e9d3fabc",
   "metadata": {},
   "outputs": [],
   "source": [
    "# Liste med operative mål\n",
    "operatives = []\n",
    "prev_op = \"\"\n",
    "for i in range(df.shape[1]):\n",
    "    # Hver kolonne er ett målepunkt\n",
    "    col = df.iloc[:,i]\n",
    "    op = col[\"Operativt mål\"]\n",
    "    mparam = col[\"Måleparameter\"]\n",
    "    new_op = op != prev_op\n",
    "    if new_op:\n",
    "        print(op)\n",
    "        # Append objekt for opprettet mål\n",
    "        if prev_op != \"\":\n",
    "            operatives.append(Op)\n",
    "        # Lag objekt for neste operative mål\n",
    "        Op = opera.Operative(op)\n",
    "    prev_op = op\n",
    "    # Oppretter målepunkts-objekt for kolonnen\n",
    "    Op.MPs[mparam] = opera.MP.from_series(col=col, n=len(operatives)%7)\n",
    "# Append siste operative mål\n",
    "operatives.append(Op)"
   ]
  },
  {
   "cell_type": "code",
   "execution_count": null,
   "id": "08d404df-a717-4fa6-91bd-560a1096c3a6",
   "metadata": {},
   "outputs": [],
   "source": [
    "#operatives[1].show_figs()"
   ]
  },
  {
   "cell_type": "code",
   "execution_count": null,
   "id": "f6783eb4-775d-43ad-8465-a575a7832304",
   "metadata": {},
   "outputs": [],
   "source": [
    "story = ds.DataStory(\"Operative mål i PO Pensjon\")\n",
    "story.markdown(\"Oversikt over operative mål i PO Pensjon og tilhørende målepunkter. Enkelte målepunkter er ikke inkludert her. Prosent i plottene angir endring fra nullpunktsmåling.\")\n",
    "for op in operatives:\n",
    "    story.header(op.name, level=1)\n",
    "    print(op.name)\n",
    "    for _, mp in op.MPs.items():\n",
    "        story.header(mp.name, level=2)\n",
    "        if not pd.isna(mp.col.Beskrivelse):\n",
    "            story.markdown(mp.col.Beskrivelse)\n",
    "        story.plotly(mp.fig.to_json())\n",
    "        if not pd.isna(mp.col.Kommentar):\n",
    "            story.markdown(\"*Kommentar:* \" + mp.col.Kommentar)\n",
    "        print(mp.name)"
   ]
  },
  {
   "cell_type": "code",
   "execution_count": null,
   "id": "623154a1-abdb-47d0-af65-e1faf98bc143",
   "metadata": {},
   "outputs": [],
   "source": [
    "#story.publish(url=\"https://nada.ekstern.dev.nav.no/api\") #dev\n",
    "story.publish(url=\"https://nada.intern.nav.no/api\") #prod\n",
    "#story.update(url=\"https://nada.intern.nav.no/api\", token='ed32f304-8fc4-489f-b08d-c6b1b719f22e')"
   ]
  }
 ],
 "metadata": {
  "environment": {
   "kernel": "python3",
   "name": "common-cpu.m87",
   "type": "gcloud",
   "uri": "gcr.io/deeplearning-platform-release/base-cpu:m87"
  },
  "kernelspec": {
   "display_name": "Python 3",
   "language": "python",
   "name": "python3"
  },
  "language_info": {
   "codemirror_mode": {
    "name": "ipython",
    "version": 3
   },
   "file_extension": ".py",
   "mimetype": "text/x-python",
   "name": "python",
   "nbconvert_exporter": "python",
   "pygments_lexer": "ipython3",
   "version": "3.7.12"
  }
 },
 "nbformat": 4,
 "nbformat_minor": 5
}
