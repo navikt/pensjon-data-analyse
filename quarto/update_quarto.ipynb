{
 "cells": [
  {
   "cell_type": "code",
   "execution_count": 9,
   "metadata": {},
   "outputs": [
    {
     "name": "stdout",
     "output_type": "stream",
     "text": [
      "200\n"
     ]
    }
   ],
   "source": [
    "import os\n",
    "import requests\n",
    "import sys\n",
    "\n",
    "sys.path.append('../lib')\n",
    "from utils import set_secrets_as_env\n",
    "\n",
    "set_secrets_as_env(split_on=':', secret_name=\"projects/knada-gcp/secrets/vebjorn-rekkebo/versions/latest\")\n",
    "\n",
    "# A list of file paths to be uploaded\n",
    "files_to_upload = [\n",
    "    \"glemte_krav.html\"\n",
    "]\n",
    "\n",
    "ENV = \"datamarkedsplassen.intern.nav.no\"\n",
    "QUARTO_ID = \"2cc73eb9-36b4-47d4-a719-918236de37e6\"\n",
    "TEAM_TOKEN = os.environ[\"PENSAK_NADA_TOKEN\"]\n",
    "\n",
    "multipart_form_data = {}\n",
    "for file_path in files_to_upload:\n",
    "    file_name = os.path.basename(file_path)\n",
    "    with open(file_path, 'rb') as file:\n",
    "        # Read the file contents and store them in the dictionary\n",
    "        file_contents = file.read()\n",
    "        multipart_form_data[file_path] = (file_name, file_contents)\n",
    "\n",
    "# Send the request with all files in the dictionary\n",
    "response = requests.put( f\"https://{ENV}/quarto/update/{QUARTO_ID}\", \n",
    "                        headers={\"Authorization\": f\"Bearer {TEAM_TOKEN}\"},\n",
    "                        files=multipart_form_data)\n",
    "    \n",
    "print(response.status_code)"
   ]
  },
  {
   "cell_type": "code",
   "execution_count": 14,
   "metadata": {},
   "outputs": [
    {
     "name": "stderr",
     "output_type": "stream",
     "text": [
      "\n",
      "Starting python3 kernel...Done\n",
      "\n",
      "Executing 'glemte_krav.ipynb'\n",
      "  Cell 1/6...Done\n",
      "  Cell 2/6...Done\n",
      "  Cell 3/6...Done\n",
      "  Cell 4/6...Done\n",
      "  Cell 5/6...Done\n",
      "  Cell 6/6...Done\n",
      "\n",
      "\u001b[1mpandoc \u001b[22m\n",
      "  to: html\n",
      "  output-file: glemte_krav.html\n",
      "  standalone: true\n",
      "  self-contained: true\n",
      "  section-divs: true\n",
      "  html-math-method: mathjax\n",
      "  wrap: none\n",
      "  default-image-extension: png\n",
      "  number-sections: true\n",
      "  \n",
      "\u001b[1mmetadata\u001b[22m\n",
      "  document-css: false\n",
      "  link-citations: true\n",
      "  date-format: long\n",
      "  lang: en\n",
      "  title: '\"Glemte krav\" i pesys'\n",
      "  author: Vebjørn Rekkebo\n",
      "  toc-title: Innhold\n",
      "  jupyter: python3\n",
      "  theme: flatly\n",
      "  page-layout: full\n",
      "  \n",
      "Output created: glemte_krav.html\n",
      "\n"
     ]
    },
    {
     "data": {
      "text/plain": [
       "0"
      ]
     },
     "execution_count": 14,
     "metadata": {},
     "output_type": "execute_result"
    }
   ],
   "source": [
    "qmd_file = \"glemte_krav.qmd\"\n",
    "# os.system(\"echo $PATH\")\n",
    "# os.system(f\"/home/vebjornrekkebo/opt/quarto-1.3.450/bin/quarto render {qmd_file} --to html --execute\")"
   ]
  }
 ],
 "metadata": {
  "kernelspec": {
   "display_name": "venv",
   "language": "python",
   "name": "python3"
  },
  "language_info": {
   "codemirror_mode": {
    "name": "ipython",
    "version": 3
   },
   "file_extension": ".py",
   "mimetype": "text/x-python",
   "name": "python",
   "nbconvert_exporter": "python",
   "pygments_lexer": "ipython3",
   "version": "3.9.2"
  },
  "orig_nbformat": 4
 },
 "nbformat": 4,
 "nbformat_minor": 2
}
