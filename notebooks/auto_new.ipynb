{
 "cells": [
  {
   "cell_type": "markdown",
   "id": "f1c5e5ca-dbcc-4b1f-8656-c8a5328b7332",
   "metadata": {},
   "source": [
    "Note to self 6/4-22:\n",
    "Totalt antall stemmer godt med PSAK120.\n",
    "Alt med DP stemmer bra med excel, men ikke så bra med PSAK120.\n",
    "Automatisk stemmer så bra at autograd blir det samme på figur 1, men litt unøyaktighet her også.\n",
    "\n",
    "\n",
    "For the future 22/4-22:\n",
    "Når vi joiner med `PEN.T_SKJEMA` forsvinner (nesten) alle ikke-selvbetjente saker. Teste ut andre typer join for å konservere antall saker. Hvordan håndtere resulterende nullverdier fra `PEN.T_SKJEMA`?\n",
    "Kan være nødvendig å se mer på `OPPRETTET_AV`; mye der som kommer fra batch."
   ]
  },
  {
   "cell_type": "code",
   "execution_count": null,
   "id": "9df7d94b-36ab-41d1-a56c-dbaf13ad00aa",
   "metadata": {},
   "outputs": [],
   "source": [
    "import cx_Oracle\n",
    "import pandas as pd\n",
    "import numpy as np\n",
    "import sys\n",
    "import os\n",
    "import importlib\n",
    "import plotly.express as px\n",
    "import plotly.graph_objects as go\n",
    "from plotly.subplots import make_subplots\n",
    "\n",
    "from google.cloud import secretmanager\n",
    "\n",
    "sys.path.append('../lib')\n",
    "import pandas_utils\n",
    "\n",
    "importlib.reload(pandas_utils)"
   ]
  },
  {
   "cell_type": "code",
   "execution_count": null,
   "id": "b4a2e654-2617-4c5c-bf6a-5afe6886b5f4",
   "metadata": {},
   "outputs": [],
   "source": [
    "secrets = secretmanager.SecretManagerServiceClient()\n",
    "resource_name = f\"projects/knada-gcp/secrets/vebjorns-hemmelighet/versions/latest\"\n",
    "secret = secrets.access_secret_version(name=resource_name)\n",
    "secrets = dict([line.split(\"=\") for line in secret.payload.data.decode('UTF-8').splitlines()])\n",
    "\n",
    "ORACLE_HOST = '10.53.136.15'\n",
    "ORACLE_PORT = '1521'\n",
    "ORACLE_SERVICE = 'pen'"
   ]
  },
  {
   "cell_type": "code",
   "execution_count": null,
   "id": "38a1762b-2a3d-4bee-8b1b-bae781062408",
   "metadata": {},
   "outputs": [],
   "source": [
    "dsnStr = cx_Oracle.makedsn(ORACLE_HOST, ORACLE_PORT, service_name=ORACLE_SERVICE)"
   ]
  },
  {
   "cell_type": "code",
   "execution_count": null,
   "id": "851c9c79-2291-48e8-bb9c-15e5e0c2e074",
   "metadata": {},
   "outputs": [],
   "source": [
    "con = cx_Oracle.connect(user=secrets[\"PEN_USER\"], password=secrets[\"PEN_PASSWORD\"],\n",
    "                               dsn=dsnStr)"
   ]
  },
  {
   "cell_type": "code",
   "execution_count": null,
   "id": "52d4b02f-d19d-4d13-a323-af35805923bb",
   "metadata": {},
   "outputs": [],
   "source": [
    "df_v1 = pandas_utils.pandas_from_sql('../sql/v1.sql', con)"
   ]
  },
  {
   "cell_type": "code",
   "execution_count": null,
   "id": "20c900c0-9d63-47da-91a7-d8a61ef5904c",
   "metadata": {},
   "outputs": [],
   "source": [
    "con.close()"
   ]
  },
  {
   "cell_type": "code",
   "execution_count": null,
   "id": "38b786ca-261e-4e5d-b69c-ebba61b20746",
   "metadata": {},
   "outputs": [],
   "source": [
    "def get_dp_behandling(df, behandling):\n",
    "    return df[df[\"K_BEHANDLING_T\"] == behandling]"
   ]
  },
  {
   "cell_type": "code",
   "execution_count": null,
   "id": "a02cd075-6948-4582-a0b0-bd0f756cacdc",
   "metadata": {},
   "outputs": [],
   "source": [
    "df_v1.tail(16)"
   ]
  },
  {
   "cell_type": "code",
   "execution_count": null,
   "id": "ff3b172c-a36d-40a7-9a81-7ea212806542",
   "metadata": {},
   "outputs": [],
   "source": [
    "df = df_v1.copy()\n",
    "# Add \"ÅR-MÅNED\" TO FRONT\n",
    "df[\"ÅR-MÅNED\"] = df[[\"ÅR\", \"MÅNED\"]].apply(lambda row: '-'.join(row.values.astype(str)), axis=1)\n",
    "cols = list(df.columns.values)\n",
    "cols.insert(0, cols.pop())\n",
    "df = df[cols]"
   ]
  },
  {
   "cell_type": "code",
   "execution_count": null,
   "id": "2f7e9666-a8b8-4a6d-8505-966f5ec433af",
   "metadata": {},
   "outputs": [],
   "source": [
    "df = df.merge(df.groupby(\"ÅR-MÅNED\", as_index=False).ANTALL.sum(),\n",
    "                left_on=\"ÅR-MÅNED\",\n",
    "                right_on=\"ÅR-MÅNED\",\n",
    "                suffixes=(\"\",\" TOTALT\")\n",
    "        )\n"
   ]
  },
  {
   "cell_type": "code",
   "execution_count": null,
   "id": "8d8c9186-dcf7-45f8-bcbf-1b15bbd98de6",
   "metadata": {},
   "outputs": [],
   "source": [
    "df[\"ANDEL\"] = df.ANTALL.divide(df[\"ANTALL TOTALT\"])"
   ]
  },
  {
   "cell_type": "markdown",
   "id": "1a75a5ac-1e75-4787-95ce-83a2a7fb13d7",
   "metadata": {},
   "source": [
    "# Prep for plott"
   ]
  },
  {
   "cell_type": "code",
   "execution_count": null,
   "id": "4c3f8bb8-97af-4611-9224-1808807ab637",
   "metadata": {},
   "outputs": [],
   "source": [
    "nav_colors = (\n",
    "    \"#0067C5\",\n",
    "    \"#BA3A26\",\n",
    "    \"#06893A\",\n",
    "    \"#634689\",\n",
    "    \"#FF9100\",\n",
    "    \"#66CBEC\",\n",
    "    \"#F0C419\",\n",
    ")\n",
    "pastel = px.colors.qualitative.Pastel\n",
    "\n",
    "figs = []"
   ]
  },
  {
   "cell_type": "markdown",
   "id": "463db2fc-311b-472d-9743-1a17cfa18740",
   "metadata": {},
   "source": [
    "### Automatiseringsgrad"
   ]
  },
  {
   "cell_type": "code",
   "execution_count": null,
   "id": "6cd787d1-bc09-49b7-9fa0-58845c28893e",
   "metadata": {},
   "outputs": [],
   "source": [
    "df_auto = df.groupby([\"ÅR\", \"MÅNED\", \"ÅR-MÅNED\", \"AUTOMATISERING\", \"ANTALL TOTALT\"], as_index=False)[[\"ANTALL\", \"ANDEL\"]].sum()\n",
    "df_auto = df_auto[df_auto.AUTOMATISERING == \"AUTO\"].reset_index(drop=True)\n",
    "df_auto[\"ANDEL_PROSENT\"] = df_auto[\"ANDEL\"].apply(lambda x: round(x*100, 0)).astype(int).astype(str) + '%'"
   ]
  },
  {
   "cell_type": "code",
   "execution_count": null,
   "id": "93cd663b-d5f5-4104-98f0-704bb4a274fc",
   "metadata": {},
   "outputs": [],
   "source": [
    "df_auto.tail()"
   ]
  },
  {
   "cell_type": "code",
   "execution_count": null,
   "id": "73f23c69-a3b8-4445-bb57-9aff454031e5",
   "metadata": {},
   "outputs": [],
   "source": [
    "n_months = 17\n",
    "\n",
    "df_plot = df_auto.iloc[-n_months:-1,:]\n",
    "\n",
    "fig = make_subplots(specs=[[{\"secondary_y\": True}]])\n",
    "fig.add_trace(go.Bar(x=df_plot[\"ÅR-MÅNED\"], y=df_plot[\"ANTALL TOTALT\"], marker_color=pastel[0], name=\"Antall saker\"), secondary_y=False)\n",
    "\n",
    "fig.add_trace(go.Scatter(x=df_plot[\"ÅR-MÅNED\"], y=df_plot[\"ANDEL\"], text=df_plot[\"ANDEL_PROSENT\"], mode='lines+markers+text', marker_color=\"black\", name=\"Automatisk\", textposition='top center'), secondary_y=True)\n",
    "fig.update_yaxes(title_text=\"Andel automatisert\", secondary_y=True, range=[0.2,0.8], tickformat='.0%')\n",
    "fig.update_yaxes(title_text=\"Antall saker\", secondary_y=False)\n",
    "fig.layout.yaxis2.showgrid = False\n",
    "fig.update_layout(\n",
    "    autosize=False,\n",
    "    width=1300,\n",
    "    height=500,)\n",
    "\n",
    "figs.append(fig)"
   ]
  },
  {
   "cell_type": "markdown",
   "id": "0a2b27ff-6c48-4701-8d77-c63efadb0624",
   "metadata": {},
   "source": [
    "### Selvbetjening"
   ]
  },
  {
   "cell_type": "code",
   "execution_count": null,
   "id": "b191ea45-d215-4ed5-987f-fd3b7c053ac1",
   "metadata": {},
   "outputs": [],
   "source": [
    "df_selv = df.groupby([\"ÅR\", \"MÅNED\", \"ÅR-MÅNED\", \"OPPRETTET_AV\", \"ANTALL TOTALT\"], as_index=False)[[\"ANTALL\", \"ANDEL\"]].sum()\n",
    "df_selv = df_selv[df_selv.OPPRETTET_AV == \"bruker\"].reset_index(drop=True)\n",
    "df_selv[\"ANDEL_PROSENT\"] = df_selv[\"ANDEL\"].apply(lambda x: round(x*100, 0)).astype(int).astype(str) + '%'"
   ]
  },
  {
   "cell_type": "code",
   "execution_count": null,
   "id": "7499ed80-d2c0-4b21-8dd4-d9e4738b7e6b",
   "metadata": {},
   "outputs": [],
   "source": [
    "df_selv.tail()"
   ]
  },
  {
   "cell_type": "code",
   "execution_count": null,
   "id": "b1f66db0-4212-4b20-8fbc-b7f9b60439ee",
   "metadata": {},
   "outputs": [],
   "source": [
    "df_plot = df_selv.iloc[-n_months:-1,:]\n",
    "\n",
    "fig = make_subplots(specs=[[{\"secondary_y\": True}]])\n",
    "fig.add_trace(go.Bar(x=df_plot[\"ÅR-MÅNED\"], y=df_plot[\"ANTALL TOTALT\"], marker_color=pastel[1], name=\"Antall saker\"), secondary_y=False)\n",
    "\n",
    "fig.add_trace(go.Scatter(x=df_plot[\"ÅR-MÅNED\"], y=df_plot[\"ANDEL\"], text=df_plot[\"ANDEL_PROSENT\"], mode='lines+markers+text', marker_color=\"black\", name=\"Selvbetjent\", textposition='top center'), secondary_y=True)\n",
    "fig.update_yaxes(title_text=\"Andel selvbetjent\", secondary_y=True, range=[0.5,1], tickformat='.0%')\n",
    "fig.update_yaxes(title_text=\"Antall saker\", secondary_y=False)\n",
    "fig.layout.yaxis2.showgrid = False\n",
    "fig.update_layout(\n",
    "    autosize=False,\n",
    "    width=1300,\n",
    "    height=500,)\n",
    "\n",
    "figs.append(fig)"
   ]
  },
  {
   "cell_type": "code",
   "execution_count": null,
   "id": "ad40e9ee-d4fa-4823-a6bb-0f915928af78",
   "metadata": {},
   "outputs": [],
   "source": [
    "for fig in figs:\n",
    "    fig.show()"
   ]
  },
  {
   "cell_type": "markdown",
   "id": "84277ba3-a0de-4573-b725-11c220af2a56",
   "metadata": {},
   "source": [
    "# Publiser datastory"
   ]
  },
  {
   "cell_type": "code",
   "execution_count": null,
   "id": "feacf276-54e5-43da-8451-a86668f50351",
   "metadata": {},
   "outputs": [],
   "source": [
    "from datastory import DataStory"
   ]
  },
  {
   "cell_type": "code",
   "execution_count": null,
   "id": "0acbe54b-3d71-4c40-9163-a58f64c8ac09",
   "metadata": {},
   "outputs": [],
   "source": [
    "ds = DataStory(f\"Automatiserings- og selvbetjeningsgrad for alderspensjon\")\n",
    "\n",
    "ds.markdown(\"**(Under utvikling)**\")\n",
    "ds.header(f\"Automatisering av førstegangsbehandlingssaker for alderspensjon i pesys. Saker opprettet av batch er eksludert.\", level=2)\n",
    "ds.plotly(figs[0].to_json())\n",
    "\n",
    "ds.header(f\"Selvbetjening av førstegangsbehandlingssaker for alderspensjon i pesys. Saker opprettet av batch er eksludert.\", level=2)\n",
    "ds.plotly(figs[1].to_json())"
   ]
  },
  {
   "cell_type": "code",
   "execution_count": null,
   "id": "ba87d266-6ff0-4cdf-a642-74b673878c29",
   "metadata": {},
   "outputs": [],
   "source": [
    "ds.publish(url=\"https://nada.intern.nav.no/api\") #prod"
   ]
  },
  {
   "cell_type": "code",
   "execution_count": null,
   "id": "31024780-eb92-44bd-9a2c-7f027889bbde",
   "metadata": {},
   "outputs": [],
   "source": []
  }
 ],
 "metadata": {
  "environment": {
   "kernel": "python3",
   "name": "common-cpu.m87",
   "type": "gcloud",
   "uri": "gcr.io/deeplearning-platform-release/base-cpu:m87"
  },
  "kernelspec": {
   "display_name": "Python 3",
   "language": "python",
   "name": "python3"
  },
  "language_info": {
   "codemirror_mode": {
    "name": "ipython",
    "version": 3
   },
   "file_extension": ".py",
   "mimetype": "text/x-python",
   "name": "python",
   "nbconvert_exporter": "python",
   "pygments_lexer": "ipython3",
   "version": "3.7.12"
  }
 },
 "nbformat": 4,
 "nbformat_minor": 5
}
