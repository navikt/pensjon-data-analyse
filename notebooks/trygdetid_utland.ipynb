{
 "cells": [
  {
   "cell_type": "code",
   "execution_count": null,
   "id": "ff307d2f-5806-4a75-ae3d-9da08d265a04",
   "metadata": {},
   "outputs": [],
   "source": [
    "import sys\n",
    "import numpy as np\n",
    "import pandas as pd\n",
    "import importlib\n",
    "import plotly.express as px\n",
    "import plotly.graph_objects as go\n",
    "import plotly.io as pio\n",
    "import seaborn as sns\n",
    "%matplotlib inline\n",
    "\n",
    "from google.cloud import secretmanager\n",
    "\n",
    "sys.path.append('../lib')\n",
    "import utils\n",
    "import pandas_utils\n",
    "import pesys_utils\n",
    "importlib.reload(utils)\n",
    "importlib.reload(pesys_utils)\n",
    "importlib.reload(pandas_utils)"
   ]
  },
  {
   "cell_type": "code",
   "execution_count": null,
   "id": "cdc072fb-5af9-43bf-8810-579dd7a1a038",
   "metadata": {},
   "outputs": [],
   "source": [
    "utils.set_secrets_as_env()"
   ]
  },
  {
   "cell_type": "code",
   "execution_count": null,
   "id": "65e9fbb7-04a4-410d-860a-9ffffc80b193",
   "metadata": {},
   "outputs": [],
   "source": [
    "try:\n",
    "    con.close()\n",
    "except:\n",
    "    pass\n",
    "con = pesys_utils.open_pen_connection()\n",
    "df_trygdetid_snitt = pandas_utils.pandas_from_sql('../sql/trygdetidsperioder_snitt.sql', con=con, lowercase=True)\n",
    "df_trygdetid_count = pandas_utils.pandas_from_sql('../sql/trygdetidsperioder_frekvens.sql', con=con, lowercase=True)\n",
    "df_trygdetid_count2 = pandas_utils.pandas_from_sql('../sql/trygdetidsperioder_frekvens_vedtaksdato.sql', con=con, lowercase=True)\n",
    "df_trygdetid_snitt2 = pandas_utils.pandas_from_sql('../sql/trygdetidsperioder_snitt_vedtaksdato.sql', con=con, lowercase=True)\n",
    "con.close()"
   ]
  },
  {
   "cell_type": "code",
   "execution_count": null,
   "id": "f7953661-75fa-4094-a468-1d9eb5bdc9f9",
   "metadata": {},
   "outputs": [],
   "source": [
    "df_trygdetid_snitt.head()"
   ]
  },
  {
   "cell_type": "code",
   "execution_count": null,
   "id": "ac96fd2b-e1b7-4544-93ca-0aae6ea97417",
   "metadata": {},
   "outputs": [],
   "source": [
    "df_trygdetid_count.head()"
   ]
  },
  {
   "cell_type": "code",
   "execution_count": null,
   "id": "70ec7eae-83a1-48e0-9795-2315027fb38a",
   "metadata": {},
   "outputs": [],
   "source": [
    "df_utland_count = df_trygdetid_count[df_trygdetid_count.land == 'Utland'].drop(\"land\", axis=1)\n",
    "df_utland_snitt = df_trygdetid_snitt[df_trygdetid_snitt.land == 'Utland'].drop(\"land\", axis=1)\n",
    "df_utland_count.head()"
   ]
  },
  {
   "cell_type": "code",
   "execution_count": null,
   "id": "76813aa0-7425-4f55-a5c2-4ff7dd8abc26",
   "metadata": {},
   "outputs": [],
   "source": [
    "df_heatmap = pd.pivot(df_utland_count, index=\"antall\", columns=\"ar_fodsel\", values=\"frekvens\").fillna(0)"
   ]
  },
  {
   "cell_type": "code",
   "execution_count": null,
   "id": "2f7fee1f-dbf9-4abc-8d7c-0f374ea02723",
   "metadata": {},
   "outputs": [],
   "source": [
    "sns.heatmap(df_heatmap.iloc[::-1], vmax=100)"
   ]
  },
  {
   "cell_type": "code",
   "execution_count": null,
   "id": "59216045-7b94-47f2-9886-7510700da2a1",
   "metadata": {},
   "outputs": [],
   "source": [
    "px.line(df_utland_snitt, \"ar_fodsel\", 'snitt')"
   ]
  },
  {
   "cell_type": "code",
   "execution_count": null,
   "id": "f411b550-8bae-4415-9b74-6caa2a197b85",
   "metadata": {},
   "outputs": [],
   "source": [
    "df_minst_to_utland = df_utland_count[df_utland_count.antall > 1].groupby(['ar_fodsel'], as_index=False).frekvens.sum()"
   ]
  },
  {
   "cell_type": "code",
   "execution_count": null,
   "id": "46cc9923-8f15-40c0-85e1-dc90a5135e28",
   "metadata": {},
   "outputs": [],
   "source": [
    "px.line(df_minst_to_utland, \"ar_fodsel\", \"frekvens\")"
   ]
  },
  {
   "cell_type": "code",
   "execution_count": null,
   "id": "7a3ac4ac-90dc-4431-b2d3-a39ceeb55f17",
   "metadata": {},
   "outputs": [],
   "source": [
    "cutoffs = [1, 2, 5, 10, 20]\n",
    "fig = go.Figure()\n",
    "fig.update_layout(title=\"Utvikling i antall personer med mange trygdetidsperioder i utlandet\")\n",
    "for cutoff in cutoffs:\n",
    "    df = df_utland_count[df_utland_count.antall >= cutoff].groupby(['ar_fodsel'], as_index=False).frekvens.sum()\n",
    "    fig.add_traces(go.Scatter(x=df.ar_fodsel, y=df.frekvens, name=f\"Minst {cutoff}\"))\n",
    "fig.show()"
   ]
  },
  {
   "cell_type": "code",
   "execution_count": null,
   "id": "a9927655-8ef1-4656-9158-2b1647f4623b",
   "metadata": {},
   "outputs": [],
   "source": [
    "df_trygdetid_count2.head()"
   ]
  },
  {
   "cell_type": "code",
   "execution_count": null,
   "id": "3b07a798-348f-4ef4-a6c1-7b4edecfe6d0",
   "metadata": {},
   "outputs": [],
   "source": [
    "df_utland_count2 = df_trygdetid_count2[df_trygdetid_count2.land == 'Utland'].dropna().reset_index(drop=True)"
   ]
  },
  {
   "cell_type": "code",
   "execution_count": null,
   "id": "e1d85be0-60c1-4fcc-9fc6-fd5a7d5619f0",
   "metadata": {},
   "outputs": [],
   "source": [
    "def group_df_on_var(df, period):\n",
    "    df = df.merge(df.groupby([period], as_index=False).frekvens.sum(),\n",
    "                    left_on=[period],\n",
    "                    right_on=[period],\n",
    "                    suffixes=(\"\",\" totalt\")\n",
    "            )\n",
    "    df[\"andel\"] = df.frekvens.divide(df[\"frekvens totalt\"])\n",
    "    return df"
   ]
  },
  {
   "cell_type": "code",
   "execution_count": null,
   "id": "8d0ed0f9-ec9e-481f-9743-d87732dbbcc7",
   "metadata": {},
   "outputs": [],
   "source": [
    "df_utland_count2 = group_df_on_var(df_utland_count2, \"ar\")"
   ]
  },
  {
   "cell_type": "code",
   "execution_count": null,
   "id": "1cfc779b-26a5-4018-8dc7-3112f105bee6",
   "metadata": {},
   "outputs": [],
   "source": [
    "df_utland_count2.head()"
   ]
  },
  {
   "cell_type": "code",
   "execution_count": null,
   "id": "43abd9e9-1ab8-4307-b688-dd20c06da2b5",
   "metadata": {},
   "outputs": [],
   "source": [
    "cutoffs = [1, 2, 5, 10, 20]\n",
    "fig = go.Figure()\n",
    "fig.update_layout(title=\"Utvikling i andel personer med mange trygdetidsperioder i utlandet\")\n",
    "for cutoff in cutoffs:\n",
    "    df = df_utland_count2[df_utland_count2.antall >= cutoff].groupby(['ar'], as_index=False).andel.sum()\n",
    "    fig.add_traces(go.Scatter(x=df.ar, y=df.andel, name=f\"Minst {cutoff}\"))\n",
    "    fig.update_yaxes(tickformat='.0%')\n",
    "fig.show()"
   ]
  },
  {
   "cell_type": "code",
   "execution_count": null,
   "id": "0d4d69c3-bf6f-4cbd-8015-8c130df00e67",
   "metadata": {},
   "outputs": [],
   "source": [
    "cutoffs = [1, 2, 5, 10, 20]\n",
    "fig = go.Figure()\n",
    "fig.update_layout(title=\"Utvikling i antall personer med mange trygdetidsperioder i utlandet\")\n",
    "for cutoff in cutoffs:\n",
    "    df = df_utland_count2[df_utland_count2.antall >= cutoff].groupby(['ar'], as_index=False).frekvens.sum()\n",
    "    fig.add_traces(go.Scatter(x=df.ar, y=df.frekvens, name=f\"Minst {cutoff}\"))\n",
    "fig.show()"
   ]
  },
  {
   "cell_type": "code",
   "execution_count": null,
   "id": "57f39869-15d1-4860-9fc0-1d92317da046",
   "metadata": {},
   "outputs": [],
   "source": [
    "df_utland_count2[\"totalt_antall\"] = df_utland_count2.antall * df_utland_count2.frekvens\n",
    "df_antall = df_utland_count2.groupby([\"ar\"], as_index=False).totalt_antall.sum()\n",
    "df_vedtak = df_utland_count2.groupby([\"ar\"], as_index=False).frekvens.sum()"
   ]
  },
  {
   "cell_type": "code",
   "execution_count": null,
   "id": "8a38f9cf-d3c8-4542-b5a8-bb80f3d3e3d8",
   "metadata": {},
   "outputs": [],
   "source": [
    "px.bar(df_vedtak, \"ar\", \"frekvens\")"
   ]
  },
  {
   "cell_type": "code",
   "execution_count": null,
   "id": "edc0d496-4dc5-42f7-8db5-7ea190a5e306",
   "metadata": {},
   "outputs": [],
   "source": [
    "df_utland_snitt2 = df_trygdetid_snitt2[df_trygdetid_snitt2.land == 'Utland'].dropna().reset_index(drop=True)"
   ]
  },
  {
   "cell_type": "code",
   "execution_count": null,
   "id": "369d9aee-4cf5-4afb-85c9-72255888257d",
   "metadata": {},
   "outputs": [],
   "source": [
    "px.line(df_utland_snitt2, \"ar\", \"snitt\", color='land')"
   ]
  }
 ],
 "metadata": {
  "environment": {
   "kernel": "python3",
   "name": "common-cpu.m98",
   "type": "gcloud",
   "uri": "gcr.io/deeplearning-platform-release/base-cpu:m98"
  },
  "kernelspec": {
   "display_name": "Python 3",
   "language": "python",
   "name": "python3"
  },
  "language_info": {
   "codemirror_mode": {
    "name": "ipython",
    "version": 3
   },
   "file_extension": ".py",
   "mimetype": "text/x-python",
   "name": "python",
   "nbconvert_exporter": "python",
   "pygments_lexer": "ipython3",
   "version": "3.7.12"
  }
 },
 "nbformat": 4,
 "nbformat_minor": 5
}
