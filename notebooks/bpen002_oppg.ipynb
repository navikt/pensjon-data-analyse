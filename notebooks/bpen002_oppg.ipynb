{
 "cells": [
  {
   "cell_type": "code",
   "execution_count": null,
   "metadata": {},
   "outputs": [],
   "source": [
    "import pandas as pd\n",
    "import sys\n",
    "import plotly.express as px\n",
    "\n",
    "from datastory import DataStory\n",
    "\n",
    "sys.path.append('../lib')\n",
    "\n",
    "import utils, pesys_utils, pandas_utils"
   ]
  },
  {
   "cell_type": "code",
   "execution_count": null,
   "metadata": {},
   "outputs": [],
   "source": [
    "utils.set_secrets_as_env()"
   ]
  },
  {
   "cell_type": "code",
   "execution_count": null,
   "metadata": {},
   "outputs": [],
   "source": [
    "con.close()"
   ]
  },
  {
   "cell_type": "code",
   "execution_count": null,
   "metadata": {},
   "outputs": [],
   "source": [
    "con = pesys_utils.open_pen_connection()\n",
    "df = pandas_utils.pandas_from_sql(sqlfile='../sql/bpen002_oppg.sql', con=con, tuning=10000, lowercase=True)\n",
    "con.close()"
   ]
  },
  {
   "cell_type": "code",
   "execution_count": null,
   "metadata": {},
   "outputs": [],
   "source": [
    "df.head()"
   ]
  },
  {
   "cell_type": "code",
   "execution_count": null,
   "metadata": {},
   "outputs": [],
   "source": [
    "px.bar(df, \"dato\", \"antall\", color=\"sakstype\")"
   ]
  },
  {
   "cell_type": "code",
   "execution_count": null,
   "metadata": {},
   "outputs": [],
   "source": [
    "df[\"dato\"] = pd.to_datetime(df.dato)\n",
    "df.set_index('dato',inplace=True)"
   ]
  },
  {
   "cell_type": "code",
   "execution_count": null,
   "metadata": {},
   "outputs": [],
   "source": [
    "#sakstyper = df.sakstype.unique()\n",
    "sakstyper = ['Alderspensjon', \"Uføretrygd\"]\n",
    "figs = {}\n",
    "for i in range(len(sakstyper)):\n",
    "    ytelse = sakstyper[i]\n",
    "    df_ytelse = df.query(f\"sakstype=='{ytelse}'\")\n",
    "    df_mnd = df_ytelse.groupby(\"oppgavetekst\")[[\"antall\"]].resample('MS').sum().reset_index()\n",
    "    figs[ytelse] = px.bar(df_mnd, \"dato\", \"antall\", color=\"oppgavetekst\", title=ytelse)"
   ]
  },
  {
   "cell_type": "code",
   "execution_count": null,
   "metadata": {},
   "outputs": [],
   "source": [
    "for _, fig in figs.items():\n",
    "    fig.show()"
   ]
  }
 ],
 "metadata": {
  "kernelspec": {
   "display_name": "Python 3",
   "language": "python",
   "name": "python3"
  },
  "language_info": {
   "codemirror_mode": {
    "name": "ipython",
    "version": 3
   },
   "file_extension": ".py",
   "mimetype": "text/x-python",
   "name": "python",
   "nbconvert_exporter": "python",
   "pygments_lexer": "ipython3",
   "version": "3.9.2"
  }
 },
 "nbformat": 4,
 "nbformat_minor": 2
}
