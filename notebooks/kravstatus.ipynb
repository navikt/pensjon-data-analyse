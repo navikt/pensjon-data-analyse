{
 "cells": [
  {
   "cell_type": "code",
   "execution_count": null,
   "id": "5d81aeec-bc57-40ed-9a6b-138547064671",
   "metadata": {},
   "outputs": [],
   "source": [
    "import pandas as pd\n",
    "import numpy as np\n",
    "import os\n",
    "import sys\n",
    "import importlib\n",
    "import plotly.express as px\n",
    "from datetime import datetime\n",
    "\n",
    "sys.path.append('../lib')\n",
    "sys.path.append('/home/jupyter/pensjon-data-analyse/lib')\n",
    "import utils\n",
    "import pandas_utils\n",
    "import pesys_utils\n",
    "\n",
    "importlib.reload(utils)\n",
    "importlib.reload(pandas_utils)\n",
    "importlib.reload(pesys_utils)\n",
    "\n",
    "utils.set_secrets_as_env()"
   ]
  },
  {
   "cell_type": "code",
   "execution_count": null,
   "id": "792f690b-59c8-4181-81c6-68f4ba34ab11",
   "metadata": {},
   "outputs": [],
   "source": [
    "con = pesys_utils.open_pen_connection()\n",
    "\n",
    "df_kravstatus = pandas_utils.pandas_from_sql('/home/jupyter/pensjon-data-analyse/sql/kravstatus.sql', con)\n",
    "con.close()\n",
    "df_kravstatus.columns = map(str.lower, df_kravstatus.columns)\n",
    "df_kravstatus[\"dato\"] = datetime.utcnow()"
   ]
  },
  {
   "cell_type": "code",
   "execution_count": null,
   "id": "4aed297b-f014-4bba-9410-3abb6c5caeb1",
   "metadata": {},
   "outputs": [],
   "source": [
    "df = df_kravstatus.copy()\n",
    "\n",
    "df.head()"
   ]
  },
  {
   "cell_type": "code",
   "execution_count": null,
   "id": "566e804a-3282-43a5-a804-6b08d5dbd7b8",
   "metadata": {},
   "outputs": [],
   "source": [
    "df_uten_type = df.groupby([\"dato\", \"sakstype\", \"kravstatus\"], as_index=False).antall.sum()"
   ]
  },
  {
   "cell_type": "code",
   "execution_count": null,
   "id": "ad197194-6dd3-498f-ab94-cdba6f1ed0c2",
   "metadata": {
    "tags": []
   },
   "outputs": [],
   "source": [
    "for sakstype in set(df.sakstype):\n",
    "    df_plot = df_uten_type[df_uten_type.sakstype == sakstype]\n",
    "    px.bar(df_plot, \"dato\", \"antall\", color=\"kravstatus\", barmode=\"stack\", title=sakstype).show()"
   ]
  },
  {
   "cell_type": "code",
   "execution_count": null,
   "id": "668506ac-b197-48e1-be44-5556e2cd65a9",
   "metadata": {},
   "outputs": [],
   "source": [
    "from google.cloud.bigquery import Client, LoadJobConfig, SchemaField, enums\n",
    "\n",
    "table_id = f'pensjon-saksbehandli-prod-1f83.saksstatistikk.kravstatus'\n",
    "job_config = LoadJobConfig(\n",
    "    schema = [\n",
    "        SchemaField(\"sakstype\", enums.SqlTypeNames.STRING),\n",
    "        SchemaField(\"kravtype\", enums.SqlTypeNames.STRING),\n",
    "        SchemaField(\"kravstatus\", enums.SqlTypeNames.STRING),\n",
    "        SchemaField(\"antall\", enums.SqlTypeNames.INTEGER),\n",
    "        SchemaField(\"dato\", enums.SqlTypeNames.TIMESTAMP),\n",
    "    ],\n",
    "    write_disposition=\"WRITE_APPEND\",\n",
    ")\n",
    "\n",
    "client = Client(project=\"pensjon-saksbehandli-prod-1f83\")\n",
    "\n",
    "job = client.load_table_from_dataframe(df, table_id, job_config=job_config)\n",
    "job.result()"
   ]
  }
 ],
 "metadata": {
  "environment": {
   "kernel": "python3",
   "name": "common-cpu.m98",
   "type": "gcloud",
   "uri": "gcr.io/deeplearning-platform-release/base-cpu:m98"
  },
  "kernelspec": {
   "display_name": "Python 3",
   "language": "python",
   "name": "python3"
  },
  "language_info": {
   "codemirror_mode": {
    "name": "ipython",
    "version": 3
   },
   "file_extension": ".py",
   "mimetype": "text/x-python",
   "name": "python",
   "nbconvert_exporter": "python",
   "pygments_lexer": "ipython3",
   "version": "3.7.12"
  }
 },
 "nbformat": 4,
 "nbformat_minor": 5
}
