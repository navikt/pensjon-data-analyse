{
 "cells": [
  {
   "cell_type": "markdown",
   "id": "0d14144e-b6e1-4e26-bc66-333fcdc7890a",
   "metadata": {},
   "source": [
    "# Hente hemmeligheter fra secret manager"
   ]
  },
  {
   "cell_type": "code",
   "execution_count": 5,
   "id": "813f3a59-9168-4298-a064-77f9da8a0a66",
   "metadata": {},
   "outputs": [],
   "source": [
    "from google.cloud import secretmanager"
   ]
  },
  {
   "cell_type": "code",
   "execution_count": 6,
   "id": "7d222b3c-ea89-4bd0-9eb9-1cbfbe45993a",
   "metadata": {},
   "outputs": [],
   "source": [
    "secrets = secretmanager.SecretManagerServiceClient()"
   ]
  },
  {
   "cell_type": "code",
   "execution_count": 7,
   "id": "a034889b-94fc-4fd3-b63a-3dc394f0bf89",
   "metadata": {},
   "outputs": [],
   "source": [
    "project_name = \"knada-gcp\"\n",
    "secret_name = \"vebjorn-rekkebo-bac1\"\n",
    "version = \"latest\"\n",
    "\n",
    "resource_name = f\"projects/{project_name}/secrets/{secret_name}/versions/{version}\"\n",
    "secret = secrets.access_secret_version(name=resource_name)"
   ]
  },
  {
   "cell_type": "code",
   "execution_count": 8,
   "id": "f1fa0cb6-e17d-436c-817a-1f2da0d6b1b6",
   "metadata": {},
   "outputs": [],
   "source": [
    "secrets = dict([line.split(\":\") for line in secret.payload.data.decode('UTF-8').splitlines()])"
   ]
  },
  {
   "cell_type": "code",
   "execution_count": 10,
   "id": "97bcdc18-bc22-4376-9955-a767bb080dc6",
   "metadata": {},
   "outputs": [],
   "source": [
    "import psycopg2\n",
    "\n",
    "import pandas as pd\n",
    "import datetime\n",
    "\n",
    "from sqlalchemy import create_engine"
   ]
  },
  {
   "cell_type": "code",
   "execution_count": 11,
   "id": "1d756c7e-6e60-4814-bf60-a6bcb2667deb",
   "metadata": {},
   "outputs": [],
   "source": [
    "method = \"postgresql+psycopg2\"\n",
    "host = \"A01DBVL029.adeo.no:5432\"\n",
    "db_name = \"pensjon-psak-db\"\n",
    "\n",
    "alchemyEngine = create_engine(f'{method}://{secrets[\"PSAK_POSTGRES_USER\"]}:{secrets[\"PSAK_POSTGRES_PASSWORD\"]}@{host}/{db_name}')\n",
    "dbConnection = alchemyEngine.connect()"
   ]
  },
  {
   "cell_type": "code",
   "execution_count": 12,
   "id": "1e7d0d48-d808-4a62-a384-75e257fce738",
   "metadata": {},
   "outputs": [],
   "source": [
    "df_dbstats = pd.read_sql(\n",
    "    \"\"\"\n",
    "    select column_name, data_type, character_maximum_length, column_default, is_nullable\n",
    "    from INFORMATION_SCHEMA.COLUMNS where table_name = 't_saksbeh_preferanser';\n",
    "    \"\"\",\n",
    "    dbConnection)"
   ]
  },
  {
   "cell_type": "code",
   "execution_count": 13,
   "id": "25e6fe85-59b1-4e74-9801-8b47030e031c",
   "metadata": {},
   "outputs": [
    {
     "data": {
      "text/html": [
       "<div>\n",
       "<style scoped>\n",
       "    .dataframe tbody tr th:only-of-type {\n",
       "        vertical-align: middle;\n",
       "    }\n",
       "\n",
       "    .dataframe tbody tr th {\n",
       "        vertical-align: top;\n",
       "    }\n",
       "\n",
       "    .dataframe thead th {\n",
       "        text-align: right;\n",
       "    }\n",
       "</style>\n",
       "<table border=\"1\" class=\"dataframe\">\n",
       "  <thead>\n",
       "    <tr style=\"text-align: right;\">\n",
       "      <th></th>\n",
       "      <th>column_name</th>\n",
       "      <th>data_type</th>\n",
       "      <th>character_maximum_length</th>\n",
       "      <th>column_default</th>\n",
       "      <th>is_nullable</th>\n",
       "    </tr>\n",
       "  </thead>\n",
       "  <tbody>\n",
       "    <tr>\n",
       "      <th>0</th>\n",
       "      <td>dato_opprettet</td>\n",
       "      <td>timestamp without time zone</td>\n",
       "      <td>NaN</td>\n",
       "      <td>None</td>\n",
       "      <td>NO</td>\n",
       "    </tr>\n",
       "    <tr>\n",
       "      <th>1</th>\n",
       "      <td>versjon</td>\n",
       "      <td>numeric</td>\n",
       "      <td>NaN</td>\n",
       "      <td>None</td>\n",
       "      <td>NO</td>\n",
       "    </tr>\n",
       "    <tr>\n",
       "      <th>2</th>\n",
       "      <td>dato_endret</td>\n",
       "      <td>timestamp without time zone</td>\n",
       "      <td>NaN</td>\n",
       "      <td>None</td>\n",
       "      <td>NO</td>\n",
       "    </tr>\n",
       "    <tr>\n",
       "      <th>3</th>\n",
       "      <td>bruk_nytt_design</td>\n",
       "      <td>boolean</td>\n",
       "      <td>NaN</td>\n",
       "      <td>None</td>\n",
       "      <td>YES</td>\n",
       "    </tr>\n",
       "    <tr>\n",
       "      <th>4</th>\n",
       "      <td>endret_av</td>\n",
       "      <td>character varying</td>\n",
       "      <td>20.0</td>\n",
       "      <td>None</td>\n",
       "      <td>NO</td>\n",
       "    </tr>\n",
       "  </tbody>\n",
       "</table>\n",
       "</div>"
      ],
      "text/plain": [
       "        column_name                    data_type  character_maximum_length  \\\n",
       "0    dato_opprettet  timestamp without time zone                       NaN   \n",
       "1           versjon                      numeric                       NaN   \n",
       "2       dato_endret  timestamp without time zone                       NaN   \n",
       "3  bruk_nytt_design                      boolean                       NaN   \n",
       "4         endret_av            character varying                      20.0   \n",
       "\n",
       "  column_default is_nullable  \n",
       "0           None          NO  \n",
       "1           None          NO  \n",
       "2           None          NO  \n",
       "3           None         YES  \n",
       "4           None          NO  "
      ]
     },
     "execution_count": 13,
     "metadata": {},
     "output_type": "execute_result"
    }
   ],
   "source": [
    "df_dbstats.head()"
   ]
  },
  {
   "cell_type": "code",
   "execution_count": 14,
   "id": "8075a801-aab7-48f8-b902-ca517057b9fb",
   "metadata": {},
   "outputs": [],
   "source": [
    "df_pref = pd.read_sql(\n",
    "    \"\"\"\n",
    "    select bruk_nytt_design, count(*) Antall\n",
    "    from t_saksbeh_preferanser\n",
    "    group by bruk_nytt_design;\n",
    "    \"\"\",\n",
    "    dbConnection).T"
   ]
  },
  {
   "cell_type": "code",
   "execution_count": 15,
   "id": "9decfd81-a597-4e11-8c9d-6834fcbe76d0",
   "metadata": {},
   "outputs": [],
   "source": [
    "new_header = df_pref.iloc[0]\n",
    "df_pref = df_pref[1:]\n",
    "df_pref.columns = new_header\n",
    "df_pref[\"Uttrekk_tidspunkt\"] = datetime.datetime.utcnow().isoformat()\n",
    "\n",
    "df_pref.columns = [\"Uspesifisert\", \"Gammelt\", \"Nytt\", \"Uttrekk_tidspunkt\"]\n",
    "df_pref = df_pref.reset_index(drop=True)"
   ]
  },
  {
   "cell_type": "code",
   "execution_count": 16,
   "id": "3ced8f4c-e13f-427a-b5e7-ac31952593d2",
   "metadata": {},
   "outputs": [],
   "source": [
    "df_pref[\"Andel_nytt\"] = df_pref.Nytt / df_pref[[\"Uspesifisert\", \"Gammelt\", \"Nytt\"]].sum(axis=1)\n",
    "df_pref[\"Andel_nytt\"] = df_pref[\"Andel_nytt\"].apply(lambda x: round(x, 2))"
   ]
  },
  {
   "cell_type": "code",
   "execution_count": 17,
   "id": "bef7316e-67c3-4c9c-83eb-82682f09a734",
   "metadata": {},
   "outputs": [
    {
     "data": {
      "text/html": [
       "<div>\n",
       "<style scoped>\n",
       "    .dataframe tbody tr th:only-of-type {\n",
       "        vertical-align: middle;\n",
       "    }\n",
       "\n",
       "    .dataframe tbody tr th {\n",
       "        vertical-align: top;\n",
       "    }\n",
       "\n",
       "    .dataframe thead th {\n",
       "        text-align: right;\n",
       "    }\n",
       "</style>\n",
       "<table border=\"1\" class=\"dataframe\">\n",
       "  <thead>\n",
       "    <tr style=\"text-align: right;\">\n",
       "      <th></th>\n",
       "      <th>Uspesifisert</th>\n",
       "      <th>Gammelt</th>\n",
       "      <th>Nytt</th>\n",
       "      <th>Uttrekk_tidspunkt</th>\n",
       "      <th>Andel_nytt</th>\n",
       "    </tr>\n",
       "  </thead>\n",
       "  <tbody>\n",
       "    <tr>\n",
       "      <th>0</th>\n",
       "      <td>140</td>\n",
       "      <td>287</td>\n",
       "      <td>236</td>\n",
       "      <td>2022-10-06T09:57:18.007797</td>\n",
       "      <td>0.36</td>\n",
       "    </tr>\n",
       "  </tbody>\n",
       "</table>\n",
       "</div>"
      ],
      "text/plain": [
       "  Uspesifisert Gammelt Nytt           Uttrekk_tidspunkt  Andel_nytt\n",
       "0          140     287  236  2022-10-06T09:57:18.007797        0.36"
      ]
     },
     "execution_count": 17,
     "metadata": {},
     "output_type": "execute_result"
    }
   ],
   "source": [
    "df_pref.head()"
   ]
  },
  {
   "cell_type": "code",
   "execution_count": 19,
   "id": "d5ea27cf-dd03-44d2-b947-a0d6aa4e2f90",
   "metadata": {},
   "outputs": [
    {
     "data": {
      "text/plain": [
       "LoadJob<project=pensjon-saksbehandli-prod-1f83, location=europe-north1, id=93ab617e-770d-461b-8581-ca119f2aa320>"
      ]
     },
     "execution_count": 19,
     "metadata": {},
     "output_type": "execute_result"
    }
   ],
   "source": [
    "from google.cloud.bigquery import Client, LoadJobConfig\n",
    "\n",
    "table_id = f'pensjon-saksbehandli-prod-1f83.saksbehandling_psak.nytt_gammelt_design'\n",
    "job_config = LoadJobConfig(\n",
    "    write_disposition=\"WRITE_APPEND\",\n",
    ")\n",
    "\n",
    "client = Client(project=\"pensjon-saksbehandli-prod-1f83\")\n",
    "\n",
    "job = client.load_table_from_dataframe(df_pref, table_id, job_config=job_config)\n",
    "job.result()"
   ]
  },
  {
   "cell_type": "code",
   "execution_count": null,
   "id": "9f72e1aa-8988-4aa8-a752-7cb6a088862d",
   "metadata": {},
   "outputs": [],
   "source": []
  }
 ],
 "metadata": {
  "environment": {
   "kernel": "python3",
   "name": "common-cpu.m97",
   "type": "gcloud",
   "uri": "gcr.io/deeplearning-platform-release/base-cpu:m97"
  },
  "kernelspec": {
   "display_name": "Python 3",
   "language": "python",
   "name": "python3"
  },
  "language_info": {
   "codemirror_mode": {
    "name": "ipython",
    "version": 3
   },
   "file_extension": ".py",
   "mimetype": "text/x-python",
   "name": "python",
   "nbconvert_exporter": "python",
   "pygments_lexer": "ipython3",
   "version": "3.7.12"
  }
 },
 "nbformat": 4,
 "nbformat_minor": 5
}
