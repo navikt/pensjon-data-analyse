{
 "cells": [
  {
   "cell_type": "code",
   "execution_count": null,
   "id": "0c30a2cc-e280-41ab-a4ea-06ef19ac535d",
   "metadata": {},
   "outputs": [],
   "source": [
    "import sys\n",
    "import importlib\n",
    "import pandas as pd\n",
    "import numpy as np\n",
    "import plotly.express as px\n",
    "\n",
    "sys.path.append('../lib')\n",
    "import pandas_utils\n",
    "import pesys_utils\n",
    "import autograd_convenience\n",
    "import utils\n",
    "\n",
    "importlib.reload(pandas_utils)\n",
    "importlib.reload(pesys_utils)\n",
    "importlib.reload(autograd_convenience)\n",
    "importlib.reload(utils)\n",
    "\n",
    "utils.set_secrets_as_env()"
   ]
  },
  {
   "cell_type": "code",
   "execution_count": null,
   "id": "8bbf3409-cf18-4603-808e-11ccb95cde98",
   "metadata": {},
   "outputs": [],
   "source": [
    "try:\n",
    "    con_popp.close()\n",
    "except:\n",
    "    pass\n",
    "con_popp = pesys_utils.open_popp_connection()\n",
    "df_oms = pandas_utils.pandas_from_sql(\"../sql/popp/godskrevet.sql\", con_popp, tuning=10000, lowercase=True)\n",
    "con_popp.close()"
   ]
  },
  {
   "cell_type": "code",
   "execution_count": null,
   "id": "b565a7de-cfac-4718-a475-f05109c5f82e",
   "metadata": {},
   "outputs": [],
   "source": [
    "try:\n",
    "    con_pen.close()\n",
    "except:\n",
    "    pass\n",
    "con_pen = pesys_utils.open_pen_connection()\n",
    "df_bo = pandas_utils.pandas_from_sql(\"../sql/popp/bostedsland.sql\", con_pen, tuning=10000, lowercase=True)\n",
    "con_pen.close()"
   ]
  },
  {
   "cell_type": "code",
   "execution_count": null,
   "id": "40d67705-8d0f-4238-9a55-6a45fb1355a0",
   "metadata": {},
   "outputs": [],
   "source": [
    "df_bo.fnr_fk.value_counts()"
   ]
  },
  {
   "cell_type": "code",
   "execution_count": null,
   "id": "283a8e2c-9766-41a0-85b3-745a74b4ccc9",
   "metadata": {},
   "outputs": [],
   "source": [
    "df = df_oms.merge(df_bo, how='left', on=\"fnr_fk\")"
   ]
  },
  {
   "cell_type": "code",
   "execution_count": null,
   "id": "2017a4b2-bbf2-4831-a325-bbf7ac22cd4c",
   "metadata": {},
   "outputs": [],
   "source": [
    "df.fnr_fk.value_counts()"
   ]
  },
  {
   "cell_type": "code",
   "execution_count": null,
   "id": "5abea8af-75ab-4060-ac68-e2f7a29be5df",
   "metadata": {},
   "outputs": [],
   "source": [
    "def prikk_antall(x):\n",
    "    if x < 6:\n",
    "        return -1\n",
    "    else:\n",
    "        return x\n",
    "\n",
    "def minus1_to_lessthan6(x):\n",
    "    if x == -1:\n",
    "        return '<6'\n",
    "    else:\n",
    "        return x\n",
    "    \n",
    "def anonymize_small_categories(row, n=5):\n",
    "    if row.antall < n:\n",
    "        row.bostedsland = \"Andre land\"\n",
    "        #row.avtaletype = \"Annet\"\n",
    "        #row.avtalekriterie = \"Annet\"\n",
    "    return row\n",
    "    \n",
    "    \n",
    "eos = {\"Belgia\", \"Bulgaria\", \"Danmark\", \"Estland\", \"Finland\", \"Frankrike\", \"Hellas\", \"Irland\", \n",
    "       \"Island\", \"Italia\", \"Kroatia\", \"Kypros\", \"Latvia\", \"Liechtenstein\", \"Litauen\", \"Luxembourg\", \n",
    "       \"Malta\", \"Nederland\", \"Norge\", \"Polen\", \"Portugal\", \"Romania\", \"Slovakia\", \"Slovenia\", \"Spania\", \n",
    "       \"Sveits\", \"Sverige\", \"Tsjekkia\", \"Tyskland\", \"Ungarn\", \"Østerrike\"}\n",
    "\n",
    "df[\"eøs_flagg\"] = df.apply(lambda row: int(row.bostedsland in eos), axis=1) #| (row.avtaletype == \"Eøs-Avtalen/Nordisk Konvensjon\")), axis=1)\n",
    "df.fillna(\"Ukjent\", inplace=True)"
   ]
  },
  {
   "cell_type": "code",
   "execution_count": null,
   "id": "84dbc786-b8ac-4b91-a136-c2b5b134f8b1",
   "metadata": {},
   "outputs": [],
   "source": [
    "df_land = df.groupby([\"bostedsland\"], dropna=False).versjon.count().reset_index(name=\"antall\")\n",
    "df_land[\"eøs_flagg\"] = df_land.bostedsland.apply(lambda x: int((x in eos)))\n",
    "df_land = df_land.apply(anonymize_small_categories, axis=1)\n",
    "df_land = df_land.groupby([\"bostedsland\"], dropna=False, as_index=False).antall.sum()\n",
    "df_land[\"eøs_flagg\"] = df_land.bostedsland.apply(lambda x: int((x in eos)))\n",
    "df_land = df_land.sort_values(\"antall\", ascending=False).reset_index(drop=True)\n",
    "\n",
    "df_land[df_land.bostedsland == \"Andre land\"]"
   ]
  },
  {
   "cell_type": "code",
   "execution_count": null,
   "id": "8e2b9fc1-facf-4fbb-9808-f4335bd952d5",
   "metadata": {},
   "outputs": [],
   "source": [
    "df_counts = df.bostedsland.value_counts().to_frame()"
   ]
  },
  {
   "cell_type": "code",
   "execution_count": null,
   "id": "ccd22d5a-3135-4905-9413-84fb3213ce50",
   "metadata": {},
   "outputs": [],
   "source": [
    "def sum_small_categories(x, n=5):\n",
    "    if df_counts.loc[x].item() < n:\n",
    "        return \"Andre land\"\n",
    "    else:\n",
    "        return x"
   ]
  },
  {
   "cell_type": "code",
   "execution_count": null,
   "id": "96a85cb6-69d7-435f-b537-dec68aa626b2",
   "metadata": {},
   "outputs": [],
   "source": [
    "df_sunburst = df[~(df.bostedsland == 'Ukjent')]\n",
    "df_sunburst.loc[:,\"bostedsland\"] = df_sunburst.bostedsland.apply(sum_small_categories)\n",
    "\n",
    "fig_sunburst = px.sunburst(df_sunburst, path=[\"eøs_flagg\", \"bostedsland\"], color_discrete_sequence=px.colors.qualitative.Dark2, height=800)\n",
    "fig_sunburst.show()"
   ]
  },
  {
   "cell_type": "code",
   "execution_count": null,
   "id": "ac8be53b-2e83-4c4f-bdd3-ddaac33c7672",
   "metadata": {},
   "outputs": [],
   "source": [
    "df_land"
   ]
  },
  {
   "cell_type": "code",
   "execution_count": null,
   "id": "00435d86-2cf8-4586-a103-c441fe7e228c",
   "metadata": {},
   "outputs": [],
   "source": [
    "def hent_token(user, pw):\n",
    "    uri = 'https://freg-token-provider-q4.nais.preprod.local/token/user'\n",
    "    headers = {'username': user,\n",
    "               'password': pw}\n",
    "    \n",
    "    r = requests.get(uri, headers=headers)\n",
    "    token = json.loads(r.text)['idToken']\n",
    "    return token\n",
    "\n",
    "\n",
    "def hent_header(srv_usr, srv_pwd):\n",
    "    secret = (base64.b64encode(f'{srv_usr}:{srv_pwd}'.encode('UTF-8'))).decode()\n",
    "    r = requests.post(\"https://security-token-service.nais.adeo.no/rest/v1/sts/token?grant_type=client_credentials&scope=openid\", headers={\"accept\": \"application/json\", \"Authorization\": f\"Basic {secret}\"}, data=\"\")\n",
    "    #print({\"accept\": \"application/json\", \"Authorization\": f\"Basic {secret}\"})\n",
    "    r.raise_for_status()\n",
    "    token = json.loads(r.content)['access_token']\n",
    "\n",
    "    return {\n",
    "        'Authorization': 'Bearer {}'.format(token),\n",
    "        'Nav-Consumer-Token': 'Bearer {}'.format(token),\n",
    "        'Tema': 'GEN',\n",
    "        'Accept': '*/*',\n",
    "        'Content-Type': 'application/json'\n",
    "    }\n",
    "\n",
    "\n",
    "def hent_aktorider(df, user, token):\n",
    "    headers = hent_header(user, token)\n",
    "    df_list = []\n",
    "    for i in range(0,len(df), 100):\n",
    "        fnr=list(df.iloc[i:i+100].fnr.astype(str))\n",
    "        query = \"\"\"{\n",
    "              \"query\": \"query($identer: [ID!]!, $grupper: [IdentGruppe!]) { hentIdenterBolk(identer: $identer, grupper: $grupper, historikk: false){ident identer {ident historisk gruppe}code}}\",\n",
    "              \"variables\": {\n",
    "              \"identer\": \"\"\"+ str(fnr).replace('\\'', '\"') +\"\"\",\n",
    "              \"grupper\": [\"AKTORID\"]\n",
    "            }\n",
    "        }\"\"\"\n",
    "        response = requests.post(\"https://pdl-api.intern.nav.no/graphql\", headers=headers, data=query)\n",
    "        # Sjekker statuskode og henter ny header hvis utgått token\n",
    "        if json.loads(response.text)['data']==None:\n",
    "            headers = hent_header()\n",
    "            response = requests.post(\"https://pdl-api.intern.nav.no/graphql\", headers=headers, data=query)\n",
    "\n",
    "        df_list.append(pd.json_normalize(json.loads(response.content)['data']['hentIdenterBolk']))\n",
    "    df = pd.concat(df_list)\n",
    "    df[\"aktorid\"] = df.identer.apply(lambda x: x[0]['ident'])\n",
    "    df = df.drop(columns=[\"identer\", \"code\"])\n",
    "    return df"
   ]
  }
 ],
 "metadata": {
  "environment": {
   "kernel": "python3",
   "name": "common-cpu.m98",
   "type": "gcloud",
   "uri": "gcr.io/deeplearning-platform-release/base-cpu:m98"
  },
  "kernelspec": {
   "display_name": "Python 3",
   "language": "python",
   "name": "python3"
  },
  "language_info": {
   "codemirror_mode": {
    "name": "ipython",
    "version": 3
   },
   "file_extension": ".py",
   "mimetype": "text/x-python",
   "name": "python",
   "nbconvert_exporter": "python",
   "pygments_lexer": "ipython3",
   "version": "3.7.12"
  }
 },
 "nbformat": 4,
 "nbformat_minor": 5
}
