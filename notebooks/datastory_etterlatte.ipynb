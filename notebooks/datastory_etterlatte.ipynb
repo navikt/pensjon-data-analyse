{
 "cells": [
  {
   "cell_type": "code",
   "execution_count": null,
   "id": "a9233e17-8842-4f51-9aa8-360e5f68ce69",
   "metadata": {
    "tags": []
   },
   "outputs": [],
   "source": [
    "import cx_Oracle\n",
    "import datastory\n",
    "import pandas as pd\n",
    "import numpy as np\n",
    "import sys\n",
    "import os\n",
    "import importlib\n",
    "import plotly.express as px\n",
    "import plotly.graph_objects as go\n",
    "import plotly.io as pio\n",
    "\n",
    "from datetime import datetime\n",
    "from google.cloud import secretmanager\n",
    "\n",
    "sys.path.append('../lib')\n",
    "import pandas_utils\n",
    "import pesys_utils\n",
    "import utils\n",
    "\n",
    "importlib.reload(pandas_utils)\n",
    "importlib.reload(pesys_utils)\n",
    "importlib.reload(utils)\n",
    "\n",
    "utils.set_secrets_as_env()"
   ]
  },
  {
   "cell_type": "code",
   "execution_count": null,
   "id": "9d55a7ed-dbe9-43b5-b9bc-de38144e2fb8",
   "metadata": {},
   "outputs": [],
   "source": [
    "import dataverk_tools.themes.navdesign as theme\n",
    "import dataverk_tools.themes.navdesign.plotly_template as template\n",
    "pio.templates.default = template"
   ]
  },
  {
   "cell_type": "markdown",
   "id": "4ae8bc75-a9d4-48ba-96b8-690a8f874230",
   "metadata": {},
   "source": [
    "# Antall krav, førstegangsbehandling innland/utland"
   ]
  },
  {
   "cell_type": "code",
   "execution_count": null,
   "id": "1ccc9d97-0075-4c6a-814f-fa4648e1e4be",
   "metadata": {},
   "outputs": [],
   "source": [
    "con = pesys_utils.open_pen_connection()\n",
    "df_krav = pandas_utils.pandas_from_sql('../sql/GP_BP/kravcount.sql', con)\n",
    "con.close()"
   ]
  },
  {
   "cell_type": "code",
   "execution_count": null,
   "id": "14532fc1-c58e-4ecc-a3e9-2176f1988fd6",
   "metadata": {},
   "outputs": [],
   "source": [
    "df_krav.head()"
   ]
  },
  {
   "cell_type": "code",
   "execution_count": null,
   "id": "f68155aa-af15-4d13-87f8-51e68bafa3fe",
   "metadata": {},
   "outputs": [],
   "source": [
    "df = df_krav.copy()\n",
    "df[\"MANED\"] = df.MANED.astype('string').apply(lambda x: pandas_utils.add_zero_to_mnd(x))\n",
    "df[\"AR_MANED\"] = df.AR_MANED.apply(lambda x: pandas_utils.add_zero_to_aar_mnd(x))"
   ]
  },
  {
   "cell_type": "code",
   "execution_count": null,
   "id": "6654434b-4e9c-4d8e-ae08-768120b15939",
   "metadata": {},
   "outputs": [],
   "source": [
    "df.head()"
   ]
  },
  {
   "cell_type": "code",
   "execution_count": null,
   "id": "6c934449-62e4-4e3c-a736-b2a7f0e74a15",
   "metadata": {},
   "outputs": [],
   "source": [
    "figs = {}"
   ]
  },
  {
   "cell_type": "code",
   "execution_count": null,
   "id": "a3651a84-32d7-48b4-9d72-29cf1d12f871",
   "metadata": {},
   "outputs": [],
   "source": [
    "figs[\"gjenlev_mmd\"] = px.bar(df[df.STONAD == \"Gjenlevendeytelse\"], \"AR_MANED\", \"ANTALL\", color=\"KRAVTYPE\", labels={\"AR_MANED\": \"Måned\", \"ANTALL\":\"Antall\", \"KRAVTYPE\": \"Kravtype\"})"
   ]
  },
  {
   "cell_type": "code",
   "execution_count": null,
   "id": "95e3e36a-aa6a-49b5-a7aa-9a564b8dfe4b",
   "metadata": {},
   "outputs": [],
   "source": [
    "figs[\"barnep_mmd\"] = px.bar(df[df.STONAD == \"Barnepensjon\"], \"AR_MANED\", \"ANTALL\", color=\"KRAVTYPE\", labels={\"AR_MANED\": \"Måned\", \"ANTALL\":\"Antall\", \"KRAVTYPE\": \"Kravtype\"})"
   ]
  },
  {
   "cell_type": "code",
   "execution_count": null,
   "id": "3612c293-d28f-4e28-8768-931865a64f82",
   "metadata": {},
   "outputs": [],
   "source": [
    "df_ar = (df\n",
    " .groupby([\"AR\", \"STONAD\", \"KRAVTYPE\"], as_index=False)\n",
    " .ANTALL\n",
    " .sum()\n",
    ")\n",
    "df_ar[\"AR\"] = df_ar[\"AR\"].apply(str)"
   ]
  },
  {
   "cell_type": "code",
   "execution_count": null,
   "id": "92d6bf78-5d33-482b-9407-f6901f173bea",
   "metadata": {},
   "outputs": [],
   "source": [
    "figs[\"barnep_ar\"] = px.bar(df_ar[df_ar.STONAD == \"Barnepensjon\"], \"AR\", \"ANTALL\", color=\"KRAVTYPE\", labels={\"AR\": \"År\", \"ANTALL\":\"Antall\", \"KRAVTYPE\": \"Kravtype\"})"
   ]
  },
  {
   "cell_type": "code",
   "execution_count": null,
   "id": "5933d702-1463-4279-bf40-8b3502ff05e4",
   "metadata": {},
   "outputs": [],
   "source": [
    "figs[\"gjenlev_ar\"] = px.bar(df_ar[df_ar.STONAD == \"Gjenlevendeytelse\"], \"AR\", \"ANTALL\", color=\"KRAVTYPE\", labels={\"AR\": \"År\", \"ANTALL\":\"Antall\", \"KRAVTYPE\": \"Kravtype\"})"
   ]
  },
  {
   "cell_type": "markdown",
   "id": "00b80974-9dc5-46ba-914c-cdba62e7f03d",
   "metadata": {},
   "source": [
    "# Ledetid"
   ]
  },
  {
   "cell_type": "code",
   "execution_count": null,
   "id": "6072cd09-72cc-487c-acfd-b5889c3b9a7b",
   "metadata": {},
   "outputs": [],
   "source": [
    "con = pesys_utils.open_pen_connection()\n",
    "df_ledetid = pandas_utils.pandas_from_sql('../sql/GP_BP/ledetid.sql', con)\n",
    "con.close()"
   ]
  },
  {
   "cell_type": "code",
   "execution_count": null,
   "id": "77f9dd6b-874e-44b9-b17b-eb9dd0dfc06a",
   "metadata": {},
   "outputs": [],
   "source": [
    "df = df_ledetid.copy()"
   ]
  },
  {
   "cell_type": "code",
   "execution_count": null,
   "id": "202afb2e-1c7f-410a-a2f1-b56289ddda7d",
   "metadata": {},
   "outputs": [],
   "source": [
    "df.head()"
   ]
  },
  {
   "cell_type": "code",
   "execution_count": null,
   "id": "85c2ba21-5e92-4aae-a048-c4cdbc8ff100",
   "metadata": {},
   "outputs": [],
   "source": [
    "labels = {\n",
    "        \"GJ_DAGER\": \"Gjennomsnittlig antall dager\",\n",
    "        \"AR\": \"År\",\n",
    "        \"STOENAD\": \"Stønad\",\n",
    "        \"KRAVTYPE\": \"Kravtype\",\n",
    "        \"MED_DAGER\": \"Median av antall dager\",\n",
    "        \"ANTALL\": \"Antall krav\",\n",
    "        \"RESULTAT\": \"Resultat\"\n",
    "           }"
   ]
  },
  {
   "cell_type": "code",
   "execution_count": null,
   "id": "2fc0a424-1f83-42ea-af2b-842d31b6560f",
   "metadata": {},
   "outputs": [],
   "source": [
    "df_bp = df[df.STOENAD == \"Barnepensjon\"]\n",
    "df_gjenlev = df[df.STOENAD == \"Gjenlevendeytelse\"]"
   ]
  },
  {
   "cell_type": "code",
   "execution_count": null,
   "id": "1cd8689f-a1f6-4d5a-ae08-6372d3bd8177",
   "metadata": {},
   "outputs": [],
   "source": [
    "figs[\"barnep_gj_dager\"] = px.bar(\n",
    "    df_bp[df_bp.ANTALL >= 5], \n",
    "    \"AR\", \n",
    "    \"GJ_DAGER\", \n",
    "    color=\"KRAVTYPE\", \n",
    "    barmode=\"group\",\n",
    "    hover_data=df_bp.columns[[2,3,4,5]],\n",
    "    labels=labels\n",
    "    )\n",
    "\n",
    "figs[\"barnep_gj_dager\"]"
   ]
  },
  {
   "cell_type": "code",
   "execution_count": null,
   "id": "e62d7c97-f7f9-4fb2-bba0-b16b74c11964",
   "metadata": {},
   "outputs": [],
   "source": [
    "figs[\"barnep_med_dager\"] = px.bar(\n",
    "    df_bp[df_bp.ANTALL >= 5], \n",
    "    \"AR\", \n",
    "    \"MED_DAGER\", \n",
    "    color=\"KRAVTYPE\", \n",
    "    barmode=\"group\", \n",
    "    hover_data=df_bp.columns[[2,3,4,5]],\n",
    "    labels=labels\n",
    "    )"
   ]
  },
  {
   "cell_type": "code",
   "execution_count": null,
   "id": "c6762e30-bbac-4e5d-9c05-3f9c95ef5f5a",
   "metadata": {},
   "outputs": [],
   "source": [
    "figs[\"gjenlev_gj_dager\"] = px.bar(\n",
    "    df_gjenlev[df_gjenlev.ANTALL >= 5], \n",
    "    \"AR\", \n",
    "    \"GJ_DAGER\", \n",
    "    color=\"KRAVTYPE\", \n",
    "    barmode=\"group\", \n",
    "    hover_data=df_gjenlev.columns[[2,3,4,5]],\n",
    "    labels=labels\n",
    "    )"
   ]
  },
  {
   "cell_type": "code",
   "execution_count": null,
   "id": "6f128880-f319-4b83-81ab-5be5f6299a50",
   "metadata": {},
   "outputs": [],
   "source": [
    "figs[\"gjenlev_med_dager\"] = px.bar(\n",
    "    df_gjenlev[df_gjenlev.ANTALL >= 5], \n",
    "    \"AR\", \n",
    "    \"MED_DAGER\", \n",
    "    color=\"KRAVTYPE\", \n",
    "    barmode=\"group\", \n",
    "    hover_data=df_gjenlev.columns[[2,3,4,5]],\n",
    "    labels=labels\n",
    "    )"
   ]
  },
  {
   "cell_type": "markdown",
   "id": "551294ab-13f0-4e2d-94c7-2515432d4115",
   "metadata": {},
   "source": [
    "# Klager"
   ]
  },
  {
   "cell_type": "code",
   "execution_count": null,
   "id": "30174632-3ae1-4fc7-8ddc-50b8046979b6",
   "metadata": {},
   "outputs": [],
   "source": [
    "con = pesys_utils.open_pen_connection()\n",
    "df_klager = pandas_utils.pandas_from_sql('../sql/GP_BP/klager.sql', con)\n",
    "con.close()"
   ]
  },
  {
   "cell_type": "code",
   "execution_count": null,
   "id": "45694aae-8efa-4637-bd13-5bbb21ea4d99",
   "metadata": {},
   "outputs": [],
   "source": [
    "df = df_klager.copy()\n",
    "df[\"AR\"] = df[\"AR\"].apply(str)"
   ]
  },
  {
   "cell_type": "code",
   "execution_count": null,
   "id": "f568b16f-f112-4b40-b368-3fd53dcb776f",
   "metadata": {},
   "outputs": [],
   "source": [
    "df_bp = df[df.STOENAD == \"Barnepensjon\"]\n",
    "df_gjenlev = df[df.STOENAD == \"Gjenlevendeytelse\"]"
   ]
  },
  {
   "cell_type": "code",
   "execution_count": null,
   "id": "3c8a84f7-7edb-4b5c-9251-d069548acad7",
   "metadata": {},
   "outputs": [],
   "source": [
    "subset = {\"Stadfestet\", \"Omgjøre\", \"Delvis omgjøre\", \"Avvist\", \"Opphevet og hjemvist\"}\n",
    "group_color = {key: theme.colors.navColors[i] for i, key in enumerate(subset)}\n",
    "labels[\"ANTALL\"] = \"Antall vedtak\""
   ]
  },
  {
   "cell_type": "code",
   "execution_count": null,
   "id": "854edba4-ac1e-4d41-8fb3-173e356e909a",
   "metadata": {},
   "outputs": [],
   "source": [
    "figs[\"barnep_klagevedtak\"] = px.bar(df_bp, \"AR\", \"ANTALL\", color=\"RESULTAT\", labels=labels, barmode=\"group\", color_discrete_map=group_color)"
   ]
  },
  {
   "cell_type": "code",
   "execution_count": null,
   "id": "120f2c83-8f68-47cf-9135-2b9a98139d3a",
   "metadata": {},
   "outputs": [],
   "source": [
    "figs[\"gjenlev_klagevedtak\"] = px.bar(df_gjenlev, \"AR\", \"ANTALL\", color=\"RESULTAT\", labels=labels, barmode=\"group\",color_discrete_map=group_color)"
   ]
  },
  {
   "cell_type": "markdown",
   "id": "2fd0d71a-9a36-4ab9-aa3f-0189e84f8235",
   "metadata": {},
   "source": [
    "# Publiser datafortelling"
   ]
  },
  {
   "cell_type": "code",
   "execution_count": null,
   "id": "24e62604-88d5-44a6-9751-df5363df8976",
   "metadata": {},
   "outputs": [],
   "source": [
    "story = datastory.DataStory(\"Gjenlevendepensjon og barnepensjon\")\n",
    "\n",
    "story.markdown(f\"Sist oppdatert: {datetime.today().strftime('%d-%m-%Y')}\")\n",
    "\n",
    "# Krav innland utland\n",
    "story.header(\"Antall opprettede krav fordelt på innland/utland\", level=1)\n",
    "\n",
    "story.header(\"Gjenlevendepensjon\", level=2)\n",
    "story.header(\"Førstegangsbehandling gjenlevendepensjon per måned\", level=3)\n",
    "story.plotly(figs[\"gjenlev_mmd\"].to_json())\n",
    "story.header(\"Førstegangsbehandling gjenlevendepensjon per år\", level=3)\n",
    "story.plotly(figs[\"gjenlev_ar\"].to_json())\n",
    "\n",
    "story.header(\"Barnepensjon\", level=2)\n",
    "story.header(\"Førstegangsbehandling barnepensjon per måned\", level=3)\n",
    "story.plotly(figs[\"barnep_mmd\"].to_json())\n",
    "story.header(\"Førstegangsbehandling barnepensjon per år\", level=3)\n",
    "story.plotly(figs[\"barnep_ar\"].to_json())\n",
    "\n",
    "# Tid fra mottatt krav til iverksatt vedtak\n",
    "story.header(\"Tid fra mottatt krav til iverksatt vedtak\", level=1)\n",
    "story.markdown(\"År bestemmes av vedtaksdato. Inkluderer kun iverksatte vedtak.\")\n",
    "story.header(\"Gjenlevendepensjon\", level=2)\n",
    "story.markdown(\"Gjennomsnittlig antall dager. Hold pekeren over en stolpe for å se antall vedtak i denne kategorien.\")\n",
    "story.plotly(figs[\"gjenlev_gj_dager\"].to_json())\n",
    "story.markdown(\"Median av antall dager. Hold pekeren over en stolpe for å se antall vedtak i denne kategorien.\")\n",
    "story.plotly(figs[\"gjenlev_med_dager\"].to_json())\n",
    "\n",
    "story.header(\"Barnepensjon\", level=2)\n",
    "story.markdown(\"Gjennomsnittlig antall dager. Hold pekeren over en stolpe for å se antall vedtak i denne kategorien.\")\n",
    "story.plotly(figs[\"barnep_gj_dager\"].to_json())\n",
    "story.markdown(\"Median av antall dager. Hold pekeren over en stolpe for å se antall vedtak i denne kategorien.\")\n",
    "story.plotly(figs[\"barnep_med_dager\"].to_json())\n",
    "\n",
    "# Klagevedtak\n",
    "# story.header(\"Klagevedtak\", level=1)\n",
    "# story.markdown(\"Resultat av behandlede klager. Inkluderer kun iverksatte vedtak.\")\n",
    "# story.header(\"Gjenlevendepensjon\", level=2)\n",
    "# story.plotly(figs[\"gjenlev_klagevedtak\"].to_json())\n",
    "# story.header(\"Barnepensjon\", level=2)\n",
    "# story.plotly(figs[\"barnep_klagevedtak\"].to_json())"
   ]
  },
  {
   "cell_type": "code",
   "execution_count": null,
   "id": "9e673e8a-dcef-439d-87fd-1c49ec9b4916",
   "metadata": {},
   "outputs": [],
   "source": [
    "story.publish(url=\"https://datamarkedsplassen.intern.nav.no/api\")"
   ]
  }
 ],
 "metadata": {
  "environment": {
   "kernel": "python3",
   "name": "common-cpu.m98",
   "type": "gcloud",
   "uri": "gcr.io/deeplearning-platform-release/base-cpu:m98"
  },
  "kernelspec": {
   "display_name": "Python 3",
   "language": "python",
   "name": "python3"
  },
  "language_info": {
   "codemirror_mode": {
    "name": "ipython",
    "version": 3
   },
   "file_extension": ".py",
   "mimetype": "text/x-python",
   "name": "python",
   "nbconvert_exporter": "python",
   "pygments_lexer": "ipython3",
   "version": "3.7.12"
  }
 },
 "nbformat": 4,
 "nbformat_minor": 5
}
