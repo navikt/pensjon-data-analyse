{
 "cells": [
  {
   "cell_type": "code",
   "execution_count": null,
   "id": "5d81aeec-bc57-40ed-9a6b-138547064671",
   "metadata": {
    "tags": []
   },
   "outputs": [],
   "source": [
    "import pandas as pd\n",
    "import numpy as np\n",
    "import os\n",
    "import sys\n",
    "import importlib\n",
    "import plotly.express as px\n",
    "\n",
    "sys.path.append('../lib')\n",
    "import utils\n",
    "import pandas_utils\n",
    "import pesys_utils\n",
    "\n",
    "importlib.reload(utils)\n",
    "importlib.reload(pandas_utils)\n",
    "importlib.reload(pesys_utils)\n",
    "\n",
    "utils.set_secrets_as_env()"
   ]
  },
  {
   "cell_type": "code",
   "execution_count": null,
   "id": "792f690b-59c8-4181-81c6-68f4ba34ab11",
   "metadata": {},
   "outputs": [],
   "source": [
    "con = pesys_utils.open_pen_connection()\n",
    "\n",
    "df_iverksettelse = pandas_utils.pandas_from_sql('../sql/iverksettelse.sql', con, tuning=20000)\n",
    "con.close()"
   ]
  },
  {
   "cell_type": "code",
   "execution_count": null,
   "id": "bf7d1811-7619-4f69-892f-5299e8ea9914",
   "metadata": {},
   "outputs": [],
   "source": [
    "df = df_iverksettelse.copy().dropna().reset_index(drop=True)\n",
    "df[\"MND\"] = df.DATO_TILVERKSETT.dt.month"
   ]
  },
  {
   "cell_type": "code",
   "execution_count": null,
   "id": "3c2f373b-0d9a-4355-82d4-3d17661884f9",
   "metadata": {},
   "outputs": [],
   "source": [
    "df.head()"
   ]
  },
  {
   "cell_type": "code",
   "execution_count": null,
   "id": "4b653579-e48c-4f99-ad4f-577fcbfdc4be",
   "metadata": {},
   "outputs": [],
   "source": [
    "df.DAGER.value_counts()"
   ]
  },
  {
   "cell_type": "code",
   "execution_count": null,
   "id": "80c75a03-edf5-45f7-9b0b-1b8a4d385899",
   "metadata": {},
   "outputs": [],
   "source": [
    "df_42 = df[df.DAGER == 42]"
   ]
  },
  {
   "cell_type": "code",
   "execution_count": null,
   "id": "2b0114e8-10f6-4b70-b607-c6760b00481a",
   "metadata": {},
   "outputs": [],
   "source": [
    "import datetime\n",
    "from calendar import month_name"
   ]
  },
  {
   "cell_type": "code",
   "execution_count": null,
   "id": "d4309e15-23b3-48c0-a8c0-7e7378ccde3e",
   "metadata": {
    "tags": []
   },
   "outputs": [],
   "source": [
    "for mnd in set(df.MND):\n",
    "    df_plot = df[df.MND == mnd]\n",
    "    fig = px.histogram(df_plot[df_plot.DAGER > -1], \"DAGER\", color=\"VEDTAKSTYPE\", title=month_name[mnd])\n",
    "    fig.show()"
   ]
  }
 ],
 "metadata": {
  "environment": {
   "kernel": "python3",
   "name": "common-cpu.m98",
   "type": "gcloud",
   "uri": "gcr.io/deeplearning-platform-release/base-cpu:m98"
  },
  "kernelspec": {
   "display_name": "Python 3",
   "language": "python",
   "name": "python3"
  },
  "language_info": {
   "codemirror_mode": {
    "name": "ipython",
    "version": 3
   },
   "file_extension": ".py",
   "mimetype": "text/x-python",
   "name": "python",
   "nbconvert_exporter": "python",
   "pygments_lexer": "ipython3",
   "version": "3.7.12"
  }
 },
 "nbformat": 4,
 "nbformat_minor": 5
}
