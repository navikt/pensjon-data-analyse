{
 "cells": [
  {
   "cell_type": "code",
   "execution_count": null,
   "id": "736a4394-1a14-48d3-9eeb-9d853eacffce",
   "metadata": {},
   "outputs": [],
   "source": [
    "import sys\n",
    "import importlib\n",
    "import pandas as pd\n",
    "sys.path.append('../lib')\n",
    "\n",
    "import autograd_convenience as co\n",
    "import autograd_plot as plots\n",
    "import story\n",
    "\n",
    "importlib.reload(co)\n",
    "importlib.reload(plots)\n",
    "importlib.reload(story)"
   ]
  },
  {
   "cell_type": "code",
   "execution_count": null,
   "id": "cdc9b6fc-0843-4e48-8a9f-e3eb682092dd",
   "metadata": {},
   "outputs": [],
   "source": [
    "df_file = pd.read_csv(\"../data/Totalrapport_02232022.csv\").drop('Unnamed: 8', axis=1)"
   ]
  },
  {
   "cell_type": "code",
   "execution_count": null,
   "id": "6051991b-3072-4ea0-a766-b9eccc0fffaf",
   "metadata": {},
   "outputs": [],
   "source": [
    "df_file.Stønadsområde.value_counts()"
   ]
  },
  {
   "cell_type": "code",
   "execution_count": null,
   "id": "8ef64116-456b-48f1-b243-5be6e667c254",
   "metadata": {},
   "outputs": [],
   "source": [
    "ytelse = \"Alderspensjon\"\n",
    "df = co.prepare_df(df_file, ytelse)"
   ]
  },
  {
   "cell_type": "code",
   "execution_count": null,
   "id": "251a88c5-dd04-4bc7-adb0-bac79a2fe09c",
   "metadata": {},
   "outputs": [],
   "source": [
    "df.head(12)"
   ]
  },
  {
   "cell_type": "code",
   "execution_count": null,
   "id": "a319a69f-e35c-4f21-a82d-c74e97cf64ad",
   "metadata": {},
   "outputs": [],
   "source": [
    "autogroups = [\"År-måned\", \"Automatiseringsgrad\"]\n",
    "selvgroups = [\"År-måned\", \"Selvbetjening\"]\n",
    "\n",
    "# Filtre som funker på df\n",
    "_selvbetjent = df[\"Selvbetjening\"] == \"Selvbetjent\"\n",
    "_innland = df[\"Utenlandstilsnitt\"] == \"Nasjonal\"\n",
    "_auto = df[\"Automatiseringsgrad\"] == \"Automatisk\"\n",
    "_all = pd.Series([True for i in range(df.shape[0])])"
   ]
  },
  {
   "cell_type": "code",
   "execution_count": null,
   "id": "478d9579-eeb9-4ad3-ae53-a21cb21fc52c",
   "metadata": {},
   "outputs": [],
   "source": [
    "pd.Series([True for i in range(df.shape[0])])"
   ]
  },
  {
   "cell_type": "code",
   "execution_count": null,
   "id": "0d70ed44-765b-4c94-9f98-49660386ed36",
   "metadata": {},
   "outputs": [],
   "source": [
    "figs = {}"
   ]
  },
  {
   "cell_type": "code",
   "execution_count": null,
   "id": "7ec1e6b1-7196-48b9-8055-caf53c98d2a0",
   "metadata": {},
   "outputs": [],
   "source": [
    "df[\"Automatiseringsgrad\"]"
   ]
  },
  {
   "cell_type": "code",
   "execution_count": null,
   "id": "f562115b-3791-45af-abb7-745ea250d66f",
   "metadata": {},
   "outputs": [],
   "source": [
    "if df['Automatiseringsgrad'].str.contains('Automatisk').any():\n",
    "    figs[\"auto_total\"] = plots.plot_automatisering1(co.sharpen_df(df, _all, autogroups))\n",
    "    figs[\"auto_total\"].show()\n",
    "\n",
    "    auto_selv_list = [[co.sharpen_df(df, _selvbetjent, autogroups), co.sharpen_df(df, ~_selvbetjent, autogroups)]]\n",
    "    titles = ['Selvbetjent', 'Ikke selvbetjent']\n",
    "    figs[\"auto_selv\"] = plots.plot_automatisering_subplots(auto_selv_list, titles)\n",
    "\n",
    "    auto_utland_list = [[co.sharpen_df(df, _innland, autogroups), co.sharpen_df(df, ~_innland, autogroups)]]\n",
    "    titles = [\"Innland\", \"Utland\"]\n",
    "    figs[\"auto_utland\"] = plots.plot_automatisering_subplots(auto_utland_list, titles)"
   ]
  },
  {
   "cell_type": "code",
   "execution_count": null,
   "id": "d6cd214b-7882-49d1-8671-b0839ca6bc4d",
   "metadata": {},
   "outputs": [],
   "source": [
    "if df['Selvbetjening'].str.contains('Selvbetjent').any():\n",
    "\n",
    "    figs[\"selv_total\"] = plots.plot_selvbetjening1(co.sharpen_df(df, _all, selvgroups))\n",
    "\n",
    "    selv_utland_list = [[co.sharpen_df(df, _innland, selvgroups), co.sharpen_df(df, ~_innland, selvgroups)]]\n",
    "    titles = [\"Innland\", \"Utland\"]\n",
    "    figs[\"selv_utland\"] = plots.plot_selvbetjening_subplots(selv_utland_list, titles)"
   ]
  },
  {
   "cell_type": "code",
   "execution_count": null,
   "id": "c976dffa-5fdb-45e5-b4bd-aba2fbffa35e",
   "metadata": {},
   "outputs": [],
   "source": [
    "for key, value in figs.items():\n",
    "    print(key)\n",
    "    value.show()"
   ]
  },
  {
   "cell_type": "code",
   "execution_count": null,
   "id": "b2270f4a-6bd6-4908-b63d-a6bde8205f07",
   "metadata": {},
   "outputs": [],
   "source": [
    "innledning = f\"Statistikk på automatiserings- og selvbetjeningsgrad for førstegangsbehandling av {ytelse} i pesys. Data er basert på rapporten PSAK120. Saker opprettet av batch er eksludert.\"\n",
    "ds = story.make_datastory(ytelse, figs, innledning)"
   ]
  },
  {
   "cell_type": "code",
   "execution_count": null,
   "id": "89288b32-2673-46f8-89fb-6b28e6d24a57",
   "metadata": {},
   "outputs": [],
   "source": [
    "#ds.publish(url=\"https://nada.ekstern.dev.nav.no/api\") #dev\n",
    "#ds.publish(url=\"https://nada.intern.nav.no/api\") #prod\n",
    "#ds.update(url=\"https://nada.ekstern.dev.nav.no/api\", token='7f3503bd-f54c-4d56-b222-6ca461213527')\n",
    "#ds.update(url=\"https://nada.intern.nav.no/api\", token='77e7eb36-5a5b-4a9e-b6f9-ccee1c5db2e3')"
   ]
  },
  {
   "cell_type": "code",
   "execution_count": null,
   "id": "87efb153-90ce-467a-9043-4cfeeffa16b4",
   "metadata": {},
   "outputs": [],
   "source": []
  },
  {
   "cell_type": "code",
   "execution_count": null,
   "id": "33886029-95b7-4624-8c4f-4675435dc0d4",
   "metadata": {},
   "outputs": [],
   "source": []
  },
  {
   "cell_type": "code",
   "execution_count": null,
   "id": "d17e6a6e-3396-4006-8167-14e213d2ed3b",
   "metadata": {},
   "outputs": [],
   "source": []
  }
 ],
 "metadata": {
  "environment": {
   "kernel": "python3",
   "name": "common-cpu.m87",
   "type": "gcloud",
   "uri": "gcr.io/deeplearning-platform-release/base-cpu:m87"
  },
  "kernelspec": {
   "display_name": "Python 3",
   "language": "python",
   "name": "python3"
  },
  "language_info": {
   "codemirror_mode": {
    "name": "ipython",
    "version": 3
   },
   "file_extension": ".py",
   "mimetype": "text/x-python",
   "name": "python",
   "nbconvert_exporter": "python",
   "pygments_lexer": "ipython3",
   "version": "3.7.12"
  }
 },
 "nbformat": 4,
 "nbformat_minor": 5
}
